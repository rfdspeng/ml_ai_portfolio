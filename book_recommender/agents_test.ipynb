{
 "cells": [
  {
   "cell_type": "code",
   "execution_count": 1,
   "metadata": {},
   "outputs": [],
   "source": [
    "from agents import BookRetriever, BookAssistant\n",
    "import os"
   ]
  },
  {
   "cell_type": "code",
   "execution_count": 2,
   "metadata": {},
   "outputs": [],
   "source": [
    "credentials = {\"QDRANT_URL\": os.environ[\"QDRANT_URL\"], \"QDRANT_API_KEY\": os.environ[\"QDRANT_API_KEY\"], \"OPENAI_API_KEY\": os.environ[\"OPENAI_API_KEY\"]}"
   ]
  },
  {
   "cell_type": "code",
   "execution_count": 7,
   "metadata": {},
   "outputs": [],
   "source": [
    "collection_name = \"best-book-ever\"\n",
    "retriever = BookRetriever(credentials, collection_name)\n",
    "\n",
    "stream = False\n",
    "chatbot = BookAssistant(credentials[\"OPENAI_API_KEY\"])\n",
    "response = chatbot.respond(stream=stream)\n"
   ]
  },
  {
   "cell_type": "code",
   "execution_count": 8,
   "metadata": {},
   "outputs": [
    {
     "name": "stdout",
     "output_type": "stream",
     "text": [
      "Hello! How can I assist you today in finding a book to read?\n"
     ]
    }
   ],
   "source": [
    "print(response)"
   ]
  },
  {
   "cell_type": "code",
   "execution_count": 9,
   "metadata": {},
   "outputs": [
    {
     "data": {
      "text/plain": [
       "[{'role': 'system',\n",
       "  'content': 'You are a bookstore assistant assisting customers with finding a book to read that fits their preferences.'},\n",
       " {'role': 'assistant',\n",
       "  'content': 'Hello! How can I assist you today in finding a book to read?'}]"
      ]
     },
     "execution_count": 9,
     "metadata": {},
     "output_type": "execute_result"
    }
   ],
   "source": [
    "chatbot.messages_list"
   ]
  },
  {
   "cell_type": "code",
   "execution_count": null,
   "metadata": {},
   "outputs": [],
   "source": [
    "output = \"\"\n",
    "for chunk in response:\n",
    "    if chunk.choices[0].delta.content is not None:\n",
    "        print(chunk.choices[0].delta.content, end=\"\")\n",
    "        output = output + chunk.choices[0].delta.content"
   ]
  },
  {
   "cell_type": "code",
   "execution_count": 32,
   "metadata": {},
   "outputs": [
    {
     "name": "stdout",
     "output_type": "stream",
     "text": [
      "\n"
     ]
    }
   ],
   "source": [
    "print(output)"
   ]
  },
  {
   "cell_type": "code",
   "execution_count": 4,
   "metadata": {},
   "outputs": [],
   "source": [
    "user_query = \"Hello! Do you have any fantasy books featuring dragons?\"\n",
    "search_results = retriever.retrieve(user_query)\n",
    "response = chatbot.respond(user_query, search_results)"
   ]
  },
  {
   "cell_type": "code",
   "execution_count": 6,
   "metadata": {},
   "outputs": [
    {
     "name": "stdout",
     "output_type": "stream",
     "text": [
      "Hello! We have several fantasy books featuring dragons that you might enjoy:\n",
      "\n",
      "1. \"Dragonflame\" by Graham Edwards - A fantasy book featuring dragons.\n",
      "2. \"Icefire Complete 4-Book Set\" by Chris d'Lacey - A series where dragons are real and can walk among us.\n",
      "3. \"Firebolt\" by Adrienne Woods - A story about a teenage girl and dragons.\n",
      "\n",
      "Let me know if any of these catch your interest or if you would like more recommendations!\n"
     ]
    }
   ],
   "source": [
    "print(response)"
   ]
  },
  {
   "cell_type": "code",
   "execution_count": 5,
   "metadata": {},
   "outputs": [
    {
     "data": {
      "text/plain": [
       "[{'role': 'system',\n",
       "  'content': 'You are a bookstore assistant assisting customers with finding a book to read that fits their preferences.'},\n",
       " {'role': 'assistant',\n",
       "  'content': 'Hello! Welcome to the bookstore. How can I assist you today?'},\n",
       " {'role': 'user',\n",
       "  'content': \"User message: Hello! Do you have any fantasy books featuring dragons?\\nRelated books in stock:\\n---\\nResult #1:\\nTitle: Dragonflame\\nAuthor: Graham Edwards (Goodreads Author)\\nDescription: No description available.\\nGenres: Fantasy, Dragons\\n\\nResult #2:\\nTitle: Pete's Dragon (Little Golden Book)\\nAuthor: Walt Disney Company\\nDescription: No description available.\\nGenres: Childrens, Picture Books, Fiction, Fantasy, Humor, Dragons, Animals\\n\\nResult #3:\\nTitle: Icefire Complete 4-Book Set: The Fire Within, Icefire, Fire Star, And The Fire Eternal\\nAuthor: Chris d'Lacey\\nDescription: What if dragons were real -- and could walk among us? The complete best-selling series including the latest book!\\nIncludes all four books in the serie...\\nGenres: Fantasy, Dragons, Magic, Young Adult, Science Fiction, Fiction\\n\\nResult #4:\\nTitle: Free Fall\\nAuthor: David Wiesner\\nDescription: When he falls asleep with a book in his arms, a young boy dreams an amazing dream—about dragons, about castles, and about an unchartered, faraway land...\\nGenres: Picture Books, Childrens, Fantasy, Fiction, Adventure, Art, Kids, Young Adult, Classics, Sequential Art\\n\\nResult #5:\\nTitle: Firebolt\\nAuthor: Adrienne Woods (Goodreads Author)\\nDescription: Dragons. Right. Teenage girls don’t believe in fairy tales, and sixteen-year old Elena Watkins was no different.Until the night a fairy tale killed he...\\nGenres: Fantasy, Dragons, Young Adult, Romance, Magic, Paranormal, Fiction, Shapeshifters, Supernatural, Young Adult Fantasy\\n\"},\n",
       " {'role': 'assistant',\n",
       "  'content': 'Hello! We have several fantasy books featuring dragons that you might enjoy:\\n\\n1. \"Dragonflame\" by Graham Edwards - A fantasy book featuring dragons.\\n2. \"Icefire Complete 4-Book Set: The Fire Within, Icefire, Fire Star, And The Fire Eternal\" by Chris d\\'Lacey - A best-selling series where dragons can walk among us.\\n3. \"Firebolt\" by Adrienne Woods - A story about dragons where teenage girls don\\'t believe in fairy tales until they encounter one.\\n\\nFeel free to browse through these options and let me know if you\\'d like more information or assistance in finding the perfect book for you!'}]"
      ]
     },
     "execution_count": 5,
     "metadata": {},
     "output_type": "execute_result"
    }
   ],
   "source": [
    "chatbot.messages_list"
   ]
  },
  {
   "cell_type": "code",
   "execution_count": 2,
   "metadata": {},
   "outputs": [],
   "source": [
    "output = \"\"\n",
    "output = output + \"WHat\""
   ]
  },
  {
   "cell_type": "code",
   "execution_count": null,
   "metadata": {},
   "outputs": [],
   "source": []
  }
 ],
 "metadata": {
  "kernelspec": {
   "display_name": "env",
   "language": "python",
   "name": "python3"
  },
  "language_info": {
   "codemirror_mode": {
    "name": "ipython",
    "version": 3
   },
   "file_extension": ".py",
   "mimetype": "text/x-python",
   "name": "python",
   "nbconvert_exporter": "python",
   "pygments_lexer": "ipython3",
   "version": "3.12.6"
  }
 },
 "nbformat": 4,
 "nbformat_minor": 2
}
