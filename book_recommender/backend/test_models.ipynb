{
 "cells": [
  {
   "cell_type": "code",
   "execution_count": 13,
   "metadata": {},
   "outputs": [],
   "source": [
    "from openai import Stream\n",
    "from qdrant_client.models import ScoredPoint"
   ]
  },
  {
   "cell_type": "code",
   "execution_count": 2,
   "metadata": {},
   "outputs": [],
   "source": [
    "from models.retriever import BookRetriever\n",
    "from models.assistant import BookAssistant\n",
    "import os"
   ]
  },
  {
   "cell_type": "code",
   "execution_count": 3,
   "metadata": {},
   "outputs": [],
   "source": [
    "credentials = {\"QDRANT_URL\": os.environ[\"QDRANT_URL\"], \"QDRANT_API_KEY\": os.environ[\"QDRANT_API_KEY\"], \"OPENAI_API_KEY\": os.environ[\"OPENAI_API_KEY\"]}"
   ]
  },
  {
   "cell_type": "code",
   "execution_count": 4,
   "metadata": {},
   "outputs": [],
   "source": [
    "collection_name = \"best-book-ever\"\n",
    "retriever = BookRetriever(credentials, collection_name)\n",
    "\n",
    "stream = True\n",
    "chatbot = BookAssistant(credentials[\"OPENAI_API_KEY\"])\n",
    "response = chatbot.respond(stream=stream)\n"
   ]
  },
  {
   "cell_type": "code",
   "execution_count": 5,
   "metadata": {},
   "outputs": [
    {
     "name": "stdout",
     "output_type": "stream",
     "text": [
      "<openai.Stream object at 0x7fab9893c0e0>\n"
     ]
    }
   ],
   "source": [
    "print(response)"
   ]
  },
  {
   "cell_type": "code",
   "execution_count": 7,
   "metadata": {},
   "outputs": [
    {
     "data": {
      "text/plain": [
       "[{'role': 'system',\n",
       "  'content': 'You are a bookstore assistant assisting customers with finding a book to read that fits their preferences.'}]"
      ]
     },
     "execution_count": 7,
     "metadata": {},
     "output_type": "execute_result"
    }
   ],
   "source": [
    "chatbot.messages_list"
   ]
  },
  {
   "cell_type": "code",
   "execution_count": 8,
   "metadata": {},
   "outputs": [
    {
     "name": "stdout",
     "output_type": "stream",
     "text": [
      "Hello! Welcome to our bookstore. How can I assist you today?"
     ]
    }
   ],
   "source": [
    "output = \"\"\n",
    "for chunk in response:\n",
    "    if chunk.choices[0].delta.content is not None:\n",
    "        print(chunk.choices[0].delta.content, end=\"\")\n",
    "        output = output + chunk.choices[0].delta.content"
   ]
  },
  {
   "cell_type": "code",
   "execution_count": 9,
   "metadata": {},
   "outputs": [
    {
     "name": "stdout",
     "output_type": "stream",
     "text": [
      "Hello! Welcome to our bookstore. How can I assist you today?\n"
     ]
    }
   ],
   "source": [
    "print(output)"
   ]
  },
  {
   "cell_type": "code",
   "execution_count": 10,
   "metadata": {},
   "outputs": [],
   "source": [
    "user_query = \"Hello! Do you have any fantasy books featuring dragons?\"\n",
    "search_results = retriever.retrieve(user_query)\n",
    "response = chatbot.respond(user_query, search_results)"
   ]
  },
  {
   "cell_type": "code",
   "execution_count": 12,
   "metadata": {},
   "outputs": [
    {
     "name": "stdout",
     "output_type": "stream",
     "text": [
      "[ScoredPoint(id=35272, version=35941, score=0.861256, payload={'title': 'Dragonflame', 'series': 'The Ultimate Dragon Saga #3', 'author': 'Graham Edwards (Goodreads Author)', 'rating': 3.72, 'genres_list': ['Fantasy', 'Dragons'], 'language': 'English', 'isbn': '9780006482338', 'pages': '441', 'firstPublishDate': None, 'numRatings': 58, 'description': 'No description available.', 'genres': 'Fantasy, Dragons'}, vector=None, shard_key=None, order_value=None), ScoredPoint(id=38100, version=38769, score=0.85783774, payload={'title': \"Pete's Dragon (Little Golden Book)\", 'series': None, 'author': 'Walt Disney Company', 'rating': 4.01, 'genres_list': ['Childrens', 'Picture Books', 'Fiction', 'Fantasy', 'Humor', 'Dragons', 'Animals'], 'language': 'English', 'isbn': '9780307600561', 'pages': '42', 'firstPublishDate': '01/01/77', 'numRatings': 242, 'description': 'No description available.', 'genres': 'Childrens, Picture Books, Fiction, Fantasy, Humor, Dragons, Animals'}, vector=None, shard_key=None, order_value=None), ScoredPoint(id=37899, version=38568, score=0.8525535, payload={'title': 'Icefire Complete 4-Book Set: The Fire Within, Icefire, Fire Star, And The Fire Eternal', 'series': 'The Last Dragon Chronicles #1-4', 'author': \"Chris d'Lacey\", 'rating': 4.51, 'genres_list': ['Fantasy', 'Dragons', 'Magic', 'Young Adult', 'Science Fiction', 'Fiction'], 'language': 'English', 'isbn': '9780545171984', 'pages': None, 'firstPublishDate': None, 'numRatings': 700, 'description': 'What if dragons were real -- and could walk among us? The complete best-selling series including the latest book!\\nIncludes all four books in the series: The Fire Within, Icefire, Fire Star, and The Fire Eternal. 352-560 pages each.', 'genres': 'Fantasy, Dragons, Magic, Young Adult, Science Fiction, Fiction'}, vector=None, shard_key=None, order_value=None), ScoredPoint(id=39571, version=40240, score=0.85105634, payload={'title': 'Free Fall', 'series': None, 'author': 'David Wiesner', 'rating': 3.94, 'genres_list': ['Picture Books', 'Childrens', 'Fantasy', 'Fiction', 'Adventure', 'Art', 'Kids', 'Young Adult', 'Classics', 'Sequential Art'], 'language': 'English', 'isbn': '9780688109905', 'pages': '32', 'firstPublishDate': 'September 1st 1991', 'numRatings': 2514, 'description': 'When he falls asleep with a book in his arms, a young boy dreams an amazing dream—about dragons, about castles, and about an unchartered, faraway land. And you can come along.', 'genres': 'Picture Books, Childrens, Fantasy, Fiction, Adventure, Art, Kids, Young Adult, Classics, Sequential Art'}, vector=None, shard_key=None, order_value=None), ScoredPoint(id=4684, version=5353, score=0.84603673, payload={'title': 'Firebolt', 'series': 'The Dragonian #1', 'author': 'Adrienne Woods (Goodreads Author)', 'rating': 3.98, 'genres_list': ['Fantasy', 'Dragons', 'Young Adult', 'Romance', 'Magic', 'Paranormal', 'Fiction', 'Shapeshifters', 'Supernatural', 'Young Adult Fantasy'], 'language': 'English', 'isbn': '9780998471426', 'pages': '306', 'firstPublishDate': '11/17/13', 'numRatings': 7978, 'description': 'Dragons. Right. Teenage girls don’t believe in fairy tales, and sixteen-year old Elena Watkins was no different.Until the night a fairy tale killed her father.Now Elena’s in a new world, and a new school. The cutest guy around may be an evil dragon, a Prince wants Elena’s heart, and a long dead sorcerer may be waking up to kill her. Oh. And the only way Elena’s going to graduate is on the back of a dragon of her own.Teenage girls don’t believe in fairy tales. Now it’s time for Elena to believe – in herself.', 'genres': 'Fantasy, Dragons, Young Adult, Romance, Magic, Paranormal, Fiction, Shapeshifters, Supernatural, Young Adult Fantasy'}, vector=None, shard_key=None, order_value=None)]\n"
     ]
    }
   ],
   "source": [
    "print(search_results)"
   ]
  },
  {
   "cell_type": "code",
   "execution_count": 11,
   "metadata": {},
   "outputs": [
    {
     "name": "stdout",
     "output_type": "stream",
     "text": [
      "Hello! I have a few fantasy books featuring dragons that you might enjoy:\n",
      "\n",
      "1. \"Dragonflame\" by Graham Edwards - A fantasy book revolving around dragons.\n",
      "2. \"Icefire Complete 4-Book Set\" by Chris d'Lacey - A series that imagines dragons walking among us.\n",
      "3. \"Firebolt\" by Adrienne Woods - A story about dragons, magic, and teenage girls.\n",
      "\n",
      "Feel free to let me know if you're interested in any of these books or if you'd like more recommendations!\n"
     ]
    }
   ],
   "source": [
    "print(response)"
   ]
  },
  {
   "cell_type": "code",
   "execution_count": 5,
   "metadata": {},
   "outputs": [
    {
     "data": {
      "text/plain": [
       "[{'role': 'system',\n",
       "  'content': 'You are a bookstore assistant assisting customers with finding a book to read that fits their preferences.'},\n",
       " {'role': 'assistant',\n",
       "  'content': 'Hello! Welcome to the bookstore. How can I assist you today?'},\n",
       " {'role': 'user',\n",
       "  'content': \"User message: Hello! Do you have any fantasy books featuring dragons?\\nRelated books in stock:\\n---\\nResult #1:\\nTitle: Dragonflame\\nAuthor: Graham Edwards (Goodreads Author)\\nDescription: No description available.\\nGenres: Fantasy, Dragons\\n\\nResult #2:\\nTitle: Pete's Dragon (Little Golden Book)\\nAuthor: Walt Disney Company\\nDescription: No description available.\\nGenres: Childrens, Picture Books, Fiction, Fantasy, Humor, Dragons, Animals\\n\\nResult #3:\\nTitle: Icefire Complete 4-Book Set: The Fire Within, Icefire, Fire Star, And The Fire Eternal\\nAuthor: Chris d'Lacey\\nDescription: What if dragons were real -- and could walk among us? The complete best-selling series including the latest book!\\nIncludes all four books in the serie...\\nGenres: Fantasy, Dragons, Magic, Young Adult, Science Fiction, Fiction\\n\\nResult #4:\\nTitle: Free Fall\\nAuthor: David Wiesner\\nDescription: When he falls asleep with a book in his arms, a young boy dreams an amazing dream—about dragons, about castles, and about an unchartered, faraway land...\\nGenres: Picture Books, Childrens, Fantasy, Fiction, Adventure, Art, Kids, Young Adult, Classics, Sequential Art\\n\\nResult #5:\\nTitle: Firebolt\\nAuthor: Adrienne Woods (Goodreads Author)\\nDescription: Dragons. Right. Teenage girls don’t believe in fairy tales, and sixteen-year old Elena Watkins was no different.Until the night a fairy tale killed he...\\nGenres: Fantasy, Dragons, Young Adult, Romance, Magic, Paranormal, Fiction, Shapeshifters, Supernatural, Young Adult Fantasy\\n\"},\n",
       " {'role': 'assistant',\n",
       "  'content': 'Hello! We have several fantasy books featuring dragons that you might enjoy:\\n\\n1. \"Dragonflame\" by Graham Edwards - A fantasy book featuring dragons.\\n2. \"Icefire Complete 4-Book Set: The Fire Within, Icefire, Fire Star, And The Fire Eternal\" by Chris d\\'Lacey - A best-selling series where dragons can walk among us.\\n3. \"Firebolt\" by Adrienne Woods - A story about dragons where teenage girls don\\'t believe in fairy tales until they encounter one.\\n\\nFeel free to browse through these options and let me know if you\\'d like more information or assistance in finding the perfect book for you!'}]"
      ]
     },
     "execution_count": 5,
     "metadata": {},
     "output_type": "execute_result"
    }
   ],
   "source": [
    "chatbot.messages_list"
   ]
  },
  {
   "cell_type": "code",
   "execution_count": 2,
   "metadata": {},
   "outputs": [],
   "source": [
    "output = \"\"\n",
    "output = output + \"WHat\""
   ]
  },
  {
   "cell_type": "code",
   "execution_count": null,
   "metadata": {},
   "outputs": [],
   "source": []
  }
 ],
 "metadata": {
  "kernelspec": {
   "display_name": "env",
   "language": "python",
   "name": "python3"
  },
  "language_info": {
   "codemirror_mode": {
    "name": "ipython",
    "version": 3
   },
   "file_extension": ".py",
   "mimetype": "text/x-python",
   "name": "python",
   "nbconvert_exporter": "python",
   "pygments_lexer": "ipython3",
   "version": "3.12.6"
  }
 },
 "nbformat": 4,
 "nbformat_minor": 2
}
