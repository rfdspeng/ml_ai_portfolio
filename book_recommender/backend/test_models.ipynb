{
 "cells": [
  {
   "cell_type": "code",
   "execution_count": 1,
   "metadata": {},
   "outputs": [],
   "source": [
    "from openai import Stream, OpenAI, AsyncOpenAI\n",
    "from qdrant_client.models import ScoredPoint"
   ]
  },
  {
   "cell_type": "code",
   "execution_count": 1,
   "metadata": {},
   "outputs": [
    {
     "ename": "ModuleNotFoundError",
     "evalue": "No module named 'backend'",
     "output_type": "error",
     "traceback": [
      "\u001b[0;31m---------------------------------------------------------------------------\u001b[0m",
      "\u001b[0;31mModuleNotFoundError\u001b[0m                       Traceback (most recent call last)",
      "Cell \u001b[0;32mIn[1], line 1\u001b[0m\n\u001b[0;32m----> 1\u001b[0m \u001b[38;5;28;01mfrom\u001b[39;00m \u001b[38;5;21;01mmodels\u001b[39;00m \u001b[38;5;28;01mimport\u001b[39;00m BookRetriever\n\u001b[1;32m      2\u001b[0m \u001b[38;5;28;01mfrom\u001b[39;00m \u001b[38;5;21;01mmodels\u001b[39;00m \u001b[38;5;28;01mimport\u001b[39;00m BookAssistant\n\u001b[1;32m      3\u001b[0m \u001b[38;5;28;01mimport\u001b[39;00m \u001b[38;5;21;01mdotenv\u001b[39;00m\n",
      "File \u001b[0;32m~/repos/ml_ai_portfolio/book_recommender/backend/models/__init__.py:1\u001b[0m\n\u001b[0;32m----> 1\u001b[0m \u001b[38;5;28;01mfrom\u001b[39;00m \u001b[38;5;21;01mbackend\u001b[39;00m\u001b[38;5;21;01m.\u001b[39;00m\u001b[38;5;21;01mmodels\u001b[39;00m\u001b[38;5;21;01m.\u001b[39;00m\u001b[38;5;21;01massistant\u001b[39;00m \u001b[38;5;28;01mimport\u001b[39;00m BookAssistant\n\u001b[1;32m      2\u001b[0m \u001b[38;5;28;01mfrom\u001b[39;00m \u001b[38;5;21;01mbackend\u001b[39;00m\u001b[38;5;21;01m.\u001b[39;00m\u001b[38;5;21;01mmodels\u001b[39;00m\u001b[38;5;21;01m.\u001b[39;00m\u001b[38;5;21;01mretriever\u001b[39;00m \u001b[38;5;28;01mimport\u001b[39;00m BookRetriever\n\u001b[1;32m      3\u001b[0m \u001b[38;5;28;01mfrom\u001b[39;00m \u001b[38;5;21;01mpydantic\u001b[39;00m \u001b[38;5;28;01mimport\u001b[39;00m BaseModel\n",
      "\u001b[0;31mModuleNotFoundError\u001b[0m: No module named 'backend'"
     ]
    }
   ],
   "source": [
    "from models import BookRetriever\n",
    "from models import BookAssistant\n",
    "import dotenv\n",
    "from dotenv import dotenv_values, load_dotenv\n",
    "import os"
   ]
  },
  {
   "cell_type": "code",
   "execution_count": 3,
   "metadata": {},
   "outputs": [],
   "source": [
    "# credentials = {\"QDRANT_URL\": os.environ[\"QDRANT_URL\"], \"QDRANT_API_KEY\": os.environ[\"QDRANT_API_KEY\"], \"OPENAI_API_KEY\": os.environ[\"OPENAI_API_KEY\"]}\n",
    "credentials = dict(dotenv_values(\".env\"))"
   ]
  },
  {
   "cell_type": "code",
   "execution_count": 18,
   "metadata": {},
   "outputs": [],
   "source": [
    "collection_name = \"best-book-ever\"\n",
    "retriever = BookRetriever(credentials, collection_name)"
   ]
  },
  {
   "cell_type": "code",
   "execution_count": 19,
   "metadata": {},
   "outputs": [],
   "source": [
    "stream = False\n",
    "chatbot = BookAssistant(credentials[\"OPENAI_API_KEY\"])\n",
    "response = await chatbot.respond(stream=stream)\n"
   ]
  },
  {
   "cell_type": "code",
   "execution_count": 20,
   "metadata": {},
   "outputs": [
    {
     "name": "stdout",
     "output_type": "stream",
     "text": [
      "Hello! How can I help you today? Are you looking for a specific book or do you need help finding a book that fits your preferences?\n",
      "[{'role': 'system', 'content': 'You are a bookstore assistant assisting customers with finding a book to read that fits their preferences.'}, {'role': 'assistant', 'content': 'Hello! How can I help you today? Are you looking for a specific book or do you need help finding a book that fits your preferences?'}]\n"
     ]
    }
   ],
   "source": [
    "print(response)\n",
    "print(chatbot.messages_list)"
   ]
  },
  {
   "cell_type": "code",
   "execution_count": 8,
   "metadata": {},
   "outputs": [
    {
     "name": "stdout",
     "output_type": "stream",
     "text": [
      "Hello! Welcome to our bookstore. How can I assist you today?"
     ]
    }
   ],
   "source": [
    "output = \"\"\n",
    "for chunk in response:\n",
    "    if chunk.choices[0].delta.content is not None:\n",
    "        print(chunk.choices[0].delta.content, end=\"\")\n",
    "        output = output + chunk.choices[0].delta.content"
   ]
  },
  {
   "cell_type": "code",
   "execution_count": 9,
   "metadata": {},
   "outputs": [
    {
     "name": "stdout",
     "output_type": "stream",
     "text": [
      "Hello! Welcome to our bookstore. How can I assist you today?\n"
     ]
    }
   ],
   "source": [
    "print(output)"
   ]
  },
  {
   "cell_type": "code",
   "execution_count": 7,
   "metadata": {},
   "outputs": [],
   "source": [
    "user_query = \"Hello! Do you have any fantasy books featuring dragons?\"\n",
    "search_results = await retriever.retrieve(user_query)\n",
    "response = await chatbot.respond(user_query, search_results)"
   ]
  },
  {
   "cell_type": "code",
   "execution_count": 8,
   "metadata": {},
   "outputs": [
    {
     "name": "stdout",
     "output_type": "stream",
     "text": [
      "[ScoredPoint(id=35272, version=35941, score=0.861256, payload={'title': 'Dragonflame', 'series': 'The Ultimate Dragon Saga #3', 'author': 'Graham Edwards (Goodreads Author)', 'rating': 3.72, 'genres_list': ['Fantasy', 'Dragons'], 'language': 'English', 'isbn': '9780006482338', 'pages': '441', 'firstPublishDate': None, 'numRatings': 58, 'description': 'No description available.', 'genres': 'Fantasy, Dragons'}, vector=None, shard_key=None, order_value=None), ScoredPoint(id=38100, version=38769, score=0.85783774, payload={'title': \"Pete's Dragon (Little Golden Book)\", 'series': None, 'author': 'Walt Disney Company', 'rating': 4.01, 'genres_list': ['Childrens', 'Picture Books', 'Fiction', 'Fantasy', 'Humor', 'Dragons', 'Animals'], 'language': 'English', 'isbn': '9780307600561', 'pages': '42', 'firstPublishDate': '01/01/77', 'numRatings': 242, 'description': 'No description available.', 'genres': 'Childrens, Picture Books, Fiction, Fantasy, Humor, Dragons, Animals'}, vector=None, shard_key=None, order_value=None), ScoredPoint(id=37899, version=38568, score=0.8525535, payload={'title': 'Icefire Complete 4-Book Set: The Fire Within, Icefire, Fire Star, And The Fire Eternal', 'series': 'The Last Dragon Chronicles #1-4', 'author': \"Chris d'Lacey\", 'rating': 4.51, 'genres_list': ['Fantasy', 'Dragons', 'Magic', 'Young Adult', 'Science Fiction', 'Fiction'], 'language': 'English', 'isbn': '9780545171984', 'pages': None, 'firstPublishDate': None, 'numRatings': 700, 'description': 'What if dragons were real -- and could walk among us? The complete best-selling series including the latest book!\\nIncludes all four books in the series: The Fire Within, Icefire, Fire Star, and The Fire Eternal. 352-560 pages each.', 'genres': 'Fantasy, Dragons, Magic, Young Adult, Science Fiction, Fiction'}, vector=None, shard_key=None, order_value=None), ScoredPoint(id=39571, version=40240, score=0.85105634, payload={'title': 'Free Fall', 'series': None, 'author': 'David Wiesner', 'rating': 3.94, 'genres_list': ['Picture Books', 'Childrens', 'Fantasy', 'Fiction', 'Adventure', 'Art', 'Kids', 'Young Adult', 'Classics', 'Sequential Art'], 'language': 'English', 'isbn': '9780688109905', 'pages': '32', 'firstPublishDate': 'September 1st 1991', 'numRatings': 2514, 'description': 'When he falls asleep with a book in his arms, a young boy dreams an amazing dream—about dragons, about castles, and about an unchartered, faraway land. And you can come along.', 'genres': 'Picture Books, Childrens, Fantasy, Fiction, Adventure, Art, Kids, Young Adult, Classics, Sequential Art'}, vector=None, shard_key=None, order_value=None), ScoredPoint(id=4684, version=5353, score=0.84603673, payload={'title': 'Firebolt', 'series': 'The Dragonian #1', 'author': 'Adrienne Woods (Goodreads Author)', 'rating': 3.98, 'genres_list': ['Fantasy', 'Dragons', 'Young Adult', 'Romance', 'Magic', 'Paranormal', 'Fiction', 'Shapeshifters', 'Supernatural', 'Young Adult Fantasy'], 'language': 'English', 'isbn': '9780998471426', 'pages': '306', 'firstPublishDate': '11/17/13', 'numRatings': 7978, 'description': 'Dragons. Right. Teenage girls don’t believe in fairy tales, and sixteen-year old Elena Watkins was no different.Until the night a fairy tale killed her father.Now Elena’s in a new world, and a new school. The cutest guy around may be an evil dragon, a Prince wants Elena’s heart, and a long dead sorcerer may be waking up to kill her. Oh. And the only way Elena’s going to graduate is on the back of a dragon of her own.Teenage girls don’t believe in fairy tales. Now it’s time for Elena to believe – in herself.', 'genres': 'Fantasy, Dragons, Young Adult, Romance, Magic, Paranormal, Fiction, Shapeshifters, Supernatural, Young Adult Fantasy'}, vector=None, shard_key=None, order_value=None)]\n"
     ]
    }
   ],
   "source": [
    "print(search_results)"
   ]
  },
  {
   "cell_type": "code",
   "execution_count": 9,
   "metadata": {},
   "outputs": [
    {
     "name": "stdout",
     "output_type": "stream",
     "text": [
      "Hello! I have a few fantasy books featuring dragons that you might enjoy:\n",
      "\n",
      "1. \"Dragonflame\" by Graham Edwards - A fantasy book with dragons.\n",
      "2. \"Icefire Complete 4-Book Set\" by Chris d'Lacey - A series that imagines a world where dragons are real and can walk among us.\n",
      "3. \"Firebolt\" by Adrienne Woods - A story about a teenage girl who encounters dragons and fairy tales in her world.\n",
      "\n",
      "Feel free to browse through these options and let me know if any catch your interest!\n"
     ]
    }
   ],
   "source": [
    "print(response)"
   ]
  },
  {
   "cell_type": "code",
   "execution_count": 10,
   "metadata": {},
   "outputs": [
    {
     "data": {
      "text/plain": [
       "[{'role': 'system',\n",
       "  'content': 'You are a bookstore assistant assisting customers with finding a book to read that fits their preferences.'},\n",
       " {'role': 'assistant',\n",
       "  'content': 'Hello! How can I assist you today in finding the perfect book to read? Do you have any specific preferences or genres in mind?'},\n",
       " {'role': 'user',\n",
       "  'content': \"User message: Hello! Do you have any fantasy books featuring dragons?\\nRelated books in stock:\\n---\\nResult #1:\\nTitle: Dragonflame\\nAuthor: Graham Edwards (Goodreads Author)\\nDescription: No description available.\\nGenres: Fantasy, Dragons\\n\\nResult #2:\\nTitle: Pete's Dragon (Little Golden Book)\\nAuthor: Walt Disney Company\\nDescription: No description available.\\nGenres: Childrens, Picture Books, Fiction, Fantasy, Humor, Dragons, Animals\\n\\nResult #3:\\nTitle: Icefire Complete 4-Book Set: The Fire Within, Icefire, Fire Star, And The Fire Eternal\\nAuthor: Chris d'Lacey\\nDescription: What if dragons were real -- and could walk among us? The complete best-selling series including the latest book!\\nIncludes all four books in the serie...\\nGenres: Fantasy, Dragons, Magic, Young Adult, Science Fiction, Fiction\\n\\nResult #4:\\nTitle: Free Fall\\nAuthor: David Wiesner\\nDescription: When he falls asleep with a book in his arms, a young boy dreams an amazing dream—about dragons, about castles, and about an unchartered, faraway land...\\nGenres: Picture Books, Childrens, Fantasy, Fiction, Adventure, Art, Kids, Young Adult, Classics, Sequential Art\\n\\nResult #5:\\nTitle: Firebolt\\nAuthor: Adrienne Woods (Goodreads Author)\\nDescription: Dragons. Right. Teenage girls don’t believe in fairy tales, and sixteen-year old Elena Watkins was no different.Until the night a fairy tale killed he...\\nGenres: Fantasy, Dragons, Young Adult, Romance, Magic, Paranormal, Fiction, Shapeshifters, Supernatural, Young Adult Fantasy\\n\"},\n",
       " {'role': 'assistant',\n",
       "  'content': 'Hello! I have a few fantasy books featuring dragons that you might enjoy:\\n\\n1. \"Dragonflame\" by Graham Edwards - A fantasy book with dragons.\\n2. \"Icefire Complete 4-Book Set\" by Chris d\\'Lacey - A series that imagines a world where dragons are real and can walk among us.\\n3. \"Firebolt\" by Adrienne Woods - A story about a teenage girl who encounters dragons and fairy tales in her world.\\n\\nFeel free to browse through these options and let me know if any catch your interest!'}]"
      ]
     },
     "execution_count": 10,
     "metadata": {},
     "output_type": "execute_result"
    }
   ],
   "source": [
    "chatbot.messages_list"
   ]
  },
  {
   "cell_type": "code",
   "execution_count": null,
   "metadata": {},
   "outputs": [],
   "source": []
  }
 ],
 "metadata": {
  "kernelspec": {
   "display_name": "env",
   "language": "python",
   "name": "python3"
  },
  "language_info": {
   "codemirror_mode": {
    "name": "ipython",
    "version": 3
   },
   "file_extension": ".py",
   "mimetype": "text/x-python",
   "name": "python",
   "nbconvert_exporter": "python",
   "pygments_lexer": "ipython3",
   "version": "3.12.6"
  }
 },
 "nbformat": 4,
 "nbformat_minor": 2
}
