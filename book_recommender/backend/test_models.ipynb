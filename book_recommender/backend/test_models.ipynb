{
 "cells": [
  {
   "cell_type": "code",
   "execution_count": 1,
   "metadata": {},
   "outputs": [],
   "source": [
    "from openai import Stream, OpenAI, AsyncOpenAI\n",
    "from qdrant_client.models import ScoredPoint"
   ]
  },
  {
   "cell_type": "code",
   "execution_count": 2,
   "metadata": {},
   "outputs": [],
   "source": [
    "from models import BookRetriever\n",
    "from models import BookAssistant\n",
    "import dotenv\n",
    "from dotenv import dotenv_values, load_dotenv\n",
    "import os"
   ]
  },
  {
   "cell_type": "code",
   "execution_count": 3,
   "metadata": {},
   "outputs": [],
   "source": [
    "# credentials = {\"QDRANT_URL\": os.environ[\"QDRANT_URL\"], \"QDRANT_API_KEY\": os.environ[\"QDRANT_API_KEY\"], \"OPENAI_API_KEY\": os.environ[\"OPENAI_API_KEY\"]}\n",
    "credentials = dict(dotenv_values(\".env\"))"
   ]
  },
  {
   "cell_type": "code",
   "execution_count": 4,
   "metadata": {},
   "outputs": [],
   "source": [
    "collection_name = \"best-book-ever\"\n",
    "retriever = BookRetriever(credentials, collection_name)"
   ]
  },
  {
   "cell_type": "code",
   "execution_count": 19,
   "metadata": {},
   "outputs": [],
   "source": [
    "stream = False\n",
    "chatbot = BookAssistant(credentials[\"OPENAI_API_KEY\"])\n",
    "response = await chatbot.respond(stream=stream)\n"
   ]
  },
  {
   "cell_type": "code",
   "execution_count": null,
   "metadata": {},
   "outputs": [],
   "source": [
    "print(response)\n",
    "print(chatbot.messages_list)"
   ]
  },
  {
   "cell_type": "code",
   "execution_count": null,
   "metadata": {},
   "outputs": [],
   "source": [
    "output = \"\"\n",
    "for chunk in response:\n",
    "    if chunk.choices[0].delta.content is not None:\n",
    "        print(chunk.choices[0].delta.content, end=\"\")\n",
    "        output = output + chunk.choices[0].delta.content"
   ]
  },
  {
   "cell_type": "code",
   "execution_count": null,
   "metadata": {},
   "outputs": [],
   "source": [
    "print(output)"
   ]
  },
  {
   "cell_type": "code",
   "execution_count": 5,
   "metadata": {},
   "outputs": [],
   "source": [
    "user_query = \"Hello! Do you have any fantasy books featuring dragons?\"\n",
    "search_results = await retriever.retrieve(user_query)\n",
    "# response = await chatbot.respond(user_query, search_results)"
   ]
  },
  {
   "cell_type": "code",
   "execution_count": 6,
   "metadata": {},
   "outputs": [
    {
     "name": "stdout",
     "output_type": "stream",
     "text": [
      "[ScoredPoint(id=35272, version=35941, score=0.861256, payload={'title': 'Dragonflame', 'series': 'The Ultimate Dragon Saga #3', 'author': 'Graham Edwards (Goodreads Author)', 'rating': 3.72, 'genres_list': ['Fantasy', 'Dragons'], 'language': 'English', 'isbn': '9780006482338', 'pages': '441', 'firstPublishDate': None, 'numRatings': 58, 'description': 'No description available.', 'genres': 'Fantasy, Dragons'}, vector=None, shard_key=None, order_value=None), ScoredPoint(id=38100, version=38769, score=0.85783774, payload={'title': \"Pete's Dragon (Little Golden Book)\", 'series': None, 'author': 'Walt Disney Company', 'rating': 4.01, 'genres_list': ['Childrens', 'Picture Books', 'Fiction', 'Fantasy', 'Humor', 'Dragons', 'Animals'], 'language': 'English', 'isbn': '9780307600561', 'pages': '42', 'firstPublishDate': '01/01/77', 'numRatings': 242, 'description': 'No description available.', 'genres': 'Childrens, Picture Books, Fiction, Fantasy, Humor, Dragons, Animals'}, vector=None, shard_key=None, order_value=None), ScoredPoint(id=37899, version=38568, score=0.8525535, payload={'title': 'Icefire Complete 4-Book Set: The Fire Within, Icefire, Fire Star, And The Fire Eternal', 'series': 'The Last Dragon Chronicles #1-4', 'author': \"Chris d'Lacey\", 'rating': 4.51, 'genres_list': ['Fantasy', 'Dragons', 'Magic', 'Young Adult', 'Science Fiction', 'Fiction'], 'language': 'English', 'isbn': '9780545171984', 'pages': None, 'firstPublishDate': None, 'numRatings': 700, 'description': 'What if dragons were real -- and could walk among us? The complete best-selling series including the latest book!\\nIncludes all four books in the series: The Fire Within, Icefire, Fire Star, and The Fire Eternal. 352-560 pages each.', 'genres': 'Fantasy, Dragons, Magic, Young Adult, Science Fiction, Fiction'}, vector=None, shard_key=None, order_value=None), ScoredPoint(id=39571, version=40240, score=0.85105634, payload={'title': 'Free Fall', 'series': None, 'author': 'David Wiesner', 'rating': 3.94, 'genres_list': ['Picture Books', 'Childrens', 'Fantasy', 'Fiction', 'Adventure', 'Art', 'Kids', 'Young Adult', 'Classics', 'Sequential Art'], 'language': 'English', 'isbn': '9780688109905', 'pages': '32', 'firstPublishDate': 'September 1st 1991', 'numRatings': 2514, 'description': 'When he falls asleep with a book in his arms, a young boy dreams an amazing dream—about dragons, about castles, and about an unchartered, faraway land. And you can come along.', 'genres': 'Picture Books, Childrens, Fantasy, Fiction, Adventure, Art, Kids, Young Adult, Classics, Sequential Art'}, vector=None, shard_key=None, order_value=None), ScoredPoint(id=4684, version=5353, score=0.84603673, payload={'title': 'Firebolt', 'series': 'The Dragonian #1', 'author': 'Adrienne Woods (Goodreads Author)', 'rating': 3.98, 'genres_list': ['Fantasy', 'Dragons', 'Young Adult', 'Romance', 'Magic', 'Paranormal', 'Fiction', 'Shapeshifters', 'Supernatural', 'Young Adult Fantasy'], 'language': 'English', 'isbn': '9780998471426', 'pages': '306', 'firstPublishDate': '11/17/13', 'numRatings': 7978, 'description': 'Dragons. Right. Teenage girls don’t believe in fairy tales, and sixteen-year old Elena Watkins was no different.Until the night a fairy tale killed her father.Now Elena’s in a new world, and a new school. The cutest guy around may be an evil dragon, a Prince wants Elena’s heart, and a long dead sorcerer may be waking up to kill her. Oh. And the only way Elena’s going to graduate is on the back of a dragon of her own.Teenage girls don’t believe in fairy tales. Now it’s time for Elena to believe – in herself.', 'genres': 'Fantasy, Dragons, Young Adult, Romance, Magic, Paranormal, Fiction, Shapeshifters, Supernatural, Young Adult Fantasy'}, vector=None, shard_key=None, order_value=None)]\n"
     ]
    }
   ],
   "source": [
    "print(search_results)"
   ]
  },
  {
   "cell_type": "code",
   "execution_count": null,
   "metadata": {},
   "outputs": [],
   "source": [
    "print(response)"
   ]
  },
  {
   "cell_type": "code",
   "execution_count": null,
   "metadata": {},
   "outputs": [],
   "source": [
    "chatbot.messages_list"
   ]
  },
  {
   "cell_type": "code",
   "execution_count": null,
   "metadata": {},
   "outputs": [],
   "source": []
  }
 ],
 "metadata": {
  "kernelspec": {
   "display_name": "env",
   "language": "python",
   "name": "python3"
  },
  "language_info": {
   "codemirror_mode": {
    "name": "ipython",
    "version": 3
   },
   "file_extension": ".py",
   "mimetype": "text/x-python",
   "name": "python",
   "nbconvert_exporter": "python",
   "pygments_lexer": "ipython3",
   "version": "3.12.6"
  }
 },
 "nbformat": 4,
 "nbformat_minor": 2
}
