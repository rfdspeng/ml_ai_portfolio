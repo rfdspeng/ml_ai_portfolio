{
 "cells": [
  {
   "cell_type": "markdown",
   "id": "51f26dbd-df52-4630-9870-0b85297995ee",
   "metadata": {},
   "source": [
    "# <u>What have I done?</u>\n",
    "* OpenAI's `text-embedding-ada-002` has an embedding size of 1536\n",
    "* Can I batch embed, or do I need to pass in the text one-by-one?\n",
    "* Carefully consider the payloads and the IDs. IDs will help you update data points later if needed."
   ]
  },
  {
   "cell_type": "code",
   "execution_count": 1,
   "id": "8c0880fb-dbfe-43a2-bd32-cf2b8a9c2490",
   "metadata": {},
   "outputs": [],
   "source": [
    "import pandas as pd\n",
    "import numpy as np\n",
    "from qdrant_client import QdrantClient\n",
    "from qdrant_client.http.models import VectorParams, Distance\n",
    "from openai import OpenAI\n",
    "import os\n",
    "import random"
   ]
  },
  {
   "cell_type": "code",
   "execution_count": null,
   "id": "58397f59-e8b7-45ef-a949-b2853a458f98",
   "metadata": {},
   "outputs": [],
   "source": [
    "df = pd.read_pickle(\"bbe_12-03-2024-2134.pkl\")"
   ]
  },
  {
   "cell_type": "code",
   "execution_count": 10,
   "id": "2f4de75b-4051-4425-8a8c-80d2fd545d29",
   "metadata": {},
   "outputs": [
    {
     "data": {
      "text/html": [
       "<div>\n",
       "<style scoped>\n",
       "    .dataframe tbody tr th:only-of-type {\n",
       "        vertical-align: middle;\n",
       "    }\n",
       "\n",
       "    .dataframe tbody tr th {\n",
       "        vertical-align: top;\n",
       "    }\n",
       "\n",
       "    .dataframe thead th {\n",
       "        text-align: right;\n",
       "    }\n",
       "</style>\n",
       "<table border=\"1\" class=\"dataframe\">\n",
       "  <thead>\n",
       "    <tr style=\"text-align: right;\">\n",
       "      <th></th>\n",
       "      <th>ID</th>\n",
       "      <th>bookId</th>\n",
       "      <th>title</th>\n",
       "      <th>series</th>\n",
       "      <th>author</th>\n",
       "      <th>rating</th>\n",
       "      <th>description</th>\n",
       "      <th>language</th>\n",
       "      <th>isbn</th>\n",
       "      <th>genres</th>\n",
       "      <th>...</th>\n",
       "      <th>setting</th>\n",
       "      <th>coverImg</th>\n",
       "      <th>bbeScore</th>\n",
       "      <th>bbeVotes</th>\n",
       "      <th>price</th>\n",
       "      <th>descriptor</th>\n",
       "      <th>descriptor_lengths</th>\n",
       "      <th>description_lengths</th>\n",
       "      <th>genre_lengths</th>\n",
       "      <th>genres_list</th>\n",
       "    </tr>\n",
       "  </thead>\n",
       "  <tbody>\n",
       "    <tr>\n",
       "      <th>11163</th>\n",
       "      <td>10283</td>\n",
       "      <td>9766063-ico</td>\n",
       "      <td>Ico: Castle in the Mist</td>\n",
       "      <td>NaN</td>\n",
       "      <td>Miyuki Miyabe</td>\n",
       "      <td>3.64</td>\n",
       "      <td>When a boy named Ico grows long curved horns o...</td>\n",
       "      <td>English</td>\n",
       "      <td>9781421540634</td>\n",
       "      <td>Fantasy, Fiction, Japanese Literature, Young A...</td>\n",
       "      <td>...</td>\n",
       "      <td>[]</td>\n",
       "      <td>https://i.gr-assets.com/images/S/compressed.ph...</td>\n",
       "      <td>200</td>\n",
       "      <td>2</td>\n",
       "      <td>8.86</td>\n",
       "      <td>Description: When a boy named Ico grows long c...</td>\n",
       "      <td>695</td>\n",
       "      <td>552</td>\n",
       "      <td>120</td>\n",
       "      <td>[Fantasy, Fiction, Japanese Literature, Young ...</td>\n",
       "    </tr>\n",
       "  </tbody>\n",
       "</table>\n",
       "<p>1 rows × 31 columns</p>\n",
       "</div>"
      ],
      "text/plain": [
       "          ID       bookId                    title series         author  \\\n",
       "11163  10283  9766063-ico  Ico: Castle in the Mist    NaN  Miyuki Miyabe   \n",
       "\n",
       "       rating                                        description language  \\\n",
       "11163    3.64  When a boy named Ico grows long curved horns o...  English   \n",
       "\n",
       "                isbn                                             genres  ...  \\\n",
       "11163  9781421540634  Fantasy, Fiction, Japanese Literature, Young A...  ...   \n",
       "\n",
       "      setting                                           coverImg bbeScore  \\\n",
       "11163      []  https://i.gr-assets.com/images/S/compressed.ph...      200   \n",
       "\n",
       "      bbeVotes price                                         descriptor  \\\n",
       "11163        2  8.86  Description: When a boy named Ico grows long c...   \n",
       "\n",
       "      descriptor_lengths description_lengths  genre_lengths  \\\n",
       "11163                695                 552            120   \n",
       "\n",
       "                                             genres_list  \n",
       "11163  [Fantasy, Fiction, Japanese Literature, Young ...  \n",
       "\n",
       "[1 rows x 31 columns]"
      ]
     },
     "execution_count": 10,
     "metadata": {},
     "output_type": "execute_result"
    }
   ],
   "source": [
    "df.loc[df[\"ID\"] == random.randint(0, len(df)-1)]"
   ]
  },
  {
   "cell_type": "code",
   "execution_count": 6,
   "id": "9f793286-5b71-4cf8-adf9-0f7cea6be054",
   "metadata": {},
   "outputs": [],
   "source": [
    "qdrant_api_key = os.environ[\"QDRANT_API_KEY\"]\n",
    "qdrant_url = os.environ[\"QDRANT_URL\"]\n",
    "# qdrant_url = \"https://fd45ddab-8b96-4a40-9339-0671dbe64dcc.europe-west3-0.gcp.cloud.qdrant.io:6333\"\n",
    "openai_api_key = os.environ[\"OPENAI_API_KEY\"]"
   ]
  },
  {
   "cell_type": "code",
   "execution_count": 7,
   "id": "cdcd51f4-606d-42e4-b869-95f54f286491",
   "metadata": {},
   "outputs": [],
   "source": [
    "client = OpenAI(api_key=openai_api_key)"
   ]
  },
  {
   "cell_type": "code",
   "execution_count": 8,
   "id": "cd8c322c-9110-4815-a7c8-33088accc4f2",
   "metadata": {},
   "outputs": [
    {
     "name": "stdout",
     "output_type": "stream",
     "text": [
      "collections=[CollectionDescription(name='best-book-ever'), CollectionDescription(name='hip-hop-speech'), CollectionDescription(name='qa_collection')]\n"
     ]
    }
   ],
   "source": [
    "qdrant_client = QdrantClient(\n",
    "    url=qdrant_url,\n",
    "    api_key=qdrant_api_key,\n",
    ")\n",
    "\n",
    "print(qdrant_client.get_collections())"
   ]
  },
  {
   "cell_type": "code",
   "execution_count": 18,
   "id": "a0175a4e-6253-44ff-a2d4-3d0600b1ec60",
   "metadata": {},
   "outputs": [
    {
     "name": "stdout",
     "output_type": "stream",
     "text": [
      "Description: There is a door at the end of a silent corridor. And it’s haunting Harry Pottter’s dreams. Why else would he be waking in the middle of the night, screaming in terror?Harry has a lot on his mind for this, his fifth year at Hogwarts: a Defense Against the Dark Arts teacher with a personality like poisoned honey; a big surprise on the Gryffindor Quidditch team; and the looming terror of the Ordinary Wizarding Level exams. But all these things pale next to the growing threat of He-Who-Must-Not-Be-Named - a threat that neither the magical government nor the authorities at Hogwarts can stop.As the grasp of darkness tightens, Harry must discover the true depth and strength of his friends, the importance of boundless loyalty, and the shocking price of unbearable sacrifice.His fate depends on them all.\n",
      "\n",
      "Genres: 'Fantasy', 'Young Adult', 'Fiction', 'Magic', 'Childrens', 'Adventure', 'Audiobook', 'Middle Grade', 'Classics', 'Science Fiction Fantasy'\n"
     ]
    }
   ],
   "source": [
    "text = df.iloc[1].descriptor\n",
    "print(text)"
   ]
  },
  {
   "cell_type": "code",
   "execution_count": 19,
   "id": "3d9e82d8-f66a-46b2-b7c8-8d28625c8442",
   "metadata": {},
   "outputs": [],
   "source": [
    "response = client.embeddings.create(input=text, model=\"text-embedding-ada-002\")"
   ]
  },
  {
   "cell_type": "code",
   "execution_count": 20,
   "id": "aa30a44d-a437-4c87-bf8f-1b319fbc3031",
   "metadata": {},
   "outputs": [
    {
     "data": {
      "text/plain": [
       "1536"
      ]
     },
     "execution_count": 20,
     "metadata": {},
     "output_type": "execute_result"
    }
   ],
   "source": [
    "len(response.data[0].embedding)"
   ]
  },
  {
   "cell_type": "code",
   "execution_count": 14,
   "id": "bffcc981-23ee-468b-8797-b2ce8cc99d37",
   "metadata": {},
   "outputs": [
    {
     "data": {
      "text/plain": [
       "Index(['ID', 'bookId', 'title', 'series', 'author', 'rating', 'description',\n",
       "       'language', 'isbn', 'genres', 'characters', 'bookFormat', 'edition',\n",
       "       'pages', 'publisher', 'publishDate', 'firstPublishDate', 'awards',\n",
       "       'numRatings', 'ratingsByStars', 'likedPercent', 'setting', 'coverImg',\n",
       "       'bbeScore', 'bbeVotes', 'price', 'descriptor', 'descriptor_lengths',\n",
       "       'description_lengths', 'genre_lengths', 'genres_list'],\n",
       "      dtype='object')"
      ]
     },
     "execution_count": 14,
     "metadata": {},
     "output_type": "execute_result"
    }
   ],
   "source": [
    "df.columns"
   ]
  },
  {
   "cell_type": "code",
   "execution_count": 23,
   "id": "c3794a8b-b7b9-4c98-af94-a8f8c745a305",
   "metadata": {},
   "outputs": [
    {
     "data": {
      "text/plain": [
       "['Young Adult',\n",
       " 'Fiction',\n",
       " 'Dystopia',\n",
       " 'Fantasy',\n",
       " 'Science Fiction',\n",
       " 'Romance',\n",
       " 'Adventure',\n",
       " 'Teen',\n",
       " 'Post Apocalyptic',\n",
       " 'Action']"
      ]
     },
     "execution_count": 23,
     "metadata": {},
     "output_type": "execute_result"
    }
   ],
   "source": [
    "df.iloc[0].genres_list"
   ]
  },
  {
   "cell_type": "code",
   "execution_count": 29,
   "id": "b8e0ebb6-d7b6-4c3f-9949-b781724b7641",
   "metadata": {},
   "outputs": [],
   "source": [
    "payloads = df.loc[:, [\"title\", \"series\", \"author\", \"rating\", \"descriptor\", \"language\", \"isbn\", \"pages\", \"firstPublishDate\", \"numRatings\", \"genres_list\"]].to_dict(orient=\"records\")"
   ]
  },
  {
   "cell_type": "code",
   "execution_count": 34,
   "id": "3a8eda56-ff09-4fc8-aa54-97c373f38f85",
   "metadata": {},
   "outputs": [],
   "source": [
    "ids = df[\"ID\"].to_list()"
   ]
  },
  {
   "cell_type": "code",
   "execution_count": 3,
   "id": "0a7d4fd1-a4a1-4a59-952e-b5f671c03a08",
   "metadata": {},
   "outputs": [],
   "source": [
    "def create_embedding(text):\n",
    "    response = client.embeddings.create(input=text, model=\"text-embedding-ada-002\")\n",
    "    return response.data[0].embedding\n",
    "\n",
    "# df[\"embedding\"] = df[\"descriptor\"].apply(create_embedding)"
   ]
  },
  {
   "cell_type": "code",
   "execution_count": 42,
   "id": "f3a399be-6c38-4661-a961-1ba6d5eab954",
   "metadata": {},
   "outputs": [],
   "source": [
    "df.to_pickle(\"bbe_12-03-2024-embedded\")"
   ]
  },
  {
   "cell_type": "code",
   "execution_count": 43,
   "id": "e2a9b026-7b8a-4497-a512-939151cae5e2",
   "metadata": {},
   "outputs": [],
   "source": [
    "embeddings = df[\"embedding\"].to_list()"
   ]
  },
  {
   "cell_type": "code",
   "execution_count": 10,
   "id": "2d506870-f88f-48d2-97ac-1874a7c95d54",
   "metadata": {},
   "outputs": [],
   "source": [
    "collection_name = \"best-book-ever\"\n",
    "if not qdrant_client.collection_exists(collection_name):\n",
    "    qdrant_client.create_collection(\n",
    "        collection_name=collection_name,\n",
    "        vectors_config=VectorParams(size=1536, distance=Distance.COSINE),\n",
    "    )"
   ]
  },
  {
   "cell_type": "code",
   "execution_count": 44,
   "id": "e8423474-e142-4fe1-b64a-09c3ba386d18",
   "metadata": {},
   "outputs": [],
   "source": [
    "qdrant_client.upload_collection(\n",
    "    collection_name=collection_name,\n",
    "    vectors=embeddings,\n",
    "    payload=payloads,\n",
    "    ids=ids,\n",
    ")"
   ]
  },
  {
   "cell_type": "code",
   "execution_count": 12,
   "id": "4154e157-f874-4cc2-b722-9ffa44c410bf",
   "metadata": {},
   "outputs": [],
   "source": [
    "query = \"I'm looking for a graphic novel about the monkey king.\"\n",
    "\n",
    "query_vector = create_embedding(query)\n",
    "\n"
   ]
  },
  {
   "cell_type": "code",
   "execution_count": 13,
   "id": "b4eeca11-8f9a-48e8-ab81-6df26120d1e0",
   "metadata": {},
   "outputs": [
    {
     "data": {
      "text/plain": [
       "[ScoredPoint(id=5816, version=90, score=0.8579728, payload={'title': 'Monkey: The Journey to the West', 'series': None, 'author': \"Wu Cheng'en, Arthur Waley (Translator/Adapter), Hu Shih (Introduction)\", 'rating': 4.01, 'descriptor': 'Description: Probably the most popular book in the history of the Far East, this classic sixteenth century novel is a combination of picaresque novel and folk epic that mixes satire, allegory, and history into a rollicking adventure. It is the story of the roguish Monkey and his encounters with major and minor spirits, gods, demigods, demons, ogres, monsters, and fairies. This translation, by the distinguished scholar Arthur Waley, is the first accurate English version; it makes available to the Western reader a faithful reproduction of the spirit and meaning of the original.\\n\\nGenres: Classics, Fiction, Fantasy, China, Mythology, Literature, Chinese Literature, Asia, Adventure, Novels', 'language': 'English', 'isbn': '9780802130860', 'pages': '306', 'firstPublishDate': '10/28/92', 'numRatings': 5759, 'genres_list': ['Classics', 'Fiction', 'Fantasy', 'China', 'Mythology', 'Literature', 'Chinese Literature', 'Asia', 'Adventure', 'Novels']}, vector=None, shard_key=None, order_value=None),\n",
       " ScoredPoint(id=3807, version=59, score=0.8473861, payload={'title': 'American Born Chinese', 'series': None, 'author': 'Gene Luen Yang (Goodreads Author)', 'rating': 3.88, 'descriptor': \"Description: All Jin Wang wants is to fit in. When his family moves to a new neighborhood, he suddenly finds that he's the only Chinese American student at his school. Jocks and bullies pick on him constantly, and he has hardly any friends. Then, to make matters worse, he falls in love with an all-American girl...Born to rule over all the monkeys in the world, the story of the Monkey King is one of the oldest and greatest Chinese fables. Adored by his subjects, master of the arts of kung-fu, he is the most powerful monkey on earth. But the Monkey King doesn't want to be a monkey. He wants to be hailed as a god...Chin-Kee is the ultimate negative Chinese stereotype, and he's ruining his cousin Danny's life. Danny's a popular kid at school, but every year Chin-Kee comes to visit, and every year Danny has to transfer to a new school to escape the shame. This year, though, things quickly go from bad to worse...These three apparently unrelated tales come together with an unexpected twist, in a modern fable that is hilarious, poignant and action-packed. American Born Chinese is an amazing rise, all the way up to the astonishing climax--and confirms what a growing number of readers already know: Gene Yang is a major talent.\\n\\nGenres: Graphic Novels, Young Adult, Comics, Fiction, Fantasy, Graphic Novels Comics, Teen, Coming Of Age, School, Cultural\", 'language': 'English', 'isbn': '9781596431522', 'pages': '240', 'firstPublishDate': '09/01/06', 'numRatings': 72536, 'genres_list': ['Graphic Novels', 'Young Adult', 'Comics', 'Fiction', 'Fantasy', 'Graphic Novels Comics', 'Teen', 'Coming Of Age', 'School', 'Cultural']}, vector=None, shard_key=None, order_value=None),\n",
       " ScoredPoint(id=35147, version=549, score=0.83819675, payload={'title': 'Monkey King', 'series': None, 'author': 'Patricia Chao', 'rating': 3.36, 'descriptor': \"Description: Monkey King&nbsp tells the story of 28-year-old Sally Wang, a Chinese-American woman whose mental breakdown and sojourn in a hospital set her firmly on the path of memory. Her recovery takes place against a rich tapestry of culture and personality that unfolds before our eyes under the Monkey King's ghostly shadow. For Sally has been living with a terrible family secret, one that has shattered her life. How she pulls together her Chinese and American identities into a cohesive self and rejoins the land of the living is recounted with a wry and refreshing honesty.\\n\\nGenres: Fiction, China, Contemporary\", 'language': 'English', 'isbn': '9780060928933', 'pages': '324', 'firstPublishDate': '02/05/97', 'numRatings': 197, 'genres_list': ['Fiction', 'China', 'Contemporary']}, vector=None, shard_key=None, order_value=None),\n",
       " ScoredPoint(id=7775, version=121, score=0.8359008, payload={'title': 'Red Earth and Pouring Rain', 'series': None, 'author': 'Vikram Chandra, Jordan Pavlin (Editor)', 'rating': 3.79, 'descriptor': \"Description: Combining Indian myths, epic history, and the story of three college kids in search of America, a narrative includes the monkey's story of an Indian poet and warrior and an American road novel of college students driving cross-country.\\n\\nGenres: Fiction, India, Fantasy, Magical Realism, Indian Literature, Literature, Asia, Literary Fiction, Novels, Historical Fiction\", 'language': 'English', 'isbn': '9780316132930', 'pages': '542', 'firstPublishDate': '10/28/95', 'numRatings': 2518, 'genres_list': ['Fiction', 'India', 'Fantasy', 'Magical Realism', 'Indian Literature', 'Literature', 'Asia', 'Literary Fiction', 'Novels', 'Historical Fiction']}, vector=None, shard_key=None, order_value=None),\n",
       " ScoredPoint(id=24195, version=378, score=0.82698184, payload={'title': 'Prince Valiant Vol. 1: The Prophecy', 'series': 'Prince Valiant (Paperback) #1', 'author': 'Hal Foster', 'rating': 4.42, 'descriptor': 'Description: No description available.\\n\\nGenres: Comics, Fantasy, Graphic Novels, Fiction', 'language': 'English', 'isbn': '9780930193461', 'pages': '48', 'firstPublishDate': '10/30/77', 'numRatings': 78, 'genres_list': ['Comics', 'Fantasy', 'Graphic Novels', 'Fiction']}, vector=None, shard_key=None, order_value=None)]"
      ]
     },
     "execution_count": 13,
     "metadata": {},
     "output_type": "execute_result"
    }
   ],
   "source": [
    "search_results = qdrant_client.search(\n",
    "    collection_name=collection_name,\n",
    "    query_vector=query_vector,\n",
    "    limit=5,\n",
    ")"
   ]
  },
  {
   "cell_type": "code",
   "execution_count": 24,
   "id": "b630abf7-eb3e-46a6-878a-7d8e659590ca",
   "metadata": {},
   "outputs": [
    {
     "name": "stdout",
     "output_type": "stream",
     "text": [
      "Monkey: The Journey to the West\n",
      "['Classics', 'Fiction', 'Fantasy', 'China', 'Mythology', 'Literature', 'Chinese Literature', 'Asia', 'Adventure', 'Novels']\n",
      "\n",
      "American Born Chinese\n",
      "['Graphic Novels', 'Young Adult', 'Comics', 'Fiction', 'Fantasy', 'Graphic Novels Comics', 'Teen', 'Coming Of Age', 'School', 'Cultural']\n",
      "\n",
      "Monkey King\n",
      "['Fiction', 'China', 'Contemporary']\n",
      "\n",
      "Red Earth and Pouring Rain\n",
      "['Fiction', 'India', 'Fantasy', 'Magical Realism', 'Indian Literature', 'Literature', 'Asia', 'Literary Fiction', 'Novels', 'Historical Fiction']\n",
      "\n",
      "Prince Valiant Vol. 1: The Prophecy\n",
      "['Comics', 'Fantasy', 'Graphic Novels', 'Fiction']\n",
      "\n"
     ]
    }
   ],
   "source": [
    "for hit in search_results:\n",
    "    print(hit.payload['title'])\n",
    "    print(hit.payload['genres_list'])\n",
    "    print(\"\")"
   ]
  },
  {
   "cell_type": "code",
   "execution_count": null,
   "id": "7a9d8975-9677-4288-808d-a5c68b626d0d",
   "metadata": {},
   "outputs": [],
   "source": []
  }
 ],
 "metadata": {
  "kernelspec": {
   "display_name": "Python 3 (ipykernel)",
   "language": "python",
   "name": "python3"
  },
  "language_info": {
   "codemirror_mode": {
    "name": "ipython",
    "version": 3
   },
   "file_extension": ".py",
   "mimetype": "text/x-python",
   "name": "python",
   "nbconvert_exporter": "python",
   "pygments_lexer": "ipython3",
   "version": "3.12.6"
  }
 },
 "nbformat": 4,
 "nbformat_minor": 5
}
