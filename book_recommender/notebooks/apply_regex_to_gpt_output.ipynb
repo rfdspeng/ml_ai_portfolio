{
 "cells": [
  {
   "cell_type": "code",
   "execution_count": 6,
   "metadata": {},
   "outputs": [],
   "source": [
    "import pandas as pd\n",
    "import re"
   ]
  },
  {
   "cell_type": "code",
   "execution_count": 34,
   "metadata": {},
   "outputs": [],
   "source": [
    "df = pd.read_csv(\"intent_classifier_samples.csv\")"
   ]
  },
  {
   "cell_type": "code",
   "execution_count": 4,
   "metadata": {},
   "outputs": [
    {
     "data": {
      "text/plain": [
       "2274"
      ]
     },
     "execution_count": 4,
     "metadata": {},
     "output_type": "execute_result"
    }
   ],
   "source": [
    "len(df)"
   ]
  },
  {
   "cell_type": "code",
   "execution_count": 37,
   "metadata": {},
   "outputs": [
    {
     "data": {
      "text/html": [
       "<div>\n",
       "<style scoped>\n",
       "    .dataframe tbody tr th:only-of-type {\n",
       "        vertical-align: middle;\n",
       "    }\n",
       "\n",
       "    .dataframe tbody tr th {\n",
       "        vertical-align: top;\n",
       "    }\n",
       "\n",
       "    .dataframe thead th {\n",
       "        text-align: right;\n",
       "    }\n",
       "</style>\n",
       "<table border=\"1\" class=\"dataframe\">\n",
       "  <thead>\n",
       "    <tr style=\"text-align: right;\">\n",
       "      <th></th>\n",
       "      <th>Query</th>\n",
       "      <th>Label</th>\n",
       "      <th>Notes</th>\n",
       "      <th>Category</th>\n",
       "    </tr>\n",
       "  </thead>\n",
       "  <tbody>\n",
       "    <tr>\n",
       "      <th>2269</th>\n",
       "      <td>Can you identify trends in the popularity of d...</td>\n",
       "      <td>8</td>\n",
       "      <td>Synthetic</td>\n",
       "      <td>Queries about the dataset that require SQL or ...</td>\n",
       "    </tr>\n",
       "    <tr>\n",
       "      <th>2270</th>\n",
       "      <td>How do reader reviews differ between standalon...</td>\n",
       "      <td>8</td>\n",
       "      <td>Synthetic</td>\n",
       "      <td>Queries about the dataset that require SQL or ...</td>\n",
       "    </tr>\n",
       "    <tr>\n",
       "      <th>2271</th>\n",
       "      <td>What trends can you observe in reader feedback...</td>\n",
       "      <td>8</td>\n",
       "      <td>Synthetic</td>\n",
       "      <td>Queries about the dataset that require SQL or ...</td>\n",
       "    </tr>\n",
       "    <tr>\n",
       "      <th>2272</th>\n",
       "      <td>Can you analyze how book prices differ based o...</td>\n",
       "      <td>8</td>\n",
       "      <td>Synthetic</td>\n",
       "      <td>Queries about the dataset that require SQL or ...</td>\n",
       "    </tr>\n",
       "    <tr>\n",
       "      <th>2273</th>\n",
       "      <td>I'm curious about the distribution of book len...</td>\n",
       "      <td>8</td>\n",
       "      <td>Synthetic</td>\n",
       "      <td>Queries about the dataset that require SQL or ...</td>\n",
       "    </tr>\n",
       "  </tbody>\n",
       "</table>\n",
       "</div>"
      ],
      "text/plain": [
       "                                                  Query  Label      Notes  \\\n",
       "2269  Can you identify trends in the popularity of d...      8  Synthetic   \n",
       "2270  How do reader reviews differ between standalon...      8  Synthetic   \n",
       "2271  What trends can you observe in reader feedback...      8  Synthetic   \n",
       "2272  Can you analyze how book prices differ based o...      8  Synthetic   \n",
       "2273  I'm curious about the distribution of book len...      8  Synthetic   \n",
       "\n",
       "                                               Category  \n",
       "2269  Queries about the dataset that require SQL or ...  \n",
       "2270  Queries about the dataset that require SQL or ...  \n",
       "2271  Queries about the dataset that require SQL or ...  \n",
       "2272  Queries about the dataset that require SQL or ...  \n",
       "2273  Queries about the dataset that require SQL or ...  "
      ]
     },
     "execution_count": 37,
     "metadata": {},
     "output_type": "execute_result"
    }
   ],
   "source": [
    "df.iloc[len(df)-5:]"
   ]
  },
  {
   "cell_type": "code",
   "execution_count": 30,
   "metadata": {},
   "outputs": [
    {
     "data": {
      "text/plain": [
       "\"Can you analyze how book prices differ based on the author's educational background in the Romance genre?\""
      ]
     },
     "execution_count": 30,
     "metadata": {},
     "output_type": "execute_result"
    }
   ],
   "source": [
    "df.iloc[2273][\"Query\"]\n",
    "one = re.sub(r\"^\\\"\", \"\", df.iloc[2272][\"Query\"])\n",
    "two = re.sub(r\"\\\"$\", \"\", one)\n",
    "two"
   ]
  },
  {
   "cell_type": "code",
   "execution_count": 36,
   "metadata": {},
   "outputs": [],
   "source": [
    "df[\"Query\"] = df[\"Query\"].apply(lambda x: re.sub(r\"^\\\"\", \"\", x))\n",
    "df[\"Query\"] = df[\"Query\"].apply(lambda x: re.sub(r\"\\\"$\", \"\", x))"
   ]
  },
  {
   "cell_type": "code",
   "execution_count": 18,
   "metadata": {},
   "outputs": [
    {
     "name": "stdout",
     "output_type": "stream",
     "text": [
      "<class 'pandas.core.frame.DataFrame'>\n",
      "RangeIndex: 2274 entries, 0 to 2273\n",
      "Data columns (total 4 columns):\n",
      " #   Column    Non-Null Count  Dtype \n",
      "---  ------    --------------  ----- \n",
      " 0   Query     2274 non-null   object\n",
      " 1   Label     2274 non-null   int64 \n",
      " 2   Notes     2274 non-null   object\n",
      " 3   Category  2274 non-null   object\n",
      "dtypes: int64(1), object(3)\n",
      "memory usage: 71.2+ KB\n"
     ]
    }
   ],
   "source": [
    "df.info()"
   ]
  },
  {
   "cell_type": "code",
   "execution_count": 38,
   "metadata": {},
   "outputs": [],
   "source": [
    "df.to_csv(\"intent_classifier_samples2.csv\", mode=\"w\", index=False, header=True)"
   ]
  },
  {
   "cell_type": "code",
   "execution_count": null,
   "metadata": {},
   "outputs": [],
   "source": []
  }
 ],
 "metadata": {
  "kernelspec": {
   "display_name": "venv",
   "language": "python",
   "name": "python3"
  },
  "language_info": {
   "codemirror_mode": {
    "name": "ipython",
    "version": 3
   },
   "file_extension": ".py",
   "mimetype": "text/x-python",
   "name": "python",
   "nbconvert_exporter": "python",
   "pygments_lexer": "ipython3",
   "version": "3.12.3"
  }
 },
 "nbformat": 4,
 "nbformat_minor": 2
}
