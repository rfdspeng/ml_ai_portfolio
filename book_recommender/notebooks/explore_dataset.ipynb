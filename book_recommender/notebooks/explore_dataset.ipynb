{
 "cells": [
  {
   "cell_type": "markdown",
   "id": "5485e3ca-a7ab-4f50-9718-7682bb72b263",
   "metadata": {},
   "source": [
    "# Ideas\n",
    "* Embed the descriptions\n",
    "* Embed the genres?\n",
    "* In addition to similarity search, also filter by metadata (author, rating, genres, first publishing, awards, etc.)\n",
    "* ML classifier that predicts if you will like it. Inputs are the similarity search (e.g. distance) and the metadata.\n",
    "* Heuristic for popularity: number of ratings x rating\n",
    "* Maybe the chatbot can provide a few options: most popular, most similar to your request, etc."
   ]
  },
  {
   "cell_type": "markdown",
   "id": "7d7b7954-4665-468c-a95a-170019d4fc93",
   "metadata": {},
   "source": [
    "# <u>What did I do?</u>\n",
    "* I filtered by English-language books only - I should add back in the other languages\n",
    "* I replaced null `description` in the dataframe with \"No description available.\"\n",
    "* I removed `[` and `]` from the `genres` strings\n",
    "* I concatenated `description` and `genres` into a new field `descriptor`\n",
    "* I checked the character lengths of `descriptor`\n",
    "* I saved the dataframe to pickle file\n",
    "\n",
    "# <u>Next steps</u>\n",
    "* Clean up the genres - map super-specific genres to more general genres"
   ]
  },
  {
   "cell_type": "code",
   "execution_count": 1,
   "id": "23e629be-9940-4d79-9477-ae2455ebef94",
   "metadata": {},
   "outputs": [],
   "source": [
    "import numpy as np\n",
    "import pandas as pd"
   ]
  },
  {
   "cell_type": "code",
   "execution_count": 10,
   "id": "f7293658-a5ad-43c8-86d6-d97caf53bec2",
   "metadata": {},
   "outputs": [],
   "source": [
    "df = pd.read_csv(\"books_1.Best_Books_Ever.csv\")\n",
    "# df = df.loc[df['language'] == \"English\"]\n",
    "# df = pd.read_pickle(\"bbe_12-02-2024-1557.pkl\")"
   ]
  },
  {
   "cell_type": "code",
   "execution_count": 49,
   "id": "967efcaf-9e3f-4b3c-91d4-c3c1d4ca70fa",
   "metadata": {},
   "outputs": [
    {
     "data": {
      "text/plain": [
       "language\n",
       "English                  42661\n",
       "Arabic                    1038\n",
       "Spanish                    687\n",
       "French                     579\n",
       "German                     528\n",
       "Indonesian                 371\n",
       "Portuguese                 363\n",
       "Italian                    255\n",
       "Dutch                      215\n",
       "Turkish                    211\n",
       "Persian                    164\n",
       "Polish                     138\n",
       "Greek, Modern (1453-)      112\n",
       "Russian                     98\n",
       "Swedish                     94\n",
       "Japanese                    94\n",
       "Romanian                    93\n",
       "Bengali                     84\n",
       "Malay                       74\n",
       "Bulgarian                   70\n",
       "Name: count, dtype: int64"
      ]
     },
     "execution_count": 49,
     "metadata": {},
     "output_type": "execute_result"
    }
   ],
   "source": [
    "df['language'].value_counts()[:20]"
   ]
  },
  {
   "cell_type": "code",
   "execution_count": 12,
   "id": "dd5444e1-7c6d-455d-884f-33657c874d9e",
   "metadata": {},
   "outputs": [
    {
     "data": {
      "text/html": [
       "<div>\n",
       "<style scoped>\n",
       "    .dataframe tbody tr th:only-of-type {\n",
       "        vertical-align: middle;\n",
       "    }\n",
       "\n",
       "    .dataframe tbody tr th {\n",
       "        vertical-align: top;\n",
       "    }\n",
       "\n",
       "    .dataframe thead th {\n",
       "        text-align: right;\n",
       "    }\n",
       "</style>\n",
       "<table border=\"1\" class=\"dataframe\">\n",
       "  <thead>\n",
       "    <tr style=\"text-align: right;\">\n",
       "      <th></th>\n",
       "      <th>bookId</th>\n",
       "      <th>title</th>\n",
       "      <th>series</th>\n",
       "      <th>author</th>\n",
       "      <th>rating</th>\n",
       "      <th>description</th>\n",
       "      <th>language</th>\n",
       "      <th>isbn</th>\n",
       "      <th>genres</th>\n",
       "      <th>characters</th>\n",
       "      <th>...</th>\n",
       "      <th>firstPublishDate</th>\n",
       "      <th>awards</th>\n",
       "      <th>numRatings</th>\n",
       "      <th>ratingsByStars</th>\n",
       "      <th>likedPercent</th>\n",
       "      <th>setting</th>\n",
       "      <th>coverImg</th>\n",
       "      <th>bbeScore</th>\n",
       "      <th>bbeVotes</th>\n",
       "      <th>price</th>\n",
       "    </tr>\n",
       "  </thead>\n",
       "  <tbody>\n",
       "    <tr>\n",
       "      <th>0</th>\n",
       "      <td>2767052-the-hunger-games</td>\n",
       "      <td>The Hunger Games</td>\n",
       "      <td>The Hunger Games #1</td>\n",
       "      <td>Suzanne Collins</td>\n",
       "      <td>4.33</td>\n",
       "      <td>WINNING MEANS FAME AND FORTUNE.LOSING MEANS CE...</td>\n",
       "      <td>English</td>\n",
       "      <td>9780439023481</td>\n",
       "      <td>['Young Adult', 'Fiction', 'Dystopia', 'Fantas...</td>\n",
       "      <td>['Katniss Everdeen', 'Peeta Mellark', 'Cato (H...</td>\n",
       "      <td>...</td>\n",
       "      <td>NaN</td>\n",
       "      <td>['Locus Award Nominee for Best Young Adult Boo...</td>\n",
       "      <td>6376780</td>\n",
       "      <td>['3444695', '1921313', '745221', '171994', '93...</td>\n",
       "      <td>96.0</td>\n",
       "      <td>['District 12, Panem', 'Capitol, Panem', 'Pane...</td>\n",
       "      <td>https://i.gr-assets.com/images/S/compressed.ph...</td>\n",
       "      <td>2993816</td>\n",
       "      <td>30516</td>\n",
       "      <td>5.09</td>\n",
       "    </tr>\n",
       "  </tbody>\n",
       "</table>\n",
       "<p>1 rows × 25 columns</p>\n",
       "</div>"
      ],
      "text/plain": [
       "                     bookId             title               series  \\\n",
       "0  2767052-the-hunger-games  The Hunger Games  The Hunger Games #1   \n",
       "\n",
       "            author  rating                                        description  \\\n",
       "0  Suzanne Collins    4.33  WINNING MEANS FAME AND FORTUNE.LOSING MEANS CE...   \n",
       "\n",
       "  language           isbn                                             genres  \\\n",
       "0  English  9780439023481  ['Young Adult', 'Fiction', 'Dystopia', 'Fantas...   \n",
       "\n",
       "                                          characters  ... firstPublishDate  \\\n",
       "0  ['Katniss Everdeen', 'Peeta Mellark', 'Cato (H...  ...              NaN   \n",
       "\n",
       "                                              awards numRatings  \\\n",
       "0  ['Locus Award Nominee for Best Young Adult Boo...    6376780   \n",
       "\n",
       "                                      ratingsByStars likedPercent  \\\n",
       "0  ['3444695', '1921313', '745221', '171994', '93...         96.0   \n",
       "\n",
       "                                             setting  \\\n",
       "0  ['District 12, Panem', 'Capitol, Panem', 'Pane...   \n",
       "\n",
       "                                            coverImg  bbeScore bbeVotes  price  \n",
       "0  https://i.gr-assets.com/images/S/compressed.ph...   2993816    30516   5.09  \n",
       "\n",
       "[1 rows x 25 columns]"
      ]
     },
     "execution_count": 12,
     "metadata": {},
     "output_type": "execute_result"
    }
   ],
   "source": [
    "df.head(1)"
   ]
  },
  {
   "cell_type": "code",
   "execution_count": 13,
   "id": "dc733b49-7087-4a94-99d6-30c3fef72ee9",
   "metadata": {},
   "outputs": [
    {
     "data": {
      "text/plain": [
       "Index(['bookId', 'title', 'series', 'author', 'rating', 'description',\n",
       "       'language', 'isbn', 'genres', 'characters', 'bookFormat', 'edition',\n",
       "       'pages', 'publisher', 'publishDate', 'firstPublishDate', 'awards',\n",
       "       'numRatings', 'ratingsByStars', 'likedPercent', 'setting', 'coverImg',\n",
       "       'bbeScore', 'bbeVotes', 'price'],\n",
       "      dtype='object')"
      ]
     },
     "execution_count": 13,
     "metadata": {},
     "output_type": "execute_result"
    }
   ],
   "source": [
    "df.columns"
   ]
  },
  {
   "cell_type": "code",
   "execution_count": 46,
   "id": "796f33c4",
   "metadata": {},
   "outputs": [
    {
     "data": {
      "text/plain": [
       "(array([    1,    32,    71,    93,   103,   105,   126,   409,  1332,\n",
       "         1600,  2286,  2580,  3576,  6600,  7008,  7418, 11030, 12386,\n",
       "        13817, 17744, 25596, 33871, 34781, 40794, 40815]),)"
      ]
     },
     "execution_count": 46,
     "metadata": {},
     "output_type": "execute_result"
    }
   ],
   "source": [
    "import re\n",
    "\n",
    "np.where(df[\"title\"].apply(lambda x: re.search(r\"Harry Potter\", x)))"
   ]
  },
  {
   "cell_type": "code",
   "execution_count": 42,
   "id": "6a9efd86",
   "metadata": {},
   "outputs": [
    {
     "data": {
      "text/plain": [
       "(array([1444]),)"
      ]
     },
     "execution_count": 42,
     "metadata": {},
     "output_type": "execute_result"
    }
   ],
   "source": [
    "np.where(df[\"title\"] == \"Circe\")"
   ]
  },
  {
   "cell_type": "code",
   "execution_count": 47,
   "id": "58379bb4-1386-47b8-837b-7792bf8ce18b",
   "metadata": {},
   "outputs": [
    {
     "name": "stdout",
     "output_type": "stream",
     "text": [
      "Title: Harry Potter and the Sorcerer's Stone\n",
      "\n",
      "Series: Harry Potter #1\n",
      "\n",
      "Author: J.K. Rowling, Mary GrandPré (Illustrator)\n",
      "\n",
      "Description: Harry Potter's life is miserable. His parents are dead and he's stuck with his heartless relatives, who force him to live in a tiny closet under the stairs. But his fortune changes when he receives a letter that tells him the truth about himself: he's a wizard. A mysterious visitor rescues him from his relatives and takes him to his new home, Hogwarts School of Witchcraft and Wizardry.After a lifetime of bottling up his magical powers, Harry finally feels like a normal kid. But even within the Wizarding community, he is special. He is the boy who lived: the only person to have ever survived a killing curse inflicted by the evil Lord Voldemort, who launched a brutal takeover of the Wizarding world, only to vanish after failing to kill Harry.Though Harry's first year at Hogwarts is the best of his life, not everything is perfect. There is a dangerous secret object hidden within the castle walls, and Harry believes it's his responsibility to prevent it from falling into evil hands. But doing so will bring him into contact with forces more terrifying than he ever could have imagined.Full of sympathetic characters, wildly imaginative situations, and countless exciting details, the first installment in the series assembles an unforgettable magical world and sets the stage for many high-stakes adventures to come.\n",
      "\n",
      "Genres: Fantasy, Fiction, Young Adult, Magic, Childrens, Middle Grade, Adventure, Classics, Audiobook, Science Fiction Fantasy\n",
      "\n",
      "Number of pages: 309\n",
      "\n",
      "Awards: [\"Mythopoeic Fantasy Award for Children's Literature (2008)\", \"British Book Award for Children's Book of the Year (1998)\", 'Prijs van de Nederlandse Kinderjury for 6-9 jaar en 10-12 jaar (2002)', 'American Booksellers Book Of The Year  Award for Children (1999)', 'Audie Award (2000)', \"West Australian Young Readers' Book Award (WAYRBA) for Younger Readers (2000)\", 'South Carolina Book Award for Junior Book Award (2001)', 'Grand Canyon Reader Award for Teen Book (2000)', 'Charlotte Award (2000)', 'Nene Award (2000)', \"Massachusetts Children's Book Award (2000)\", 'Colorado Blue Spruce Young Adult Book Award (2001)', 'Blue Hen Book Award for Chapter Book (2001)', \"Nevada Young Readers' Award for Young Reader Category (2000)\", 'Golden Archer Award for Middle/Junior High (2000)', 'Indian Paintbrush Book Award (2000)', 'Hotze de Roosprijs (2002)', 'Nestlé Smarties Book Prize for 9–11 years (1997)', 'Eliot Rosewater Indiana High School Book Award (2001)', 'Kinderboekwinkelprijs (1999)', 'Parenting Book of the Year Award (1998)', 'North East Teenage Book Award (1999)', \"Specsavers National Book Award for Children's Book of the Year (1998)\", 'Washington State Sasquatch Award (2000)', 'Literaturpreis der Jury der jungen Leser for Kinderbuch (1999)', 'Carnegie Medal Nominee (1997)', \"Rebecca Caudill Young Readers' Book Award (2001)\", 'Premi Protagonista Jove for Categoria 12-13 anys (2000)']\n",
      "\n",
      "Number of ratings: 7048471\n",
      "\n",
      "Rating: 4.47\n",
      "\n",
      "Ratings by stars: ['4578137', '1611874', '600384', '139551', '118525']\n",
      "\n",
      "Liked %: 96.0\n",
      "\n",
      "BBE score: 691430\n",
      "\n",
      "BBE votes: 7348\n",
      "\n"
     ]
    }
   ],
   "source": [
    "idx = 32\n",
    "print(f\"Title: {df.iloc[idx].title}\\n\")\n",
    "print(f\"Series: {df.iloc[idx].series}\\n\")\n",
    "print(f\"Author: {df.iloc[idx].author}\\n\")\n",
    "print(f\"Description: {df.iloc[idx].description}\\n\")\n",
    "print(f\"Genres: {df.iloc[idx].genres}\\n\")\n",
    "print(f\"Number of pages: {df.iloc[idx].pages}\\n\")\n",
    "print(f\"Awards: {df.iloc[idx].awards}\\n\")\n",
    "print(f\"Number of ratings: {df.iloc[idx].numRatings}\\n\")\n",
    "print(f\"Rating: {df.iloc[idx].rating}\\n\")\n",
    "print(f\"Ratings by stars: {df.iloc[idx].ratingsByStars}\\n\")\n",
    "print(f\"Liked %: {df.iloc[idx].likedPercent}\\n\")\n",
    "print(f\"BBE score: {df.iloc[idx].bbeScore}\\n\")\n",
    "print(f\"BBE votes: {df.iloc[idx].bbeVotes}\\n\")"
   ]
  },
  {
   "cell_type": "markdown",
   "id": "6d29ef94-b6b5-453b-af27-6516c47ccade",
   "metadata": {},
   "source": [
    "# <u>How do I deal with null entries?</u>\n",
    "* description - can't embed, but you should still keep these in the DB\n",
    "* For numerical fields, you'll have to find some graceful way to handle. At least number of ratings and rating has valid entries for every entry."
   ]
  },
  {
   "cell_type": "code",
   "execution_count": 14,
   "id": "1544e4ec-3718-4e99-bf1e-5c054dfd7211",
   "metadata": {},
   "outputs": [
    {
     "name": "stdout",
     "output_type": "stream",
     "text": [
      "<class 'pandas.core.frame.DataFrame'>\n",
      "RangeIndex: 52478 entries, 0 to 52477\n",
      "Data columns (total 25 columns):\n",
      " #   Column            Non-Null Count  Dtype  \n",
      "---  ------            --------------  -----  \n",
      " 0   bookId            52478 non-null  object \n",
      " 1   title             52478 non-null  object \n",
      " 2   series            23470 non-null  object \n",
      " 3   author            52478 non-null  object \n",
      " 4   rating            52478 non-null  float64\n",
      " 5   description       51140 non-null  object \n",
      " 6   language          48672 non-null  object \n",
      " 7   isbn              52478 non-null  object \n",
      " 8   genres            52478 non-null  object \n",
      " 9   characters        52478 non-null  object \n",
      " 10  bookFormat        51005 non-null  object \n",
      " 11  edition           4955 non-null   object \n",
      " 12  pages             50131 non-null  object \n",
      " 13  publisher         48782 non-null  object \n",
      " 14  publishDate       51598 non-null  object \n",
      " 15  firstPublishDate  31152 non-null  object \n",
      " 16  awards            52478 non-null  object \n",
      " 17  numRatings        52478 non-null  int64  \n",
      " 18  ratingsByStars    52478 non-null  object \n",
      " 19  likedPercent      51856 non-null  float64\n",
      " 20  setting           52478 non-null  object \n",
      " 21  coverImg          51873 non-null  object \n",
      " 22  bbeScore          52478 non-null  int64  \n",
      " 23  bbeVotes          52478 non-null  int64  \n",
      " 24  price             38113 non-null  object \n",
      "dtypes: float64(2), int64(3), object(20)\n",
      "memory usage: 10.0+ MB\n"
     ]
    }
   ],
   "source": [
    "df.info()"
   ]
  },
  {
   "cell_type": "code",
   "execution_count": 15,
   "id": "e301ea79-524b-432e-ba3e-4330c254eacc",
   "metadata": {},
   "outputs": [
    {
     "data": {
      "text/html": [
       "<div>\n",
       "<style scoped>\n",
       "    .dataframe tbody tr th:only-of-type {\n",
       "        vertical-align: middle;\n",
       "    }\n",
       "\n",
       "    .dataframe tbody tr th {\n",
       "        vertical-align: top;\n",
       "    }\n",
       "\n",
       "    .dataframe thead th {\n",
       "        text-align: right;\n",
       "    }\n",
       "</style>\n",
       "<table border=\"1\" class=\"dataframe\">\n",
       "  <thead>\n",
       "    <tr style=\"text-align: right;\">\n",
       "      <th></th>\n",
       "      <th>bookId</th>\n",
       "      <th>title</th>\n",
       "      <th>series</th>\n",
       "      <th>author</th>\n",
       "      <th>rating</th>\n",
       "      <th>description</th>\n",
       "      <th>language</th>\n",
       "      <th>isbn</th>\n",
       "      <th>genres</th>\n",
       "      <th>characters</th>\n",
       "      <th>...</th>\n",
       "      <th>firstPublishDate</th>\n",
       "      <th>awards</th>\n",
       "      <th>numRatings</th>\n",
       "      <th>ratingsByStars</th>\n",
       "      <th>likedPercent</th>\n",
       "      <th>setting</th>\n",
       "      <th>coverImg</th>\n",
       "      <th>bbeScore</th>\n",
       "      <th>bbeVotes</th>\n",
       "      <th>price</th>\n",
       "    </tr>\n",
       "  </thead>\n",
       "  <tbody>\n",
       "    <tr>\n",
       "      <th>752</th>\n",
       "      <td>1923820.Holy_Bible</td>\n",
       "      <td>Holy Bible: King James Version</td>\n",
       "      <td>NaN</td>\n",
       "      <td>Anonymous</td>\n",
       "      <td>4.41</td>\n",
       "      <td>NaN</td>\n",
       "      <td>English</td>\n",
       "      <td>9999999999999</td>\n",
       "      <td>['Religion', 'Classics', 'Nonfiction', 'Christ...</td>\n",
       "      <td>['Barabbas', 'Lucifer', 'Moses (Bible)', 'Job'...</td>\n",
       "      <td>...</td>\n",
       "      <td>10/28/11</td>\n",
       "      <td>[]</td>\n",
       "      <td>220480</td>\n",
       "      <td>['163526', '19150', '15419', '9056', '13329']</td>\n",
       "      <td>90.0</td>\n",
       "      <td>[]</td>\n",
       "      <td>https://i.gr-assets.com/images/S/compressed.ph...</td>\n",
       "      <td>9711</td>\n",
       "      <td>121</td>\n",
       "      <td>NaN</td>\n",
       "    </tr>\n",
       "  </tbody>\n",
       "</table>\n",
       "<p>1 rows × 25 columns</p>\n",
       "</div>"
      ],
      "text/plain": [
       "                 bookId                           title series     author  \\\n",
       "752  1923820.Holy_Bible  Holy Bible: King James Version    NaN  Anonymous   \n",
       "\n",
       "     rating description language           isbn  \\\n",
       "752    4.41         NaN  English  9999999999999   \n",
       "\n",
       "                                                genres  \\\n",
       "752  ['Religion', 'Classics', 'Nonfiction', 'Christ...   \n",
       "\n",
       "                                            characters  ... firstPublishDate  \\\n",
       "752  ['Barabbas', 'Lucifer', 'Moses (Bible)', 'Job'...  ...         10/28/11   \n",
       "\n",
       "    awards numRatings                                 ratingsByStars  \\\n",
       "752     []     220480  ['163526', '19150', '15419', '9056', '13329']   \n",
       "\n",
       "    likedPercent setting                                           coverImg  \\\n",
       "752         90.0      []  https://i.gr-assets.com/images/S/compressed.ph...   \n",
       "\n",
       "     bbeScore bbeVotes  price  \n",
       "752      9711      121    NaN  \n",
       "\n",
       "[1 rows x 25 columns]"
      ]
     },
     "execution_count": 15,
     "metadata": {},
     "output_type": "execute_result"
    }
   ],
   "source": [
    "df.loc[df['description'].isnull()].sort_values(by='numRatings', ascending=False).head(1)"
   ]
  },
  {
   "cell_type": "code",
   "execution_count": 16,
   "id": "404af5e3-764e-42f8-b833-6f5f23ef53df",
   "metadata": {},
   "outputs": [],
   "source": [
    "type(df['genres'].iloc[0])\n",
    "types = [type(x) for x in df['genres']]"
   ]
  },
  {
   "cell_type": "code",
   "execution_count": 17,
   "id": "cd4bdcd9-5b96-4141-879a-17f1595c2d3f",
   "metadata": {},
   "outputs": [
    {
     "name": "stdout",
     "output_type": "stream",
     "text": [
      "52478\n",
      "52478\n"
     ]
    }
   ],
   "source": [
    "types = df['genres'].apply(type)\n",
    "print(sum(types == str))\n",
    "print(len(types))"
   ]
  },
  {
   "cell_type": "markdown",
   "id": "5f54ed4e-5a0f-4483-ba2b-9b21ba5bcb72",
   "metadata": {},
   "source": [
    "# Concatenate description and genres"
   ]
  },
  {
   "cell_type": "code",
   "execution_count": 19,
   "id": "0c47384e-738a-4b2d-af1d-c6ec57ce4b83",
   "metadata": {},
   "outputs": [],
   "source": [
    "import re"
   ]
  },
  {
   "cell_type": "code",
   "execution_count": 20,
   "id": "8f5ad050-eb89-463b-8236-44872b88ffe5",
   "metadata": {},
   "outputs": [],
   "source": [
    "cleanup = re.compile(r\"\\[|\\]|'\")"
   ]
  },
  {
   "cell_type": "code",
   "execution_count": 21,
   "id": "8298b59a-0d5f-4f5f-bcb1-3b26f27e3c67",
   "metadata": {},
   "outputs": [
    {
     "data": {
      "text/plain": [
       "0    Young Adult, Fiction, Dystopia, Fantasy, Scien...\n",
       "1    Fantasy, Young Adult, Fiction, Magic, Children...\n",
       "2    Classics, Fiction, Historical Fiction, School,...\n",
       "3    Classics, Fiction, Romance, Historical Fiction...\n",
       "4    Young Adult, Fantasy, Romance, Vampires, Ficti...\n",
       "Name: genres, dtype: object"
      ]
     },
     "execution_count": 21,
     "metadata": {},
     "output_type": "execute_result"
    }
   ],
   "source": [
    "df['genres'] = df['genres'].apply(lambda x: re.sub(cleanup, \"\", x))\n",
    "df['genres'].head()"
   ]
  },
  {
   "cell_type": "code",
   "execution_count": 22,
   "id": "b484f766-4ce2-490c-86ce-d15d21c828ab",
   "metadata": {},
   "outputs": [
    {
     "data": {
      "text/plain": [
       "['Young Adult',\n",
       " 'Fiction',\n",
       " 'Dystopia',\n",
       " 'Fantasy',\n",
       " 'Science Fiction',\n",
       " 'Romance',\n",
       " 'Adventure',\n",
       " 'Teen',\n",
       " 'Post Apocalyptic',\n",
       " 'Action']"
      ]
     },
     "execution_count": 22,
     "metadata": {},
     "output_type": "execute_result"
    }
   ],
   "source": [
    "re.split(r\",\\s*\", df['genres'].iloc[0])"
   ]
  },
  {
   "cell_type": "code",
   "execution_count": 23,
   "id": "a0f3d706-a1f9-49d9-b174-37d69ad7a324",
   "metadata": {},
   "outputs": [
    {
     "data": {
      "text/plain": [
       "0    [Young Adult, Fiction, Dystopia, Fantasy, Scie...\n",
       "1    [Fantasy, Young Adult, Fiction, Magic, Childre...\n",
       "2    [Classics, Fiction, Historical Fiction, School...\n",
       "3    [Classics, Fiction, Romance, Historical Fictio...\n",
       "4    [Young Adult, Fantasy, Romance, Vampires, Fict...\n",
       "Name: genres_list, dtype: object"
      ]
     },
     "execution_count": 23,
     "metadata": {},
     "output_type": "execute_result"
    }
   ],
   "source": [
    "# df['genres_list'] = df['genres'].apply(lambda x: re.split(\",\", re.sub(r\"\\s+\", \"\", x)))\n",
    "df['genres_list'] = df['genres'].apply(lambda x: re.split(r\",\\s*\", x))\n",
    "df['genres_list'].head()"
   ]
  },
  {
   "cell_type": "code",
   "execution_count": 24,
   "id": "82618beb-6abe-48fd-81ab-0a0b9ab24401",
   "metadata": {},
   "outputs": [
    {
     "name": "stdout",
     "output_type": "stream",
     "text": [
      "['', 'Rock N Roll', 'Design', 'Stories', 'Christian Non Fiction', 'Harlequin Romance', 'Human Resources', 'Elves', 'Academic', 'The World', 'Strippers', 'African American Romance', 'Own', 'Belief', 'Albanian Literature', 'Chapter Books', 'Ghost Stories', 'Jokes', 'Serbian Literature', 'Reverse Harem', 'Food and Drink', 'Satanism', 'Art and Photography', 'Christian Fiction', 'Us Presidents', 'Mysticism', 'Google', 'Fitness', 'Cultural', 'Menage', 'Military Romance', 'Finnish Literature', 'Social Movements', 'Aircraft', 'Unicorns', 'Creation Science', 'Academics', 'Traditional Regency', 'Journal', 'Harlequin', 'Yeti', 'Baha I', 'Adult', 'World Of Warcraft', 'Multicultural Literature', 'Post Apocalyptic', 'Paranormal', 'How To', 'France', 'Entrepreneurship', 'Self Help', 'Football', 'Surreal', 'Arthurian', 'Paranormal Urban Fantasy', 'Scotland', 'Utopia', 'Urban', 'Skepticism', 'Graphic Novels Manga', 'International Development', 'Family', 'Mormonism', 'Mixed Martial Arts', 'Climate Change', 'Crime', 'Research', 'Anthologies', 'Nutrition', 'Social Justice', 'Metaphysics', 'Road Trip', 'Shounen Ai', 'Atlases', 'Fat Acceptance', 'Polish Literature', 'Marvel', 'Growth Mindset', 'Lenin', 'Pilots', 'Holiday', 'Folklore', 'Singularity', 'Wizards', 'Polyamory', 'Computers', 'Visual Art', 'Semiotics', 'Internet', 'Software', 'World Of Darkness', 'Information Science', 'Zimbabwe', 'Pulp', 'Classical Studies', 'Video Games', 'Colouring Books', '13th Century', 'Cuisine', 'Education', 'Prehistory', 'Russian History', 'World War II', 'Amazon', 'Dying Earth', 'American', 'Website Design', 'M M Historical Romance', 'Wolves', 'M M Sports Romance', 'Green', 'Racing', 'Medicine', 'Punk', 'Punx', 'Nature', 'African Literature', 'Gender Studies', 'Chemistry', 'Regency', 'African American', 'Star Trek Original Series', 'Sex Work', 'Genderqueer', 'Poetry Plays', 'Medieval History', 'Cozy Mystery', 'Technical', 'Mine', 'The Americas', 'Love', 'Realistic Fiction', 'Bande Dessinée', 'German Literature', 'Muslims', 'Gender', 'Babylon 5', 'Forgotten Realms', 'Prayer', 'Travelogue', 'Musicians', 'Mozambique', 'Christmas', 'Lesbian', 'Zambia', 'Young Adult Fantasy', '15th Century', 'Urban Fantasy', 'Comics Manga', '17th Century', 'Bicycles', 'Far Right', 'Science Fiction', 'Horses', 'Ornithology', 'Battle Of Britain', 'Crafts', 'Adoption', 'Ethnography', 'Cartoon', 'Hard Boiled', 'Komik', 'Nigeria', 'History and Politics', 'Woodwork', 'Senegal', '21st Century', 'Western Romance', 'Popular Science', 'Memoir', 'Relationships', 'Alchemy', 'Plants', 'Quilting', 'Figure Skating', 'Soviet Union', 'Erotic Paranormal Romance', 'Israel', 'Society', 'Mental Illness', 'Transport', 'Dark', 'Fantasy Of Manners', 'Poland', 'Personal Development', 'Folk Tales', 'Category Romance', 'God', 'Erotic Historical Romance', 'Emergency Services', 'Harlequin Teen', 'Quantum Mechanics', 'Germany', 'Wicca', 'French Revolution', 'Astronomy', 'Tasmania', 'Disease', 'Pornography', 'Futuristic Romance', 'Doctor Who', 'Naturopathy', 'Love Inspired Suspense', 'Russian Literature', 'Psychoanalysis', 'Fostering', 'Webcomic', 'Music', 'Paranormal Romance', 'Evangelism', 'Leadership', 'Shonen', 'Dictionaries', 'Biblical', 'Anthropomorphic', 'Splatterpunk', 'Supernatural', 'Angels', 'Geology', 'Prehistoric', 'Cocktails', 'Planetary Romance', 'Horror', 'Personal Finance', 'Fire Services', 'Reference', 'Gay Erotica', 'Business', 'Plays', 'Wildlife', 'United States', 'Prostitution', 'Birds', 'Tarot', 'Food History', 'Global Warming', 'Modern', 'Japanese History', 'Cultural Studies', 'Comedy', 'Irish Literature', 'Peak Oil', 'Did Not Finish', 'Comic Strips', 'Sustainability', 'Historical Fantasy', 'Cats', 'Goddess', 'Finance', 'True Story', 'Parenting', 'Aviation', 'Fat Studies', 'Climate Change Fiction', 'Islam', 'Romantic Suspense', 'Lesbian Fiction', 'Low Fantasy', 'Read For School', 'Boarding School', 'Fan Fiction', 'Language', 'Comedian', 'Disability Studies', 'Books About Books', 'Ancient History', 'Harlequin Nocturne', 'Sierra Leone', 'Anglo Saxon', 'Noir', 'Diary', 'Benin', 'Vaccines', 'Childrens', 'Alternate Universe', 'Graphic Novels', 'Disability', 'Native Americans', 'Demons', 'Geography', 'Taxation', 'New Adult Romance', 'Trivia', 'World History', 'Superman', 'Brain', 'Apple', 'History Of Medicine', 'Nobel Prize', 'Students', 'Gods', 'Food Preservation', 'Musicals', 'Historical', '10th Century', 'M F M', 'Australia', 'Scandinavian Literature', 'Bulgarian Literature', 'Georgian', 'Dark Fantasy', 'Sewing', 'Italian Literature', 'Biography Memoir', 'Lebanon', 'Stand Up', 'Political Science', 'LGBT', 'Steampunk', 'Soldiers', 'Mills and Boon', 'New Adult', 'Somalia', 'Food Writing', 'American Civil War', 'Amish', 'Egypt', 'Naval History', 'Money', 'Tea', 'Lie', 'Banking', 'Sexuality', 'Collections', 'Georgian Romance', 'Ethiopia', 'Alexandria', 'Civil War', 'Magic', 'Military Science Fiction', 'Jewish', 'Pirates', 'Egyptian Literature', 'Social Work', 'Film', 'Native American History', 'Womens', 'Modern Classics', 'Japan', 'Black Literature', 'Art', 'Algorithms', 'Guidebook', 'Pakistan', 'Amateur Sleuth', 'Anthropology', 'Science Fiction Fantasy', 'Indian Literature', 'Classics', 'Church', 'Dragonlance', 'Erotic Romance', 'Spanish Literature', 'Comics', 'Intelligent Design', 'Games', 'Asia', 'Urbanism', 'Cryptozoology', 'Denmark', 'Health Care', 'Cartography', 'Transgender', 'Discipleship', 'Manhwa', 'Helicopters', 'M M Science Fiction', 'Swashbuckling', 'Romanticism', 'Thelema', 'Spirituality', 'Nursing', 'Judaica', 'Hungarian Literature', 'Namibia', 'Westerns', 'Unfinished', 'Vampires', 'Butch Femme', 'Logic', 'Slash Fiction', 'English Civil War', 'Canada', 'Hockey', 'Cycling', 'Tv', 'Productivity', 'Microhistory', 'Wine', 'Linguistics', 'M M Contemporary', 'The United States Of America', 'Morocco', 'Post Colonial', 'Geek', 'Eastern Philosophy', 'Historical Fiction', 'Animal Fiction', 'Tanzania', 'Inspirational', 'Portuguese Literature', 'Cultural Heritage', 'Paganism', 'Love Story', 'Comic Book', 'Amish Fiction', 'Slice Of Life', 'Picture Books', 'Cookbooks', 'Nordic Noir', 'Mountaineering', 'Firefighters', 'Aeroplanes', 'Sword and Sorcery', 'Portugal', 'Social Media', 'Spanish Civil War', 'Christian', 'Seinen', 'Nursery Rhymes', 'Omegaverse', 'Foodie', 'Medieval Romance', 'Swedish Literature', 'Health', 'Academia', 'Divorce', 'Go', 'Italy', 'Southern Gothic', 'Theosophy', 'Space Opera', 'American Fiction', 'Asian Literature', 'Ecclesiology', 'Graffiti', 'Buffy The Vampire Slayer', 'Tudor Period', 'Genetics', 'Intersex', 'Esp', 'Teen', 'Botswana', 'Romance', 'Monsters', 'Gothic Horror', 'Naval Historical Fiction', 'Social', 'Palaeontology', 'Uganda', '19th Century', 'True Crime', 'Christian Fantasy', 'History', 'Professors', 'Esoterica', 'Plus Size', 'Ancient', 'Spider Man', 'Childrens Classics', 'Gamebooks', 'Hip Hop', 'Guinea', 'Gardening', 'Journaling', 'Poverty', 'Airships', '16th Century', 'Holocaust', 'Gay Fiction', 'Sword and Planet', 'Mystery Thriller', 'Cthulhu Mythos', 'Libya', 'Western Africa', 'Fae', 'London Underground', 'Theology', 'American Revolution', 'Comix', 'Historical Mystery', 'Cameroon', 'Classical Music', 'Foster Parents', 'Hard Science Fiction', 'Spiritualism', 'Romania', 'Star Trek', 'Malawi', 'Humor', 'Magick', 'Booze', 'Robots', 'Ivory Coast', 'European Literature', 'Words', 'Bizarro Fiction', 'Museums', 'Shojo', 'Drawing', 'Reportage', 'Librarianship', 'Library Science', 'Beauty and The Beast', 'Epic Fantasy', 'International', 'Novels', 'Numerology', 'Goth', 'Divination', 'Womens Studies', '20th Century', 'Animals', 'Bolivia', 'Young Adult Paranormal', 'Nerd', 'Hqn', 'Science', 'Teachers', 'Judaism', 'Audiobook', 'Algebra', 'Chess', 'Cryptids', 'Republic Of The Congo', 'Cross Dressing', 'Danish', 'Spain', 'Geoffrey Chaucer', 'Vegan', 'History Of Science', 'Dungeons and Dragons', 'Americana', 'Motorcycle', 'Silhouette', 'Management', 'Sweden', 'Greek Mythology', 'Dutch Literature', 'Railways', 'Recreation', 'Fighters', 'Mermaids', 'BDSM', 'Herbs', 'Choose Your Own Adventure', 'Sudan', 'Queer Lit', 'Greece', 'Horticulture', 'Romantic', 'Human Development', 'Stuart', 'Werewolves', 'Muslimah', 'Astrology', 'Science Nature', 'School', 'Manga', 'Survival', 'Knitting', 'Latin American History', 'Royal Air Force', 'Polyamorous', 'Roman', 'M M Paranormal', 'Russia', 'Puzzles', 'Gaming', 'Government', 'Espionage', 'Mail Order Brides', 'Emotion', '漫画', 'Northern Africa', 'Web', 'Latin American Literature', 'Psychiatry', 'Vegetarian', 'Witches', 'Mmorpg', 'American History', 'High Fantasy', 'Epic', 'Social Science', 'Medical', 'NSFW', 'Ecology', 'Brewing', 'Earth Sciences', 'Role Playing Games', 'Conservation', 'Romanian Literature', 'Agriculture', 'Hackers', 'Lds Fiction', 'Wonder Woman', 'Queer Studies', 'Christian Living', 'Paramedics', 'Literature', 'Lds', 'Lesbian Romance', 'Politics', 'Grad School', 'Scripture', 'Futuristic', 'Computer Science', 'Zen', 'International Relations', 'Aspergers', 'Polygamy', 'Fantasy Romance', 'Counting', 'Rus', 'Drama', 'Tragedy', 'Harlequin Blaze', 'Deception', 'Halloween', 'Ghosts', 'Legal Thriller', 'Martial Arts', 'Gothic Romance', 'Civil War Eastern Theater', 'Retellings', 'Science Fiction Romance', 'Sequential Art', 'Harlequin Desire', 'Adolescence', 'Warriors', 'Shapeshifters', 'Algeria', 'Counselling', 'Space', 'Military History', 'Foster Children', 'Middle Grade', 'Historical Romance', 'Female Authors', 'War', 'Horse Racing', 'Lds Non Fiction', 'Old Testament', 'New Testament', 'Viking Romance', 'Hugo Awards', 'Harlequin Heartwarming', 'Cinderella', 'Walking', 'Rabbits', 'Princesses', 'Queer', 'Graphic Novels Comics', 'Kenya', 'Burundi', 'Maps', 'Spanish History', '14th Century', 'Dc Comics', 'Sociology', 'Pre K', 'Cults', 'Southern', 'Short Stories', 'Czech Literature', 'Race', 'Biography', 'Homeschool', 'Labor', 'Spy Thriller', 'Fandom', 'Batman', 'Art Design', 'Criticism', 'Marathi', 'Gothic', 'Alternate History', 'Indonesian Literature', 'Anti Racist', 'Read For College', 'Motorcycling', 'Ukrainian Literature', 'Plantagenet', 'Pseudoscience', 'English Literature', 'Urban Planning', 'Civil War History', 'Sci Fi Fantasy', 'Anime', 'Technology', 'Juvenile', 'Dogs', 'Thriller', 'Social Change', 'Womens Fiction', 'Togo', 'Roman Britain', 'American Revolutionary War', 'Love Inspired', 'Favorites', 'Young Adult', '40k', 'Field Guides', 'Whodunit', 'Money Management', 'Catholic', 'Contemporary Romance', 'Latin American', 'Aliens', 'Teaching', 'Programming', 'Back To School', 'Fairy Tales', 'Mental Health', 'Communication', 'Young Adult Romance', 'Museology', 'Nazi Party', 'Detective', 'Beer', 'Dystopia', 'Military Fiction', 'Feminist Theory', 'Love Inspired Historical', 'Music Biography', 'School Stories', 'Central Africa', 'Literary Fiction', 'Speculative Fiction', 'Archaeology', 'Sao Tome and Principe', 'Turkish', 'Clean Romance', 'Supernatural Romance', 'Bulgaria', 'Canon', 'Comics Bd', 'Angola', 'Law', 'Islamism', 'Illness', 'Star Trek Voyager', 'Theatre', 'Diets', 'Young Readers', 'Mali', 'Comic Fantasy', 'African American Literature', 'Psychology', 'Mathematics', 'Presidents', 'Evolution', 'Canadian Literature', 'Medieval', 'Murder Mystery', 'Artificial Intelligence', 'Soviet History', 'Gastronomy', 'Pre Raphaelite', 'Heroic Fantasy', 'Art History', 'Rwanda', 'Conspiracy Theories', 'Vegetarianism', 'Paranormal Mystery', 'Guides', 'Short Story Collection', 'Holland', 'Fables', 'New Weird', 'Abuse', 'Yuri', 'Jewellery', 'Loveswept', 'Alternative Medicine', 'Magical Realism', 'Virtual Reality', 'Trains', 'Romanovs', 'Faith', 'World War I', 'Writing', 'Yaoi', 'Christian Historical Fiction', 'Classic Literature', 'Book Club', 'French Literature', 'Class', 'Asexual', '1st Grade', 'Eritrea', 'Fantasy', 'Storytime', 'Fractured Fairy Tales', 'Biblical Fiction', 'Journalism', 'Taoism', 'Counter Culture', 'Novella', 'Western Historical Romance', 'High School', 'Coding', 'Gender and Sexuality', 'Drinking', 'Futurism', 'Buddhism', 'M M M', 'Fairy Tale Retellings', 'Edwardian', 'Liberia', 'Cities', 'Weird West', 'Dinosaurs', 'Moroccan', 'Mythology', 'Cars', 'M M Romance', 'Iran', 'Poetry', 'Kids', 'Traditional Chinese Medicine', 'Light Novel', 'Star Wars', 'Young Adult Historical Fiction', 'Death', 'Regency Romance', '12th Century', 'Police', 'Wilderness', '18th Century', 'Banks', 'Elizabethan Period', 'Electrical Engineering', 'Biology', 'Josei', 'Jazz', 'Anti Intellectualism', 'Sports Romance', 'M M Fantasy', 'Adult Fiction', 'Graphic Novels Comics Manga', 'Young Adult Science Fiction', 'Essays', 'Victorian Romance', 'Terrorism', 'British Literature', 'Activism', 'Soccer', 'Church History', 'Mary Shelley', 'Epic Poetry', 'Warcraft', 'Mira', 'Star Trek The Next Generation', 'Hinduism', 'Ukraine', 'Sports', 'Cult Classics', 'M F Romance', 'Food', 'Travel', 'Gay For You', 'Geometry', 'Physics', 'Doctors', 'Street Art', 'Dragons', 'Ireland', 'Economics', 'Eastern Africa', 'Feminism', 'Star Trek Deep Space Nine', 'Religion', 'Cooking', 'Hungary', 'Fiction', 'Anarchism', '11th Century', 'Action', 'American Classics', 'India', 'Christian Romance', 'Outdoors', 'Time Travel Romance', 'Kazakhstan', 'South Africa', 'M M Young Adult', 'Victorian', 'Fashion', 'Media Tie In', 'China', 'Mystery', 'Gay', 'Photography', 'Suspense', 'Superheroes', 'Literary Criticism', 'Russian Revolution', 'International Literature', 'Oral History', 'Brazil', 'Weird Fiction', 'Japanese Literature', 'Culinary', 'Frugal', 'Young Adult Contemporary', 'Erotica', 'Marriage', 'Belgian', 'New York', 'Witchcraft', 'Time Travel', '2nd Grade', 'Fat', 'Bangladesh', 'Occult', 'Textbooks', 'Golden Age Mystery', 'Christian Contemporary Fiction', 'Social Issues', 'Victor Frankenstein', 'College', 'Zombies', 'Bisexual', 'Led Zeppelin', 'New Age', 'Architecture', 'Planets', 'Game Design', 'Urban Studies', 'Norman', 'Lovecraftian', 'Fairies', 'X Men', 'Alcohol', 'Erotic Horror', 'Turkish Literature', 'Psychological Thriller', 'Harlequin Presents', 'Near Future', 'Christianity', 'M M F', 'Coming Of Age', 'Autobiography', 'Buisness', 'Apocalyptic', 'Harlequin Historical', 'Belgium', 'Nonfiction', 'Banned Books', 'Chick Lit', 'Maritime', 'Number', 'Contemporary', 'Boys Love', 'Battle Of Gettysburg', 'Neuroscience', 'Ghana', 'Chinese Literature', 'Theory', 'Fundamentalism', 'Pop Culture', 'Manga Romance', 'Environment', 'Interracial Romance', 'Engineering', 'Climbing', 'Atheism', 'Africa', 'Humanities', 'European History', 'Buses', 'Basketball', 'Adventure', 'Natural History', 'Philosophy', 'Egyptology', 'M M Mystery', 'Cyberpunk', 'Usability', 'Baseball', 'Harem']\n"
     ]
    }
   ],
   "source": [
    "# genres_total = []\n",
    "# for idx in range(len(df['genres_list'])):\n",
    "#     genres_total = genres_total + df['genres_list'].iloc[idx]\n",
    "\n",
    "from itertools import chain\n",
    "\n",
    "genres_total = list(chain.from_iterable(df['genres_list']))\n",
    "\n",
    "genres_set = list(set(genres_total))\n",
    "print(genres_set)"
   ]
  },
  {
   "cell_type": "code",
   "execution_count": 25,
   "id": "9276a56d-0328-47a4-a66e-85bab941a22a",
   "metadata": {},
   "outputs": [],
   "source": [
    "genres_total = pd.DataFrame(genres_total)"
   ]
  },
  {
   "cell_type": "code",
   "execution_count": 36,
   "id": "d4a11d37-8226-4ee3-9d46-e316cea505f8",
   "metadata": {},
   "outputs": [
    {
     "data": {
      "image/png": "[encoded data removed]",
      "text/plain": [
       "<Figure size 2000x1000 with 1 Axes>"
      ]
     },
     "metadata": {},
     "output_type": "display_data"
    }
   ],
   "source": [
    "import matplotlib.pyplot as plt\n",
    "\n",
    "# fig, ax = plt.subplots(nrows=1, ncols=1, figsize=(20,10))\n",
    "# genres_count = genres_total.value_counts()\n",
    "# genres_count[genres_count > 5000].plot.bar()\n",
    "\n",
    "fig, ax = plt.subplots(nrows=1, ncols=1, figsize=(20,10))\n",
    "genres_count = genres_total.value_counts()/len(genres_total)*100\n",
    "genres_count[:20].plot.bar()\n",
    "genres_count.to_csv(\"genres_count.csv\")"
   ]
  },
  {
   "cell_type": "code",
   "execution_count": 19,
   "id": "5bfc66d5-1455-480e-8331-759f5685bdfe",
   "metadata": {},
   "outputs": [],
   "source": [
    "df[\"description\"] = df[\"description\"].fillna(\"No description available.\")\n",
    "df[\"genres\"] = df[\"genres\"].fillna(\"No genres listed.\")"
   ]
  },
  {
   "cell_type": "code",
   "execution_count": 21,
   "id": "fae5e30f-457a-44e0-8573-d9bb7a71b1f8",
   "metadata": {},
   "outputs": [
    {
     "name": "stdout",
     "output_type": "stream",
     "text": [
      "Description: WINNING MEANS FAME AND FORTUNE.LOSING MEANS CERTAIN DEATH.THE HUNGER GAMES HAVE BEGUN. . . .In the ruins of a place once known as North America lies the nation of Panem, a shining Capitol surrounded by twelve outlying districts. The Capitol is harsh and cruel and keeps the districts in line by forcing them all to send one boy and once girl between the ages of twelve and eighteen to participate in the annual Hunger Games, a fight to the death on live TV.Sixteen-year-old Katniss Everdeen regards it as a death sentence when she steps forward to take her sister's place in the Games. But Katniss has been close to dead before—and survival, for her, is second nature. Without really meaning to, she becomes a contender. But if she is to win, she will have to start making choices that weight survival against humanity and life against love.\n",
      "Genres: Young Adult, Fiction, Dystopia, Fantasy, Science Fiction, Romance, Adventure, Teen, Post Apocalyptic, Action\n"
     ]
    }
   ],
   "source": [
    "print(f\"Description: {df.iloc[0].description}\\nGenres: {df.iloc[0].genres}\")"
   ]
  },
  {
   "cell_type": "code",
   "execution_count": 22,
   "id": "12ca3e96-dde8-4cd8-9029-7fdced4a7106",
   "metadata": {},
   "outputs": [],
   "source": [
    "df[\"descriptor\"] = df.apply(lambda x: f\"Description: {x.description}\\nGenres: {x.genres}\", axis=1)"
   ]
  },
  {
   "cell_type": "code",
   "execution_count": 23,
   "id": "26d94f2a-f82f-44b8-98a4-6e97f7025b3b",
   "metadata": {},
   "outputs": [
    {
     "name": "stdout",
     "output_type": "stream",
     "text": [
      "Description: WINNING MEANS FAME AND FORTUNE.LOSING MEANS CERTAIN DEATH.THE HUNGER GAMES HAVE BEGUN. . . .In the ruins of a place once known as North America lies the nation of Panem, a shining Capitol surrounded by twelve outlying districts. The Capitol is harsh and cruel and keeps the districts in line by forcing them all to send one boy and once girl between the ages of twelve and eighteen to participate in the annual Hunger Games, a fight to the death on live TV.Sixteen-year-old Katniss Everdeen regards it as a death sentence when she steps forward to take her sister's place in the Games. But Katniss has been close to dead before—and survival, for her, is second nature. Without really meaning to, she becomes a contender. But if she is to win, she will have to start making choices that weight survival against humanity and life against love.\n",
      "Genres: Young Adult, Fiction, Dystopia, Fantasy, Science Fiction, Romance, Adventure, Teen, Post Apocalyptic, Action\n",
      "------------------------------------------------\n",
      "Description: There is a door at the end of a silent corridor. And it’s haunting Harry Pottter’s dreams. Why else would he be waking in the middle of the night, screaming in terror?Harry has a lot on his mind for this, his fifth year at Hogwarts: a Defense Against the Dark Arts teacher with a personality like poisoned honey; a big surprise on the Gryffindor Quidditch team; and the looming terror of the Ordinary Wizarding Level exams. But all these things pale next to the growing threat of He-Who-Must-Not-Be-Named - a threat that neither the magical government nor the authorities at Hogwarts can stop.As the grasp of darkness tightens, Harry must discover the true depth and strength of his friends, the importance of boundless loyalty, and the shocking price of unbearable sacrifice.His fate depends on them all.\n",
      "Genres: Fantasy, Young Adult, Fiction, Magic, Childrens, Adventure, Audiobook, Middle Grade, Classics, Science Fiction Fantasy\n",
      "------------------------------------------------\n",
      "Description: The unforgettable novel of a childhood in a sleepy Southern town and the crisis of conscience that rocked it, To Kill A Mockingbird became both an instant bestseller and a critical success when it was first published in 1960. It went on to win the Pulitzer Prize in 1961 and was later made into an Academy Award-winning film, also a classic.Compassionate, dramatic, and deeply moving, To Kill A Mockingbird takes readers to the roots of human behavior - to innocence and experience, kindness and cruelty, love and hatred, humor and pathos. Now with over 18 million copies in print and translated into forty languages, this regional story by a young Alabama woman claims universal appeal. Harper Lee always considered her book to be a simple love story. Today it is regarded as a masterpiece of American literature.\n",
      "Genres: Classics, Fiction, Historical Fiction, School, Literature, Young Adult, Historical, Novels, Read For School, High School\n",
      "------------------------------------------------\n",
      "Description: Alternate cover edition of ISBN 9780679783268Since its immediate success in 1813, Pride and Prejudice has remained one of the most popular novels in the English language. Jane Austen called this brilliant work \"her own darling child\" and its vivacious heroine, Elizabeth Bennet, \"as delightful a creature as ever appeared in print.\" The romantic clash between the opinionated Elizabeth and her proud beau, Mr. Darcy, is a splendid performance of civilized sparring. And Jane Austen's radiant wit sparkles as her characters dance a delicate quadrille of flirtation and intrigue, making this book the most superb comedy of manners of Regency England.\n",
      "Genres: Classics, Fiction, Romance, Historical Fiction, Literature, Historical, Novels, Historical Romance, Classic Literature, Adult\n",
      "------------------------------------------------\n",
      "Description: About three things I was absolutely positive.\n",
      "\n",
      "First, Edward was a vampire.\n",
      "\n",
      "Second, there was a part of him—and I didn't know how dominant that part might be—that thirsted for my blood.\n",
      "\n",
      "And third, I was unconditionally and irrevocably in love with him.\n",
      "\n",
      "Deeply seductive and extraordinarily suspenseful, Twilight is a love story with bite.\n",
      "Genres: Young Adult, Fantasy, Romance, Vampires, Fiction, Paranormal, Paranormal Romance, Supernatural, Teen, Urban Fantasy\n",
      "------------------------------------------------\n"
     ]
    }
   ],
   "source": [
    "for idx in range(5):\n",
    "    print(df[\"descriptor\"].iloc[idx])\n",
    "    print(\"------------------------------------------------\")"
   ]
  },
  {
   "cell_type": "code",
   "execution_count": 24,
   "id": "57f71463-b248-46d5-9f9c-e0eb1c162b9e",
   "metadata": {},
   "outputs": [],
   "source": [
    "df_no_description = df.loc[df[\"description\"] == \"No description available.\"]"
   ]
  },
  {
   "cell_type": "code",
   "execution_count": 25,
   "id": "7d4927e5-3169-40b4-96bf-433c9206391d",
   "metadata": {},
   "outputs": [
    {
     "name": "stdout",
     "output_type": "stream",
     "text": [
      "Description: No description available.\n",
      "Genres: Poetry, Classics, Fiction, Literature, American, 19th Century, Philosophy, Classic Literature, School, The United States Of America\n",
      "------------------------------------------------\n",
      "Description: No description available.\n",
      "Genres: Poetry, Classics, Fiction, American, Literature, LGBT, 20th Century, Queer, Banned Books, School\n",
      "------------------------------------------------\n",
      "Description: No description available.\n",
      "Genres: Religion, Nonfiction, Lds, Church, Spirituality, History, Inspirational, Classics, Reference, Christian\n",
      "------------------------------------------------\n",
      "Description: No description available.\n",
      "Genres: Religion, Classics, Nonfiction, Christian, Christianity, History, Philosophy, Reference, Spirituality, Theology\n",
      "------------------------------------------------\n",
      "Description: No description available.\n",
      "Genres: Fiction, Classics, Novels, Literature, Contemporary, Literary Fiction, New York, American, 20th Century, Humor\n",
      "------------------------------------------------\n"
     ]
    }
   ],
   "source": [
    "for idx in range(5):\n",
    "    print(df_no_description[\"descriptor\"].iloc[idx])\n",
    "    print(\"------------------------------------------------\")"
   ]
  },
  {
   "cell_type": "code",
   "execution_count": 26,
   "id": "704bf0c9-a5e3-4f8a-87e8-6cff9f98766f",
   "metadata": {},
   "outputs": [],
   "source": [
    "df[\"descriptor_lengths\"] = df[\"descriptor\"].apply(len)"
   ]
  },
  {
   "cell_type": "code",
   "execution_count": 27,
   "id": "1cb9455d-695c-4861-a909-74ede94cd0d5",
   "metadata": {},
   "outputs": [
    {
     "data": {
      "text/plain": [
       "count    42661.000000\n",
       "mean       973.198167\n",
       "std        542.042843\n",
       "min         27.000000\n",
       "25%        638.000000\n",
       "50%        915.000000\n",
       "75%       1206.000000\n",
       "max      24755.000000\n",
       "Name: descriptor_lengths, dtype: float64"
      ]
     },
     "execution_count": 27,
     "metadata": {},
     "output_type": "execute_result"
    }
   ],
   "source": [
    "df[\"descriptor_lengths\"].describe()"
   ]
  },
  {
   "cell_type": "code",
   "execution_count": 28,
   "id": "8ac917c0-fe51-46c4-9b09-297c1aea0ed2",
   "metadata": {},
   "outputs": [
    {
     "data": {
      "text/html": [
       "<div>\n",
       "<style scoped>\n",
       "    .dataframe tbody tr th:only-of-type {\n",
       "        vertical-align: middle;\n",
       "    }\n",
       "\n",
       "    .dataframe tbody tr th {\n",
       "        vertical-align: top;\n",
       "    }\n",
       "\n",
       "    .dataframe thead th {\n",
       "        text-align: right;\n",
       "    }\n",
       "</style>\n",
       "<table border=\"1\" class=\"dataframe\">\n",
       "  <thead>\n",
       "    <tr style=\"text-align: right;\">\n",
       "      <th></th>\n",
       "      <th>bookId</th>\n",
       "      <th>title</th>\n",
       "      <th>series</th>\n",
       "      <th>author</th>\n",
       "      <th>rating</th>\n",
       "      <th>description</th>\n",
       "      <th>language</th>\n",
       "      <th>isbn</th>\n",
       "      <th>genres</th>\n",
       "      <th>characters</th>\n",
       "      <th>...</th>\n",
       "      <th>ratingsByStars</th>\n",
       "      <th>likedPercent</th>\n",
       "      <th>setting</th>\n",
       "      <th>coverImg</th>\n",
       "      <th>bbeScore</th>\n",
       "      <th>bbeVotes</th>\n",
       "      <th>price</th>\n",
       "      <th>genres_list</th>\n",
       "      <th>descriptor</th>\n",
       "      <th>descriptor_lengths</th>\n",
       "    </tr>\n",
       "  </thead>\n",
       "  <tbody>\n",
       "    <tr>\n",
       "      <th>18912</th>\n",
       "      <td>17857619-spiritus-mundi</td>\n",
       "      <td>Spiritus Mundi</td>\n",
       "      <td>Spiritus Mundi #1</td>\n",
       "      <td>Robert Sheppard (Goodreads Author)</td>\n",
       "      <td>4.00</td>\n",
       "      <td>Spiritus Mundi by Robert Sheppard, nominated f...</td>\n",
       "      <td>English</td>\n",
       "      <td>9999999999999</td>\n",
       "      <td></td>\n",
       "      <td>[]</td>\n",
       "      <td>...</td>\n",
       "      <td>['7', '4', '1', '0', '2']</td>\n",
       "      <td>86.0</td>\n",
       "      <td>[]</td>\n",
       "      <td>https://i.gr-assets.com/images/S/compressed.ph...</td>\n",
       "      <td>100</td>\n",
       "      <td>1</td>\n",
       "      <td>NaN</td>\n",
       "      <td>[]</td>\n",
       "      <td>Description: Spiritus Mundi by Robert Sheppard...</td>\n",
       "      <td>24755</td>\n",
       "    </tr>\n",
       "    <tr>\n",
       "      <th>22017</th>\n",
       "      <td>17857704-spiritus-mundi---the-romance</td>\n",
       "      <td>Spiritus Mundi - The Romance</td>\n",
       "      <td>Spiritus Mundi #2</td>\n",
       "      <td>Robert Sheppard (Goodreads Author)</td>\n",
       "      <td>3.92</td>\n",
       "      <td>Spiritus Mundi by Robert Sheppard, nominated f...</td>\n",
       "      <td>English</td>\n",
       "      <td>B00CGM8BZG</td>\n",
       "      <td></td>\n",
       "      <td>[]</td>\n",
       "      <td>...</td>\n",
       "      <td>['6', '4', '1', '0', '2']</td>\n",
       "      <td>85.0</td>\n",
       "      <td>[]</td>\n",
       "      <td>https://i.gr-assets.com/images/S/compressed.ph...</td>\n",
       "      <td>99</td>\n",
       "      <td>1</td>\n",
       "      <td>NaN</td>\n",
       "      <td>[]</td>\n",
       "      <td>Description: Spiritus Mundi by Robert Sheppard...</td>\n",
       "      <td>24755</td>\n",
       "    </tr>\n",
       "    <tr>\n",
       "      <th>51533</th>\n",
       "      <td>332100.Hamlet_as_Told_on_the_Street</td>\n",
       "      <td>Hamlet as Told on the Street</td>\n",
       "      <td>NaN</td>\n",
       "      <td>Shel Silverstein</td>\n",
       "      <td>3.71</td>\n",
       "      <td>Now Francisco and Bernardo, they was guardin’ ...</td>\n",
       "      <td>English</td>\n",
       "      <td>9999999999999</td>\n",
       "      <td>Poetry, Fiction, Childrens, Humor, American, S...</td>\n",
       "      <td>[]</td>\n",
       "      <td>...</td>\n",
       "      <td>['187', '171', '154', '85', '13']</td>\n",
       "      <td>84.0</td>\n",
       "      <td>[]</td>\n",
       "      <td>https://i.gr-assets.com/images/S/compressed.ph...</td>\n",
       "      <td>18</td>\n",
       "      <td>1</td>\n",
       "      <td>NaN</td>\n",
       "      <td>[Poetry, Fiction, Childrens, Humor, American, ...</td>\n",
       "      <td>Description: Now Francisco and Bernardo, they ...</td>\n",
       "      <td>15648</td>\n",
       "    </tr>\n",
       "  </tbody>\n",
       "</table>\n",
       "<p>3 rows × 28 columns</p>\n",
       "</div>"
      ],
      "text/plain": [
       "                                      bookId                         title  \\\n",
       "18912                17857619-spiritus-mundi                Spiritus Mundi   \n",
       "22017  17857704-spiritus-mundi---the-romance  Spiritus Mundi - The Romance   \n",
       "51533    332100.Hamlet_as_Told_on_the_Street  Hamlet as Told on the Street   \n",
       "\n",
       "                  series                              author  rating  \\\n",
       "18912  Spiritus Mundi #1  Robert Sheppard (Goodreads Author)    4.00   \n",
       "22017  Spiritus Mundi #2  Robert Sheppard (Goodreads Author)    3.92   \n",
       "51533                NaN                    Shel Silverstein    3.71   \n",
       "\n",
       "                                             description language  \\\n",
       "18912  Spiritus Mundi by Robert Sheppard, nominated f...  English   \n",
       "22017  Spiritus Mundi by Robert Sheppard, nominated f...  English   \n",
       "51533  Now Francisco and Bernardo, they was guardin’ ...  English   \n",
       "\n",
       "                isbn                                             genres  \\\n",
       "18912  9999999999999                                                      \n",
       "22017     B00CGM8BZG                                                      \n",
       "51533  9999999999999  Poetry, Fiction, Childrens, Humor, American, S...   \n",
       "\n",
       "      characters  ...                     ratingsByStars likedPercent setting  \\\n",
       "18912         []  ...          ['7', '4', '1', '0', '2']         86.0      []   \n",
       "22017         []  ...          ['6', '4', '1', '0', '2']         85.0      []   \n",
       "51533         []  ...  ['187', '171', '154', '85', '13']         84.0      []   \n",
       "\n",
       "                                                coverImg bbeScore bbeVotes  \\\n",
       "18912  https://i.gr-assets.com/images/S/compressed.ph...      100        1   \n",
       "22017  https://i.gr-assets.com/images/S/compressed.ph...       99        1   \n",
       "51533  https://i.gr-assets.com/images/S/compressed.ph...       18        1   \n",
       "\n",
       "      price                                        genres_list  \\\n",
       "18912   NaN                                                 []   \n",
       "22017   NaN                                                 []   \n",
       "51533   NaN  [Poetry, Fiction, Childrens, Humor, American, ...   \n",
       "\n",
       "                                              descriptor  descriptor_lengths  \n",
       "18912  Description: Spiritus Mundi by Robert Sheppard...               24755  \n",
       "22017  Description: Spiritus Mundi by Robert Sheppard...               24755  \n",
       "51533  Description: Now Francisco and Bernardo, they ...               15648  \n",
       "\n",
       "[3 rows x 28 columns]"
      ]
     },
     "execution_count": 28,
     "metadata": {},
     "output_type": "execute_result"
    }
   ],
   "source": [
    "df.loc[df[\"descriptor_lengths\"] > 10000]"
   ]
  },
  {
   "cell_type": "code",
   "execution_count": 29,
   "id": "a8c204aa-5be9-4bec-848b-d50f3d442a65",
   "metadata": {},
   "outputs": [
    {
     "data": {
      "text/plain": [
       "<Axes: >"
      ]
     },
     "execution_count": 29,
     "metadata": {},
     "output_type": "execute_result"
    },
    {
     "data": {
      "image/png": "[encoded data removed]",
      "text/plain": [
       "<Figure size 800x1000 with 1 Axes>"
      ]
     },
     "metadata": {},
     "output_type": "display_data"
    }
   ],
   "source": [
    "import matplotlib.pyplot as plt\n",
    "\n",
    "plt.figure(figsize=(8,10))\n",
    "df.boxplot(column=[\"descriptor_lengths\"])\n",
    "# plt.yticks(range(0,2500,100))\n",
    "# plt.axhline(1024)\n",
    "# plt.ylim([0, 2500])"
   ]
  },
  {
   "cell_type": "code",
   "execution_count": 30,
   "id": "0722e0b4-0e64-4e2d-bae1-7d7305db9110",
   "metadata": {},
   "outputs": [
    {
     "data": {
      "text/plain": [
       "count    42661.000000\n",
       "mean       855.862240\n",
       "std        539.192642\n",
       "min          3.000000\n",
       "25%        522.000000\n",
       "50%        794.000000\n",
       "75%       1083.000000\n",
       "max      24733.000000\n",
       "Name: description_lengths, dtype: float64"
      ]
     },
     "execution_count": 30,
     "metadata": {},
     "output_type": "execute_result"
    }
   ],
   "source": [
    "df[\"description_lengths\"] = df[\"description\"].apply(len)\n",
    "df[\"description_lengths\"].describe()"
   ]
  },
  {
   "cell_type": "code",
   "execution_count": 31,
   "id": "b1d8a10d-4c9b-400d-953b-0cb4e8be5216",
   "metadata": {},
   "outputs": [
    {
     "data": {
      "text/plain": [
       "<Axes: >"
      ]
     },
     "execution_count": 31,
     "metadata": {},
     "output_type": "execute_result"
    },
    {
     "data": {
      "image/png": "[encoded data removed]",
      "text/plain": [
       "<Figure size 800x1000 with 1 Axes>"
      ]
     },
     "metadata": {},
     "output_type": "display_data"
    }
   ],
   "source": [
    "plt.figure(figsize=(8,10))\n",
    "df.boxplot(column=[\"description_lengths\"])"
   ]
  },
  {
   "cell_type": "code",
   "execution_count": 32,
   "id": "06b38eac-752c-41d1-8aba-385bc45906bc",
   "metadata": {},
   "outputs": [
    {
     "data": {
      "text/html": [
       "<div>\n",
       "<style scoped>\n",
       "    .dataframe tbody tr th:only-of-type {\n",
       "        vertical-align: middle;\n",
       "    }\n",
       "\n",
       "    .dataframe tbody tr th {\n",
       "        vertical-align: top;\n",
       "    }\n",
       "\n",
       "    .dataframe thead th {\n",
       "        text-align: right;\n",
       "    }\n",
       "</style>\n",
       "<table border=\"1\" class=\"dataframe\">\n",
       "  <thead>\n",
       "    <tr style=\"text-align: right;\">\n",
       "      <th></th>\n",
       "      <th>bookId</th>\n",
       "      <th>title</th>\n",
       "      <th>series</th>\n",
       "      <th>author</th>\n",
       "      <th>rating</th>\n",
       "      <th>description</th>\n",
       "      <th>language</th>\n",
       "      <th>isbn</th>\n",
       "      <th>genres</th>\n",
       "      <th>characters</th>\n",
       "      <th>...</th>\n",
       "      <th>likedPercent</th>\n",
       "      <th>setting</th>\n",
       "      <th>coverImg</th>\n",
       "      <th>bbeScore</th>\n",
       "      <th>bbeVotes</th>\n",
       "      <th>price</th>\n",
       "      <th>genres_list</th>\n",
       "      <th>descriptor</th>\n",
       "      <th>descriptor_lengths</th>\n",
       "      <th>description_lengths</th>\n",
       "    </tr>\n",
       "  </thead>\n",
       "  <tbody>\n",
       "    <tr>\n",
       "      <th>291</th>\n",
       "      <td>27494.Leaves_of_Grass</td>\n",
       "      <td>Leaves of Grass</td>\n",
       "      <td>NaN</td>\n",
       "      <td>Walt Whitman</td>\n",
       "      <td>4.12</td>\n",
       "      <td>No description available.</td>\n",
       "      <td>English</td>\n",
       "      <td>9999999999999</td>\n",
       "      <td>Poetry, Classics, Fiction, Literature, America...</td>\n",
       "      <td>[]</td>\n",
       "      <td>...</td>\n",
       "      <td>93.0</td>\n",
       "      <td>['New York City, New York (United States)', 'W...</td>\n",
       "      <td>https://i.gr-assets.com/images/S/compressed.ph...</td>\n",
       "      <td>43537</td>\n",
       "      <td>591</td>\n",
       "      <td>NaN</td>\n",
       "      <td>[Poetry, Classics, Fiction, Literature, Americ...</td>\n",
       "      <td>Description: No description available.\\nGenres...</td>\n",
       "      <td>178</td>\n",
       "      <td>25</td>\n",
       "    </tr>\n",
       "  </tbody>\n",
       "</table>\n",
       "<p>1 rows × 29 columns</p>\n",
       "</div>"
      ],
      "text/plain": [
       "                    bookId            title series        author  rating  \\\n",
       "291  27494.Leaves_of_Grass  Leaves of Grass    NaN  Walt Whitman    4.12   \n",
       "\n",
       "                   description language           isbn  \\\n",
       "291  No description available.  English  9999999999999   \n",
       "\n",
       "                                                genres characters  ...  \\\n",
       "291  Poetry, Classics, Fiction, Literature, America...         []  ...   \n",
       "\n",
       "    likedPercent                                            setting  \\\n",
       "291         93.0  ['New York City, New York (United States)', 'W...   \n",
       "\n",
       "                                              coverImg bbeScore bbeVotes  \\\n",
       "291  https://i.gr-assets.com/images/S/compressed.ph...    43537      591   \n",
       "\n",
       "    price                                        genres_list  \\\n",
       "291   NaN  [Poetry, Classics, Fiction, Literature, Americ...   \n",
       "\n",
       "                                            descriptor descriptor_lengths  \\\n",
       "291  Description: No description available.\\nGenres...                178   \n",
       "\n",
       "     description_lengths  \n",
       "291                   25  \n",
       "\n",
       "[1 rows x 29 columns]"
      ]
     },
     "execution_count": 32,
     "metadata": {},
     "output_type": "execute_result"
    }
   ],
   "source": [
    "df.loc[df[\"description_lengths\"] < 50].head(1)"
   ]
  },
  {
   "cell_type": "code",
   "execution_count": 33,
   "id": "30507195-eb70-4c34-b6ea-4ec98dbda55f",
   "metadata": {},
   "outputs": [
    {
     "data": {
      "text/plain": [
       "count    42661.000000\n",
       "mean        95.335927\n",
       "std         39.404644\n",
       "min          0.000000\n",
       "25%         93.000000\n",
       "50%        110.000000\n",
       "75%        119.000000\n",
       "max        176.000000\n",
       "Name: genre_lengths, dtype: float64"
      ]
     },
     "execution_count": 33,
     "metadata": {},
     "output_type": "execute_result"
    }
   ],
   "source": [
    "df[\"genre_lengths\"] = df[\"genres\"].apply(len)\n",
    "df[\"genre_lengths\"].describe()"
   ]
  },
  {
   "cell_type": "code",
   "execution_count": 34,
   "id": "c7770ce8-7180-444e-ae79-c8bf85e3311d",
   "metadata": {},
   "outputs": [
    {
     "data": {
      "text/plain": [
       "<Axes: >"
      ]
     },
     "execution_count": 34,
     "metadata": {},
     "output_type": "execute_result"
    },
    {
     "data": {
      "image/png": "[encoded data removed]",
      "text/plain": [
       "<Figure size 800x1000 with 1 Axes>"
      ]
     },
     "metadata": {},
     "output_type": "display_data"
    }
   ],
   "source": [
    "plt.figure(figsize=(8,10))\n",
    "df.boxplot(column=[\"genre_lengths\"])"
   ]
  },
  {
   "cell_type": "code",
   "execution_count": 35,
   "id": "af293538-3591-4d48-89d3-3f1ef8d5a58f",
   "metadata": {},
   "outputs": [
    {
     "data": {
      "text/html": [
       "<div>\n",
       "<style scoped>\n",
       "    .dataframe tbody tr th:only-of-type {\n",
       "        vertical-align: middle;\n",
       "    }\n",
       "\n",
       "    .dataframe tbody tr th {\n",
       "        vertical-align: top;\n",
       "    }\n",
       "\n",
       "    .dataframe thead th {\n",
       "        text-align: right;\n",
       "    }\n",
       "</style>\n",
       "<table border=\"1\" class=\"dataframe\">\n",
       "  <thead>\n",
       "    <tr style=\"text-align: right;\">\n",
       "      <th></th>\n",
       "      <th>bookId</th>\n",
       "      <th>title</th>\n",
       "      <th>series</th>\n",
       "      <th>author</th>\n",
       "      <th>rating</th>\n",
       "      <th>description</th>\n",
       "      <th>language</th>\n",
       "      <th>isbn</th>\n",
       "      <th>genres</th>\n",
       "      <th>characters</th>\n",
       "      <th>...</th>\n",
       "      <th>setting</th>\n",
       "      <th>coverImg</th>\n",
       "      <th>bbeScore</th>\n",
       "      <th>bbeVotes</th>\n",
       "      <th>price</th>\n",
       "      <th>genres_list</th>\n",
       "      <th>descriptor</th>\n",
       "      <th>descriptor_lengths</th>\n",
       "      <th>description_lengths</th>\n",
       "      <th>genre_lengths</th>\n",
       "    </tr>\n",
       "  </thead>\n",
       "  <tbody>\n",
       "    <tr>\n",
       "      <th>1483</th>\n",
       "      <td>26030383-beg-for-mercy</td>\n",
       "      <td>Beg For Mercy</td>\n",
       "      <td>Mercy #3</td>\n",
       "      <td>Lucian Bane (Goodreads Author)</td>\n",
       "      <td>4.29</td>\n",
       "      <td>The fight is on in this installment, Mercy is ...</td>\n",
       "      <td>English</td>\n",
       "      <td>9999999999999</td>\n",
       "      <td></td>\n",
       "      <td>[]</td>\n",
       "      <td>...</td>\n",
       "      <td>[]</td>\n",
       "      <td>https://i.gr-assets.com/images/S/compressed.ph...</td>\n",
       "      <td>3246</td>\n",
       "      <td>33</td>\n",
       "      <td>NaN</td>\n",
       "      <td>[]</td>\n",
       "      <td>Description: The fight is on in this installme...</td>\n",
       "      <td>492</td>\n",
       "      <td>470</td>\n",
       "      <td>0</td>\n",
       "    </tr>\n",
       "    <tr>\n",
       "      <th>2182</th>\n",
       "      <td>55196363-complicated-moonlight</td>\n",
       "      <td>Complicated Moonlight</td>\n",
       "      <td>DCYE #2</td>\n",
       "      <td>Lynessa Layne (Goodreads Author)</td>\n",
       "      <td>4.79</td>\n",
       "      <td>In the second installment of the DCYE series, ...</td>\n",
       "      <td>English</td>\n",
       "      <td>B08H1JHDJN</td>\n",
       "      <td></td>\n",
       "      <td>[]</td>\n",
       "      <td>...</td>\n",
       "      <td>[]</td>\n",
       "      <td>https://i.gr-assets.com/images/S/compressed.ph...</td>\n",
       "      <td>1784</td>\n",
       "      <td>18</td>\n",
       "      <td>NaN</td>\n",
       "      <td>[]</td>\n",
       "      <td>Description: In the second installment of the ...</td>\n",
       "      <td>729</td>\n",
       "      <td>707</td>\n",
       "      <td>0</td>\n",
       "    </tr>\n",
       "    <tr>\n",
       "      <th>2272</th>\n",
       "      <td>24536832-song-bird</td>\n",
       "      <td>Song Bird: Matters of the Heart</td>\n",
       "      <td>NaN</td>\n",
       "      <td>Christine M. Knight (Goodreads Author)</td>\n",
       "      <td>4.55</td>\n",
       "      <td>“I’m not Mavis anymore.” For years, song bird ...</td>\n",
       "      <td>English</td>\n",
       "      <td>9780987434869</td>\n",
       "      <td></td>\n",
       "      <td>[]</td>\n",
       "      <td>...</td>\n",
       "      <td>[]</td>\n",
       "      <td>https://i.gr-assets.com/images/S/compressed.ph...</td>\n",
       "      <td>1685</td>\n",
       "      <td>17</td>\n",
       "      <td>18.5</td>\n",
       "      <td>[]</td>\n",
       "      <td>Description: “I’m not Mavis anymore.” For year...</td>\n",
       "      <td>960</td>\n",
       "      <td>938</td>\n",
       "      <td>0</td>\n",
       "    </tr>\n",
       "    <tr>\n",
       "      <th>2526</th>\n",
       "      <td>45719695-jubal-s-field-trip-to-heaven</td>\n",
       "      <td>Jubal's Field Trip To Heaven: Jubal and Chanan...</td>\n",
       "      <td>NaN</td>\n",
       "      <td>Ginger Baum</td>\n",
       "      <td>4.97</td>\n",
       "      <td>This is an adventurous story about an 11-year-...</td>\n",
       "      <td>English</td>\n",
       "      <td>B07RK1ZQL6</td>\n",
       "      <td></td>\n",
       "      <td>[]</td>\n",
       "      <td>...</td>\n",
       "      <td>[]</td>\n",
       "      <td>https://i.gr-assets.com/images/S/compressed.ph...</td>\n",
       "      <td>1465</td>\n",
       "      <td>15</td>\n",
       "      <td>NaN</td>\n",
       "      <td>[]</td>\n",
       "      <td>Description: This is an adventurous story abou...</td>\n",
       "      <td>915</td>\n",
       "      <td>893</td>\n",
       "      <td>0</td>\n",
       "    </tr>\n",
       "    <tr>\n",
       "      <th>3023</th>\n",
       "      <td>40949958-treacherous-estate</td>\n",
       "      <td>Treacherous Estate</td>\n",
       "      <td>NaN</td>\n",
       "      <td>Behcet Kaya (Goodreads Author)</td>\n",
       "      <td>4.32</td>\n",
       "      <td>While enjoying his usual Friday night after di...</td>\n",
       "      <td>English</td>\n",
       "      <td>9781722829698</td>\n",
       "      <td></td>\n",
       "      <td>[]</td>\n",
       "      <td>...</td>\n",
       "      <td>[]</td>\n",
       "      <td>https://i.gr-assets.com/images/S/compressed.ph...</td>\n",
       "      <td>1140</td>\n",
       "      <td>13</td>\n",
       "      <td>14.82</td>\n",
       "      <td>[]</td>\n",
       "      <td>Description: While enjoying his usual Friday n...</td>\n",
       "      <td>693</td>\n",
       "      <td>671</td>\n",
       "      <td>0</td>\n",
       "    </tr>\n",
       "  </tbody>\n",
       "</table>\n",
       "<p>5 rows × 30 columns</p>\n",
       "</div>"
      ],
      "text/plain": [
       "                                     bookId  \\\n",
       "1483                 26030383-beg-for-mercy   \n",
       "2182         55196363-complicated-moonlight   \n",
       "2272                     24536832-song-bird   \n",
       "2526  45719695-jubal-s-field-trip-to-heaven   \n",
       "3023            40949958-treacherous-estate   \n",
       "\n",
       "                                                  title    series  \\\n",
       "1483                                      Beg For Mercy  Mercy #3   \n",
       "2182                              Complicated Moonlight   DCYE #2   \n",
       "2272                    Song Bird: Matters of the Heart       NaN   \n",
       "2526  Jubal's Field Trip To Heaven: Jubal and Chanan...       NaN   \n",
       "3023                                 Treacherous Estate       NaN   \n",
       "\n",
       "                                      author  rating  \\\n",
       "1483          Lucian Bane (Goodreads Author)    4.29   \n",
       "2182        Lynessa Layne (Goodreads Author)    4.79   \n",
       "2272  Christine M. Knight (Goodreads Author)    4.55   \n",
       "2526                             Ginger Baum    4.97   \n",
       "3023          Behcet Kaya (Goodreads Author)    4.32   \n",
       "\n",
       "                                            description language  \\\n",
       "1483  The fight is on in this installment, Mercy is ...  English   \n",
       "2182  In the second installment of the DCYE series, ...  English   \n",
       "2272  “I’m not Mavis anymore.” For years, song bird ...  English   \n",
       "2526  This is an adventurous story about an 11-year-...  English   \n",
       "3023  While enjoying his usual Friday night after di...  English   \n",
       "\n",
       "               isbn genres characters  ... setting  \\\n",
       "1483  9999999999999                []  ...      []   \n",
       "2182     B08H1JHDJN                []  ...      []   \n",
       "2272  9780987434869                []  ...      []   \n",
       "2526     B07RK1ZQL6                []  ...      []   \n",
       "3023  9781722829698                []  ...      []   \n",
       "\n",
       "                                               coverImg bbeScore bbeVotes  \\\n",
       "1483  https://i.gr-assets.com/images/S/compressed.ph...     3246       33   \n",
       "2182  https://i.gr-assets.com/images/S/compressed.ph...     1784       18   \n",
       "2272  https://i.gr-assets.com/images/S/compressed.ph...     1685       17   \n",
       "2526  https://i.gr-assets.com/images/S/compressed.ph...     1465       15   \n",
       "3023  https://i.gr-assets.com/images/S/compressed.ph...     1140       13   \n",
       "\n",
       "      price genres_list                                         descriptor  \\\n",
       "1483    NaN          []  Description: The fight is on in this installme...   \n",
       "2182    NaN          []  Description: In the second installment of the ...   \n",
       "2272   18.5          []  Description: “I’m not Mavis anymore.” For year...   \n",
       "2526    NaN          []  Description: This is an adventurous story abou...   \n",
       "3023  14.82          []  Description: While enjoying his usual Friday n...   \n",
       "\n",
       "      descriptor_lengths description_lengths  genre_lengths  \n",
       "1483                 492                 470              0  \n",
       "2182                 729                 707              0  \n",
       "2272                 960                 938              0  \n",
       "2526                 915                 893              0  \n",
       "3023                 693                 671              0  \n",
       "\n",
       "[5 rows x 30 columns]"
      ]
     },
     "execution_count": 35,
     "metadata": {},
     "output_type": "execute_result"
    }
   ],
   "source": [
    "df.loc[df[\"genre_lengths\"] < 5].head()"
   ]
  },
  {
   "cell_type": "code",
   "execution_count": 36,
   "id": "6c5a6980-373b-465f-b7c2-2df33001d336",
   "metadata": {},
   "outputs": [],
   "source": [
    "df.to_pickle(\"bbe_12-05-2024-2236.pkl\")"
   ]
  },
  {
   "cell_type": "code",
   "execution_count": 37,
   "id": "b65e9a9d-2966-4521-ab0d-b4d1140b76d8",
   "metadata": {},
   "outputs": [
    {
     "data": {
      "text/plain": [
       "Index(['bookId', 'title', 'series', 'author', 'rating', 'description',\n",
       "       'language', 'isbn', 'genres', 'characters', 'bookFormat', 'edition',\n",
       "       'pages', 'publisher', 'publishDate', 'firstPublishDate', 'awards',\n",
       "       'numRatings', 'ratingsByStars', 'likedPercent', 'setting', 'coverImg',\n",
       "       'bbeScore', 'bbeVotes', 'price', 'genres_list', 'descriptor',\n",
       "       'descriptor_lengths', 'description_lengths', 'genre_lengths'],\n",
       "      dtype='object')"
      ]
     },
     "execution_count": 37,
     "metadata": {},
     "output_type": "execute_result"
    }
   ],
   "source": [
    "df = pd.read_pickle(\"bbe_12-05-2024-2236.pkl\")\n",
    "df.columns"
   ]
  },
  {
   "cell_type": "code",
   "execution_count": 38,
   "id": "0f6c461b-b1bf-4b38-8b46-cf72383548a4",
   "metadata": {},
   "outputs": [
    {
     "data": {
      "text/html": [
       "<div>\n",
       "<style scoped>\n",
       "    .dataframe tbody tr th:only-of-type {\n",
       "        vertical-align: middle;\n",
       "    }\n",
       "\n",
       "    .dataframe tbody tr th {\n",
       "        vertical-align: top;\n",
       "    }\n",
       "\n",
       "    .dataframe thead th {\n",
       "        text-align: right;\n",
       "    }\n",
       "</style>\n",
       "<table border=\"1\" class=\"dataframe\">\n",
       "  <thead>\n",
       "    <tr style=\"text-align: right;\">\n",
       "      <th></th>\n",
       "      <th>bookId</th>\n",
       "      <th>title</th>\n",
       "      <th>series</th>\n",
       "      <th>author</th>\n",
       "      <th>rating</th>\n",
       "      <th>description</th>\n",
       "      <th>language</th>\n",
       "      <th>isbn</th>\n",
       "      <th>genres</th>\n",
       "      <th>characters</th>\n",
       "      <th>...</th>\n",
       "      <th>setting</th>\n",
       "      <th>coverImg</th>\n",
       "      <th>bbeScore</th>\n",
       "      <th>bbeVotes</th>\n",
       "      <th>price</th>\n",
       "      <th>genres_list</th>\n",
       "      <th>descriptor</th>\n",
       "      <th>descriptor_lengths</th>\n",
       "      <th>description_lengths</th>\n",
       "      <th>genre_lengths</th>\n",
       "    </tr>\n",
       "  </thead>\n",
       "  <tbody>\n",
       "    <tr>\n",
       "      <th>0</th>\n",
       "      <td>2767052-the-hunger-games</td>\n",
       "      <td>The Hunger Games</td>\n",
       "      <td>The Hunger Games #1</td>\n",
       "      <td>Suzanne Collins</td>\n",
       "      <td>4.33</td>\n",
       "      <td>WINNING MEANS FAME AND FORTUNE.LOSING MEANS CE...</td>\n",
       "      <td>English</td>\n",
       "      <td>9780439023481</td>\n",
       "      <td>Young Adult, Fiction, Dystopia, Fantasy, Scien...</td>\n",
       "      <td>['Katniss Everdeen', 'Peeta Mellark', 'Cato (H...</td>\n",
       "      <td>...</td>\n",
       "      <td>['District 12, Panem', 'Capitol, Panem', 'Pane...</td>\n",
       "      <td>https://i.gr-assets.com/images/S/compressed.ph...</td>\n",
       "      <td>2993816</td>\n",
       "      <td>30516</td>\n",
       "      <td>5.09</td>\n",
       "      <td>[Young Adult, Fiction, Dystopia, Fantasy, Scie...</td>\n",
       "      <td>Description: WINNING MEANS FAME AND FORTUNE.LO...</td>\n",
       "      <td>971</td>\n",
       "      <td>841</td>\n",
       "      <td>108</td>\n",
       "    </tr>\n",
       "    <tr>\n",
       "      <th>1</th>\n",
       "      <td>2.Harry_Potter_and_the_Order_of_the_Phoenix</td>\n",
       "      <td>Harry Potter and the Order of the Phoenix</td>\n",
       "      <td>Harry Potter #5</td>\n",
       "      <td>J.K. Rowling, Mary GrandPré (Illustrator)</td>\n",
       "      <td>4.50</td>\n",
       "      <td>There is a door at the end of a silent corrido...</td>\n",
       "      <td>English</td>\n",
       "      <td>9780439358071</td>\n",
       "      <td>Fantasy, Young Adult, Fiction, Magic, Children...</td>\n",
       "      <td>['Sirius Black', 'Draco Malfoy', 'Ron Weasley'...</td>\n",
       "      <td>...</td>\n",
       "      <td>['Hogwarts School of Witchcraft and Wizardry (...</td>\n",
       "      <td>https://i.gr-assets.com/images/S/compressed.ph...</td>\n",
       "      <td>2632233</td>\n",
       "      <td>26923</td>\n",
       "      <td>7.38</td>\n",
       "      <td>[Fantasy, Young Adult, Fiction, Magic, Childre...</td>\n",
       "      <td>Description: There is a door at the end of a s...</td>\n",
       "      <td>945</td>\n",
       "      <td>805</td>\n",
       "      <td>118</td>\n",
       "    </tr>\n",
       "    <tr>\n",
       "      <th>2</th>\n",
       "      <td>2657.To_Kill_a_Mockingbird</td>\n",
       "      <td>To Kill a Mockingbird</td>\n",
       "      <td>To Kill a Mockingbird</td>\n",
       "      <td>Harper Lee</td>\n",
       "      <td>4.28</td>\n",
       "      <td>The unforgettable novel of a childhood in a sl...</td>\n",
       "      <td>English</td>\n",
       "      <td>9999999999999</td>\n",
       "      <td>Classics, Fiction, Historical Fiction, School,...</td>\n",
       "      <td>['Scout Finch', 'Atticus Finch', 'Jem Finch', ...</td>\n",
       "      <td>...</td>\n",
       "      <td>['Maycomb, Alabama (United States)']</td>\n",
       "      <td>https://i.gr-assets.com/images/S/compressed.ph...</td>\n",
       "      <td>2269402</td>\n",
       "      <td>23328</td>\n",
       "      <td>NaN</td>\n",
       "      <td>[Classics, Fiction, Historical Fiction, School...</td>\n",
       "      <td>Description: The unforgettable novel of a chil...</td>\n",
       "      <td>956</td>\n",
       "      <td>814</td>\n",
       "      <td>120</td>\n",
       "    </tr>\n",
       "    <tr>\n",
       "      <th>3</th>\n",
       "      <td>1885.Pride_and_Prejudice</td>\n",
       "      <td>Pride and Prejudice</td>\n",
       "      <td>NaN</td>\n",
       "      <td>Jane Austen, Anna Quindlen (Introduction)</td>\n",
       "      <td>4.26</td>\n",
       "      <td>Alternate cover edition of ISBN 9780679783268S...</td>\n",
       "      <td>English</td>\n",
       "      <td>9999999999999</td>\n",
       "      <td>Classics, Fiction, Romance, Historical Fiction...</td>\n",
       "      <td>['Mr. Bennet', 'Mrs. Bennet', 'Jane Bennet', '...</td>\n",
       "      <td>...</td>\n",
       "      <td>['United Kingdom', 'Derbyshire, England (Unite...</td>\n",
       "      <td>https://i.gr-assets.com/images/S/compressed.ph...</td>\n",
       "      <td>1983116</td>\n",
       "      <td>20452</td>\n",
       "      <td>NaN</td>\n",
       "      <td>[Classics, Fiction, Romance, Historical Fictio...</td>\n",
       "      <td>Description: Alternate cover edition of ISBN 9...</td>\n",
       "      <td>795</td>\n",
       "      <td>648</td>\n",
       "      <td>125</td>\n",
       "    </tr>\n",
       "    <tr>\n",
       "      <th>4</th>\n",
       "      <td>41865.Twilight</td>\n",
       "      <td>Twilight</td>\n",
       "      <td>The Twilight Saga #1</td>\n",
       "      <td>Stephenie Meyer</td>\n",
       "      <td>3.60</td>\n",
       "      <td>About three things I was absolutely positive.\\...</td>\n",
       "      <td>English</td>\n",
       "      <td>9780316015844</td>\n",
       "      <td>Young Adult, Fantasy, Romance, Vampires, Ficti...</td>\n",
       "      <td>['Edward Cullen', 'Jacob Black', 'Laurent', 'R...</td>\n",
       "      <td>...</td>\n",
       "      <td>['Forks, Washington (United States)', 'Phoenix...</td>\n",
       "      <td>https://i.gr-assets.com/images/S/compressed.ph...</td>\n",
       "      <td>1459448</td>\n",
       "      <td>14874</td>\n",
       "      <td>2.1</td>\n",
       "      <td>[Young Adult, Fantasy, Romance, Vampires, Fict...</td>\n",
       "      <td>Description: About three things I was absolute...</td>\n",
       "      <td>478</td>\n",
       "      <td>341</td>\n",
       "      <td>115</td>\n",
       "    </tr>\n",
       "  </tbody>\n",
       "</table>\n",
       "<p>5 rows × 30 columns</p>\n",
       "</div>"
      ],
      "text/plain": [
       "                                        bookId  \\\n",
       "0                     2767052-the-hunger-games   \n",
       "1  2.Harry_Potter_and_the_Order_of_the_Phoenix   \n",
       "2                   2657.To_Kill_a_Mockingbird   \n",
       "3                     1885.Pride_and_Prejudice   \n",
       "4                               41865.Twilight   \n",
       "\n",
       "                                       title                 series  \\\n",
       "0                           The Hunger Games    The Hunger Games #1   \n",
       "1  Harry Potter and the Order of the Phoenix        Harry Potter #5   \n",
       "2                      To Kill a Mockingbird  To Kill a Mockingbird   \n",
       "3                        Pride and Prejudice                    NaN   \n",
       "4                                   Twilight   The Twilight Saga #1   \n",
       "\n",
       "                                      author  rating  \\\n",
       "0                            Suzanne Collins    4.33   \n",
       "1  J.K. Rowling, Mary GrandPré (Illustrator)    4.50   \n",
       "2                                 Harper Lee    4.28   \n",
       "3  Jane Austen, Anna Quindlen (Introduction)    4.26   \n",
       "4                            Stephenie Meyer    3.60   \n",
       "\n",
       "                                         description language           isbn  \\\n",
       "0  WINNING MEANS FAME AND FORTUNE.LOSING MEANS CE...  English  9780439023481   \n",
       "1  There is a door at the end of a silent corrido...  English  9780439358071   \n",
       "2  The unforgettable novel of a childhood in a sl...  English  9999999999999   \n",
       "3  Alternate cover edition of ISBN 9780679783268S...  English  9999999999999   \n",
       "4  About three things I was absolutely positive.\\...  English  9780316015844   \n",
       "\n",
       "                                              genres  \\\n",
       "0  Young Adult, Fiction, Dystopia, Fantasy, Scien...   \n",
       "1  Fantasy, Young Adult, Fiction, Magic, Children...   \n",
       "2  Classics, Fiction, Historical Fiction, School,...   \n",
       "3  Classics, Fiction, Romance, Historical Fiction...   \n",
       "4  Young Adult, Fantasy, Romance, Vampires, Ficti...   \n",
       "\n",
       "                                          characters  ...  \\\n",
       "0  ['Katniss Everdeen', 'Peeta Mellark', 'Cato (H...  ...   \n",
       "1  ['Sirius Black', 'Draco Malfoy', 'Ron Weasley'...  ...   \n",
       "2  ['Scout Finch', 'Atticus Finch', 'Jem Finch', ...  ...   \n",
       "3  ['Mr. Bennet', 'Mrs. Bennet', 'Jane Bennet', '...  ...   \n",
       "4  ['Edward Cullen', 'Jacob Black', 'Laurent', 'R...  ...   \n",
       "\n",
       "                                             setting  \\\n",
       "0  ['District 12, Panem', 'Capitol, Panem', 'Pane...   \n",
       "1  ['Hogwarts School of Witchcraft and Wizardry (...   \n",
       "2               ['Maycomb, Alabama (United States)']   \n",
       "3  ['United Kingdom', 'Derbyshire, England (Unite...   \n",
       "4  ['Forks, Washington (United States)', 'Phoenix...   \n",
       "\n",
       "                                            coverImg bbeScore bbeVotes price  \\\n",
       "0  https://i.gr-assets.com/images/S/compressed.ph...  2993816    30516  5.09   \n",
       "1  https://i.gr-assets.com/images/S/compressed.ph...  2632233    26923  7.38   \n",
       "2  https://i.gr-assets.com/images/S/compressed.ph...  2269402    23328   NaN   \n",
       "3  https://i.gr-assets.com/images/S/compressed.ph...  1983116    20452   NaN   \n",
       "4  https://i.gr-assets.com/images/S/compressed.ph...  1459448    14874   2.1   \n",
       "\n",
       "                                         genres_list  \\\n",
       "0  [Young Adult, Fiction, Dystopia, Fantasy, Scie...   \n",
       "1  [Fantasy, Young Adult, Fiction, Magic, Childre...   \n",
       "2  [Classics, Fiction, Historical Fiction, School...   \n",
       "3  [Classics, Fiction, Romance, Historical Fictio...   \n",
       "4  [Young Adult, Fantasy, Romance, Vampires, Fict...   \n",
       "\n",
       "                                          descriptor  descriptor_lengths  \\\n",
       "0  Description: WINNING MEANS FAME AND FORTUNE.LO...                 971   \n",
       "1  Description: There is a door at the end of a s...                 945   \n",
       "2  Description: The unforgettable novel of a chil...                 956   \n",
       "3  Description: Alternate cover edition of ISBN 9...                 795   \n",
       "4  Description: About three things I was absolute...                 478   \n",
       "\n",
       "  description_lengths  genre_lengths  \n",
       "0                 841            108  \n",
       "1                 805            118  \n",
       "2                 814            120  \n",
       "3                 648            125  \n",
       "4                 341            115  \n",
       "\n",
       "[5 rows x 30 columns]"
      ]
     },
     "execution_count": 38,
     "metadata": {},
     "output_type": "execute_result"
    }
   ],
   "source": [
    "df.head()"
   ]
  },
  {
   "cell_type": "code",
   "execution_count": 40,
   "id": "2da7d8ef-df08-44b1-86b9-8139a654ac62",
   "metadata": {},
   "outputs": [
    {
     "data": {
      "text/html": [
       "<div>\n",
       "<style scoped>\n",
       "    .dataframe tbody tr th:only-of-type {\n",
       "        vertical-align: middle;\n",
       "    }\n",
       "\n",
       "    .dataframe tbody tr th {\n",
       "        vertical-align: top;\n",
       "    }\n",
       "\n",
       "    .dataframe thead th {\n",
       "        text-align: right;\n",
       "    }\n",
       "</style>\n",
       "<table border=\"1\" class=\"dataframe\">\n",
       "  <thead>\n",
       "    <tr style=\"text-align: right;\">\n",
       "      <th></th>\n",
       "      <th>ID</th>\n",
       "      <th>bookId</th>\n",
       "      <th>title</th>\n",
       "      <th>series</th>\n",
       "      <th>author</th>\n",
       "      <th>rating</th>\n",
       "      <th>description</th>\n",
       "      <th>language</th>\n",
       "      <th>isbn</th>\n",
       "      <th>genres</th>\n",
       "      <th>...</th>\n",
       "      <th>setting</th>\n",
       "      <th>coverImg</th>\n",
       "      <th>bbeScore</th>\n",
       "      <th>bbeVotes</th>\n",
       "      <th>price</th>\n",
       "      <th>genres_list</th>\n",
       "      <th>descriptor</th>\n",
       "      <th>descriptor_lengths</th>\n",
       "      <th>description_lengths</th>\n",
       "      <th>genre_lengths</th>\n",
       "    </tr>\n",
       "  </thead>\n",
       "  <tbody>\n",
       "    <tr>\n",
       "      <th>0</th>\n",
       "      <td>0</td>\n",
       "      <td>2767052-the-hunger-games</td>\n",
       "      <td>The Hunger Games</td>\n",
       "      <td>The Hunger Games #1</td>\n",
       "      <td>Suzanne Collins</td>\n",
       "      <td>4.33</td>\n",
       "      <td>WINNING MEANS FAME AND FORTUNE.LOSING MEANS CE...</td>\n",
       "      <td>English</td>\n",
       "      <td>9780439023481</td>\n",
       "      <td>Young Adult, Fiction, Dystopia, Fantasy, Scien...</td>\n",
       "      <td>...</td>\n",
       "      <td>['District 12, Panem', 'Capitol, Panem', 'Pane...</td>\n",
       "      <td>https://i.gr-assets.com/images/S/compressed.ph...</td>\n",
       "      <td>2993816</td>\n",
       "      <td>30516</td>\n",
       "      <td>5.09</td>\n",
       "      <td>[Young Adult, Fiction, Dystopia, Fantasy, Scie...</td>\n",
       "      <td>Description: WINNING MEANS FAME AND FORTUNE.LO...</td>\n",
       "      <td>971</td>\n",
       "      <td>841</td>\n",
       "      <td>108</td>\n",
       "    </tr>\n",
       "    <tr>\n",
       "      <th>1</th>\n",
       "      <td>1</td>\n",
       "      <td>2.Harry_Potter_and_the_Order_of_the_Phoenix</td>\n",
       "      <td>Harry Potter and the Order of the Phoenix</td>\n",
       "      <td>Harry Potter #5</td>\n",
       "      <td>J.K. Rowling, Mary GrandPré (Illustrator)</td>\n",
       "      <td>4.50</td>\n",
       "      <td>There is a door at the end of a silent corrido...</td>\n",
       "      <td>English</td>\n",
       "      <td>9780439358071</td>\n",
       "      <td>Fantasy, Young Adult, Fiction, Magic, Children...</td>\n",
       "      <td>...</td>\n",
       "      <td>['Hogwarts School of Witchcraft and Wizardry (...</td>\n",
       "      <td>https://i.gr-assets.com/images/S/compressed.ph...</td>\n",
       "      <td>2632233</td>\n",
       "      <td>26923</td>\n",
       "      <td>7.38</td>\n",
       "      <td>[Fantasy, Young Adult, Fiction, Magic, Childre...</td>\n",
       "      <td>Description: There is a door at the end of a s...</td>\n",
       "      <td>945</td>\n",
       "      <td>805</td>\n",
       "      <td>118</td>\n",
       "    </tr>\n",
       "    <tr>\n",
       "      <th>2</th>\n",
       "      <td>2</td>\n",
       "      <td>2657.To_Kill_a_Mockingbird</td>\n",
       "      <td>To Kill a Mockingbird</td>\n",
       "      <td>To Kill a Mockingbird</td>\n",
       "      <td>Harper Lee</td>\n",
       "      <td>4.28</td>\n",
       "      <td>The unforgettable novel of a childhood in a sl...</td>\n",
       "      <td>English</td>\n",
       "      <td>9999999999999</td>\n",
       "      <td>Classics, Fiction, Historical Fiction, School,...</td>\n",
       "      <td>...</td>\n",
       "      <td>['Maycomb, Alabama (United States)']</td>\n",
       "      <td>https://i.gr-assets.com/images/S/compressed.ph...</td>\n",
       "      <td>2269402</td>\n",
       "      <td>23328</td>\n",
       "      <td>NaN</td>\n",
       "      <td>[Classics, Fiction, Historical Fiction, School...</td>\n",
       "      <td>Description: The unforgettable novel of a chil...</td>\n",
       "      <td>956</td>\n",
       "      <td>814</td>\n",
       "      <td>120</td>\n",
       "    </tr>\n",
       "    <tr>\n",
       "      <th>3</th>\n",
       "      <td>3</td>\n",
       "      <td>1885.Pride_and_Prejudice</td>\n",
       "      <td>Pride and Prejudice</td>\n",
       "      <td>NaN</td>\n",
       "      <td>Jane Austen, Anna Quindlen (Introduction)</td>\n",
       "      <td>4.26</td>\n",
       "      <td>Alternate cover edition of ISBN 9780679783268S...</td>\n",
       "      <td>English</td>\n",
       "      <td>9999999999999</td>\n",
       "      <td>Classics, Fiction, Romance, Historical Fiction...</td>\n",
       "      <td>...</td>\n",
       "      <td>['United Kingdom', 'Derbyshire, England (Unite...</td>\n",
       "      <td>https://i.gr-assets.com/images/S/compressed.ph...</td>\n",
       "      <td>1983116</td>\n",
       "      <td>20452</td>\n",
       "      <td>NaN</td>\n",
       "      <td>[Classics, Fiction, Romance, Historical Fictio...</td>\n",
       "      <td>Description: Alternate cover edition of ISBN 9...</td>\n",
       "      <td>795</td>\n",
       "      <td>648</td>\n",
       "      <td>125</td>\n",
       "    </tr>\n",
       "    <tr>\n",
       "      <th>4</th>\n",
       "      <td>4</td>\n",
       "      <td>41865.Twilight</td>\n",
       "      <td>Twilight</td>\n",
       "      <td>The Twilight Saga #1</td>\n",
       "      <td>Stephenie Meyer</td>\n",
       "      <td>3.60</td>\n",
       "      <td>About three things I was absolutely positive.\\...</td>\n",
       "      <td>English</td>\n",
       "      <td>9780316015844</td>\n",
       "      <td>Young Adult, Fantasy, Romance, Vampires, Ficti...</td>\n",
       "      <td>...</td>\n",
       "      <td>['Forks, Washington (United States)', 'Phoenix...</td>\n",
       "      <td>https://i.gr-assets.com/images/S/compressed.ph...</td>\n",
       "      <td>1459448</td>\n",
       "      <td>14874</td>\n",
       "      <td>2.1</td>\n",
       "      <td>[Young Adult, Fantasy, Romance, Vampires, Fict...</td>\n",
       "      <td>Description: About three things I was absolute...</td>\n",
       "      <td>478</td>\n",
       "      <td>341</td>\n",
       "      <td>115</td>\n",
       "    </tr>\n",
       "  </tbody>\n",
       "</table>\n",
       "<p>5 rows × 31 columns</p>\n",
       "</div>"
      ],
      "text/plain": [
       "   ID                                       bookId  \\\n",
       "0   0                     2767052-the-hunger-games   \n",
       "1   1  2.Harry_Potter_and_the_Order_of_the_Phoenix   \n",
       "2   2                   2657.To_Kill_a_Mockingbird   \n",
       "3   3                     1885.Pride_and_Prejudice   \n",
       "4   4                               41865.Twilight   \n",
       "\n",
       "                                       title                 series  \\\n",
       "0                           The Hunger Games    The Hunger Games #1   \n",
       "1  Harry Potter and the Order of the Phoenix        Harry Potter #5   \n",
       "2                      To Kill a Mockingbird  To Kill a Mockingbird   \n",
       "3                        Pride and Prejudice                    NaN   \n",
       "4                                   Twilight   The Twilight Saga #1   \n",
       "\n",
       "                                      author  rating  \\\n",
       "0                            Suzanne Collins    4.33   \n",
       "1  J.K. Rowling, Mary GrandPré (Illustrator)    4.50   \n",
       "2                                 Harper Lee    4.28   \n",
       "3  Jane Austen, Anna Quindlen (Introduction)    4.26   \n",
       "4                            Stephenie Meyer    3.60   \n",
       "\n",
       "                                         description language           isbn  \\\n",
       "0  WINNING MEANS FAME AND FORTUNE.LOSING MEANS CE...  English  9780439023481   \n",
       "1  There is a door at the end of a silent corrido...  English  9780439358071   \n",
       "2  The unforgettable novel of a childhood in a sl...  English  9999999999999   \n",
       "3  Alternate cover edition of ISBN 9780679783268S...  English  9999999999999   \n",
       "4  About three things I was absolutely positive.\\...  English  9780316015844   \n",
       "\n",
       "                                              genres  ...  \\\n",
       "0  Young Adult, Fiction, Dystopia, Fantasy, Scien...  ...   \n",
       "1  Fantasy, Young Adult, Fiction, Magic, Children...  ...   \n",
       "2  Classics, Fiction, Historical Fiction, School,...  ...   \n",
       "3  Classics, Fiction, Romance, Historical Fiction...  ...   \n",
       "4  Young Adult, Fantasy, Romance, Vampires, Ficti...  ...   \n",
       "\n",
       "                                             setting  \\\n",
       "0  ['District 12, Panem', 'Capitol, Panem', 'Pane...   \n",
       "1  ['Hogwarts School of Witchcraft and Wizardry (...   \n",
       "2               ['Maycomb, Alabama (United States)']   \n",
       "3  ['United Kingdom', 'Derbyshire, England (Unite...   \n",
       "4  ['Forks, Washington (United States)', 'Phoenix...   \n",
       "\n",
       "                                            coverImg bbeScore bbeVotes price  \\\n",
       "0  https://i.gr-assets.com/images/S/compressed.ph...  2993816    30516  5.09   \n",
       "1  https://i.gr-assets.com/images/S/compressed.ph...  2632233    26923  7.38   \n",
       "2  https://i.gr-assets.com/images/S/compressed.ph...  2269402    23328   NaN   \n",
       "3  https://i.gr-assets.com/images/S/compressed.ph...  1983116    20452   NaN   \n",
       "4  https://i.gr-assets.com/images/S/compressed.ph...  1459448    14874   2.1   \n",
       "\n",
       "                                         genres_list  \\\n",
       "0  [Young Adult, Fiction, Dystopia, Fantasy, Scie...   \n",
       "1  [Fantasy, Young Adult, Fiction, Magic, Childre...   \n",
       "2  [Classics, Fiction, Historical Fiction, School...   \n",
       "3  [Classics, Fiction, Romance, Historical Fictio...   \n",
       "4  [Young Adult, Fantasy, Romance, Vampires, Fict...   \n",
       "\n",
       "                                          descriptor descriptor_lengths  \\\n",
       "0  Description: WINNING MEANS FAME AND FORTUNE.LO...                971   \n",
       "1  Description: There is a door at the end of a s...                945   \n",
       "2  Description: The unforgettable novel of a chil...                956   \n",
       "3  Description: Alternate cover edition of ISBN 9...                795   \n",
       "4  Description: About three things I was absolute...                478   \n",
       "\n",
       "   description_lengths genre_lengths  \n",
       "0                  841           108  \n",
       "1                  805           118  \n",
       "2                  814           120  \n",
       "3                  648           125  \n",
       "4                  341           115  \n",
       "\n",
       "[5 rows x 31 columns]"
      ]
     },
     "execution_count": 40,
     "metadata": {},
     "output_type": "execute_result"
    }
   ],
   "source": [
    "df.insert(0, \"ID\", np.array(range(len(df))))\n",
    "df.head()"
   ]
  },
  {
   "cell_type": "code",
   "execution_count": 41,
   "id": "427cd31c-49c3-43a2-8f22-55ebd675dbc0",
   "metadata": {},
   "outputs": [
    {
     "data": {
      "text/plain": [
       "0            0\n",
       "1            1\n",
       "2            2\n",
       "3            3\n",
       "4            4\n",
       "         ...  \n",
       "52473    42656\n",
       "52474    42657\n",
       "52475    42658\n",
       "52476    42659\n",
       "52477    42660\n",
       "Name: ID, Length: 42661, dtype: int64"
      ]
     },
     "execution_count": 41,
     "metadata": {},
     "output_type": "execute_result"
    }
   ],
   "source": [
    "df[\"ID\"]"
   ]
  },
  {
   "cell_type": "code",
   "execution_count": 42,
   "id": "e5083e00-6b39-41cb-819c-1d4d570c66ed",
   "metadata": {},
   "outputs": [],
   "source": [
    "df.to_pickle(\"bbe_12-05-2024-2236.pkl\")"
   ]
  },
  {
   "cell_type": "code",
   "execution_count": null,
   "id": "1ba927e7-fe16-47ec-8fde-beea0cb18e42",
   "metadata": {},
   "outputs": [],
   "source": []
  }
 ],
 "metadata": {
  "kernelspec": {
   "display_name": "venv",
   "language": "python",
   "name": "python3"
  },
  "language_info": {
   "codemirror_mode": {
    "name": "ipython",
    "version": 3
   },
   "file_extension": ".py",
   "mimetype": "text/x-python",
   "name": "python",
   "nbconvert_exporter": "python",
   "pygments_lexer": "ipython3",
   "version": "3.12.3"
  }
 },
 "nbformat": 4,
 "nbformat_minor": 5
}
