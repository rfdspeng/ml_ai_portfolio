{
 "cells": [
  {
   "cell_type": "code",
   "execution_count": 1,
   "id": "440efd5e-dde4-4db1-a92c-db311491ea80",
   "metadata": {},
   "outputs": [],
   "source": [
    "import pandas as pd\n",
    "import numpy as np\n",
    "from qdrant_client import QdrantClient\n",
    "# from qdrant_client.http.models import VectorParams, Distance\n",
    "from openai import OpenAI\n",
    "import os\n",
    "import random"
   ]
  },
  {
   "cell_type": "code",
   "execution_count": 2,
   "id": "ab0a9949-af51-49da-9857-50b5b0fece42",
   "metadata": {},
   "outputs": [],
   "source": [
    "qdrant_api_key = os.environ[\"QDRANT_API_KEY\"]\n",
    "qdrant_url = os.environ[\"QDRANT_URL\"]\n",
    "openai_api_key = os.environ[\"OPENAI_API_KEY\"]"
   ]
  },
  {
   "cell_type": "code",
   "execution_count": 3,
   "id": "142c2e9f-0ab0-493e-af23-5eedd5c8727d",
   "metadata": {},
   "outputs": [],
   "source": [
    "client = OpenAI(api_key=openai_api_key)"
   ]
  },
  {
   "cell_type": "code",
   "execution_count": 4,
   "id": "7740e588-0aef-4396-bf5d-5c86df1de0d0",
   "metadata": {},
   "outputs": [],
   "source": [
    "qdrant_client = QdrantClient(url=qdrant_url, api_key=qdrant_api_key)"
   ]
  },
  {
   "cell_type": "code",
   "execution_count": 5,
   "id": "2001424a",
   "metadata": {},
   "outputs": [],
   "source": [
    "def create_embedding(text):\n",
    "    response = client.embeddings.create(input=text, model=\"text-embedding-ada-002\")\n",
    "    return response.data[0].embedding"
   ]
  },
  {
   "cell_type": "code",
   "execution_count": 6,
   "id": "f3b3b26d",
   "metadata": {},
   "outputs": [],
   "source": [
    "query = \"I'm looking for a graphic novel about the monkey king.\"\n",
    "\n",
    "query_vector = create_embedding(query)"
   ]
  },
  {
   "cell_type": "code",
   "execution_count": 7,
   "id": "e923a7b9",
   "metadata": {},
   "outputs": [],
   "source": [
    "collection_name = \"best-book-ever\"\n",
    "search_results = qdrant_client.search(\n",
    "    collection_name=collection_name,\n",
    "    query_vector=query_vector,\n",
    "    limit=5,\n",
    ")"
   ]
  },
  {
   "cell_type": "code",
   "execution_count": 9,
   "id": "15cbf386",
   "metadata": {},
   "outputs": [
    {
     "data": {
      "text/plain": [
       "list"
      ]
     },
     "execution_count": 9,
     "metadata": {},
     "output_type": "execute_result"
    }
   ],
   "source": [
    "type(search_results)"
   ]
  },
  {
   "cell_type": "code",
   "execution_count": 10,
   "id": "0682b063",
   "metadata": {},
   "outputs": [
    {
     "name": "stdout",
     "output_type": "stream",
     "text": [
      "<class 'qdrant_client.http.models.models.ScoredPoint'>\n",
      "Monkey: The Journey to the West\n",
      "['Classics', 'Fiction', 'Fantasy', 'China', 'Mythology', 'Literature', 'Chinese Literature', 'Asia', 'Adventure', 'Novels']\n",
      "\n",
      "<class 'qdrant_client.http.models.models.ScoredPoint'>\n",
      "American Born Chinese\n",
      "['Graphic Novels', 'Young Adult', 'Comics', 'Fiction', 'Fantasy', 'Graphic Novels Comics', 'Teen', 'Coming Of Age', 'School', 'Cultural']\n",
      "\n",
      "<class 'qdrant_client.http.models.models.ScoredPoint'>\n",
      "Monkey King\n",
      "['Fiction', 'China', 'Contemporary']\n",
      "\n",
      "<class 'qdrant_client.http.models.models.ScoredPoint'>\n",
      "Red Earth and Pouring Rain\n",
      "['Fiction', 'India', 'Fantasy', 'Magical Realism', 'Indian Literature', 'Literature', 'Asia', 'Literary Fiction', 'Novels', 'Historical Fiction']\n",
      "\n",
      "<class 'qdrant_client.http.models.models.ScoredPoint'>\n",
      "Prince Valiant Vol. 1: The Prophecy\n",
      "['Comics', 'Fantasy', 'Graphic Novels', 'Fiction']\n",
      "\n"
     ]
    }
   ],
   "source": [
    "for hit in search_results:\n",
    "    print(type(hit))\n",
    "    print(hit.payload['title'])\n",
    "    print(hit.payload['genres_list'])\n",
    "    print(\"\")"
   ]
  },
  {
   "cell_type": "code",
   "execution_count": 20,
   "id": "2f4f2cda",
   "metadata": {},
   "outputs": [
    {
     "name": "stdout",
     "output_type": "stream",
     "text": [
      "<u>Result #1</u> \n",
      "Title: Monkey: The Journey to the West \n",
      "Author: Wu Cheng'en, Arthur Waley (Translator/Adapter), Hu Shih (Introduction) \n",
      "Description: Probably the most popular book in the history of the Far East, this classic sixteenth century novel is a combination of picaresque novel and folk epic that mixes satire, allegory, and history into a rollicking adventure. It is the story of the roguish Monkey and his encounters with major and minor spirits, gods, demigods, demons, ogres, monsters, and fairies. This translation, by the distinguished scholar Arthur Waley, is the first accurate English version; it makes available to the Western reader a faithful reproduction of the spirit and meaning of the original.\n",
      "\n",
      "Genres: Classics, Fiction, Fantasy, China, Mythology, Literature, Chinese Literature, Asia, Adventure, Novels\n",
      "\n",
      "\n",
      "<u>Result #2</u> \n",
      "Title: American Born Chinese \n",
      "Author: Gene Luen Yang (Goodreads Author) \n",
      "Description: All Jin Wang wants is to fit in. When his family moves to a new neighborhood, he suddenly finds that he's the only Chinese American student at his school. Jocks and bullies pick on him constantly, and he has hardly any friends. Then, to make matters worse, he falls in love with an all-American girl...Born to rule over all the monkeys in the world, the story of the Monkey King is one of the oldest and greatest Chinese fables. Adored by his subjects, master of the arts of kung-fu, he is the most powerful monkey on earth. But the Monkey King doesn't want to be a monkey. He wants to be hailed as a god...Chin-Kee is the ultimate negative Chinese stereotype, and he's ruining his cousin Danny's life. Danny's a popular kid at school, but every year Chin-Kee comes to visit, and every year Danny has to transfer to a new school to escape the shame. This year, though, things quickly go from bad to worse...These three apparently unrelated tales come together with an unexpected twist, in a modern fable that is hilarious, poignant and action-packed. American Born Chinese is an amazing rise, all the way up to the astonishing climax--and confirms what a growing number of readers already know: Gene Yang is a major talent.\n",
      "\n",
      "Genres: Graphic Novels, Young Adult, Comics, Fiction, Fantasy, Graphic Novels Comics, Teen, Coming Of Age, School, Cultural\n",
      "\n",
      "\n",
      "<u>Result #3</u> \n",
      "Title: Monkey King \n",
      "Author: Patricia Chao \n",
      "Description: Monkey King&nbsp tells the story of 28-year-old Sally Wang, a Chinese-American woman whose mental breakdown and sojourn in a hospital set her firmly on the path of memory. Her recovery takes place against a rich tapestry of culture and personality that unfolds before our eyes under the Monkey King's ghostly shadow. For Sally has been living with a terrible family secret, one that has shattered her life. How she pulls together her Chinese and American identities into a cohesive self and rejoins the land of the living is recounted with a wry and refreshing honesty.\n",
      "\n",
      "Genres: Fiction, China, Contemporary\n",
      "\n",
      "\n",
      "<u>Result #4</u> \n",
      "Title: Red Earth and Pouring Rain \n",
      "Author: Vikram Chandra, Jordan Pavlin (Editor) \n",
      "Description: Combining Indian myths, epic history, and the story of three college kids in search of America, a narrative includes the monkey's story of an Indian poet and warrior and an American road novel of college students driving cross-country.\n",
      "\n",
      "Genres: Fiction, India, Fantasy, Magical Realism, Indian Literature, Literature, Asia, Literary Fiction, Novels, Historical Fiction\n",
      "\n",
      "\n",
      "<u>Result #5</u> \n",
      "Title: Prince Valiant Vol. 1: The Prophecy \n",
      "Author: Hal Foster \n",
      "Description: No description available.\n",
      "\n",
      "Genres: Comics, Fantasy, Graphic Novels, Fiction\n"
     ]
    }
   ],
   "source": [
    "hits = []\n",
    "for hdx, hit in enumerate(search_results):\n",
    "    hitstr = f\"<u>Result #{hdx+1}</u> \\nTitle: {hit.payload[\"title\"]} \\nAuthor: {hit.payload[\"author\"]} \\n{hit.payload[\"descriptor\"]}\"\n",
    "    \n",
    "    hits.append(hitstr)\n",
    "\n",
    "hitstr = \"\\n\\n\\n\".join(hits)\n",
    "print(hitstr)"
   ]
  },
  {
   "cell_type": "code",
   "execution_count": null,
   "id": "0da30cf7",
   "metadata": {},
   "outputs": [
    {
     "name": "stdout",
     "output_type": "stream",
     "text": [
      "Result #1:\n",
      "Title: Monkey: The Journey to the West\n",
      "Author: Wu Cheng'en, Arthur Waley (Translator/Adapter), Hu Shih (Introduction)\n",
      "Description: Description: Probably the most popular book in the history of the Far East, this classic sixteenth century novel is a combination of picaresque novel ...\n",
      "\n",
      "Result #2:\n",
      "Title: American Born Chinese\n",
      "Author: Gene Luen Yang (Goodreads Author)\n",
      "Description: Description: All Jin Wang wants is to fit in. When his family moves to a new neighborhood, he suddenly finds that he's the only Chinese American stude...\n",
      "\n",
      "Result #3:\n",
      "Title: Monkey King\n",
      "Author: Patricia Chao\n",
      "Description: Description: Monkey King&nbsp tells the story of 28-year-old Sally Wang, a Chinese-American woman whose mental breakdown and sojourn in a hospital set...\n",
      "\n",
      "Result #4:\n",
      "Title: Red Earth and Pouring Rain\n",
      "Author: Vikram Chandra, Jordan Pavlin (Editor)\n",
      "Description: Description: Combining Indian myths, epic history, and the story of three college kids in search of America, a narrative includes the monkey's story o...\n",
      "\n",
      "Result #5:\n",
      "Title: Prince Valiant Vol. 1: The Prophecy\n",
      "Author: Hal Foster\n",
      "Description: Description: No description available.\n",
      "\n",
      "Genres: Comics, Fantasy, Graphic Novels, Fiction\n"
     ]
    }
   ],
   "source": [
    "hits = []\n",
    "for hdx, hit in enumerate(search_results):\n",
    "    title = hit.payload.get(\"title\", \"Unknown title\")\n",
    "    author = hit.payload.get(\"author\", \"Unknown author\")\n",
    "    description = hit.payload.get(\"description\", \"No description available.\")\n",
    "    genres = hit.payload.get(\"genres\", \"Unknown genre\")\n",
    "\n",
    "    # Truncate descriptor for brevity\n",
    "    if len(description) > 150:\n",
    "        description = description[:150] + \"...\"\n",
    "\n",
    "    # Format hit information\n",
    "    hitstr = (\n",
    "        f\"Result #{hdx + 1}:\\n\"\n",
    "        f\"Title: {title}\\n\"\n",
    "        f\"Author: {author}\\n\"\n",
    "        f\"Description: {description}\\n\"\n",
    "        f\"Genres: {genres}\\n\"\n",
    "    )\n",
    "    hits.append(hitstr)\n",
    "\n",
    "# Combine all hits into a single string\n",
    "context = \"\\n\".join(hits)\n",
    "print(context)"
   ]
  },
  {
   "cell_type": "code",
   "execution_count": 5,
   "id": "8ac9bb0f-ce84-47dc-ba04-0bf712b97fad",
   "metadata": {},
   "outputs": [],
   "source": [
    "system_message = \"\"\"\n",
    "You are a retrieval agent for a vector database of books. A user will provide a query that will ask for book recommendations.\n",
    "If the user's message is not intended to search for a book, you will return an empty string. Otherwise, your job is to extract the key\n",
    "information from the query to search the vector database. \n",
    "\n",
    "The vectors in the database are embeddings of the book descriptions and the genres. You will formulate a text string consisting of a\n",
    "description and genres and return it.\n",
    "\"\"\"\n",
    "\n",
    "# Refined by ChatGPT\n",
    "system_message = \"\"\"\n",
    "You are a retrieval agent for a vector database of books. YOU ARE NOT A CHATBOT. A user will provide a query to ask for book recommendations.\n",
    "If the user's query is not related to searching for a book (e.g., casual conversation or off-topic request), respond with an empty string.\n",
    "\n",
    "Your primary task is to extract the key information from the user's query to perform a search in the vector database. \n",
    "The database vectors represent embeddings of book descriptions and genres.\n",
    "\n",
    "To assist with the search, you will formulate and return a text string combining the extracted description and genres from the query.\n",
    "If the user's query does not include specific genres or a description, omit those fields from the output but ensure the format remains consistent.\n",
    "\n",
    "This is the format you will use:\n",
    "\n",
    "Description: some_description\n",
    "\n",
    "Genres: list_of_genres\n",
    "\"\"\""
   ]
  },
  {
   "cell_type": "code",
   "execution_count": 6,
   "id": "667bb563-2d41-4b05-a4e2-5ae6db90f5bc",
   "metadata": {},
   "outputs": [],
   "source": [
    "queries = [\"What’s your favorite book?\",\n",
    "           \"Can you recommend a fantasy book with dragons and epic battles?\", \n",
    "          ]\n",
    "\n",
    "queries = [\"What are some good books for children about adventure?\"]"
   ]
  },
  {
   "cell_type": "code",
   "execution_count": 7,
   "id": "f8167c2a-d1c5-485a-a745-5a332c7b7732",
   "metadata": {},
   "outputs": [
    {
     "name": "stdout",
     "output_type": "stream",
     "text": [
      "Query: What are some good books for children about adventure? Response: Description: adventure books for children\n",
      "\n",
      "Genres: children, adventure\n"
     ]
    }
   ],
   "source": [
    "for query in queries:\n",
    "    response = openai_retriever.chat.completions.create(\n",
    "        model=\"gpt-3.5-turbo\",\n",
    "        messages=[\n",
    "            {\"role\": \"system\", \"content\": system_message},\n",
    "            {\"role\": \"user\", \"content\": query},\n",
    "        ]\n",
    "    )\n",
    "\n",
    "    print(f\"Query: {query} Response: {response.choices[0].message.content}\")"
   ]
  },
  {
   "cell_type": "code",
   "execution_count": null,
   "id": "4daa13cf-cc1d-4b65-a7c8-6761b79e8b7b",
   "metadata": {},
   "outputs": [],
   "source": []
  }
 ],
 "metadata": {
  "kernelspec": {
   "display_name": "env",
   "language": "python",
   "name": "python3"
  },
  "language_info": {
   "codemirror_mode": {
    "name": "ipython",
    "version": 3
   },
   "file_extension": ".py",
   "mimetype": "text/x-python",
   "name": "python",
   "nbconvert_exporter": "python",
   "pygments_lexer": "ipython3",
   "version": "3.12.6"
  }
 },
 "nbformat": 4,
 "nbformat_minor": 5
}
