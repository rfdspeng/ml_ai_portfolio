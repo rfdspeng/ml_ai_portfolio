{
 "cells": [
  {
   "cell_type": "code",
   "execution_count": 1,
   "id": "440efd5e-dde4-4db1-a92c-db311491ea80",
   "metadata": {},
   "outputs": [],
   "source": [
    "import pandas as pd\n",
    "import numpy as np\n",
    "from qdrant_client import QdrantClient\n",
    "# from qdrant_client.http.models import VectorParams, Distance\n",
    "from openai import OpenAI\n",
    "import os\n",
    "import random"
   ]
  },
  {
   "cell_type": "code",
   "execution_count": 2,
   "id": "ab0a9949-af51-49da-9857-50b5b0fece42",
   "metadata": {},
   "outputs": [],
   "source": [
    "qdrant_api_key = os.environ[\"QDRANT_API_KEY\"]\n",
    "qdrant_url = \"https://fd45ddab-8b96-4a40-9339-0671dbe64dcc.europe-west3-0.gcp.cloud.qdrant.io:6333\"\n",
    "openai_api_key = os.environ[\"OPENAI_API_KEY\"]"
   ]
  },
  {
   "cell_type": "code",
   "execution_count": 5,
   "id": "142c2e9f-0ab0-493e-af23-5eedd5c8727d",
   "metadata": {},
   "outputs": [],
   "source": [
    "openai_retriever = OpenAI(api_key=openai_api_key)"
   ]
  },
  {
   "cell_type": "code",
   "execution_count": 7,
   "id": "7740e588-0aef-4396-bf5d-5c86df1de0d0",
   "metadata": {},
   "outputs": [],
   "source": [
    "qdrant_client = QdrantClient(url=qdrant_url, api_key=qdrant_api_key)"
   ]
  },
  {
   "cell_type": "code",
   "execution_count": 14,
   "id": "8ac9bb0f-ce84-47dc-ba04-0bf712b97fad",
   "metadata": {},
   "outputs": [],
   "source": [
    "system_message = \"\"\"\n",
    "You are a retrieval agent for a vector database of books. A user will provide a query that will ask for book recommendations.\n",
    "If the user's message is not intended to search for a book, you will return an empty string. Otherwise, your job is to extract the key\n",
    "information from the query to search the vector database. \n",
    "\n",
    "The vectors in the database are embeddings of the book descriptions and the genres. You will formulate a text string consisting of a\n",
    "description and genres and return it.\n",
    "\"\"\"\n",
    "\n",
    "# Refined by ChatGPT\n",
    "system_message = \"\"\"\n",
    "You are a retrieval agent for a vector database of books. YOU ARE NOT A CHATBOT. A user will provide a query to ask for book recommendations.\n",
    "If the user's query is not related to searching for a book (e.g., casual conversation or off-topic request), respond with an empty string.\n",
    "\n",
    "Your primary task is to extract the key information from the user's query to perform a search in the vector database. \n",
    "The database vectors represent embeddings of book descriptions and genres.\n",
    "\n",
    "To assist with the search, you will formulate and return a text string combining the extracted description and genres from the query.\n",
    "If the user's query does not include specific genres or a description, omit those fields from the output but ensure the format remains consistent.\n",
    "\n",
    "This is the format you will use:\n",
    "\n",
    "Description: some_description\n",
    "\n",
    "Genres: list_of_genres\n",
    "\"\"\""
   ]
  },
  {
   "cell_type": "code",
   "execution_count": 15,
   "id": "667bb563-2d41-4b05-a4e2-5ae6db90f5bc",
   "metadata": {},
   "outputs": [],
   "source": [
    "queries = [\"What’s your favorite book?\",\n",
    "           \"Can you recommend a fantasy book with dragons and epic battles?\", \n",
    "          ]\n",
    "\n",
    "queries = [\"What are some good books for children about adventure?\"]"
   ]
  },
  {
   "cell_type": "code",
   "execution_count": 16,
   "id": "f8167c2a-d1c5-485a-a745-5a332c7b7732",
   "metadata": {},
   "outputs": [
    {
     "name": "stdout",
     "output_type": "stream",
     "text": [
      "Query: What are some good books for children about adventure? Response: Description: books for children about adventure\n",
      "\n",
      "Genres: Children, Adventure\n"
     ]
    }
   ],
   "source": [
    "for query in queries:\n",
    "    response = openai_retriever.chat.completions.create(\n",
    "        model=\"gpt-3.5-turbo\",\n",
    "        messages=[\n",
    "            {\"role\": \"system\", \"content\": system_message},\n",
    "            {\"role\": \"user\", \"content\": query},\n",
    "        ]\n",
    "    )\n",
    "\n",
    "    print(f\"Query: {query} Response: {response.choices[0].message.content}\")"
   ]
  },
  {
   "cell_type": "code",
   "execution_count": null,
   "id": "4daa13cf-cc1d-4b65-a7c8-6761b79e8b7b",
   "metadata": {},
   "outputs": [],
   "source": []
  }
 ],
 "metadata": {
  "kernelspec": {
   "display_name": "Python 3 (ipykernel)",
   "language": "python",
   "name": "python3"
  },
  "language_info": {
   "codemirror_mode": {
    "name": "ipython",
    "version": 3
   },
   "file_extension": ".py",
   "mimetype": "text/x-python",
   "name": "python",
   "nbconvert_exporter": "python",
   "pygments_lexer": "ipython3",
   "version": "3.12.6"
  }
 },
 "nbformat": 4,
 "nbformat_minor": 5
}
