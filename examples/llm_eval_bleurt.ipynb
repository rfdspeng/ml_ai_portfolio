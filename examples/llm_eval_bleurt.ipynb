{
 "cells": [
  {
   "cell_type": "markdown",
   "id": "55d08822-f29c-4dcb-beda-699092c8d580",
   "metadata": {},
   "source": [
    "**https://huggingface.co/spaces/evaluate-metric/bleurt**"
   ]
  },
  {
   "cell_type": "code",
   "execution_count": 1,
   "id": "93e4e9d6-5a73-47c6-8af0-bc0bdccd12bf",
   "metadata": {},
   "outputs": [],
   "source": [
    "import evaluate"
   ]
  },
  {
   "cell_type": "code",
   "execution_count": 2,
   "id": "0d88ba22-e483-4e48-99ca-9d37ea76cc19",
   "metadata": {},
   "outputs": [
    {
     "name": "stderr",
     "output_type": "stream",
     "text": [
      "Using default BLEURT-Base checkpoint for sequence maximum length 128. You can use a bigger model for better results with e.g.: evaluate.load('bleurt', 'bleurt-large-512').\n"
     ]
    },
    {
     "name": "stdout",
     "output_type": "stream",
     "text": [
      "WARNING:tensorflow:From C:\\ProgramData\\anaconda3\\envs\\env_llm_eval\\Lib\\site-packages\\bleurt\\score.py:160: The name tf.logging.info is deprecated. Please use tf.compat.v1.logging.info instead.\n",
      "\n",
      "INFO:tensorflow:Reading checkpoint C:\\Users\\Ryan Tsai\\.cache\\huggingface\\metrics\\bleurt\\default\\downloads\\extracted\\332497978efb46f414931ec277f21796974af583942c23113b2ae178dc03920d\\bleurt-base-128.\n",
      "INFO:tensorflow:Config file found, reading.\n",
      "INFO:tensorflow:Will load checkpoint bert_custom\n",
      "INFO:tensorflow:Loads full paths and checks that files exists.\n",
      "INFO:tensorflow:... name:bert_custom\n",
      "INFO:tensorflow:... vocab_file:vocab.txt\n",
      "INFO:tensorflow:... bert_config_file:bert_config.json\n",
      "INFO:tensorflow:... do_lower_case:True\n",
      "INFO:tensorflow:... max_seq_length:128\n",
      "INFO:tensorflow:Creating BLEURT scorer.\n",
      "INFO:tensorflow:Creating WordPiece tokenizer.\n",
      "WARNING:tensorflow:From C:\\ProgramData\\anaconda3\\envs\\env_llm_eval\\Lib\\site-packages\\bleurt\\lib\\bert_tokenization.py:94: The name tf.gfile.GFile is deprecated. Please use tf.io.gfile.GFile instead.\n",
      "\n",
      "INFO:tensorflow:WordPiece tokenizer instantiated.\n",
      "INFO:tensorflow:Creating Eager Mode predictor.\n",
      "INFO:tensorflow:Loading model.\n",
      "INFO:tensorflow:BLEURT initialized.\n"
     ]
    },
    {
     "name": "stderr",
     "output_type": "stream",
     "text": [
      "INFO:tensorflow:BLEURT initialized.\n"
     ]
    }
   ],
   "source": [
    "bleurt = evaluate.load('bleurt', module_type='metric', checkpoint='bleurt-base-512')"
   ]
  },
  {
   "cell_type": "code",
   "execution_count": 11,
   "id": "9f095112-244c-4d9c-9003-aaaa3ed3b93b",
   "metadata": {},
   "outputs": [],
   "source": [
    "r = [\"The cat chased the mouse.\"]\n",
    "p = [\"The mouse was chased by the cat.\"]"
   ]
  },
  {
   "cell_type": "code",
   "execution_count": 12,
   "id": "367a35b7-381d-4206-9904-7aad775ddc62",
   "metadata": {},
   "outputs": [
    {
     "data": {
      "text/plain": [
       "{'scores': [0.30159029364585876]}"
      ]
     },
     "execution_count": 12,
     "metadata": {},
     "output_type": "execute_result"
    }
   ],
   "source": [
    "results = bleurt.compute(predictions=p, references=r)\n",
    "results"
   ]
  },
  {
   "cell_type": "code",
   "execution_count": 16,
   "id": "7e94e547-da07-4d9b-8464-9e9275cc5f08",
   "metadata": {},
   "outputs": [],
   "source": [
    "r = [\"The cat chased the mouse.\"]\n",
    "p = [\"The mouse chased the cat.\"]"
   ]
  },
  {
   "cell_type": "code",
   "execution_count": 17,
   "id": "5e3cded0-b451-43bd-a047-2588c85506c3",
   "metadata": {},
   "outputs": [
    {
     "data": {
      "text/plain": [
       "{'scores': [0.8617150783538818]}"
      ]
     },
     "execution_count": 17,
     "metadata": {},
     "output_type": "execute_result"
    }
   ],
   "source": [
    "results = bleurt.compute(predictions=p, references=r)\n",
    "results"
   ]
  },
  {
   "cell_type": "code",
   "execution_count": 3,
   "id": "d8a2c9b8-f805-4a26-b97d-c16c7ad067e3",
   "metadata": {},
   "outputs": [],
   "source": [
    "r = ['Hip hop dance originated in the 1970s in the streets of New York City. It emerged as part of the broader hip hop culture, which includes DJing, rapping, and graffiti art. The dance style was heavily influenced by African and Latin American dance traditions. Over time, hip hop dance evolved into several distinct styles, including breaking, locking, and popping. These styles spread globally through films, music videos, and competitions.']\n",
    "p = ['The roots of hip hop dance can be traced back to the 1970s in New York City. It developed alongside hip hop culture, which also included DJing, MCing, and graffiti. Inspired by African and Latin dance forms, hip hop dancers began to experiment with new movements. Over the years, different styles like breaking, locking, and popping became popular. Hip hop dance gained international recognition through movies, music videos, and dance battles.']"
   ]
  },
  {
   "cell_type": "code",
   "execution_count": 4,
   "id": "6372b855-ffcd-464a-ba25-81d3dcd39355",
   "metadata": {},
   "outputs": [
    {
     "data": {
      "text/plain": [
       "{'scores': [0.27092352509498596]}"
      ]
     },
     "execution_count": 4,
     "metadata": {},
     "output_type": "execute_result"
    }
   ],
   "source": [
    "results = bleurt.compute(predictions=p, references=r)\n",
    "results"
   ]
  }
 ],
 "metadata": {
  "kernelspec": {
   "display_name": "Python 3 (ipykernel)",
   "language": "python",
   "name": "python3"
  },
  "language_info": {
   "codemirror_mode": {
    "name": "ipython",
    "version": 3
   },
   "file_extension": ".py",
   "mimetype": "text/x-python",
   "name": "python",
   "nbconvert_exporter": "python",
   "pygments_lexer": "ipython3",
   "version": "3.12.4"
  }
 },
 "nbformat": 4,
 "nbformat_minor": 5
}
