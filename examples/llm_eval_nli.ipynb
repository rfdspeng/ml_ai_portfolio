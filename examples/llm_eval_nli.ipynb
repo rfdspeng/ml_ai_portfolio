{
 "cells": [
  {
   "cell_type": "markdown",
   "id": "1ea6396f-724a-4592-b5e1-bedc06292eab",
   "metadata": {},
   "source": [
    "**https://huggingface.co/FacebookAI/roberta-large-mnli**"
   ]
  },
  {
   "cell_type": "code",
   "execution_count": 1,
   "id": "aa792017-7b65-4437-b82c-4b6ab45f7a1e",
   "metadata": {},
   "outputs": [],
   "source": [
    "from transformers import pipeline"
   ]
  },
  {
   "cell_type": "code",
   "execution_count": 2,
   "id": "1fce907d-7f14-4629-ac00-a92107421dd1",
   "metadata": {},
   "outputs": [
    {
     "name": "stdout",
     "output_type": "stream",
     "text": [
      "WARNING:tensorflow:From C:\\ProgramData\\anaconda3\\envs\\env_llm_eval\\Lib\\site-packages\\tf_keras\\src\\losses.py:2976: The name tf.losses.sparse_softmax_cross_entropy is deprecated. Please use tf.compat.v1.losses.sparse_softmax_cross_entropy instead.\n",
      "\n"
     ]
    },
    {
     "name": "stderr",
     "output_type": "stream",
     "text": [
      "Some weights of the model checkpoint at FacebookAI/roberta-large-mnli were not used when initializing RobertaForSequenceClassification: ['roberta.pooler.dense.bias', 'roberta.pooler.dense.weight']\n",
      "- This IS expected if you are initializing RobertaForSequenceClassification from the checkpoint of a model trained on another task or with another architecture (e.g. initializing a BertForSequenceClassification model from a BertForPreTraining model).\n",
      "- This IS NOT expected if you are initializing RobertaForSequenceClassification from the checkpoint of a model that you expect to be exactly identical (initializing a BertForSequenceClassification model from a BertForSequenceClassification model).\n"
     ]
    }
   ],
   "source": [
    "nli = pipeline(\"text-classification\", model=\"FacebookAI/roberta-large-mnli\")"
   ]
  },
  {
   "cell_type": "code",
   "execution_count": 3,
   "id": "23c90370-34b2-47a5-a70c-d8101f594c21",
   "metadata": {},
   "outputs": [],
   "source": [
    "r = \"The cat chased the mouse.\"\n",
    "p = \"The mouse was chased by the cat.\""
   ]
  },
  {
   "cell_type": "code",
   "execution_count": 12,
   "id": "eadda208-f427-405d-8e01-3df211b4c5c8",
   "metadata": {},
   "outputs": [
    {
     "name": "stdout",
     "output_type": "stream",
     "text": [
      "The cat chased the mouse. </s> The mouse chased the cat.\n"
     ]
    },
    {
     "data": {
      "text/plain": [
       "[{'label': 'CONTRADICTION', 'score': 0.9986107349395752},\n",
       " {'label': 'NEUTRAL', 'score': 0.0009133783169090748},\n",
       " {'label': 'ENTAILMENT', 'score': 0.0004757943388540298}]"
      ]
     },
     "execution_count": 12,
     "metadata": {},
     "output_type": "execute_result"
    }
   ],
   "source": [
    "print(f\"{r} </s> {p}\")\n",
    "results = nli(f\"{r} </s> {p}\", truncation=True, top_k=None)\n",
    "results"
   ]
  },
  {
   "cell_type": "code",
   "execution_count": 5,
   "id": "5a9f9a8c-6267-4d8b-a62d-2301d7e98ef3",
   "metadata": {},
   "outputs": [],
   "source": [
    "r = \"The cat chased the mouse.\"\n",
    "p = \"The mouse chased the cat.\""
   ]
  },
  {
   "cell_type": "code",
   "execution_count": 13,
   "id": "f1ec743b-dea4-49f4-8858-2884b9e153e2",
   "metadata": {},
   "outputs": [
    {
     "name": "stdout",
     "output_type": "stream",
     "text": [
      "The cat chased the mouse. </s> The mouse chased the cat.\n"
     ]
    },
    {
     "data": {
      "text/plain": [
       "[{'label': 'CONTRADICTION', 'score': 0.9986107349395752},\n",
       " {'label': 'NEUTRAL', 'score': 0.0009133783169090748},\n",
       " {'label': 'ENTAILMENT', 'score': 0.0004757943388540298}]"
      ]
     },
     "execution_count": 13,
     "metadata": {},
     "output_type": "execute_result"
    }
   ],
   "source": [
    "print(f\"{r} </s> {p}\")\n",
    "results = nli(f\"{r} </s> {p}\", truncation=True, top_k=None)\n",
    "results"
   ]
  },
  {
   "cell_type": "code",
   "execution_count": 14,
   "id": "b5c848d3-1228-4943-b9b5-1bd4fb39f4ab",
   "metadata": {},
   "outputs": [],
   "source": [
    "r = 'Hip hop dance originated in the 1970s in the streets of New York City. It emerged as part of the broader hip hop culture, which includes DJing, rapping, and graffiti art. The dance style was heavily influenced by African and Latin American dance traditions. Over time, hip hop dance evolved into several distinct styles, including breaking, locking, and popping. These styles spread globally through films, music videos, and competitions.'\n",
    "p = 'The roots of hip hop dance can be traced back to the 1970s in New York City. It developed alongside hip hop culture, which also included DJing, MCing, and graffiti. Inspired by African and Latin dance forms, hip hop dancers began to experiment with new movements. Over the years, different styles like breaking, locking, and popping became popular. Hip hop dance gained international recognition through movies, music videos, and dance battles.'"
   ]
  },
  {
   "cell_type": "code",
   "execution_count": 17,
   "id": "e6237898-91d3-45aa-801d-8b6a810fbea1",
   "metadata": {},
   "outputs": [
    {
     "name": "stdout",
     "output_type": "stream",
     "text": [
      "Hip hop dance originated in the 1970s in the streets of New York City. It emerged as part of the broader hip hop culture, which includes DJing, rapping, and graffiti art. The dance style was heavily influenced by African and Latin American dance traditions. Over time, hip hop dance evolved into several distinct styles, including breaking, locking, and popping. These styles spread globally through films, music videos, and competitions. </s> The roots of hip hop dance can be traced back to the 1970s in New York City. It developed alongside hip hop culture, which also included DJing, MCing, and graffiti. Inspired by African and Latin dance forms, hip hop dancers began to experiment with new movements. Over the years, different styles like breaking, locking, and popping became popular. Hip hop dance gained international recognition through movies, music videos, and dance battles.\n"
     ]
    },
    {
     "data": {
      "text/plain": [
       "[{'label': 'NEUTRAL', 'score': 0.5340510010719299},\n",
       " {'label': 'ENTAILMENT', 'score': 0.46386513113975525},\n",
       " {'label': 'CONTRADICTION', 'score': 0.002083895727992058}]"
      ]
     },
     "execution_count": 17,
     "metadata": {},
     "output_type": "execute_result"
    }
   ],
   "source": [
    "print(f\"{r} </s> {p}\")\n",
    "results = nli(f\"{r} </s> {p}\", truncation=True, top_k=None)\n",
    "results"
   ]
  },
  {
   "cell_type": "code",
   "execution_count": 18,
   "id": "a79c89b4-8a3d-40d5-8be0-a094d913d4c6",
   "metadata": {},
   "outputs": [],
   "source": [
    "r = 'Clean-up operations are continuing across the Scottish Borders and Dumfries and Galloway after flooding caused by Storm Frank.'\n",
    "p = ' First Minister Nicola Sturgeon visited the area to inspect the damage . Many businesses and householders were affected by flooding in Newton Stewart . Many roads in Peeblesshire remain badly affected by standing water . Flood alert remains in place across the Borders because of the constant rain . Peebles was badly hit by problems, sparking calls to introduce more defences .'"
   ]
  },
  {
   "cell_type": "code",
   "execution_count": 19,
   "id": "81fa1c8a-5322-49da-ac7c-8c1abf29c169",
   "metadata": {},
   "outputs": [
    {
     "name": "stdout",
     "output_type": "stream",
     "text": [
      "Clean-up operations are continuing across the Scottish Borders and Dumfries and Galloway after flooding caused by Storm Frank. </s>  First Minister Nicola Sturgeon visited the area to inspect the damage . Many businesses and householders were affected by flooding in Newton Stewart . Many roads in Peeblesshire remain badly affected by standing water . Flood alert remains in place across the Borders because of the constant rain . Peebles was badly hit by problems, sparking calls to introduce more defences .\n"
     ]
    },
    {
     "data": {
      "text/plain": [
       "[{'label': 'NEUTRAL', 'score': 0.9923406839370728},\n",
       " {'label': 'CONTRADICTION', 'score': 0.005516839679330587},\n",
       " {'label': 'ENTAILMENT', 'score': 0.0021425061859190464}]"
      ]
     },
     "execution_count": 19,
     "metadata": {},
     "output_type": "execute_result"
    }
   ],
   "source": [
    "print(f\"{r} </s> {p}\")\n",
    "results = nli(f\"{r} </s> {p}\", truncation=True, top_k=None)\n",
    "results"
   ]
  }
 ],
 "metadata": {
  "kernelspec": {
   "display_name": "Python 3 (ipykernel)",
   "language": "python",
   "name": "python3"
  },
  "language_info": {
   "codemirror_mode": {
    "name": "ipython",
    "version": 3
   },
   "file_extension": ".py",
   "mimetype": "text/x-python",
   "name": "python",
   "nbconvert_exporter": "python",
   "pygments_lexer": "ipython3",
   "version": "3.12.4"
  }
 },
 "nbformat": 4,
 "nbformat_minor": 5
}
