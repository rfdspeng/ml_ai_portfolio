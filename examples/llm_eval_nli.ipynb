{
 "cells": [
  {
   "cell_type": "markdown",
   "id": "1ea6396f-724a-4592-b5e1-bedc06292eab",
   "metadata": {},
   "source": [
    "**https://huggingface.co/FacebookAI/roberta-large-mnli**"
   ]
  },
  {
   "cell_type": "code",
   "execution_count": 1,
   "id": "aa792017-7b65-4437-b82c-4b6ab45f7a1e",
   "metadata": {},
   "outputs": [],
   "source": [
    "from transformers import pipeline"
   ]
  },
  {
   "cell_type": "code",
   "execution_count": 2,
   "id": "1fce907d-7f14-4629-ac00-a92107421dd1",
   "metadata": {},
   "outputs": [
    {
     "name": "stdout",
     "output_type": "stream",
     "text": [
      "WARNING:tensorflow:From C:\\ProgramData\\anaconda3\\envs\\env_llm_eval\\Lib\\site-packages\\tf_keras\\src\\losses.py:2976: The name tf.losses.sparse_softmax_cross_entropy is deprecated. Please use tf.compat.v1.losses.sparse_softmax_cross_entropy instead.\n",
      "\n"
     ]
    },
    {
     "name": "stderr",
     "output_type": "stream",
     "text": [
      "Some weights of the model checkpoint at FacebookAI/roberta-large-mnli were not used when initializing RobertaForSequenceClassification: ['roberta.pooler.dense.bias', 'roberta.pooler.dense.weight']\n",
      "- This IS expected if you are initializing RobertaForSequenceClassification from the checkpoint of a model trained on another task or with another architecture (e.g. initializing a BertForSequenceClassification model from a BertForPreTraining model).\n",
      "- This IS NOT expected if you are initializing RobertaForSequenceClassification from the checkpoint of a model that you expect to be exactly identical (initializing a BertForSequenceClassification model from a BertForSequenceClassification model).\n"
     ]
    }
   ],
   "source": [
    "nli = pipeline(\"text-classification\", model=\"FacebookAI/roberta-large-mnli\")"
   ]
  },
  {
   "cell_type": "code",
   "execution_count": 5,
   "id": "23c90370-34b2-47a5-a70c-d8101f594c21",
   "metadata": {},
   "outputs": [],
   "source": [
    "r = \"The cat chased the mouse.\"\n",
    "p = \"The mouse was chased by the cat.\""
   ]
  },
  {
   "cell_type": "code",
   "execution_count": 6,
   "id": "eadda208-f427-405d-8e01-3df211b4c5c8",
   "metadata": {},
   "outputs": [
    {
     "name": "stdout",
     "output_type": "stream",
     "text": [
      "The cat chased the mouse. </s> The mouse was chased by the cat.\n"
     ]
    },
    {
     "data": {
      "text/plain": [
       "[{'label': 'ENTAILMENT', 'score': 0.9928551316261292}]"
      ]
     },
     "execution_count": 6,
     "metadata": {},
     "output_type": "execute_result"
    }
   ],
   "source": [
    "print(f\"{r} </s> {p}\")\n",
    "results = nli(f\"{r} </s> {p}\", truncation=True)\n",
    "results"
   ]
  },
  {
   "cell_type": "code",
   "execution_count": 8,
   "id": "5a9f9a8c-6267-4d8b-a62d-2301d7e98ef3",
   "metadata": {},
   "outputs": [],
   "source": [
    "r = \"The cat chased the mouse.\"\n",
    "p = \"The mouse chased the cat.\""
   ]
  },
  {
   "cell_type": "code",
   "execution_count": 9,
   "id": "f1ec743b-dea4-49f4-8858-2884b9e153e2",
   "metadata": {},
   "outputs": [
    {
     "name": "stdout",
     "output_type": "stream",
     "text": [
      "The cat chased the mouse. </s> The mouse chased the cat.\n"
     ]
    },
    {
     "data": {
      "text/plain": [
       "[{'label': 'CONTRADICTION', 'score': 0.9986107349395752}]"
      ]
     },
     "execution_count": 9,
     "metadata": {},
     "output_type": "execute_result"
    }
   ],
   "source": [
    "print(f\"{r} </s> {p}\")\n",
    "results = nli(f\"{r} </s> {p}\", truncation=True)\n",
    "results"
   ]
  },
  {
   "cell_type": "code",
   "execution_count": null,
   "id": "9df43cff-8a63-4fc8-9c9a-583ebc4955bb",
   "metadata": {},
   "outputs": [],
   "source": []
  }
 ],
 "metadata": {
  "kernelspec": {
   "display_name": "Python 3 (ipykernel)",
   "language": "python",
   "name": "python3"
  },
  "language_info": {
   "codemirror_mode": {
    "name": "ipython",
    "version": 3
   },
   "file_extension": ".py",
   "mimetype": "text/x-python",
   "name": "python",
   "nbconvert_exporter": "python",
   "pygments_lexer": "ipython3",
   "version": "3.12.4"
  }
 },
 "nbformat": 4,
 "nbformat_minor": 5
}
