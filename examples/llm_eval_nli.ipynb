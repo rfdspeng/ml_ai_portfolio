{
 "cells": [
  {
   "cell_type": "markdown",
   "id": "1ea6396f-724a-4592-b5e1-bedc06292eab",
   "metadata": {},
   "source": [
    "**https://huggingface.co/FacebookAI/roberta-large-mnli**"
   ]
  },
  {
   "cell_type": "code",
   "execution_count": 1,
   "id": "aa792017-7b65-4437-b82c-4b6ab45f7a1e",
   "metadata": {},
   "outputs": [],
   "source": [
    "from transformers import pipeline"
   ]
  },
  {
   "cell_type": "code",
   "execution_count": 2,
   "id": "1fce907d-7f14-4629-ac00-a92107421dd1",
   "metadata": {},
   "outputs": [
    {
     "name": "stdout",
     "output_type": "stream",
     "text": [
      "WARNING:tensorflow:From C:\\ProgramData\\anaconda3\\envs\\env_llm_eval\\Lib\\site-packages\\tf_keras\\src\\losses.py:2976: The name tf.losses.sparse_softmax_cross_entropy is deprecated. Please use tf.compat.v1.losses.sparse_softmax_cross_entropy instead.\n",
      "\n"
     ]
    },
    {
     "name": "stderr",
     "output_type": "stream",
     "text": [
      "Some weights of the model checkpoint at FacebookAI/roberta-large-mnli were not used when initializing RobertaForSequenceClassification: ['roberta.pooler.dense.bias', 'roberta.pooler.dense.weight']\n",
      "- This IS expected if you are initializing RobertaForSequenceClassification from the checkpoint of a model trained on another task or with another architecture (e.g. initializing a BertForSequenceClassification model from a BertForPreTraining model).\n",
      "- This IS NOT expected if you are initializing RobertaForSequenceClassification from the checkpoint of a model that you expect to be exactly identical (initializing a BertForSequenceClassification model from a BertForSequenceClassification model).\n"
     ]
    }
   ],
   "source": [
    "nli = pipeline(\"text-classification\", model=\"FacebookAI/roberta-large-mnli\")"
   ]
  },
  {
   "cell_type": "code",
   "execution_count": null,
   "id": "23c90370-34b2-47a5-a70c-d8101f594c21",
   "metadata": {},
   "outputs": [],
   "source": [
    "r = \"The cat chased the mouse.\"\n",
    "p = \"The mouse was chased by the cat.\""
   ]
  },
  {
   "cell_type": "code",
   "execution_count": null,
   "id": "eadda208-f427-405d-8e01-3df211b4c5c8",
   "metadata": {},
   "outputs": [],
   "source": [
    "print(f\"{r} </s> {p}\")\n",
    "results = nli(f\"{r} </s> {p}\", truncation=True, top_k=None)\n",
    "results"
   ]
  },
  {
   "cell_type": "code",
   "execution_count": null,
   "id": "5a9f9a8c-6267-4d8b-a62d-2301d7e98ef3",
   "metadata": {},
   "outputs": [],
   "source": [
    "r = \"The cat chased the mouse.\"\n",
    "p = \"The mouse chased the cat.\""
   ]
  },
  {
   "cell_type": "code",
   "execution_count": null,
   "id": "f1ec743b-dea4-49f4-8858-2884b9e153e2",
   "metadata": {},
   "outputs": [],
   "source": [
    "print(f\"{r} </s> {p}\")\n",
    "results = nli(f\"{r} </s> {p}\", truncation=True, top_k=None)\n",
    "results"
   ]
  },
  {
   "cell_type": "code",
   "execution_count": null,
   "id": "b5c848d3-1228-4943-b9b5-1bd4fb39f4ab",
   "metadata": {},
   "outputs": [],
   "source": [
    "r = 'Hip hop dance originated in the 1970s in the streets of New York City. It emerged as part of the broader hip hop culture, which includes DJing, rapping, and graffiti art. The dance style was heavily influenced by African and Latin American dance traditions. Over time, hip hop dance evolved into several distinct styles, including breaking, locking, and popping. These styles spread globally through films, music videos, and competitions.'\n",
    "p = 'The roots of hip hop dance can be traced back to the 1970s in New York City. It developed alongside hip hop culture, which also included DJing, MCing, and graffiti. Inspired by African and Latin dance forms, hip hop dancers began to experiment with new movements. Over the years, different styles like breaking, locking, and popping became popular. Hip hop dance gained international recognition through movies, music videos, and dance battles.'"
   ]
  },
  {
   "cell_type": "code",
   "execution_count": null,
   "id": "e6237898-91d3-45aa-801d-8b6a810fbea1",
   "metadata": {},
   "outputs": [],
   "source": [
    "print(f\"{r} </s> {p}\")\n",
    "results = nli(f\"{r} </s> {p}\", truncation=True, top_k=None)\n",
    "results"
   ]
  },
  {
   "cell_type": "code",
   "execution_count": null,
   "id": "a79c89b4-8a3d-40d5-8be0-a094d913d4c6",
   "metadata": {},
   "outputs": [],
   "source": [
    "r = 'Clean-up operations are continuing across the Scottish Borders and Dumfries and Galloway after flooding caused by Storm Frank.'\n",
    "p = ' First Minister Nicola Sturgeon visited the area to inspect the damage . Many businesses and householders were affected by flooding in Newton Stewart . Many roads in Peeblesshire remain badly affected by standing water . Flood alert remains in place across the Borders because of the constant rain . Peebles was badly hit by problems, sparking calls to introduce more defences .'"
   ]
  },
  {
   "cell_type": "code",
   "execution_count": null,
   "id": "81fa1c8a-5322-49da-ac7c-8c1abf29c169",
   "metadata": {},
   "outputs": [],
   "source": [
    "print(f\"{r} </s> {p}\")\n",
    "results = nli(f\"{r} </s> {p}\", truncation=True, top_k=None)\n",
    "results"
   ]
  },
  {
   "cell_type": "code",
   "execution_count": 3,
   "id": "e2723b48-c163-4696-a7d0-ce5a7a568881",
   "metadata": {},
   "outputs": [],
   "source": [
    "r = 'Symptoms: no fever, no chills, no cough, no congestion, no nausea, no vomiting, no chest pain, no chest pressure.\\nDiagnosis: hypertension, osteoarthritis, osteoporosis, hypothyroidism, allergic rhinitis, kidney stones\\nHistory of Patient: 76-year-old white female, presents to the clinic today originally for hypertension and a med check, followed by Dr. Kumar, issues stable\\nPlan of Action: N/A'\n",
    "p = 'Symptoms: N/A\\nDiagnosis: hypertension, osteoarthritis, osteoporosis, hypothyroidism, allergic rhinitis, kidney stones\\nHistory of Patient: 76-year-old white female, last seen by Dr. Kumar regarding hypertension, hypoglycemia, hypertension, renal stones, and kidney stones, no changes in Symptoms, no fever, chills, cough, congestion, nausea, vomiting, chest pain, chest pressure\\nPlan of Action: Refill blood pressure medication'"
   ]
  },
  {
   "cell_type": "code",
   "execution_count": 4,
   "id": "44c72629-e5c2-48d4-b859-1b460882dd94",
   "metadata": {},
   "outputs": [
    {
     "name": "stdout",
     "output_type": "stream",
     "text": [
      "Symptoms: no fever, no chills, no cough, no congestion, no nausea, no vomiting, no chest pain, no chest pressure.\n",
      "Diagnosis: hypertension, osteoarthritis, osteoporosis, hypothyroidism, allergic rhinitis, kidney stones\n",
      "History of Patient: 76-year-old white female, presents to the clinic today originally for hypertension and a med check, followed by Dr. Kumar, issues stable\n",
      "Plan of Action: N/A </s> Symptoms: N/A\n",
      "Diagnosis: hypertension, osteoarthritis, osteoporosis, hypothyroidism, allergic rhinitis, kidney stones\n",
      "History of Patient: 76-year-old white female, last seen by Dr. Kumar regarding hypertension, hypoglycemia, hypertension, renal stones, and kidney stones, no changes in Symptoms, no fever, chills, cough, congestion, nausea, vomiting, chest pain, chest pressure\n",
      "Plan of Action: Refill blood pressure medication\n"
     ]
    },
    {
     "data": {
      "text/plain": [
       "[{'label': 'NEUTRAL', 'score': 0.9408418536186218},\n",
       " {'label': 'CONTRADICTION', 'score': 0.03193115070462227},\n",
       " {'label': 'ENTAILMENT', 'score': 0.027226990088820457}]"
      ]
     },
     "execution_count": 4,
     "metadata": {},
     "output_type": "execute_result"
    }
   ],
   "source": [
    "print(f\"{r} </s> {p}\")\n",
    "results = nli(f\"{r} </s> {p}\", truncation=True, top_k=None)\n",
    "results"
   ]
  },
  {
   "cell_type": "code",
   "execution_count": 5,
   "id": "2a2d97e2-6313-4a32-9c7b-29dd243d06ec",
   "metadata": {},
   "outputs": [],
   "source": [
    "r = 'Symptoms: sudden onset headache, blurry vision, scotoma, swelling in face.\\nDiagnosis: migraine.\\nHistory of Patient: 25-year-old right-handed Caucasian female, headache occurring at approximately 11 a.m. on the morning of the July 31, 2008.\\nPlan of Action: administered migraine cocktail, administered morphine.'\n",
    "p = 'Symptoms: sudden onset headache, blurry vision, light sensitivity, dizziness, lightheadedness, nausea, messy writing (right-handed), no vomiting\\nDiagnosis: migraine\\nHistory of Patient: headache started around 11 a.m. on the morning of the July 31, 2008\\nPlan of Action: order migraine cocktail and Morphine'"
   ]
  },
  {
   "cell_type": "code",
   "execution_count": 6,
   "id": "53ca6cf4-bfec-4d9b-89fb-3fd2f9cde0f9",
   "metadata": {},
   "outputs": [
    {
     "name": "stdout",
     "output_type": "stream",
     "text": [
      "Symptoms: sudden onset headache, blurry vision, scotoma, swelling in face.\n",
      "Diagnosis: migraine.\n",
      "History of Patient: 25-year-old right-handed Caucasian female, headache occurring at approximately 11 a.m. on the morning of the July 31, 2008.\n",
      "Plan of Action: administered migraine cocktail, administered morphine. </s> Symptoms: sudden onset headache, blurry vision, light sensitivity, dizziness, lightheadedness, nausea, messy writing (right-handed), no vomiting\n",
      "Diagnosis: migraine\n",
      "History of Patient: headache started around 11 a.m. on the morning of the July 31, 2008\n",
      "Plan of Action: order migraine cocktail and Morphine\n"
     ]
    },
    {
     "data": {
      "text/plain": [
       "[{'label': 'NEUTRAL', 'score': 0.4665500819683075},\n",
       " {'label': 'ENTAILMENT', 'score': 0.4314723014831543},\n",
       " {'label': 'CONTRADICTION', 'score': 0.10197755694389343}]"
      ]
     },
     "execution_count": 6,
     "metadata": {},
     "output_type": "execute_result"
    }
   ],
   "source": [
    "print(f\"{r} </s> {p}\")\n",
    "results = nli(f\"{r} </s> {p}\", truncation=True, top_k=None)\n",
    "results"
   ]
  },
  {
   "cell_type": "code",
   "execution_count": 7,
   "id": "c9effba2-a114-4806-9bc2-3429460cab0f",
   "metadata": {},
   "outputs": [],
   "source": [
    "r = 'Symptoms: itching.\\nDiagnosis: condylomas.\\nHistory of Patient: 22-year-old female, anal region, three to four weeks ago.\\nPlan of Action: N/A.'\n",
    "p = 'Symptoms: itchiness\\nDiagnosis: warts on the back end where the poop comes out\\nHistory of Patient: 22-year-old female noticed the warts approximately three to four weeks ago, no pain or discomfort reported, no other Symptoms reported\\nPlan of Action: N/A'"
   ]
  },
  {
   "cell_type": "code",
   "execution_count": 8,
   "id": "6c93b563-e75a-4823-937a-69e1fb984167",
   "metadata": {},
   "outputs": [
    {
     "name": "stdout",
     "output_type": "stream",
     "text": [
      "Symptoms: itching.\n",
      "Diagnosis: condylomas.\n",
      "History of Patient: 22-year-old female, anal region, three to four weeks ago.\n",
      "Plan of Action: N/A. </s> Symptoms: itchiness\n",
      "Diagnosis: warts on the back end where the poop comes out\n",
      "History of Patient: 22-year-old female noticed the warts approximately three to four weeks ago, no pain or discomfort reported, no other Symptoms reported\n",
      "Plan of Action: N/A\n"
     ]
    },
    {
     "data": {
      "text/plain": [
       "[{'label': 'CONTRADICTION', 'score': 0.44963979721069336},\n",
       " {'label': 'NEUTRAL', 'score': 0.30525344610214233},\n",
       " {'label': 'ENTAILMENT', 'score': 0.2451067417860031}]"
      ]
     },
     "execution_count": 8,
     "metadata": {},
     "output_type": "execute_result"
    }
   ],
   "source": [
    "print(f\"{r} </s> {p}\")\n",
    "results = nli(f\"{r} </s> {p}\", truncation=True, top_k=None)\n",
    "results"
   ]
  },
  {
   "cell_type": "code",
   "execution_count": null,
   "id": "97445bde-1272-45dd-b430-d76b0e28ffb9",
   "metadata": {},
   "outputs": [],
   "source": []
  }
 ],
 "metadata": {
  "kernelspec": {
   "display_name": "Python 3 (ipykernel)",
   "language": "python",
   "name": "python3"
  },
  "language_info": {
   "codemirror_mode": {
    "name": "ipython",
    "version": 3
   },
   "file_extension": ".py",
   "mimetype": "text/x-python",
   "name": "python",
   "nbconvert_exporter": "python",
   "pygments_lexer": "ipython3",
   "version": "3.12.4"
  }
 },
 "nbformat": 4,
 "nbformat_minor": 5
}
