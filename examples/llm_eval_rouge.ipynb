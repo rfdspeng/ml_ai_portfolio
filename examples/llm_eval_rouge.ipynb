{
 "cells": [
  {
   "cell_type": "code",
   "execution_count": 1,
   "id": "b8a30dd7-52ac-4ff7-bca0-146277faee02",
   "metadata": {},
   "outputs": [],
   "source": [
    "import evaluate"
   ]
  },
  {
   "cell_type": "code",
   "execution_count": 2,
   "id": "4254855a-6e78-4014-bda5-2e037d8db769",
   "metadata": {},
   "outputs": [],
   "source": [
    "rouge = evaluate.load('rouge')"
   ]
  },
  {
   "cell_type": "code",
   "execution_count": 3,
   "id": "1ff56478-2731-4c55-a940-f66c0195d60f",
   "metadata": {},
   "outputs": [],
   "source": [
    "r = ['Hip hop dance originated in the 1970s in the streets of New York City. It emerged as part of the broader hip hop culture, which includes DJing, rapping, and graffiti art. The dance style was heavily influenced by African and Latin American dance traditions. Over time, hip hop dance evolved into several distinct styles, including breaking, locking, and popping. These styles spread globally through films, music videos, and competitions.']\n",
    "p = ['The roots of hip hop dance can be traced back to the 1970s in New York City. It developed alongside hip hop culture, which also included DJing, MCing, and graffiti. Inspired by African and Latin dance forms, hip hop dancers began to experiment with new movements. Over the years, different styles like breaking, locking, and popping became popular. Hip hop dance gained international recognition through movies, music videos, and dance battles.']"
   ]
  },
  {
   "cell_type": "code",
   "execution_count": 4,
   "id": "30c6301d-4db3-455a-ab51-5f89a082e4fb",
   "metadata": {},
   "outputs": [
    {
     "data": {
      "text/plain": [
       "{'rouge1': 0.5571428571428572,\n",
       " 'rouge2': 0.3043478260869565,\n",
       " 'rougeL': 0.4714285714285714,\n",
       " 'rougeLsum': 0.4714285714285714}"
      ]
     },
     "execution_count": 4,
     "metadata": {},
     "output_type": "execute_result"
    }
   ],
   "source": [
    "results = rouge.compute(predictions=p, references=r)\n",
    "results"
   ]
  }
 ],
 "metadata": {
  "kernelspec": {
   "display_name": "Python 3 (ipykernel)",
   "language": "python",
   "name": "python3"
  },
  "language_info": {
   "codemirror_mode": {
    "name": "ipython",
    "version": 3
   },
   "file_extension": ".py",
   "mimetype": "text/x-python",
   "name": "python",
   "nbconvert_exporter": "python",
   "pygments_lexer": "ipython3",
   "version": "3.12.4"
  }
 },
 "nbformat": 4,
 "nbformat_minor": 5
}
