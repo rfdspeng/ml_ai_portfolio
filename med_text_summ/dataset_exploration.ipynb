{
 "cells": [
  {
   "cell_type": "markdown",
   "id": "33d3c003-1d25-4124-99b5-43b9078a637a",
   "metadata": {},
   "source": [
    "# Exploratory\n",
    "* Check for empty contents\n",
    "* Check sequence lengths\n",
    "* Check for unknown tokens"
   ]
  },
  {
   "cell_type": "code",
   "execution_count": 4,
   "id": "0fd6e4de-1348-4dcf-9ad5-a99204324400",
   "metadata": {},
   "outputs": [],
   "source": [
    "from datasets import load_dataset\n",
    "import pandas as pd"
   ]
  },
  {
   "cell_type": "code",
   "execution_count": 7,
   "id": "65d623b1-b32c-4180-9814-b3e41ed09a57",
   "metadata": {},
   "outputs": [
    {
     "data": {
      "text/plain": [
       "DatasetDict({\n",
       "    train: Dataset({\n",
       "        features: ['ID', 'section_header', 'section_text', 'dialogue'],\n",
       "        num_rows: 1301\n",
       "    })\n",
       "})"
      ]
     },
     "execution_count": 7,
     "metadata": {},
     "output_type": "execute_result"
    }
   ],
   "source": [
    "dataset = load_dataset(\"har1/MTS_Dialogue-Clinical_Note\", streaming=False)\n",
    "dataset"
   ]
  },
  {
   "cell_type": "code",
   "execution_count": 8,
   "id": "1f346c13-a0d4-4e7d-a1a2-c967e12dcdcd",
   "metadata": {},
   "outputs": [
    {
     "data": {
      "text/html": [
       "<div>\n",
       "<style scoped>\n",
       "    .dataframe tbody tr th:only-of-type {\n",
       "        vertical-align: middle;\n",
       "    }\n",
       "\n",
       "    .dataframe tbody tr th {\n",
       "        vertical-align: top;\n",
       "    }\n",
       "\n",
       "    .dataframe thead th {\n",
       "        text-align: right;\n",
       "    }\n",
       "</style>\n",
       "<table border=\"1\" class=\"dataframe\">\n",
       "  <thead>\n",
       "    <tr style=\"text-align: right;\">\n",
       "      <th></th>\n",
       "      <th>ID</th>\n",
       "      <th>section_header</th>\n",
       "      <th>section_text</th>\n",
       "      <th>dialogue</th>\n",
       "    </tr>\n",
       "  </thead>\n",
       "  <tbody>\n",
       "    <tr>\n",
       "      <th>0</th>\n",
       "      <td>0</td>\n",
       "      <td>GENHX</td>\n",
       "      <td>Symptoms: no fever, no chills, no cough, no co...</td>\n",
       "      <td>Doctor: What brings you back into the clinic t...</td>\n",
       "    </tr>\n",
       "    <tr>\n",
       "      <th>1</th>\n",
       "      <td>1</td>\n",
       "      <td>GENHX</td>\n",
       "      <td>Symptoms: sudden onset headache, blurry vision...</td>\n",
       "      <td>Doctor: How're you feeling today?  \\nPatient: ...</td>\n",
       "    </tr>\n",
       "    <tr>\n",
       "      <th>2</th>\n",
       "      <td>2</td>\n",
       "      <td>GENHX</td>\n",
       "      <td>Symptoms: itching.\\nDiagnosis: condylomas.\\nHi...</td>\n",
       "      <td>Doctor: Hello, miss. What is the reason for yo...</td>\n",
       "    </tr>\n",
       "    <tr>\n",
       "      <th>3</th>\n",
       "      <td>3</td>\n",
       "      <td>MEDICATIONS</td>\n",
       "      <td>Symptoms: N/A.\\r\\nDiagnosis: N/A.\\r\\nHistory o...</td>\n",
       "      <td>Doctor: Are you taking any over the counter me...</td>\n",
       "    </tr>\n",
       "    <tr>\n",
       "      <th>4</th>\n",
       "      <td>4</td>\n",
       "      <td>CC</td>\n",
       "      <td>Symptoms: Burn, right arm.\\r\\nDiagnosis: N/A.\\...</td>\n",
       "      <td>Doctor: Hi, how are you? \\nPatient: I burned m...</td>\n",
       "    </tr>\n",
       "    <tr>\n",
       "      <th>...</th>\n",
       "      <td>...</td>\n",
       "      <td>...</td>\n",
       "      <td>...</td>\n",
       "      <td>...</td>\n",
       "    </tr>\n",
       "    <tr>\n",
       "      <th>1296</th>\n",
       "      <td>95</td>\n",
       "      <td>PROCEDURES</td>\n",
       "      <td>Symptoms: N/A\\nDiagnosis: N/A\\nHistory of Comp...</td>\n",
       "      <td>Doctor: How are you feeling?  \\nPatient: I am ...</td>\n",
       "    </tr>\n",
       "    <tr>\n",
       "      <th>1297</th>\n",
       "      <td>96</td>\n",
       "      <td>ROS</td>\n",
       "      <td>Symptoms: Nausea, vomiting, low appetite\\nDiag...</td>\n",
       "      <td>Doctor: How has our little man being doing?\\nG...</td>\n",
       "    </tr>\n",
       "    <tr>\n",
       "      <th>1298</th>\n",
       "      <td>97</td>\n",
       "      <td>IMAGING</td>\n",
       "      <td>Symptoms: N/A\\nDiagnosis: Sinus tachycardia\\nH...</td>\n",
       "      <td>Doctor: Well, I have your E K G report, shows ...</td>\n",
       "    </tr>\n",
       "    <tr>\n",
       "      <th>1299</th>\n",
       "      <td>98</td>\n",
       "      <td>IMMUNIZATIONS</td>\n",
       "      <td>Symptoms: N/A\\nDiagnosis: N/A\\nHistory of Comp...</td>\n",
       "      <td>Doctor: Good news! No need for any shots today...</td>\n",
       "    </tr>\n",
       "    <tr>\n",
       "      <th>1300</th>\n",
       "      <td>99</td>\n",
       "      <td>ASSESSMENT</td>\n",
       "      <td>Symptoms: N/A\\nDiagnosis: Chronic atrial fibri...</td>\n",
       "      <td>Doctor: I'm glad to hear that your Afib is und...</td>\n",
       "    </tr>\n",
       "  </tbody>\n",
       "</table>\n",
       "<p>1301 rows × 4 columns</p>\n",
       "</div>"
      ],
      "text/plain": [
       "      ID section_header                                       section_text  \\\n",
       "0      0          GENHX  Symptoms: no fever, no chills, no cough, no co...   \n",
       "1      1          GENHX  Symptoms: sudden onset headache, blurry vision...   \n",
       "2      2          GENHX  Symptoms: itching.\\nDiagnosis: condylomas.\\nHi...   \n",
       "3      3    MEDICATIONS  Symptoms: N/A.\\r\\nDiagnosis: N/A.\\r\\nHistory o...   \n",
       "4      4             CC  Symptoms: Burn, right arm.\\r\\nDiagnosis: N/A.\\...   \n",
       "...   ..            ...                                                ...   \n",
       "1296  95     PROCEDURES  Symptoms: N/A\\nDiagnosis: N/A\\nHistory of Comp...   \n",
       "1297  96            ROS  Symptoms: Nausea, vomiting, low appetite\\nDiag...   \n",
       "1298  97        IMAGING  Symptoms: N/A\\nDiagnosis: Sinus tachycardia\\nH...   \n",
       "1299  98  IMMUNIZATIONS  Symptoms: N/A\\nDiagnosis: N/A\\nHistory of Comp...   \n",
       "1300  99     ASSESSMENT  Symptoms: N/A\\nDiagnosis: Chronic atrial fibri...   \n",
       "\n",
       "                                               dialogue  \n",
       "0     Doctor: What brings you back into the clinic t...  \n",
       "1     Doctor: How're you feeling today?  \\nPatient: ...  \n",
       "2     Doctor: Hello, miss. What is the reason for yo...  \n",
       "3     Doctor: Are you taking any over the counter me...  \n",
       "4     Doctor: Hi, how are you? \\nPatient: I burned m...  \n",
       "...                                                 ...  \n",
       "1296  Doctor: How are you feeling?  \\nPatient: I am ...  \n",
       "1297  Doctor: How has our little man being doing?\\nG...  \n",
       "1298  Doctor: Well, I have your E K G report, shows ...  \n",
       "1299  Doctor: Good news! No need for any shots today...  \n",
       "1300  Doctor: I'm glad to hear that your Afib is und...  \n",
       "\n",
       "[1301 rows x 4 columns]"
      ]
     },
     "execution_count": 8,
     "metadata": {},
     "output_type": "execute_result"
    }
   ],
   "source": [
    "dataframe = pd.DataFrame(dataset['train'])\n",
    "dataframe"
   ]
  },
  {
   "cell_type": "code",
   "execution_count": 10,
   "id": "4807394a-dabe-4770-981d-93639a9f51d3",
   "metadata": {},
   "outputs": [
    {
     "data": {
      "text/plain": [
       "section_header\n",
       "FAM/SOCHX        373\n",
       "GENHX            302\n",
       "PASTMEDICALHX    122\n",
       "CC                81\n",
       "PASTSURGICAL      71\n",
       "ROS               71\n",
       "ALLERGY           64\n",
       "MEDICATIONS       61\n",
       "ASSESSMENT        38\n",
       "EXAM              24\n",
       "DIAGNOSIS         20\n",
       "DISPOSITION       17\n",
       "PLAN              14\n",
       "EDCOURSE          11\n",
       "IMMUNIZATIONS      9\n",
       "IMAGING            7\n",
       "GYNHX              6\n",
       "PROCEDURES         4\n",
       "OTHER_HISTORY      3\n",
       "LABS               3\n",
       "Name: count, dtype: int64"
      ]
     },
     "execution_count": 10,
     "metadata": {},
     "output_type": "execute_result"
    }
   ],
   "source": [
    "dataframe['section_header'].value_counts()"
   ]
  },
  {
   "cell_type": "code",
   "execution_count": null,
   "id": "dd289c59-e0d9-4415-8265-07739fe3cf55",
   "metadata": {},
   "outputs": [],
   "source": []
  }
 ],
 "metadata": {
  "kernelspec": {
   "display_name": "Python 3 (ipykernel)",
   "language": "python",
   "name": "python3"
  },
  "language_info": {
   "codemirror_mode": {
    "name": "ipython",
    "version": 3
   },
   "file_extension": ".py",
   "mimetype": "text/x-python",
   "name": "python",
   "nbconvert_exporter": "python",
   "pygments_lexer": "ipython3",
   "version": "3.12.4"
  }
 },
 "nbformat": 4,
 "nbformat_minor": 5
}
