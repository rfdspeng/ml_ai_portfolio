{
 "cells": [
  {
   "cell_type": "markdown",
   "metadata": {},
   "source": [
    "# <u>Top</u>\n",
    "\n",
    "https://realpython.com/python-kwargs-and-args/\n",
    "\n",
    "`*args` and `**kwargs` are used in function definitions to allow a function to accept a variable number of arguments. They are commonly used in decorators, wrapper functions, and when creating flexible APIs."
   ]
  },
  {
   "cell_type": "markdown",
   "metadata": {},
   "source": [
    "## <u>`*args`</u>\n",
    "\n",
    "`*args` allows a function to accept a variable number of _positional (non-keyworded) arguments_. It packs (collects) all positional arguments into a tuple.\n",
    "\n",
    "`*` is called the _unpacking operator_.\n",
    "\n",
    "`args` is just a name; you can use a different name if you wish."
   ]
  },
  {
   "cell_type": "code",
   "execution_count": 3,
   "metadata": {},
   "outputs": [
    {
     "name": "stdout",
     "output_type": "stream",
     "text": [
      "args: (1, 2, 3)\n",
      "6\n",
      "args: (1, 2, 4)\n",
      "7\n"
     ]
    }
   ],
   "source": [
    "def my_sum(*args):\n",
    "    print(f\"args: {args}\")\n",
    "    result = 0\n",
    "    for x in args:\n",
    "        result += x\n",
    "    return result\n",
    "\n",
    "def my_sum2(*integers):\n",
    "    print(f\"integers: {integers}\")\n",
    "    result = 0\n",
    "    for integer in integers:\n",
    "        result += integer\n",
    "    return result\n",
    "\n",
    "print(my_sum(1, 2, 3))\n",
    "print(my_sum(1, 2, 4))"
   ]
  },
  {
   "cell_type": "markdown",
   "metadata": {},
   "source": [
    "## <u>`**kwargs`</u>\n",
    "\n",
    "`**kwargs` allows a function to accept a variable number of _keyword (aka named) arguments_. It packs all keyword arguments into a dictionary.\n",
    "\n",
    "By default, iterating over `kwargs` iterates over the keys.\n",
    "\n",
    "`**` is also called the _unpacking operator_."
   ]
  },
  {
   "cell_type": "code",
   "execution_count": 6,
   "metadata": {},
   "outputs": [
    {
     "name": "stdout",
     "output_type": "stream",
     "text": [
      "{'a': 'Real', 'b': 'Python', 'c': 'is', 'd': 'great', 'e': '!'}\n",
      "Real Python is great ! \n",
      "{'a': 'Real', 'b': 'Python', 'c': 'is', 'd': 'great', 'e': '!'}\n",
      "Real\n",
      "Python\n",
      "is\n",
      "great\n",
      "!\n",
      "\n",
      "{'a': 'Real', 'b': 'Python', 'c': 'is', 'd': 'great', 'e': '!'}\n",
      "a\n",
      "b\n",
      "c\n",
      "d\n",
      "e\n",
      "\n"
     ]
    }
   ],
   "source": [
    "def concatenate(**kwargs):\n",
    "    print(kwargs)\n",
    "    result = \"\"\n",
    "    for arg in kwargs.values():\n",
    "        result += f\"{arg} \"\n",
    "    return result\n",
    "\n",
    "def concatenate2(**words):\n",
    "    print(words)\n",
    "    result = \"\"\n",
    "    for arg in words.values():\n",
    "        result += f\"{arg}\\n\"\n",
    "    return result\n",
    "\n",
    "def concatenate3(**words):\n",
    "    print(words)\n",
    "    result = \"\"\n",
    "    for arg in words:\n",
    "        result += f\"{arg}\\n\"\n",
    "    return result\n",
    "\n",
    "print(concatenate(a=\"Real\", b=\"Python\", c=\"is\", d=\"great\", e=\"!\"))\n",
    "print(concatenate2(a=\"Real\", b=\"Python\", c=\"is\", d=\"great\", e=\"!\"))\n",
    "print(concatenate3(a=\"Real\", b=\"Python\", c=\"is\", d=\"great\", e=\"!\"))"
   ]
  },
  {
   "cell_type": "markdown",
   "metadata": {},
   "source": [
    "## <u>Combining `*args` and `**kwargs`</u>\n",
    "\n",
    "You can combine `*args` and `**kwargs` in the same function definition to allow the function to accept any number of positional and keyword arguments.\n",
    "\n",
    "In order of precedence,\n",
    "1. Standard arguments\n",
    "2. `*args`\n",
    "3. `**kwargs`"
   ]
  },
  {
   "cell_type": "code",
   "execution_count": null,
   "metadata": {},
   "outputs": [
    {
     "name": "stdout",
     "output_type": "stream",
     "text": [
      "(1, 2, 3)\n",
      "{'a': 4, 'b': 5}\n"
     ]
    }
   ],
   "source": [
    "def my_function(a, b, *args, **kwargs):\n",
    "    print(args)\n",
    "    print(kwargs)\n",
    "\n",
    "# Python interpreter will raise a SyntaxError\n",
    "# def my_function(a, b, **args, *kwargs):\n",
    "#     print(args)\n",
    "#     print(kwargs)\n",
    "\n",
    "my_function(1, 2, 3, a=4, b=5)"
   ]
  },
  {
   "cell_type": "markdown",
   "metadata": {},
   "source": [
    "## <u>Unpacking operators</u>\n",
    "\n",
    "`*` and `**` are the unpacking operators. They unpack values from Python iterable objects. `*` can be used on any Python iterable, while `**` can only be used on dictionaries.\n",
    "\n",
    "### <u>In function calls</u>\n",
    "\n",
    "In the example below, `*` tells `print` to first unpack the list, so `print` takes 3 separate arguments (the list elements) as input.\n",
    "\n",
    "This is the reverse of `*args`. `*args` is defined in the function definition, and it packs the input. `*` is used when calling the function, which unpacks the input."
   ]
  },
  {
   "cell_type": "code",
   "execution_count": 14,
   "metadata": {},
   "outputs": [
    {
     "name": "stdout",
     "output_type": "stream",
     "text": [
      "[1, 2, 3]\n",
      "1 2 3\n"
     ]
    }
   ],
   "source": [
    "my_list = [1, 2, 3]\n",
    "print(my_list) # Prints the list as is\n",
    "\n",
    "my_list = [1, 2, 3]\n",
    "print(*my_list)"
   ]
  },
  {
   "cell_type": "markdown",
   "metadata": {},
   "source": [
    "You can use `*` to unpack an iterable and pass multiple positional arguments to a function, but the number of elements in the iterable must match the number of expected positional arguments."
   ]
  },
  {
   "cell_type": "code",
   "execution_count": 16,
   "metadata": {},
   "outputs": [
    {
     "name": "stdout",
     "output_type": "stream",
     "text": [
      "6\n"
     ]
    },
    {
     "ename": "TypeError",
     "evalue": "my_sum() takes 3 positional arguments but 4 were given",
     "output_type": "error",
     "traceback": [
      "\u001b[0;31m---------------------------------------------------------------------------\u001b[0m",
      "\u001b[0;31mTypeError\u001b[0m                                 Traceback (most recent call last)",
      "Cell \u001b[0;32mIn[16], line 8\u001b[0m\n\u001b[1;32m      5\u001b[0m my_sum(\u001b[38;5;241m*\u001b[39mmy_list)\n\u001b[1;32m      7\u001b[0m my_list \u001b[38;5;241m=\u001b[39m [\u001b[38;5;241m1\u001b[39m, \u001b[38;5;241m2\u001b[39m, \u001b[38;5;241m3\u001b[39m, \u001b[38;5;241m4\u001b[39m]\n\u001b[0;32m----> 8\u001b[0m \u001b[43mmy_sum\u001b[49m\u001b[43m(\u001b[49m\u001b[38;5;241;43m*\u001b[39;49m\u001b[43mmy_list\u001b[49m\u001b[43m)\u001b[49m\n",
      "\u001b[0;31mTypeError\u001b[0m: my_sum() takes 3 positional arguments but 4 were given"
     ]
    }
   ],
   "source": [
    "def my_sum(a, b, c):\n",
    "    print(a + b + c)\n",
    "\n",
    "my_list = [1, 2, 3]\n",
    "my_sum(*my_list)\n",
    "\n",
    "my_list = [1, 2, 3, 4]\n",
    "my_sum(*my_list)"
   ]
  },
  {
   "cell_type": "markdown",
   "metadata": {},
   "source": [
    "When you use `*` to unpack a list and pass arguments to a function, it's exactly as though you're passing every single argument alone. This means you can use multiple `*` to get values from several lists and pass them all to a single function.\n",
    "\n",
    "In the example below, `my_sum` is called with `*`, which unpacks the arguments, and then `*args` in the definition packs them back into a tuple."
   ]
  },
  {
   "cell_type": "code",
   "execution_count": 33,
   "metadata": {},
   "outputs": [
    {
     "name": "stdout",
     "output_type": "stream",
     "text": [
      "55\n"
     ]
    }
   ],
   "source": [
    "def my_sum(*args): # Accepts variable number of positional arguments\n",
    "    result = 0\n",
    "    for x in args:\n",
    "        result += x\n",
    "    return result\n",
    "\n",
    "list1 = [1, 2, 3]\n",
    "list2 = [4, 5]\n",
    "list3 = [6, 7, 8, 9, 10]\n",
    "print(my_sum(*list1, *list2, *list3))"
   ]
  },
  {
   "cell_type": "markdown",
   "metadata": {},
   "source": [
    "### <u>For merging iterables</u>\n",
    "\n",
    "You can use `*` and `**` to unpack the elements of multiple iterables and merge them into one iterable."
   ]
  },
  {
   "cell_type": "code",
   "execution_count": 34,
   "metadata": {},
   "outputs": [
    {
     "name": "stdout",
     "output_type": "stream",
     "text": [
      "[1, 2, 3, 'a', 'b', 'c']\n",
      "{'A': 1, 'B': 2, 'C': 3, 'D': 4}\n"
     ]
    }
   ],
   "source": [
    "my_first_list = [1, 2, 3]\n",
    "my_second_list = [\"a\", \"b\", \"c\"]\n",
    "\n",
    "print([*my_first_list, *my_second_list])\n",
    "\n",
    "d1 = {\"A\": 1, \"B\": 2}\n",
    "d2 = {\"C\": 3, \"D\": 4}\n",
    "\n",
    "print({**d1, **d2})"
   ]
  },
  {
   "cell_type": "markdown",
   "metadata": {},
   "source": [
    "### <u>In variable assignment</u>\n",
    "\n",
    "When you use the unpacking operator in a variable assignment, Python requires that your resulting variable is either a list or a tuple. \n",
    "\n",
    "In the example below, we are unpacking `my_list` into multiple variables, which is also known as _tuple unpacking_. This is a different concept than the unpacking operator. We are using tuple unpacking in combination with the unpacking operator."
   ]
  },
  {
   "cell_type": "code",
   "execution_count": 35,
   "metadata": {},
   "outputs": [
    {
     "name": "stdout",
     "output_type": "stream",
     "text": [
      "1\n",
      "[2, 3, 4, 5]\n",
      "6\n",
      "----------\n",
      "[1, 2, 3, 4, 5, 6]\n",
      "----------\n",
      "[1, 2, 3, 4, 5, 6]\n"
     ]
    }
   ],
   "source": [
    "my_list = [1, 2, 3, 4, 5, 6]\n",
    "\n",
    "# Unpacking my_list into a 3-ple\n",
    "# *b packs the intermediate values into a list\n",
    "a, *b, c = my_list\n",
    "print(a)\n",
    "print(b)\n",
    "print(c)\n",
    "print(\"-\"*10)\n",
    "\n",
    "# Unpacking my_list into a 1-ple\n",
    "# The common after a is very important - this indicates tuple unpacking\n",
    "# Without this, Python will throw an error\n",
    "# Remember, the result must be a list or tuple\n",
    "*a, = my_list\n",
    "print(a)\n",
    "print(\"-\"*10)\n",
    "\n",
    "# This is an equivalent statement to the previous one\n",
    "# But in this one, we unpack directly into a list, without doing tuple unpacking\n",
    "a = [*my_list]\n",
    "print(a)"
   ]
  },
  {
   "cell_type": "markdown",
   "metadata": {},
   "source": [
    "`*` can work on any iterable object, including strings."
   ]
  },
  {
   "cell_type": "code",
   "execution_count": 29,
   "metadata": {},
   "outputs": [
    {
     "name": "stdout",
     "output_type": "stream",
     "text": [
      "['R', 'e', 'a', 'l', 'P', 'y', 't', 'h', 'o', 'n']\n"
     ]
    }
   ],
   "source": [
    "a = [*\"RealPython\"]\n",
    "print(a)"
   ]
  },
  {
   "cell_type": "code",
   "execution_count": null,
   "metadata": {},
   "outputs": [],
   "source": []
  }
 ],
 "metadata": {
  "kernelspec": {
   "display_name": "venv",
   "language": "python",
   "name": "python3"
  },
  "language_info": {
   "codemirror_mode": {
    "name": "ipython",
    "version": 3
   },
   "file_extension": ".py",
   "mimetype": "text/x-python",
   "name": "python",
   "nbconvert_exporter": "python",
   "pygments_lexer": "ipython3",
   "version": "3.12.3"
  }
 },
 "nbformat": 4,
 "nbformat_minor": 2
}
