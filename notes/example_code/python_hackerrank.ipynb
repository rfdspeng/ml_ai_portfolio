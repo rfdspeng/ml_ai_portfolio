{
 "cells": [
  {
   "cell_type": "code",
   "execution_count": 2,
   "id": "ca96f28a",
   "metadata": {},
   "outputs": [
    {
     "data": {
      "text/plain": [
       "1"
      ]
     },
     "execution_count": 2,
     "metadata": {},
     "output_type": "execute_result"
    }
   ],
   "source": [
    "string = \"banana\"\n",
    "\n",
    "string.count(\"ana\")"
   ]
  },
  {
   "cell_type": "code",
   "execution_count": 3,
   "id": "000712ac",
   "metadata": {},
   "outputs": [],
   "source": [
    "x = 1; y = 1; z = 2; n = 3"
   ]
  },
  {
   "cell_type": "code",
   "execution_count": 4,
   "id": "ee46054f",
   "metadata": {},
   "outputs": [
    {
     "ename": "SyntaxError",
     "evalue": "invalid syntax (2425784428.py, line 1)",
     "output_type": "error",
     "traceback": [
      "\u001b[0;36m  Cell \u001b[0;32mIn[4], line 1\u001b[0;36m\u001b[0m\n\u001b[0;31m    [[i for i in range(0, x+1), j for j in range(0, y+1), k for k in range(0, z+1)]]\u001b[0m\n\u001b[0m                              ^\u001b[0m\n\u001b[0;31mSyntaxError\u001b[0m\u001b[0;31m:\u001b[0m invalid syntax\n"
     ]
    }
   ],
   "source": [
    "[[i for i in range(0, x+1), j for j in range(0, y+1), k for k in range(0, z+1)]]"
   ]
  },
  {
   "cell_type": "code",
   "execution_count": 6,
   "id": "aa727504",
   "metadata": {},
   "outputs": [
    {
     "data": {
      "text/plain": [
       "[[0, 0, 0],\n",
       " [0, 0, 1],\n",
       " [0, 0, 2],\n",
       " [0, 1, 0],\n",
       " [0, 1, 1],\n",
       " [1, 0, 0],\n",
       " [1, 0, 1],\n",
       " [1, 1, 0],\n",
       " [1, 1, 2]]"
      ]
     },
     "execution_count": 6,
     "metadata": {},
     "output_type": "execute_result"
    }
   ],
   "source": [
    "[[i, j, k] for i in range(0, x+1) for j in range(0, y+1) for k in range(0, z+1) if i+j+k != n]"
   ]
  },
  {
   "cell_type": "code",
   "execution_count": 14,
   "id": "87137eea",
   "metadata": {},
   "outputs": [
    {
     "data": {
      "text/plain": [
       "5"
      ]
     },
     "execution_count": 14,
     "metadata": {},
     "output_type": "execute_result"
    }
   ],
   "source": [
    "arr = list(map(int, '2 3 6 6 5'.split()))\n",
    "arr = list(set(arr))\n",
    "arr.sort()\n",
    "arr[-2]"
   ]
  },
  {
   "cell_type": "code",
   "execution_count": 20,
   "id": "0ccd1ea8",
   "metadata": {},
   "outputs": [
    {
     "name": "stdout",
     "output_type": "stream",
     "text": [
      "[6, 5, 10]\n",
      "[1, 5, 9, 10]\n",
      "[9, 5, 1]\n"
     ]
    }
   ],
   "source": [
    "N = 12\n",
    "stmts = ['insert 0 5',\n",
    "'insert 1 10',\n",
    "'insert 0 6',\n",
    "'print',\n",
    "'remove 6',\n",
    "'append 9',\n",
    "'append 1',\n",
    "'sort',\n",
    "'print',\n",
    "'pop',\n",
    "'reverse',\n",
    "'print']\n",
    "    \n",
    "lst = []\n",
    "for i in range(N):\n",
    "    stmt_split = stmts[i].split(' ')\n",
    "    stmt = [stmt_split[0]]\n",
    "    stmt.extend([int(a) for a in stmt_split[1:]])\n",
    "    # print(stmt)\n",
    "\n",
    "    if stmt[0] == 'insert':\n",
    "        lst.insert(*stmt[1:])\n",
    "    elif stmt[0] == 'print':\n",
    "        print(lst)\n",
    "    elif stmt[0] == 'remove':\n",
    "        lst.remove(stmt[1])\n",
    "    elif stmt[0] == 'append':\n",
    "        lst.append(stmt[1])\n",
    "    elif stmt[0] == 'sort':\n",
    "        lst.sort()\n",
    "    elif stmt[0] == 'pop':\n",
    "        lst.pop()\n",
    "    elif stmt[0] == 'reverse':\n",
    "        lst.reverse()"
   ]
  },
  {
   "cell_type": "code",
   "execution_count": 23,
   "id": "b284ed22",
   "metadata": {},
   "outputs": [
    {
     "data": {
      "text/plain": [
       "-3550055125485641917"
      ]
     },
     "execution_count": 23,
     "metadata": {},
     "output_type": "execute_result"
    }
   ],
   "source": [
    "hash((1, 2))"
   ]
  },
  {
   "cell_type": "code",
   "execution_count": 33,
   "id": "5ac24637",
   "metadata": {},
   "outputs": [
    {
     "name": "stdout",
     "output_type": "stream",
     "text": [
      "['w', 'W', 'W', '.', 'h', 'A', 'C', 'K', 'E', 'R', 'r', 'A', 'N', 'K', '.', 'C', 'O', 'M']\n"
     ]
    }
   ],
   "source": [
    "mystr = \"Www.HackerRank.com\"\n",
    "\n",
    "def swapcase(c):\n",
    "    if c.isupper():\n",
    "        return c.lower()\n",
    "    elif c.islower():\n",
    "        return c.upper()\n",
    "    else:\n",
    "        return c\n",
    "\n",
    "# newstr = \"\".join([swapcase(c) for c in mystr])\n",
    "newstr = list(map(lambda x: swapcase(x), mystr))\n",
    "\n",
    "print(newstr)"
   ]
  },
  {
   "cell_type": "code",
   "execution_count": 54,
   "id": "0c60ee82",
   "metadata": {},
   "outputs": [],
   "source": [
    "mystr = \"qA2\"\n",
    "\n",
    "track = {}"
   ]
  },
  {
   "cell_type": "code",
   "execution_count": 55,
   "id": "7987e158",
   "metadata": {},
   "outputs": [],
   "source": [
    "methods = [str.isalnum, str.isalpha, str.isdigit, str.islower, str.isupper]"
   ]
  },
  {
   "cell_type": "code",
   "execution_count": null,
   "id": "49344fcb",
   "metadata": {},
   "outputs": [
    {
     "data": {
      "text/plain": [
       "{<method 'isalnum' of 'str' objects>: True,\n",
       " <method 'isalpha' of 'str' objects>: True,\n",
       " <method 'isdigit' of 'str' objects>: True,\n",
       " <method 'islower' of 'str' objects>: True,\n",
       " <method 'isupper' of 'str' objects>: True}"
      ]
     },
     "execution_count": 57,
     "metadata": {},
     "output_type": "execute_result"
    }
   ],
   "source": [
    "for c in mystr:\n",
    "    for method in methods:\n",
    "        if track.get(method, False) == False:\n",
    "            track[method] = method(c)\n",
    "\n",
    "for method in methods:\n",
    "    print(track[method])"
   ]
  },
  {
   "cell_type": "code",
   "execution_count": 58,
   "id": "07f39b4d",
   "metadata": {},
   "outputs": [
    {
     "data": {
      "text/plain": [
       "'cccccccccccccccccccccccccccccccccccccccccccccccccc'"
      ]
     },
     "execution_count": 58,
     "metadata": {},
     "output_type": "execute_result"
    }
   ],
   "source": [
    "\"c\"*50"
   ]
  },
  {
   "cell_type": "code",
   "execution_count": 60,
   "id": "755bdc41",
   "metadata": {},
   "outputs": [
    {
     "name": "stdout",
     "output_type": "stream",
     "text": [
      "    H    \n",
      "   HHH   \n",
      "  HHHHH  \n",
      " HHHHHHH \n",
      "HHHHHHHHH\n",
      "  HHHHH               HHHHH             \n",
      "  HHHHH               HHHHH             \n",
      "  HHHHH               HHHHH             \n",
      "  HHHHH               HHHHH             \n",
      "  HHHHH               HHHHH             \n",
      "  HHHHH               HHHHH             \n",
      "  HHHHHHHHHHHHHHHHHHHHHHHHH   \n",
      "  HHHHHHHHHHHHHHHHHHHHHHHHH   \n",
      "  HHHHHHHHHHHHHHHHHHHHHHHHH   \n",
      "  HHHHH               HHHHH             \n",
      "  HHHHH               HHHHH             \n",
      "  HHHHH               HHHHH             \n",
      "  HHHHH               HHHHH             \n",
      "  HHHHH               HHHHH             \n",
      "  HHHHH               HHHHH             \n",
      "                    HHHHHHHHH \n",
      "                     HHHHHHH  \n",
      "                      HHHHH   \n",
      "                       HHH    \n",
      "                        H     \n"
     ]
    }
   ],
   "source": [
    "thickness = 5 #This must be an odd number\n",
    "c = 'H'\n",
    "\n",
    "#Top Cone\n",
    "for i in range(thickness):\n",
    "    print((c*i).rjust(thickness-1)+c+(c*i).ljust(thickness-1))\n",
    "\n",
    "#Top Pillars\n",
    "for i in range(thickness+1):\n",
    "    print((c*thickness).center(thickness*2)+(c*thickness).center(thickness*6))\n",
    "\n",
    "#Middle Belt\n",
    "for i in range((thickness+1)//2):\n",
    "    print((c*thickness*5).center(thickness*6))    \n",
    "\n",
    "#Bottom Pillars\n",
    "for i in range(thickness+1):\n",
    "    print((c*thickness).center(thickness*2)+(c*thickness).center(thickness*6))    \n",
    "\n",
    "#Bottom Cone\n",
    "for i in range(thickness):\n",
    "    print(((c*(thickness-i-1)).rjust(thickness)+c+(c*(thickness-i-1)).ljust(thickness)).rjust(thickness*6))"
   ]
  },
  {
   "cell_type": "code",
   "execution_count": 76,
   "id": "00ac37c0",
   "metadata": {},
   "outputs": [
    {
     "name": "stdout",
     "output_type": "stream",
     "text": [
      "---------.|.---------\n",
      "------.|..|..|.------\n",
      "---.|..|..|..|..|.---\n",
      "-------WELCOME-------\n",
      "---.|..|..|..|..|.---\n",
      "------.|..|..|.------\n",
      "---------.|.---------\n"
     ]
    }
   ],
   "source": [
    "N = 7\n",
    "M = N*3\n",
    "\n",
    "for n in range(N // 2):\n",
    "    ndash = M-(2*n+1)*3\n",
    "    print(ndash//2*'-' + '.|.'*(2*n+1) + ndash//2*'-')\n",
    "\n",
    "print(((M-len('WELCOME')) // 2)*'-' + 'WELCOME' + ((M-len('WELCOME')) // 2)*'-')\n",
    "\n",
    "for n in range(N // 2 - 1, -1, -1):\n",
    "    ndash = M-(2*n+1)*3\n",
    "    print(ndash//2*'-' + '.|.'*(2*n+1) + ndash//2*'-')"
   ]
  },
  {
   "cell_type": "code",
   "execution_count": 67,
   "id": "dd6a3975",
   "metadata": {},
   "outputs": [
    {
     "data": {
      "text/plain": [
       "18"
      ]
     },
     "execution_count": 67,
     "metadata": {},
     "output_type": "execute_result"
    }
   ],
   "source": [
    "(M-len('WELCOME') // 2)"
   ]
  },
  {
   "cell_type": "code",
   "execution_count": 70,
   "id": "3edbfdf0",
   "metadata": {},
   "outputs": [
    {
     "data": {
      "text/plain": [
       "[4, 3, 2, 1, 0]"
      ]
     },
     "execution_count": 70,
     "metadata": {},
     "output_type": "execute_result"
    }
   ],
   "source": [
    "list(range(4,-1,-1))"
   ]
  },
  {
   "cell_type": "code",
   "execution_count": 74,
   "id": "3836953c",
   "metadata": {},
   "outputs": [
    {
     "data": {
      "text/plain": [
       "[2, 1, 0]"
      ]
     },
     "execution_count": 74,
     "metadata": {},
     "output_type": "execute_result"
    }
   ],
   "source": [
    "list(range(N // 2 - 1, -1, -1))"
   ]
  },
  {
   "cell_type": "code",
   "execution_count": 73,
   "id": "7af5be83",
   "metadata": {},
   "outputs": [
    {
     "data": {
      "text/plain": [
       "[0, 1, 2]"
      ]
     },
     "execution_count": 73,
     "metadata": {},
     "output_type": "execute_result"
    }
   ],
   "source": [
    "list(range(N // 2))"
   ]
  },
  {
   "cell_type": "code",
   "execution_count": null,
   "id": "298fda98",
   "metadata": {},
   "outputs": [],
   "source": []
  }
 ],
 "metadata": {
  "kernelspec": {
   "display_name": "venv",
   "language": "python",
   "name": "python3"
  },
  "language_info": {
   "codemirror_mode": {
    "name": "ipython",
    "version": 3
   },
   "file_extension": ".py",
   "mimetype": "text/x-python",
   "name": "python",
   "nbconvert_exporter": "python",
   "pygments_lexer": "ipython3",
   "version": "3.12.3"
  }
 },
 "nbformat": 4,
 "nbformat_minor": 5
}
