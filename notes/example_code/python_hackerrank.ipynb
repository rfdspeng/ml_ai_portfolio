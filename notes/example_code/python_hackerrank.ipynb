{
 "cells": [
  {
   "cell_type": "code",
   "execution_count": 2,
   "id": "ca96f28a",
   "metadata": {},
   "outputs": [
    {
     "data": {
      "text/plain": [
       "1"
      ]
     },
     "execution_count": 2,
     "metadata": {},
     "output_type": "execute_result"
    }
   ],
   "source": [
    "string = \"banana\"\n",
    "\n",
    "string.count(\"ana\")"
   ]
  },
  {
   "cell_type": "code",
   "execution_count": 3,
   "id": "000712ac",
   "metadata": {},
   "outputs": [],
   "source": [
    "x = 1; y = 1; z = 2; n = 3"
   ]
  },
  {
   "cell_type": "code",
   "execution_count": 4,
   "id": "ee46054f",
   "metadata": {},
   "outputs": [
    {
     "ename": "SyntaxError",
     "evalue": "invalid syntax (2425784428.py, line 1)",
     "output_type": "error",
     "traceback": [
      "\u001b[0;36m  Cell \u001b[0;32mIn[4], line 1\u001b[0;36m\u001b[0m\n\u001b[0;31m    [[i for i in range(0, x+1), j for j in range(0, y+1), k for k in range(0, z+1)]]\u001b[0m\n\u001b[0m                              ^\u001b[0m\n\u001b[0;31mSyntaxError\u001b[0m\u001b[0;31m:\u001b[0m invalid syntax\n"
     ]
    }
   ],
   "source": [
    "[[i for i in range(0, x+1), j for j in range(0, y+1), k for k in range(0, z+1)]]"
   ]
  },
  {
   "cell_type": "code",
   "execution_count": 6,
   "id": "aa727504",
   "metadata": {},
   "outputs": [
    {
     "data": {
      "text/plain": [
       "[[0, 0, 0],\n",
       " [0, 0, 1],\n",
       " [0, 0, 2],\n",
       " [0, 1, 0],\n",
       " [0, 1, 1],\n",
       " [1, 0, 0],\n",
       " [1, 0, 1],\n",
       " [1, 1, 0],\n",
       " [1, 1, 2]]"
      ]
     },
     "execution_count": 6,
     "metadata": {},
     "output_type": "execute_result"
    }
   ],
   "source": [
    "[[i, j, k] for i in range(0, x+1) for j in range(0, y+1) for k in range(0, z+1) if i+j+k != n]"
   ]
  },
  {
   "cell_type": "code",
   "execution_count": 14,
   "id": "87137eea",
   "metadata": {},
   "outputs": [
    {
     "data": {
      "text/plain": [
       "5"
      ]
     },
     "execution_count": 14,
     "metadata": {},
     "output_type": "execute_result"
    }
   ],
   "source": [
    "arr = list(map(int, '2 3 6 6 5'.split()))\n",
    "arr = list(set(arr))\n",
    "arr.sort()\n",
    "arr[-2]"
   ]
  },
  {
   "cell_type": "code",
   "execution_count": 20,
   "id": "0ccd1ea8",
   "metadata": {},
   "outputs": [
    {
     "name": "stdout",
     "output_type": "stream",
     "text": [
      "[6, 5, 10]\n",
      "[1, 5, 9, 10]\n",
      "[9, 5, 1]\n"
     ]
    }
   ],
   "source": [
    "N = 12\n",
    "stmts = ['insert 0 5',\n",
    "'insert 1 10',\n",
    "'insert 0 6',\n",
    "'print',\n",
    "'remove 6',\n",
    "'append 9',\n",
    "'append 1',\n",
    "'sort',\n",
    "'print',\n",
    "'pop',\n",
    "'reverse',\n",
    "'print']\n",
    "    \n",
    "lst = []\n",
    "for i in range(N):\n",
    "    stmt_split = stmts[i].split(' ')\n",
    "    stmt = [stmt_split[0]]\n",
    "    stmt.extend([int(a) for a in stmt_split[1:]])\n",
    "    # print(stmt)\n",
    "\n",
    "    if stmt[0] == 'insert':\n",
    "        lst.insert(*stmt[1:])\n",
    "    elif stmt[0] == 'print':\n",
    "        print(lst)\n",
    "    elif stmt[0] == 'remove':\n",
    "        lst.remove(stmt[1])\n",
    "    elif stmt[0] == 'append':\n",
    "        lst.append(stmt[1])\n",
    "    elif stmt[0] == 'sort':\n",
    "        lst.sort()\n",
    "    elif stmt[0] == 'pop':\n",
    "        lst.pop()\n",
    "    elif stmt[0] == 'reverse':\n",
    "        lst.reverse()"
   ]
  },
  {
   "cell_type": "code",
   "execution_count": 23,
   "id": "b284ed22",
   "metadata": {},
   "outputs": [
    {
     "data": {
      "text/plain": [
       "-3550055125485641917"
      ]
     },
     "execution_count": 23,
     "metadata": {},
     "output_type": "execute_result"
    }
   ],
   "source": [
    "hash((1, 2))"
   ]
  },
  {
   "cell_type": "code",
   "execution_count": 33,
   "id": "5ac24637",
   "metadata": {},
   "outputs": [
    {
     "name": "stdout",
     "output_type": "stream",
     "text": [
      "['w', 'W', 'W', '.', 'h', 'A', 'C', 'K', 'E', 'R', 'r', 'A', 'N', 'K', '.', 'C', 'O', 'M']\n"
     ]
    }
   ],
   "source": [
    "mystr = \"Www.HackerRank.com\"\n",
    "\n",
    "def swapcase(c):\n",
    "    if c.isupper():\n",
    "        return c.lower()\n",
    "    elif c.islower():\n",
    "        return c.upper()\n",
    "    else:\n",
    "        return c\n",
    "\n",
    "# newstr = \"\".join([swapcase(c) for c in mystr])\n",
    "newstr = list(map(lambda x: swapcase(x), mystr))\n",
    "\n",
    "print(newstr)"
   ]
  },
  {
   "cell_type": "code",
   "execution_count": 54,
   "id": "0c60ee82",
   "metadata": {},
   "outputs": [],
   "source": [
    "mystr = \"qA2\"\n",
    "\n",
    "track = {}"
   ]
  },
  {
   "cell_type": "code",
   "execution_count": 55,
   "id": "7987e158",
   "metadata": {},
   "outputs": [],
   "source": [
    "methods = [str.isalnum, str.isalpha, str.isdigit, str.islower, str.isupper]"
   ]
  },
  {
   "cell_type": "code",
   "execution_count": 57,
   "id": "49344fcb",
   "metadata": {},
   "outputs": [
    {
     "data": {
      "text/plain": [
       "{<method 'isalnum' of 'str' objects>: True,\n",
       " <method 'isalpha' of 'str' objects>: True,\n",
       " <method 'isdigit' of 'str' objects>: True,\n",
       " <method 'islower' of 'str' objects>: True,\n",
       " <method 'isupper' of 'str' objects>: True}"
      ]
     },
     "execution_count": 57,
     "metadata": {},
     "output_type": "execute_result"
    }
   ],
   "source": [
    "for c in mystr:\n",
    "    for method in methods:\n",
    "        if track.get(method, False) == False:\n",
    "            track[method] = method(c)\n",
    "\n",
    "for method in methods:\n",
    "    print(track[method])"
   ]
  },
  {
   "cell_type": "code",
   "execution_count": 58,
   "id": "07f39b4d",
   "metadata": {},
   "outputs": [
    {
     "data": {
      "text/plain": [
       "'cccccccccccccccccccccccccccccccccccccccccccccccccc'"
      ]
     },
     "execution_count": 58,
     "metadata": {},
     "output_type": "execute_result"
    }
   ],
   "source": [
    "\"c\"*50"
   ]
  },
  {
   "cell_type": "code",
   "execution_count": 60,
   "id": "755bdc41",
   "metadata": {},
   "outputs": [
    {
     "name": "stdout",
     "output_type": "stream",
     "text": [
      "    H    \n",
      "   HHH   \n",
      "  HHHHH  \n",
      " HHHHHHH \n",
      "HHHHHHHHH\n",
      "  HHHHH               HHHHH             \n",
      "  HHHHH               HHHHH             \n",
      "  HHHHH               HHHHH             \n",
      "  HHHHH               HHHHH             \n",
      "  HHHHH               HHHHH             \n",
      "  HHHHH               HHHHH             \n",
      "  HHHHHHHHHHHHHHHHHHHHHHHHH   \n",
      "  HHHHHHHHHHHHHHHHHHHHHHHHH   \n",
      "  HHHHHHHHHHHHHHHHHHHHHHHHH   \n",
      "  HHHHH               HHHHH             \n",
      "  HHHHH               HHHHH             \n",
      "  HHHHH               HHHHH             \n",
      "  HHHHH               HHHHH             \n",
      "  HHHHH               HHHHH             \n",
      "  HHHHH               HHHHH             \n",
      "                    HHHHHHHHH \n",
      "                     HHHHHHH  \n",
      "                      HHHHH   \n",
      "                       HHH    \n",
      "                        H     \n"
     ]
    }
   ],
   "source": [
    "thickness = 5 #This must be an odd number\n",
    "c = 'H'\n",
    "\n",
    "#Top Cone\n",
    "for i in range(thickness):\n",
    "    print((c*i).rjust(thickness-1)+c+(c*i).ljust(thickness-1))\n",
    "\n",
    "#Top Pillars\n",
    "for i in range(thickness+1):\n",
    "    print((c*thickness).center(thickness*2)+(c*thickness).center(thickness*6))\n",
    "\n",
    "#Middle Belt\n",
    "for i in range((thickness+1)//2):\n",
    "    print((c*thickness*5).center(thickness*6))    \n",
    "\n",
    "#Bottom Pillars\n",
    "for i in range(thickness+1):\n",
    "    print((c*thickness).center(thickness*2)+(c*thickness).center(thickness*6))    \n",
    "\n",
    "#Bottom Cone\n",
    "for i in range(thickness):\n",
    "    print(((c*(thickness-i-1)).rjust(thickness)+c+(c*(thickness-i-1)).ljust(thickness)).rjust(thickness*6))"
   ]
  },
  {
   "cell_type": "code",
   "execution_count": 76,
   "id": "00ac37c0",
   "metadata": {},
   "outputs": [
    {
     "name": "stdout",
     "output_type": "stream",
     "text": [
      "---------.|.---------\n",
      "------.|..|..|.------\n",
      "---.|..|..|..|..|.---\n",
      "-------WELCOME-------\n",
      "---.|..|..|..|..|.---\n",
      "------.|..|..|.------\n",
      "---------.|.---------\n"
     ]
    }
   ],
   "source": [
    "N = 7\n",
    "M = N*3\n",
    "\n",
    "for n in range(N // 2):\n",
    "    ndash = M-(2*n+1)*3\n",
    "    print(ndash//2*'-' + '.|.'*(2*n+1) + ndash//2*'-')\n",
    "\n",
    "print(((M-len('WELCOME')) // 2)*'-' + 'WELCOME' + ((M-len('WELCOME')) // 2)*'-')\n",
    "\n",
    "for n in range(N // 2 - 1, -1, -1):\n",
    "    ndash = M-(2*n+1)*3\n",
    "    print(ndash//2*'-' + '.|.'*(2*n+1) + ndash//2*'-')"
   ]
  },
  {
   "cell_type": "code",
   "execution_count": 67,
   "id": "dd6a3975",
   "metadata": {},
   "outputs": [
    {
     "data": {
      "text/plain": [
       "18"
      ]
     },
     "execution_count": 67,
     "metadata": {},
     "output_type": "execute_result"
    }
   ],
   "source": [
    "(M-len('WELCOME') // 2)"
   ]
  },
  {
   "cell_type": "code",
   "execution_count": 70,
   "id": "3edbfdf0",
   "metadata": {},
   "outputs": [
    {
     "data": {
      "text/plain": [
       "[4, 3, 2, 1, 0]"
      ]
     },
     "execution_count": 70,
     "metadata": {},
     "output_type": "execute_result"
    }
   ],
   "source": [
    "list(range(4,-1,-1))"
   ]
  },
  {
   "cell_type": "code",
   "execution_count": 74,
   "id": "3836953c",
   "metadata": {},
   "outputs": [
    {
     "data": {
      "text/plain": [
       "[2, 1, 0]"
      ]
     },
     "execution_count": 74,
     "metadata": {},
     "output_type": "execute_result"
    }
   ],
   "source": [
    "list(range(N // 2 - 1, -1, -1))"
   ]
  },
  {
   "cell_type": "code",
   "execution_count": 73,
   "id": "7af5be83",
   "metadata": {},
   "outputs": [
    {
     "data": {
      "text/plain": [
       "[0, 1, 2]"
      ]
     },
     "execution_count": 73,
     "metadata": {},
     "output_type": "execute_result"
    }
   ],
   "source": [
    "list(range(N // 2))"
   ]
  },
  {
   "cell_type": "code",
   "execution_count": 77,
   "id": "298fda98",
   "metadata": {},
   "outputs": [
    {
     "data": {
      "text/plain": [
       "'0b10001'"
      ]
     },
     "execution_count": 77,
     "metadata": {},
     "output_type": "execute_result"
    }
   ],
   "source": [
    "bin(17)"
   ]
  },
  {
   "cell_type": "code",
   "execution_count": 78,
   "id": "3ba89704",
   "metadata": {},
   "outputs": [
    {
     "data": {
      "text/plain": [
       "'0o21'"
      ]
     },
     "execution_count": 78,
     "metadata": {},
     "output_type": "execute_result"
    }
   ],
   "source": [
    "oct(17)"
   ]
  },
  {
   "cell_type": "code",
   "execution_count": 79,
   "id": "23f1ea73",
   "metadata": {},
   "outputs": [
    {
     "data": {
      "text/plain": [
       "'0x11'"
      ]
     },
     "execution_count": 79,
     "metadata": {},
     "output_type": "execute_result"
    }
   ],
   "source": [
    "hex(17)"
   ]
  },
  {
   "cell_type": "code",
   "execution_count": 80,
   "id": "62c9b574",
   "metadata": {},
   "outputs": [
    {
     "data": {
      "text/plain": [
       "'n=17'"
      ]
     },
     "execution_count": 80,
     "metadata": {},
     "output_type": "execute_result"
    }
   ],
   "source": [
    "n = 17\n",
    "\n",
    "f\"{n=}\""
   ]
  },
  {
   "cell_type": "code",
   "execution_count": 82,
   "id": "f7b10138",
   "metadata": {},
   "outputs": [
    {
     "data": {
      "text/plain": [
       "'10001'"
      ]
     },
     "execution_count": 82,
     "metadata": {},
     "output_type": "execute_result"
    }
   ],
   "source": [
    "f\"{17:b}\""
   ]
  },
  {
   "cell_type": "code",
   "execution_count": 83,
   "id": "6dfbde3f",
   "metadata": {},
   "outputs": [
    {
     "data": {
      "text/plain": [
       "'21'"
      ]
     },
     "execution_count": 83,
     "metadata": {},
     "output_type": "execute_result"
    }
   ],
   "source": [
    "f\"{17:o}\""
   ]
  },
  {
   "cell_type": "code",
   "execution_count": 84,
   "id": "e2e9317c",
   "metadata": {},
   "outputs": [
    {
     "data": {
      "text/plain": [
       "'11'"
      ]
     },
     "execution_count": 84,
     "metadata": {},
     "output_type": "execute_result"
    }
   ],
   "source": [
    "f\"{17:x}\""
   ]
  },
  {
   "cell_type": "code",
   "execution_count": 85,
   "id": "97a2da52",
   "metadata": {},
   "outputs": [
    {
     "data": {
      "text/plain": [
       "'17'"
      ]
     },
     "execution_count": 85,
     "metadata": {},
     "output_type": "execute_result"
    }
   ],
   "source": [
    "f\"{17:d}\""
   ]
  },
  {
   "cell_type": "code",
   "execution_count": 94,
   "id": "f7aa1b8d",
   "metadata": {},
   "outputs": [
    {
     "name": "stdout",
     "output_type": "stream",
     "text": [
      "    1     1     1     1\n",
      "    2     2     2    10\n",
      "    3     3     3    11\n",
      "    4     4     4   100\n",
      "    5     5     5   101\n",
      "    6     6     6   110\n",
      "    7     7     7   111\n",
      "    8    10     8  1000\n",
      "    9    11     9  1001\n",
      "   10    12     A  1010\n",
      "   11    13     B  1011\n",
      "   12    14     C  1100\n",
      "   13    15     D  1101\n",
      "   14    16     E  1110\n",
      "   15    17     F  1111\n",
      "   16    20    10 10000\n",
      "   17    21    11 10001\n"
     ]
    }
   ],
   "source": [
    "def print_formatted(number):\n",
    "    w = len(f\"{number:b}\")\n",
    "    for i in range(1, number+1):\n",
    "        print(f\"{i:{w}d} {i:{w}o} {i:{w}X} {i:{w}b}\")\n",
    "\n",
    "print_formatted(17)"
   ]
  },
  {
   "cell_type": "markdown",
   "id": "75d8ed98",
   "metadata": {},
   "source": [
    "# Strings\n",
    "## Alphabet Rangoli\n",
    "\n",
    "Slicing strings (including reverse), using .join to interpose a specific character between characters in a string, using center to center and pad with a specific character"
   ]
  },
  {
   "cell_type": "code",
   "execution_count": 95,
   "id": "4f47c86c",
   "metadata": {},
   "outputs": [
    {
     "data": {
      "text/plain": [
       "'abcdefghijklmnopqrstuvwxyz'"
      ]
     },
     "execution_count": 95,
     "metadata": {},
     "output_type": "execute_result"
    }
   ],
   "source": [
    "import string\n",
    "\n",
    "alpha = string.ascii_lowercase\n",
    "\n",
    "alpha"
   ]
  },
  {
   "cell_type": "code",
   "execution_count": 97,
   "id": "0f567339",
   "metadata": {},
   "outputs": [
    {
     "data": {
      "text/plain": [
       "'abc'"
      ]
     },
     "execution_count": 97,
     "metadata": {},
     "output_type": "execute_result"
    }
   ],
   "source": [
    "n = 3\n",
    "\n",
    "alpha[0:n]"
   ]
  },
  {
   "cell_type": "code",
   "execution_count": null,
   "id": "5582629f",
   "metadata": {},
   "outputs": [
    {
     "name": "stdout",
     "output_type": "stream",
     "text": [
      "----c----\n",
      "--c-b-c--\n",
      "c-b-a-b-c\n",
      "--c-b-c--\n",
      "----c----\n"
     ]
    }
   ],
   "source": [
    "w = 4*n-3\n",
    "\n",
    "for i in range(n-1, -1, -1):\n",
    "    # print(\"-\".join(alpha[i:n]))\n",
    "    # print(\"-\".join(f\"{alpha[n-1:i:-1]}{alpha[i:n]}\"))\n",
    "    print(\"-\".join(f\"{alpha[n-1:i:-1]}{alpha[i:n]}\").center(w, \"-\"))\n",
    "\n",
    "for i in range(1, n):\n",
    "    # print(\"-\".join(alpha[i:n]))\n",
    "    # print(\"-\".join(f\"{alpha[n-1:i:-1]}{alpha[i:n]}\"))\n",
    "    print(\"-\".join(f\"{alpha[n-1:i:-1]}{alpha[i:n]}\").center(w, \"-\"))\n",
    "\n",
    "for i in range(n-1, -1, -1):\n",
    "    print(\"-\".join(f\"{alpha[n-1:i:-1]}{alpha[i:n]}\").center(w, \"-\"))\n",
    "\n",
    "for i in range(1, n):\n",
    "    print(\"-\".join(f\"{alpha[n-1:i:-1]}{alpha[i:n]}\").center(w, \"-\"))"
   ]
  },
  {
   "cell_type": "code",
   "execution_count": 135,
   "id": "7b7671f8",
   "metadata": {},
   "outputs": [
    {
     "data": {
      "text/plain": [
       "'a-b-c'"
      ]
     },
     "execution_count": 135,
     "metadata": {},
     "output_type": "execute_result"
    }
   ],
   "source": [
    "\"-\".join(alpha[0:3])"
   ]
  },
  {
   "cell_type": "code",
   "execution_count": null,
   "id": "56b86392",
   "metadata": {},
   "outputs": [
    {
     "name": "stdout",
     "output_type": "stream",
     "text": [
      "----c----\n",
      "--c-b-c--\n",
      "c-b-a-b-c\n",
      "--c-b-c--\n",
      "----c----\n"
     ]
    }
   ],
   "source": [
    "# More elegant solution\n",
    "\n",
    "n = 3\n",
    "L = []\n",
    "for i in range(n):\n",
    "    s = \"-\".join(alpha[i:n])\n",
    "    L.append((s[::-1]+s[1:]).center(4*n-3, \"-\"))\n",
    "print('\\n'.join(L[:0:-1]+L))"
   ]
  },
  {
   "cell_type": "markdown",
   "id": "0063f440",
   "metadata": {},
   "source": [
    "## The Minion Game"
   ]
  },
  {
   "cell_type": "code",
   "execution_count": 175,
   "id": "2c70a077",
   "metadata": {},
   "outputs": [
    {
     "name": "stdout",
     "output_type": "stream",
     "text": [
      "Stuart 12\n"
     ]
    }
   ],
   "source": [
    "S = \"BANANA\"\n",
    "\n",
    "# C = {}\n",
    "# V = {}\n",
    "# for i in range(1,len(S)+1):\n",
    "#     for j in range(len(S)+1-i):\n",
    "#         if S[j:j+1].upper() in [\"A\", \"E\", \"I\", \"O\", \"U\"]:\n",
    "#             V[S[j:j+i]] = V.get(S[j:j+i], 0)+1\n",
    "#             # print(f\"V: {S[j:j+i]}\")\n",
    "#         else:\n",
    "#             C[S[j:j+i]] = C.get(S[j:j+i], 0)+1\n",
    "#             # print(f\"C: {S[j:j+i]}\")\n",
    "\n",
    "# C_score = sum(C.values())\n",
    "# V_score = sum(V.values())\n",
    "C_score = 0\n",
    "V_score = 0\n",
    "\n",
    "for i in range(len(S)):\n",
    "    if S[i] in \"AEIOU\":\n",
    "        V_score += (len(S)-i)\n",
    "    else:\n",
    "        C_score += (len(S)-i)\n",
    "\n",
    "if C_score > V_score:\n",
    "    print(f\"Stuart {C_score:d}\")\n",
    "elif C_score < V_score:\n",
    "    print(f\"Kevin {V_score:d}\")\n",
    "else:\n",
    "    print(\"Draw\")"
   ]
  },
  {
   "cell_type": "code",
   "execution_count": null,
   "id": "5e290465",
   "metadata": {},
   "outputs": [
    {
     "data": {
      "text/plain": [
       "12"
      ]
     },
     "execution_count": 174,
     "metadata": {},
     "output_type": "execute_result"
    }
   ],
   "source": [
    "# More elegant - you don't need to track how many copies of each\n",
    "\n",
    "vowels = 'AEIOU'\n",
    "\n",
    "kevsc = 0\n",
    "stusc = 0\n",
    "for i in range(len(s)):\n",
    "    if s[i] in vowels:\n",
    "        kevsc += (len(s)-i)\n",
    "    else:\n",
    "        stusc += (len(s)-i)\n",
    "\n",
    "if kevsc > stusc:\n",
    "    print(f\"Kevin {kevsc}\")\n",
    "elif kevsc < stusc:\n",
    "    print(f\"Stuart {stusc}\")\n",
    "else:\n",
    "    print(\"Draw\")"
   ]
  },
  {
   "cell_type": "markdown",
   "id": "b9df613d",
   "metadata": {},
   "source": [
    "## Merge the Tools!"
   ]
  },
  {
   "cell_type": "code",
   "execution_count": null,
   "id": "24c12d02",
   "metadata": {},
   "outputs": [],
   "source": [
    "def merge_the_tools(string, k):\n",
    "    for i in range(k):\n",
    "        # print(string[i*int(len(string)/k):(i+1)*int(len(string)/k)])\n",
    "        t = string[i*int(len(string)/k):(i+1)*int(len(string)/k)]\n",
    "        d = {}\n",
    "        u = \"\"\n",
    "        for j in range(len(t)):\n",
    "            if t[j] not in d:\n",
    "                # print(t[j])\n",
    "                # print(d)\n",
    "                d[t[j]] = 1\n",
    "                u = u+t[j]\n",
    "            \n",
    "        # print(d)\n",
    "        # print(f\"{t=}\")\n",
    "        # print(f\"{u=}\")\n",
    "        print(u)"
   ]
  },
  {
   "cell_type": "code",
   "execution_count": 222,
   "id": "e7fce508",
   "metadata": {},
   "outputs": [],
   "source": [
    "def merge_the_tools(string, k):\n",
    "    S = string\n",
    "    N = k\n",
    "    for part in zip(*[iter(S)] * N):\n",
    "        d = dict()\n",
    "        print(''.join([ d.setdefault(c, c) for c in part if c not in d ]))\n"
   ]
  },
  {
   "cell_type": "code",
   "execution_count": null,
   "id": "5c00c57d",
   "metadata": {},
   "outputs": [
    {
     "name": "stdout",
     "output_type": "stream",
     "text": [
      "AB\n",
      "CA\n",
      "AD\n"
     ]
    }
   ],
   "source": [
    "merge_the_tools(\"AABCAAADA\", 3)"
   ]
  },
  {
   "cell_type": "code",
   "execution_count": 224,
   "id": "9b500c2a",
   "metadata": {},
   "outputs": [
    {
     "name": "stdout",
     "output_type": "stream",
     "text": [
      "A\n",
      "BCA\n",
      "DE\n"
     ]
    }
   ],
   "source": [
    "merge_the_tools(\"AAABCADDE\", 3)"
   ]
  },
  {
   "cell_type": "code",
   "execution_count": 264,
   "id": "f096c09d",
   "metadata": {},
   "outputs": [
    {
     "name": "stdout",
     "output_type": "stream",
     "text": [
      "[('A', 'A', 'B'), ('C', 'A', 'A'), ('A', 'D', 'A'), ('Y', 'W', 'W'), ('W', 'I', 'E')]\n",
      "AB\n",
      "CA\n",
      "AD\n",
      "YW\n",
      "WIE\n"
     ]
    }
   ],
   "source": [
    "S = \"AABCAAADA\"\n",
    "N = 3\n",
    "print(list(zip(*[iter(string)] * k)))\n",
    "for part in zip(*[iter(string)] * k):\n",
    "    d = dict()\n",
    "    print(''.join([ d.setdefault(c, c) for c in part if c not in d ]))"
   ]
  },
  {
   "cell_type": "code",
   "execution_count": 267,
   "id": "474b0c92",
   "metadata": {},
   "outputs": [
    {
     "name": "stdout",
     "output_type": "stream",
     "text": [
      "KYQTWXDLINFBHRGZVCUSAMOEPJ\n",
      "YUGTZIWNVSALBXOCDMPFEKJRQH\n"
     ]
    }
   ],
   "source": [
    "string = \"AABCAAADA\"\n",
    "k = 3\n",
    "\n",
    "string = \"AABCAAADAYWWWIE\"\n",
    "k = 3\n",
    "\n",
    "string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n",
    "k = 3452\n",
    "\n",
    "nsub = len(string) // k\n",
    "for i in range(nsub):\n",
    "    t = string[i*k:(i+1)*k]\n",
    "    d = {}\n",
    "    u = \"\".join([d.setdefault(c, c) for c in t if c not in d])\n",
    "    print(u)"
   ]
  },
  {
   "cell_type": "markdown",
   "id": "d1967814",
   "metadata": {},
   "source": [
    "# itertools\n",
    "## combinations, permutations, combinations_with_replacement"
   ]
  },
  {
   "cell_type": "code",
   "execution_count": 13,
   "id": "f522049e",
   "metadata": {},
   "outputs": [
    {
     "name": "stdout",
     "output_type": "stream",
     "text": [
      "A\n",
      "C\n",
      "H\n",
      "K\n",
      "AC\n",
      "AH\n",
      "AK\n",
      "CH\n",
      "CK\n",
      "HK\n"
     ]
    }
   ],
   "source": [
    "from itertools import combinations\n",
    "\n",
    "S = \"HACK\"\n",
    "n = 2\n",
    "\n",
    "for i in range(1, n+1):\n",
    "    combos = list(combinations(S, i))\n",
    "    combos = [list(c) for c in combos]\n",
    "    [c.sort() for c in combos]\n",
    "    combos = [\"\".join(c) for c in combos]\n",
    "    combos.sort()\n",
    "\n",
    "    for c in combos:\n",
    "        print(c)"
   ]
  },
  {
   "cell_type": "code",
   "execution_count": 18,
   "id": "18e3daa8",
   "metadata": {},
   "outputs": [
    {
     "name": "stdout",
     "output_type": "stream",
     "text": [
      "A\n",
      "C\n",
      "H\n",
      "K\n",
      "AC\n",
      "AH\n",
      "AK\n",
      "CH\n",
      "CK\n",
      "HK\n"
     ]
    }
   ],
   "source": [
    "from itertools import combinations\n",
    "\n",
    "S = \"HACK\"\n",
    "n = 2\n",
    "\n",
    "Slist = list(S)\n",
    "Slist.sort()\n",
    "S = \"\".join(Slist)\n",
    "for i in range(1, n+1):\n",
    "    combos = list(combinations(S, i))\n",
    "    combos = [\"\".join(c) for c in combos]\n",
    "\n",
    "    for c in combos:\n",
    "        print(c)"
   ]
  },
  {
   "cell_type": "code",
   "execution_count": null,
   "id": "04efa343",
   "metadata": {},
   "outputs": [
    {
     "name": "stdout",
     "output_type": "stream",
     "text": [
      "AC\n",
      "AH\n",
      "AK\n",
      "CA\n",
      "CH\n",
      "CK\n",
      "HA\n",
      "HC\n",
      "HK\n",
      "KA\n",
      "KC\n",
      "KH\n"
     ]
    }
   ],
   "source": [
    "S = \"HACK\"\n",
    "n = 2\n",
    "\n",
    "from itertools import permutations\n",
    "\n",
    "Slist = list(S)\n",
    "Slist.sort()\n",
    "S = \"\".join(Slist)\n",
    "combos = list(permutations(S, n))\n",
    "combos = [\"\".join(c) for c in combos]\n",
    "\n",
    "for c in combos:\n",
    "    print(c)"
   ]
  },
  {
   "cell_type": "code",
   "execution_count": 22,
   "id": "6141f7c2",
   "metadata": {},
   "outputs": [
    {
     "name": "stdout",
     "output_type": "stream",
     "text": [
      "AA\n",
      "AC\n",
      "AH\n",
      "AK\n",
      "CC\n",
      "CH\n",
      "CK\n",
      "HH\n",
      "HK\n",
      "KK\n"
     ]
    }
   ],
   "source": [
    "S = \"HACK\"\n",
    "n = 2\n",
    "\n",
    "from itertools import combinations_with_replacement\n",
    "\n",
    "Slist = list(S)\n",
    "Slist.sort()\n",
    "S = \"\".join(Slist)\n",
    "combos = list(combinations_with_replacement(S, n))\n",
    "combos = [\"\".join(c) for c in combos]\n",
    "\n",
    "for c in combos:\n",
    "    print(c)"
   ]
  },
  {
   "cell_type": "markdown",
   "id": "9faaf57d",
   "metadata": {},
   "source": [
    "## groupby"
   ]
  },
  {
   "cell_type": "code",
   "execution_count": 33,
   "id": "75ca344c",
   "metadata": {},
   "outputs": [
    {
     "data": {
      "text/plain": [
       "'(1, 1) (2, 3) (3, 1) (1, 2)'"
      ]
     },
     "execution_count": 33,
     "metadata": {},
     "output_type": "execute_result"
    }
   ],
   "source": [
    "S = \"1222311\"\n",
    "\n",
    "from itertools import groupby\n",
    "\n",
    "# [(k, g) for k, g in groupby(S)]\n",
    "' '.join([str((int(k), len(list(g)))) for k, g in groupby(S)])"
   ]
  },
  {
   "cell_type": "code",
   "execution_count": 41,
   "id": "35da273c",
   "metadata": {},
   "outputs": [
    {
     "name": "stdout",
     "output_type": "stream",
     "text": [
      "0.833\n"
     ]
    }
   ],
   "source": [
    "S = \"a a c d\"\n",
    "S = S.split()\n",
    "n = 2\n",
    "\n",
    "from itertools import combinations\n",
    "\n",
    "combos = list(combinations(S, n))\n",
    "\n",
    "a = [t for t in combos if 'a' in t]\n",
    "\n",
    "print(round(len(a)/len(combos),3))"
   ]
  },
  {
   "cell_type": "markdown",
   "id": "2f64c36d",
   "metadata": {},
   "source": [
    "# collections\n",
    "## defaultdict"
   ]
  },
  {
   "cell_type": "code",
   "execution_count": null,
   "id": "ce98bba6",
   "metadata": {},
   "outputs": [
    {
     "data": {
      "text/plain": [
       "-1"
      ]
     },
     "execution_count": 54,
     "metadata": {},
     "output_type": "execute_result"
    }
   ],
   "source": [
    "from collections import defaultdict\n",
    "\n",
    "# default_factory argument needs to be a callable\n",
    "d = defaultdict(list)\n",
    "d = defaultdict(lambda: [-1])\n",
    "d['a']"
   ]
  },
  {
   "cell_type": "code",
   "execution_count": null,
   "id": "75ee1065",
   "metadata": {},
   "outputs": [
    {
     "name": "stdout",
     "output_type": "stream",
     "text": [
      "1 3\n",
      "-1\n"
     ]
    }
   ],
   "source": [
    "A = ['a', 'b', 'a']\n",
    "B = ['a', 'c']\n",
    "\n",
    "from collections import defaultdict\n",
    "d = defaultdict(list)\n",
    "for i, a in enumerate(A):\n",
    "    d[a].append(str(i+1))\n",
    "\n",
    "for b in B:\n",
    "    if b in d:\n",
    "        print(\" \".join(d[b]))\n",
    "    else:\n",
    "        print(-1)"
   ]
  },
  {
   "cell_type": "markdown",
   "id": "367e9f66",
   "metadata": {},
   "source": [
    "# Calendar module"
   ]
  },
  {
   "cell_type": "code",
   "execution_count": 87,
   "id": "ae3df193",
   "metadata": {},
   "outputs": [],
   "source": [
    "import calendar\n",
    "\n",
    "cal = calendar.Calendar()"
   ]
  },
  {
   "cell_type": "code",
   "execution_count": 108,
   "id": "41cd7503",
   "metadata": {},
   "outputs": [],
   "source": [
    "gen1 = cal.itermonthdays2(2015, 8)\n",
    "gen2 = cal.itermonthdates(2015, 8)"
   ]
  },
  {
   "cell_type": "code",
   "execution_count": 109,
   "id": "5f66a037",
   "metadata": {},
   "outputs": [
    {
     "name": "stdout",
     "output_type": "stream",
     "text": [
      "(0, 0) 2015-07-27\n",
      "(0, 1) 2015-07-28\n",
      "(0, 2) 2015-07-29\n",
      "(0, 3) 2015-07-30\n",
      "(0, 4) 2015-07-31\n",
      "(1, 5) 2015-08-01\n",
      "(2, 6) 2015-08-02\n",
      "(3, 0) 2015-08-03\n",
      "(4, 1) 2015-08-04\n",
      "(5, 2) 2015-08-05\n",
      "(6, 3) 2015-08-06\n",
      "(7, 4) 2015-08-07\n",
      "(8, 5) 2015-08-08\n",
      "(9, 6) 2015-08-09\n",
      "(10, 0) 2015-08-10\n",
      "(11, 1) 2015-08-11\n",
      "(12, 2) 2015-08-12\n",
      "(13, 3) 2015-08-13\n",
      "(14, 4) 2015-08-14\n",
      "(15, 5) 2015-08-15\n",
      "(16, 6) 2015-08-16\n",
      "(17, 0) 2015-08-17\n",
      "(18, 1) 2015-08-18\n",
      "(19, 2) 2015-08-19\n",
      "(20, 3) 2015-08-20\n",
      "(21, 4) 2015-08-21\n",
      "(22, 5) 2015-08-22\n",
      "(23, 6) 2015-08-23\n",
      "(24, 0) 2015-08-24\n",
      "(25, 1) 2015-08-25\n",
      "(26, 2) 2015-08-26\n",
      "(27, 3) 2015-08-27\n",
      "(28, 4) 2015-08-28\n",
      "(29, 5) 2015-08-29\n",
      "(30, 6) 2015-08-30\n",
      "(31, 0) 2015-08-31\n",
      "(0, 1) 2015-09-01\n",
      "(0, 2) 2015-09-02\n",
      "(0, 3) 2015-09-03\n",
      "(0, 4) 2015-09-04\n",
      "(0, 5) 2015-09-05\n",
      "(0, 6) 2015-09-06\n"
     ]
    }
   ],
   "source": [
    "while True:\n",
    "    try:\n",
    "        # print(next(gen1))\n",
    "        # print(next(gen2))\n",
    "        print(f\"{next(gen1)} {next(gen2)}\")\n",
    "    except StopIteration:\n",
    "        break"
   ]
  },
  {
   "cell_type": "code",
   "execution_count": 112,
   "id": "eb2208b2",
   "metadata": {},
   "outputs": [
    {
     "name": "stdout",
     "output_type": "stream",
     "text": [
      "[[0, 0, 0, 0, 0, 1, 2], [3, 4, 5, 6, 7, 8, 9], [10, 11, 12, 13, 14, 15, 16], [17, 18, 19, 20, 21, 22, 23], [24, 25, 26, 27, 28, 29, 30], [31, 0, 0, 0, 0, 0, 0]]\n"
     ]
    }
   ],
   "source": [
    "lis = cal.monthdayscalendar(2015, 8)\n",
    "print(lis)"
   ]
  },
  {
   "cell_type": "markdown",
   "id": "a1c95400",
   "metadata": {},
   "source": [
    "# Python classes\n",
    "## Find the Torsional Angle"
   ]
  },
  {
   "cell_type": "code",
   "execution_count": null,
   "id": "0dd4fff4",
   "metadata": {},
   "outputs": [],
   "source": [
    "import math\n",
    "\n",
    "class Points(object):\n",
    "    def __init__(self, x, y, z):\n",
    "        self.x = x\n",
    "        self.y = y\n",
    "        self.z = z\n",
    "\n",
    "    def __sub__(self, no):\n",
    "        return Point(self.x - no.x, self.y - no.y, self.z - no.z)\n",
    "        \n",
    "    def dot(self, no):\n",
    "        return self.x*no.x + self.y*no.y + self.z*no.z\n",
    "\n",
    "    def cross(self, no):\n",
    "        math.asin()\n",
    "        \n",
    "    def absolute(self):\n",
    "        return pow((self.x ** 2 + self.y ** 2 + self.z ** 2), 0.5)\n",
    "\n",
    "if __name__ == '__main__':\n",
    "    points = list()\n",
    "    for i in range(4):\n",
    "        a = list(map(float, input().split()))\n",
    "        points.append(a)\n",
    "\n",
    "    a, b, c, d = Points(*points[0]), Points(*points[1]), Points(*points[2]), Points(*points[3])\n",
    "    x = (b - a).cross(c - b)\n",
    "    y = (c - b).cross(d - c)\n",
    "    angle = math.acos(x.dot(y) / (x.absolute() * y.absolute()))\n",
    "\n",
    "    print(\"%.2f\" % math.degrees(angle))"
   ]
  },
  {
   "cell_type": "markdown",
   "id": "b7bfc1db",
   "metadata": {},
   "source": [
    "## Dealing with Complex Numbers"
   ]
  },
  {
   "cell_type": "code",
   "execution_count": 131,
   "id": "4d668216",
   "metadata": {},
   "outputs": [
    {
     "name": "stdout",
     "output_type": "stream",
     "text": [
      "7.00+7.00i\n",
      "-3.00-5.00i\n",
      "4.00+17.00i\n",
      "0.26-0.11i\n",
      "2.24+0.00i\n",
      "7.81+0.00i\n"
     ]
    }
   ],
   "source": [
    "import math\n",
    "\n",
    "class Complex(object):\n",
    "    def __init__(self, real, imaginary):\n",
    "        self.real = real\n",
    "        self.imaginary = imaginary\n",
    "        \n",
    "    def __add__(self, no):\n",
    "        if isinstance(no, Complex):\n",
    "            return Complex(self.real + no.real, self.imaginary + no.imaginary)\n",
    "        elif isinstance(no, (int, float)):\n",
    "            return Complex(self.real + no, self.imaginary)\n",
    "        else:\n",
    "            raise Exception(\"Not implemented\")\n",
    "\n",
    "    def __sub__(self, no):\n",
    "        if isinstance(no, Complex):\n",
    "            return Complex(self.real - no.real, self.imaginary - no.imaginary)\n",
    "        elif isinstance(no, (int, float)):\n",
    "            return Complex(self.real - no, self.imaginary)\n",
    "        else:\n",
    "            raise Exception(\"Not implemented\")\n",
    "\n",
    "    def __mul__(self, no):\n",
    "        if isinstance(no, Complex):\n",
    "            return Complex(self.real*no.real - self.imaginary*no.imaginary, self.real*no.imaginary + self.imaginary*no.real)\n",
    "        elif isinstance(no, (int, float)):\n",
    "            return Complex(self.real*no, self.imaginary*no)\n",
    "        else:\n",
    "            raise Exception(\"Not implemented\")\n",
    "\n",
    "    def __truediv__(self, no):\n",
    "        if isinstance(no, Complex):\n",
    "            return self.__mul__(Complex(no.real, -1*no.imaginary))/(no.real**2 + no.imaginary**2)\n",
    "        elif isinstance(no, (int, float)):\n",
    "            return Complex(self.real/no, self.imaginary/no)\n",
    "        else:\n",
    "            raise Exception(\"Not implemented\")\n",
    "\n",
    "    def mod(self):\n",
    "        return Complex(pow(self.real**2 + self.imaginary**2, 0.5), 0)\n",
    "\n",
    "    def __str__(self):\n",
    "        if self.imaginary == 0:\n",
    "            result = \"%.2f+0.00i\" % (self.real)\n",
    "        elif self.real == 0:\n",
    "            if self.imaginary >= 0:\n",
    "                result = \"0.00+%.2fi\" % (self.imaginary)\n",
    "            else:\n",
    "                result = \"0.00-%.2fi\" % (abs(self.imaginary))\n",
    "        elif self.imaginary > 0:\n",
    "            result = \"%.2f+%.2fi\" % (self.real, self.imaginary)\n",
    "        else:\n",
    "            result = \"%.2f-%.2fi\" % (self.real, abs(self.imaginary))\n",
    "        return result\n",
    "\n",
    "\n",
    "# c = map(float, input().split())\n",
    "# d = map(float, input().split())\n",
    "c = map(float, [2, 1])\n",
    "d = map(float, [5, 6])\n",
    "x = Complex(*c)\n",
    "y = Complex(*d)\n",
    "print(*map(str, [x+y, x-y, x*y, x/y, x.mod(), y.mod()]), sep='\\n')\n",
    "    "
   ]
  },
  {
   "cell_type": "code",
   "execution_count": 134,
   "id": "6d37ec1f",
   "metadata": {},
   "outputs": [
    {
     "name": "stdout",
     "output_type": "stream",
     "text": [
      "['12', '9', '61', '5', '14']\n",
      "['21', '9', '16', '5', '41']\n"
     ]
    }
   ],
   "source": [
    "nums = [12, 9, 61, 5, 14]\n",
    "\n",
    "print([str(i) for i in nums])\n",
    "print([str(i)[::-1] for i in nums])"
   ]
  },
  {
   "cell_type": "code",
   "execution_count": 148,
   "id": "da6967c3",
   "metadata": {},
   "outputs": [
    {
     "name": "stdout",
     "output_type": "stream",
     "text": [
      "5 8\n"
     ]
    }
   ],
   "source": [
    "from fractions import Fraction\n",
    "from functools import reduce\n",
    "\n",
    "fracs = [Fraction(1,2), Fraction(3,4), Fraction(10,6)]\n",
    "fracs\n",
    "\n",
    "def product(fracs):\n",
    "    t = reduce(lambda x, y: x * y, fracs)\n",
    "    return t.numerator, t.denominator\n",
    "\n",
    "\n",
    "result = product(fracs)\n",
    "print(*result)"
   ]
  },
  {
   "cell_type": "code",
   "execution_count": null,
   "id": "3b4f4e48",
   "metadata": {},
   "outputs": [],
   "source": [
    "def fun(s):\n",
    "    e = s.split(\"@\")\n",
    "    if len(e) != 2:\n",
    "        return False\n",
    "    \n",
    "    if not filter(lambda x: x.isalnum() or x == \"_\" or x == \"-\", e[0]):\n",
    "        return False\n",
    "    \n",
    "    try:\n",
    "        sitename, siteext = e[1].split(\".\")\n",
    "        if len(siteext) > 3:\n",
    "            return False\n",
    "            \n",
    "        # if not filter(lambda x: x.isalnum(), sitename):\n",
    "        if not sitename.isalnum():\n",
    "            return False\n",
    "            \n",
    "        # if not filter(lambda x: x.isalpha(), siteext):\n",
    "        if not siteext.isalpha():\n",
    "            return False\n",
    "            \n",
    "    except Exception:\n",
    "        return False\n",
    "    \n",
    "    return True"
   ]
  },
  {
   "cell_type": "markdown",
   "id": "f577541e",
   "metadata": {},
   "source": [
    "# Regex\n",
    "## Detect Floating Point Number"
   ]
  },
  {
   "cell_type": "code",
   "execution_count": null,
   "id": "8f1fcf90",
   "metadata": {},
   "outputs": [],
   "source": [
    "import re\n",
    "\n",
    "string = r\"[+-]?\\d*[.]?\\d*\"\n",
    "string = r\"[+-]?(\\d*\\.\\d+|\\d+)\"\n",
    "string = r\"[+-]?(\\d*\\.)?\\d+\"\n",
    "\n",
    "pattern = re.compile(string)\n",
    "\n",
    "T = int(input())\n",
    "\n",
    "for i in range(T):\n",
    "    S = input()\n",
    "    try:\n",
    "        float(S)\n",
    "    except Exception:\n",
    "        print(False)\n",
    "        continue\n",
    "        \n",
    "    if pattern.fullmatch(S):\n",
    "        print(True)\n",
    "    else:\n",
    "        print(False)\n",
    "    "
   ]
  },
  {
   "cell_type": "code",
   "execution_count": 2,
   "id": "14ecd70a",
   "metadata": {},
   "outputs": [
    {
     "name": "stdout",
     "output_type": "stream",
     "text": [
      "False\n",
      "True\n",
      "True\n",
      "False\n",
      "False\n",
      "False\n"
     ]
    }
   ],
   "source": [
    "import re\n",
    "\n",
    "inputs = [\"5\", \"1.414\", \"+.5486468\", \"0.5.0\", \"1+1.0\", \"0\"]\n",
    "\n",
    "string = r\"[+-]?(\\d*\\.)?\\d+\"\n",
    "string = r\"[+-]?\\d*\\.\\d+\"\n",
    "\n",
    "pattern = re.compile(string)\n",
    "\n",
    "for i in range(len(inputs)):\n",
    "    S = inputs[i]\n",
    "    try:\n",
    "        float(S)\n",
    "    except Exception:\n",
    "        print(False)\n",
    "        continue\n",
    "        \n",
    "    if pattern.fullmatch(S):\n",
    "        print(True)\n",
    "    else:\n",
    "        print(False)"
   ]
  },
  {
   "cell_type": "markdown",
   "id": "57c84569",
   "metadata": {},
   "source": [
    "## Group(), Groups() & Groupdict()"
   ]
  },
  {
   "cell_type": "code",
   "execution_count": 34,
   "id": "9c7f77f1",
   "metadata": {},
   "outputs": [
    {
     "name": "stdout",
     "output_type": "stream",
     "text": [
      "111\n",
      "1\n",
      "('1',)\n",
      "<re.Match object; span=(13, 16), match='111'>\n",
      "1\n"
     ]
    }
   ],
   "source": [
    "S = \"..12345678910111213141516171820212223\"\n",
    "\n",
    "import re\n",
    "\n",
    "# The group is any single alphanumeric character\n",
    "# \\1 matches the contents of the first group\n",
    "# \\1+ matches the contents of the first group one or more times\n",
    "# This looks for repeating characters\n",
    "string = r\"([a-zA-Z0-9])\\1+\"\n",
    "pattern = re.compile(string)\n",
    "print(pattern.search(S).group(0)) # The full matching expression\n",
    "print(pattern.search(S).group(1)) # The first (and only capture group)\n",
    "print(pattern.search(S).groups()) # The capture groups\n",
    "print(pattern.search(S))\n",
    "\n",
    "if (r := pattern.search(S)):\n",
    "    print(r.group(1))\n",
    "else:\n",
    "    print(-1)"
   ]
  },
  {
   "cell_type": "markdown",
   "id": "56b185a0",
   "metadata": {},
   "source": [
    "## Re.findall() & Re.finditer()"
   ]
  },
  {
   "cell_type": "code",
   "execution_count": null,
   "id": "a1cb6a51",
   "metadata": {},
   "outputs": [
    {
     "name": "stdout",
     "output_type": "stream",
     "text": [
      "(?<=[QWRTYPSDFGHJKLZXCVBNMqwrtypsdfghjklzxcvbnm])([AEIOUaeiou]{2,})(?=[QWRTYPSDFGHJKLZXCVBNMqwrtypsdfghjklzxcvbnm])\n",
      "aa\n",
      "aa\n",
      "aa\n"
     ]
    }
   ],
   "source": [
    "S = \"rabcdeefgyYhFjkIoomnpOeorteeeeet\"\n",
    "S = \"match a single character not present in the list below\" # no match\n",
    "S = \"abaabaabaabaae\" # ['aa', 'aa', 'aa'] This one requires lookahead - findall/finditer find non-overlapping matches only\n",
    "\n",
    "import re\n",
    "\n",
    "vowels = \"AEIOUaeiou\"\n",
    "consonants = \"QWRTYPSDFGHJKLZXCVBNMqwrtypsdfghjklzxcvbnm\"\n",
    "\n",
    "string = rf\"(?<=[{consonants}])([{vowels}]{'{2,}'})(?=[{consonants}])\"\n",
    "# string = rf\"[{consonants}]([{vowels}]{'{2,}'})[{consonants}]\"\n",
    "# string = rf\"[{consonants}][{vowels}]{'{2,}'}[{consonants}]\"\n",
    "# print(string)\n",
    "pattern = re.compile(string)\n",
    "\n",
    "print(\"\\n\".join(pattern.findall(S) or ['-1']))"
   ]
  },
  {
   "cell_type": "markdown",
   "id": "c86f0e07",
   "metadata": {},
   "source": [
    "## Re.start() & Re.end()"
   ]
  },
  {
   "cell_type": "code",
   "execution_count": 75,
   "id": "4629d392",
   "metadata": {},
   "outputs": [
    {
     "name": "stdout",
     "output_type": "stream",
     "text": [
      "(1, 1)\n",
      "(10, 10)\n"
     ]
    }
   ],
   "source": [
    "S = \"aaadaa\"\n",
    "k = \"aa\"\n",
    "\n",
    "\n",
    "S = \"vineetdoshi\"\n",
    "k = \"i\"\n",
    "\n",
    "import re\n",
    "\n",
    "pattern = re.compile(k)\n",
    "\n",
    "if (m := pattern.search(S)):\n",
    "    print(f\"({m.start()}, {m.end()-1})\")\n",
    "    while (m := pattern.search(S, m.start()+1)):\n",
    "        print(f\"({m.start()}, {m.end()-1})\")\n",
    "else:\n",
    "    print(\"(-1, -1)\")"
   ]
  },
  {
   "cell_type": "markdown",
   "id": "9a2c049e",
   "metadata": {},
   "source": [
    "## Validating and Parsing Email Addresses"
   ]
  },
  {
   "cell_type": "code",
   "execution_count": 100,
   "id": "f7b6c429",
   "metadata": {},
   "outputs": [
    {
     "name": "stdout",
     "output_type": "stream",
     "text": [
      "<re.Match object; span=(0, 30), match='vineet <vineet.iitg@gmail.com>'>\n",
      "vineet <vineet.iitg@gmail.com>\n",
      "<re.Match object; span=(0, 29), match='vineet <vineet.iitg@gmail.co>'>\n",
      "vineet <vineet.iitg@gmail.co>\n",
      "<re.Match object; span=(0, 28), match='vineet <vineet.iitg@gmail.c>'>\n",
      "vineet <vineet.iitg@gmail.c>\n"
     ]
    }
   ],
   "source": [
    "import re\n",
    "\n",
    "n = [\"DEXTER <dexter@hotmail.com>\", \"VIRUS <virus!@variable.:p>\"]\n",
    "n = [\"vineet <vineet.iitg@gmail.com>\", \"vineet <vineet.iitg@gmail.co>\", \"vineet <vineet.iitg@gmail.c>\"]\n",
    "\n",
    "# pattern = re.compile(r\"[a-zA-Z][\\d\\-_]*@[a-zA-Z]+\\.[a-zA-Z]{1,3}\")\n",
    "# pattern = re.compile(r\"(.+) (<[a-zA-Z][\\d\\-_]*@[a-zA-Z]+\\.[a-zA-Z]{1,3}>)\")\n",
    "pattern = re.compile(r\".* <[a-zA-Z][a-zA-Z0-9\\-_\\.]*@[a-zA-Z]+\\.[a-zA-Z]{1,3}>\")\n",
    "\n",
    "for i in range(len(n)):\n",
    "    s = n[i]\n",
    "    if (m := pattern.search(s)):\n",
    "        print(m)\n",
    "    # if pattern.fullmatch(s):\n",
    "        print(s)"
   ]
  },
  {
   "cell_type": "markdown",
   "id": "f3fae9bb",
   "metadata": {},
   "source": [
    "## Hex Color Codes"
   ]
  },
  {
   "cell_type": "code",
   "execution_count": 113,
   "id": "42922324",
   "metadata": {},
   "outputs": [
    {
     "name": "stdout",
     "output_type": "stream",
     "text": [
      "\n",
      "11\n",
      "#BED\n",
      "{\n",
      "    color: #FfFdF8; background-color:#aef;\n",
      "    font-size: 123px;\n",
      "    background: -webkit-linear-gradient(top, #f9f9f9, #fff);\n",
      "}\n",
      "#Cab\n",
      "{\n",
      "    background-color: #ABC;\n",
      "    border: 2px dashed #fff;\n",
      "}   \n",
      "\n",
      "#FfFdF8\n",
      "#aef\n",
      "#f9f9f9\n",
      "#fff\n",
      "#ABC\n",
      "#fff\n"
     ]
    }
   ],
   "source": [
    "pattern = re.compile(r\"{.*(#[a-fA-F0-9]{6}|#[a-fA-F0-9]{3}).*}\", flags=re.DOTALL) # .* is greedy so it only matches one\n",
    "pattern = re.compile(r\"[^\\n](#[a-fA-F0-9]{6}|#[a-fA-F0-9]{3})\")\n",
    "\n",
    "full = \"\"\"\n",
    "11\n",
    "#BED\n",
    "{\n",
    "    color: #FfFdF8; background-color:#aef;\n",
    "    font-size: 123px;\n",
    "    background: -webkit-linear-gradient(top, #f9f9f9, #fff);\n",
    "}\n",
    "#Cab\n",
    "{\n",
    "    background-color: #ABC;\n",
    "    border: 2px dashed #fff;\n",
    "}   \n",
    "\"\"\"\n",
    "print(full)\n",
    "matches = pattern.findall(full)\n",
    "if matches:\n",
    "    print(*matches, sep=\"\\n\")"
   ]
  },
  {
   "cell_type": "markdown",
   "id": "e358db97",
   "metadata": {},
   "source": [
    "## HTML Parser - Part 1"
   ]
  },
  {
   "cell_type": "code",
   "execution_count": 162,
   "id": "2b5b3960",
   "metadata": {},
   "outputs": [
    {
     "name": "stdout",
     "output_type": "stream",
     "text": [
      "<script type=\"text/javascript\" src=\"js/cufon-yui.js\"></script>\n",
      "<script type=\"text/javascript\" src=\"js/TitilliumMaps.font.js\"></script><h1>Business Solutions</h1><br />\n",
      "<h2>Business Insurance</h2><script type=\"text/javascript\">\n",
      "    Cufon.replace('h1, h2', { fontFamily: \"TitilliumMaps26L\", hover: true });\n",
      "</script>\n",
      "\n",
      "Empty : script type=\"text/javascript\" src=\"js/cufon-yui.js\"></script>\n",
      "<script type=\"text/javascript\" src=\"js/TitilliumMaps.font.js\"></script><h1>Business Solutions</h1><br\n",
      "Start : h2\n",
      "End   : h2\n",
      "End   : script\n"
     ]
    }
   ],
   "source": [
    "S = [\"<html><head><title>HTML Parser - I</title></head>\", \"<body data-modal-target class='1'><h1>HackerRank</h1><br /></body></html>\"]\n",
    "S = [\"\"\"<script type=\"text/javascript\" src=\"js/cufon-yui.js\"></script>\"\"\", \"\"\"<script type=\"text/javascript\" src=\"js/TitilliumMaps.font.js\"></script><h1>Business Solutions</h1><br />\"\"\", \"\"\"<h2>Business Insurance</h2><script type=\"text/javascript\">\"\"\",\n",
    "\"\"\"    Cufon.replace('h1, h2', { fontFamily: \"TitilliumMaps26L\", hover: true });\"\"\", \"\"\"</script>\"\"\"]\n",
    "\n",
    "import re\n",
    "\n",
    "string = r\"(?P<start><[^/]+?>)|(?P<end></\\w+?>)|(?P<empty><.+?/>)\"\n",
    "string = r\"<(?P<start>[^/]+?)>|</(?P<end>.+?)>|<(?P<empty>.+?)/>\"\n",
    "string = r\"(?P<comment><!.+?>)|<(?P<start>[^/]+?)>|</(?P<end>.+?)>|<(?P<empty>.+?)/>\"\n",
    "pattern = re.compile(string, flags=re.DOTALL)\n",
    "\n",
    "S = \"\\n\".join(S)\n",
    "print(f\"{S}\\n\")\n",
    "matches = pattern.findall(S)\n",
    "for m in matches:\n",
    "    for mdx, m2 in enumerate(m):\n",
    "        if m2 == \"\":\n",
    "            continue\n",
    "        \n",
    "        if mdx == 0: # comment\n",
    "            continue\n",
    "        if mdx == 1: # start\n",
    "            attribs = m2.split()\n",
    "            # print(f\"Start: {attribs[0]}\")\n",
    "            print(f\"{'Start'.ljust(6)}: {attribs[0]}\")\n",
    "            for a in attribs[1:]:\n",
    "                try:\n",
    "                    name, value = a.split(\"=\")\n",
    "                    print(f\"-> {name.strip()} > {value.strip(\" \\t\\n\\r\\f\\v'\\\"\")}\")\n",
    "                except ValueError:\n",
    "                    print(f\"-> {a.strip()} > {None}\")\n",
    "\n",
    "        elif mdx == 2: # end\n",
    "            # print(f\"End: {m2.strip()}\")\n",
    "            print(f\"{'End'.ljust(6)}: {m2.strip()}\")\n",
    "        elif mdx == 3: # empty\n",
    "            # print(f\"Empty: {m2.strip()}\")\n",
    "            print(f\"{'Empty'.ljust(6)}: {m2.strip()}\")"
   ]
  }
 ],
 "metadata": {
  "kernelspec": {
   "display_name": "venv",
   "language": "python",
   "name": "python3"
  },
  "language_info": {
   "codemirror_mode": {
    "name": "ipython",
    "version": 3
   },
   "file_extension": ".py",
   "mimetype": "text/x-python",
   "name": "python",
   "nbconvert_exporter": "python",
   "pygments_lexer": "ipython3",
   "version": "3.12.3"
  }
 },
 "nbformat": 4,
 "nbformat_minor": 5
}
