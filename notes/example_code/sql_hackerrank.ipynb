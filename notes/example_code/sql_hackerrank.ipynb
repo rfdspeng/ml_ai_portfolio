{
 "cells": [
  {
   "cell_type": "markdown",
   "id": "c4506d3d",
   "metadata": {},
   "source": [
    "Weather Observation Station 20 (SQL Aggregate)\n",
    "\n",
    "```sql\n",
    "SELECT ROUND(AVG(T.LAT_N),4) FROM\n",
    "(SELECT LAT_N, ROW_NUMBER() OVER(ORDER BY LAT_N) AS ROW_NUM FROM STATION ORDER BY LAT_N) AS T\n",
    "WHERE T.ROW_NUM = ANY (SELECT FLOOR(COUNT(*)/2+0.5) FROM STATION) OR\n",
    "T.ROW_NUM = ANY (SELECT CEIL(COUNT(*)/2+0.5) FROM STATION);\n",
    "```"
   ]
  },
  {
   "cell_type": "markdown",
   "id": "37a806d7",
   "metadata": {},
   "source": [
    "The Report (Basic Joins)\n",
    "```sql\n",
    "SELECT S.Name, G.Grade, S.Marks\n",
    "FROM Students as S\n",
    "INNER JOIN Grades as G ON S.Marks BETWEEN G.Min_Mark AND G.Max_Mark\n",
    "WHERE G.Grade >= 8\n",
    "ORDER BY G.Grade DESC, S.Name;\n",
    "```"
   ]
  },
  {
   "cell_type": "markdown",
   "id": "5f450c10",
   "metadata": {},
   "source": [
    "Top Competitors (Basic Joins)\n",
    "```sql\n",
    "SELECT H.hacker_id, H.name\n",
    "FROM Submissions AS S\n",
    "INNER JOIN Hackers AS H ON S.hacker_id = H.hacker_id\n",
    "INNER JOIN Challenges AS C ON C.challenge_id = S.challenge_id\n",
    "INNER JOIN Difficulty AS D ON C.difficulty_level = D.difficulty_level\n",
    "WHERE S.score = D.score\n",
    "GROUP BY H.hacker_id, H.name\n",
    "HAVING COUNT(H.hacker_id) > 1\n",
    "ORDER BY COUNT(H.hacker_id) DESC, H.hacker_id ASC;\n",
    "```"
   ]
  },
  {
   "cell_type": "markdown",
   "id": "6b9f5aa1",
   "metadata": {},
   "source": [
    "Ollivander's Inventory (Basic Joins)\n",
    "```sql\n",
    "SELECT Wands1.id, Prop1.age, Wands1.coins_needed, Wands1.power FROM Wands AS Wands1\n",
    "JOIN Wands_Property AS Prop1 ON Wands1.code = Prop1.code\n",
    "WHERE Prop1.is_evil = 0\n",
    "AND Wands1.coins_needed = (SELECT MIN(Wands2.coins_needed) FROM Wands AS Wands2 JOIN Wands_Property AS Prop2 ON Wands2.code = Prop2.code WHERE\n",
    "                             Wands1.power = Wands2.power AND Prop1.age = Prop2.age)\n",
    "ORDER BY Wands1.power DESC, Prop1.age DESC;\n",
    "```\n",
    "\n",
    "I don't think hackerrank supports OVER\n",
    "```sql\n",
    "SELECT MIN(Wands.coins_needed) OVER(PARTITION BY Wands.power, Prop.age) AS mincoins\n",
    "FROM Wands\n",
    "INNER JOIN Wands_Property AS Prop ON Wands.code = Prop.code;\n",
    "```"
   ]
  },
  {
   "cell_type": "markdown",
   "id": "c5358cf4",
   "metadata": {},
   "source": []
  }
 ],
 "metadata": {
  "language_info": {
   "name": "python"
  }
 },
 "nbformat": 4,
 "nbformat_minor": 5
}
