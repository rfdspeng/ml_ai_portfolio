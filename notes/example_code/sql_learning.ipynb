{
 "cells": [
  {
   "cell_type": "markdown",
   "id": "309f183b",
   "metadata": {},
   "source": [
    "# Notes/questions\n",
    "\n",
    "* Where can you use subqueries?\n",
    "* If I create a joined table but need to reference it at different places, can I alias "
   ]
  },
  {
   "cell_type": "code",
   "execution_count": 6,
   "id": "bbc9733a",
   "metadata": {},
   "outputs": [],
   "source": [
    "import mysql.connector\n",
    "import os\n",
    "from dotenv import load_dotenv\n",
    "load_dotenv(override=True)\n",
    "\n",
    "# con = mysql.connector.connect(\n",
    "#     host=\"localhost\",\n",
    "#     user=os.environ.get(\"MYSQL_USER\"),\n",
    "#     password=os.environ.get(\"MYSQL_PW\"),\n",
    "# )\n",
    "con = mysql.connector.connect(\n",
    "    host=\"localhost\",\n",
    "    user=os.environ.get(\"MYSQL_USER\"),\n",
    "    password=os.environ.get(\"MYSQL_PW\"),\n",
    "    database=\"Northwind\",\n",
    ")\n",
    "cur = con.cursor()"
   ]
  },
  {
   "cell_type": "code",
   "execution_count": 5,
   "id": "40ce6141",
   "metadata": {},
   "outputs": [],
   "source": [
    "cur.close()\n",
    "con.close()"
   ]
  },
  {
   "cell_type": "markdown",
   "id": "0e97802a",
   "metadata": {},
   "source": [
    "# Window functions"
   ]
  },
  {
   "cell_type": "code",
   "execution_count": 7,
   "id": "93f15ca6",
   "metadata": {},
   "outputs": [
    {
     "data": {
      "text/plain": [
       "[('BrazilCustomers',),\n",
       " ('Categories',),\n",
       " ('Customers',),\n",
       " ('CustomersBackup2025',),\n",
       " ('CustomersBackup2025Filtered',),\n",
       " ('CustomersBackup2025Fresh',),\n",
       " ('CustomersForInsert',),\n",
       " ('CustomersOrders',),\n",
       " ('Employees',),\n",
       " ('OrderDetails',),\n",
       " ('Orders',),\n",
       " ('Products',),\n",
       " ('ProductsNull',),\n",
       " ('Shippers',),\n",
       " ('Suppliers',)]"
      ]
     },
     "execution_count": 7,
     "metadata": {},
     "output_type": "execute_result"
    }
   ],
   "source": [
    "cur.execute(\"SHOW TABLES;\")\n",
    "cur.fetchall()"
   ]
  },
  {
   "cell_type": "code",
   "execution_count": 8,
   "id": "029be4a7",
   "metadata": {},
   "outputs": [
    {
     "data": {
      "text/plain": [
       "[('ProductID', 'int', 'NO', 'PRI', None, 'auto_increment'),\n",
       " ('ProductName', 'varchar(50)', 'YES', '', None, ''),\n",
       " ('SupplierID', 'int', 'YES', 'MUL', None, ''),\n",
       " ('CategoryID', 'int', 'YES', 'MUL', None, ''),\n",
       " ('Unit', 'varchar(25)', 'YES', '', None, ''),\n",
       " ('Price', 'decimal(10,0)', 'YES', '', None, '')]"
      ]
     },
     "execution_count": 8,
     "metadata": {},
     "output_type": "execute_result"
    }
   ],
   "source": [
    "cur.execute(\"SHOW COLUMNS FROM Products;\")\n",
    "cur.fetchall()"
   ]
  },
  {
   "cell_type": "code",
   "execution_count": 9,
   "id": "aba8f00b",
   "metadata": {},
   "outputs": [
    {
     "data": {
      "text/plain": [
       "[(1, 12), (2, 12), (3, 13), (4, 10), (5, 7), (6, 6), (7, 5), (8, 12)]"
      ]
     },
     "execution_count": 9,
     "metadata": {},
     "output_type": "execute_result"
    }
   ],
   "source": [
    "cur.execute(\"\"\"SELECT CategoryID, COUNT(*) FROM Products\n",
    "            GROUP BY CategoryID;\"\"\")\n",
    "\n",
    "cur.fetchall()"
   ]
  },
  {
   "cell_type": "code",
   "execution_count": 14,
   "id": "28d28dba",
   "metadata": {},
   "outputs": [
    {
     "name": "stdout",
     "output_type": "stream",
     "text": [
      "[('CONVERT(MIN(Price), UNSIGNED)', 8, None, None, None, None, 1, 32928, 63), ('CategoryID', 3, None, None, None, None, 1, 49160, 63)]\n",
      "(5, 1)\n",
      "(10, 2)\n",
      "(9, 3)\n",
      "(3, 4)\n",
      "(7, 5)\n",
      "(7, 6)\n",
      "(10, 7)\n",
      "(6, 8)\n"
     ]
    }
   ],
   "source": [
    "cur.execute(\"\"\"SELECT CONVERT(MIN(Price), UNSIGNED), CategoryID FROM Products\n",
    "            GROUP BY CategoryID;\"\"\")\n",
    "\n",
    "print(cur.description)\n",
    "for r in (res := cur.fetchall()):\n",
    "    print(r)"
   ]
  },
  {
   "cell_type": "code",
   "execution_count": null,
   "id": "b28aca71",
   "metadata": {},
   "outputs": [
    {
     "name": "stdout",
     "output_type": "stream",
     "text": [
      "[('CategoryID', 3, None, None, None, None, 1, 32768, 63), ('ProductName', 253, None, None, None, None, 1, 0, 255), ('MIN(CONVERT(Price, UNSIGNED)) OVER(PARTITION BY CategoryID)', 8, None, None, None, None, 1, 32800, 63)]\n",
      "(1, 'Chais', 5)\n",
      "(1, 'Chang', 5)\n",
      "(1, 'Chartreuse verte', 5)\n",
      "(1, 'Côte de Blaye', 5)\n",
      "(1, 'Guaraná Fantástica', 5)\n",
      "(1, 'Ipoh Coffee', 5)\n",
      "(1, 'Lakkalikööri', 5)\n",
      "(1, 'Laughing Lumberjack Lager', 5)\n",
      "(1, 'Outback Lager', 5)\n",
      "(1, 'Rhönbräu Klosterbier', 5)\n",
      "(1, 'Sasquatch Ale', 5)\n",
      "(1, 'Steeleye Stout', 5)\n",
      "(2, 'Aniseed Syrup', 10)\n",
      "(2, \"Chef Anton's Cajun Seasoning\", 10)\n",
      "(2, \"Chef Anton's Gumbo Mix\", 10)\n",
      "(2, 'Genen Shouyu', 10)\n",
      "(2, \"Grandma's Boysenberry Spread\", 10)\n",
      "(2, 'Gula Malacca', 10)\n",
      "(2, 'Louisiana Fiery Hot Pepper Sauce', 10)\n",
      "(2, 'Louisiana Hot Spiced Okra', 10)\n",
      "(2, 'Northwoods Cranberry Sauce', 10)\n",
      "(2, 'Original Frankfurter grüne Soße', 10)\n",
      "(2, \"Sirop d'érable\", 10)\n",
      "(2, 'Vegie-spread', 10)\n",
      "(3, 'Chocolade', 9)\n",
      "(3, 'Gumbär Gummibärchen', 9)\n",
      "(3, 'Maxilaku', 9)\n",
      "(3, 'NuNuCa Nuß-Nougat-Creme', 9)\n",
      "(3, 'Pavlova', 9)\n",
      "(3, 'Schoggi Schokolade', 9)\n",
      "(3, 'Scottish Longbreads', 9)\n",
      "(3, \"Sir Rodney's Marmalade\", 9)\n",
      "(3, \"Sir Rodney's Scones\", 9)\n",
      "(3, 'Tarte au sucre', 9)\n",
      "(3, 'Teatime Chocolate Biscuits', 9)\n",
      "(3, 'Valkoinen suklaa', 9)\n",
      "(3, 'Zaanse koeken', 9)\n",
      "(4, 'Camembert Pierrot', 3)\n",
      "(4, 'Fløtemysost', 3)\n",
      "(4, 'Geitost', 3)\n",
      "(4, 'Gorgonzola Telino', 3)\n",
      "(4, 'Gudbrandsdalsost', 3)\n",
      "(4, 'Mascarpone Fabioli', 3)\n",
      "(4, 'Mozzarella di Giovanni', 3)\n",
      "(4, 'Queso Cabrales', 3)\n",
      "(4, 'Queso Manchego La Pastora', 3)\n",
      "(4, 'Raclette Courdavault', 3)\n",
      "(5, 'Filo Mix', 7)\n",
      "(5, 'Gnocchi di nonna Alice', 7)\n",
      "(5, \"Gustaf's Knäckebröd\", 7)\n",
      "(5, 'Ravioli Angelo', 7)\n",
      "(5, 'Singaporean Hokkien Fried Mee', 7)\n",
      "(5, 'Tunnbröd', 7)\n",
      "(5, 'Wimmers gute Semmelknödel', 7)\n",
      "(6, 'Alice Mutton', 7)\n",
      "(6, 'Mishi Kobe Niku', 7)\n",
      "(6, 'Pâté chinois', 7)\n",
      "(6, 'Perth Pasties', 7)\n",
      "(6, 'Thüringer Rostbratwurst', 7)\n",
      "(6, 'Tourtière', 7)\n",
      "(7, 'Longlife Tofu', 10)\n",
      "(7, 'Manjimup Dried Apples', 10)\n",
      "(7, 'Rössle Sauerkraut', 10)\n",
      "(7, 'Tofu', 10)\n",
      "(7, \"Uncle Bob's Organic Dried Pears\", 10)\n",
      "(8, 'Boston Crab Meat', 6)\n",
      "(8, 'Carnarvon Tigers', 6)\n",
      "(8, 'Escargots de Bourgogne', 6)\n",
      "(8, 'Gravad lax', 6)\n",
      "(8, 'Ikura', 6)\n",
      "(8, 'Inlagd Sill', 6)\n",
      "(8, \"Jack's New England Clam Chowder\", 6)\n",
      "(8, 'Konbu', 6)\n",
      "(8, 'Nord-Ost Matjeshering', 6)\n",
      "(8, 'Röd Kaviar', 6)\n",
      "(8, 'Røgede sild', 6)\n",
      "(8, 'Spegesild', 6)\n"
     ]
    }
   ],
   "source": [
    "# cur.execute(\"\"\"SELECT CategoryID, ProductName, MIN(CONVERT(Price, UNSIGNED)) OVER(PARTITION BY CategoryID) FROM Products\n",
    "#             ORDER BY CategoryID, ProductName;\"\"\")\n",
    "cur.execute(\"\"\"SELECT CategoryID, ProductName, MIN(CONVERT(Price, UNSIGNED)) OVER(PARTITION BY CategoryID) FROM Products\n",
    "            ORDER BY CategoryID, ProductName;\"\"\")\n",
    "\n",
    "print(cur.description)\n",
    "for r in (res := cur.fetchall()):\n",
    "    print(r)"
   ]
  },
  {
   "cell_type": "markdown",
   "id": "40723a66",
   "metadata": {},
   "source": [
    "# Subqueries"
   ]
  },
  {
   "cell_type": "markdown",
   "id": "f9d08cca",
   "metadata": {},
   "source": []
  }
 ],
 "metadata": {
  "kernelspec": {
   "display_name": "venv",
   "language": "python",
   "name": "python3"
  },
  "language_info": {
   "codemirror_mode": {
    "name": "ipython",
    "version": 3
   },
   "file_extension": ".py",
   "mimetype": "text/x-python",
   "name": "python",
   "nbconvert_exporter": "python",
   "pygments_lexer": "ipython3",
   "version": "3.12.3"
  }
 },
 "nbformat": 4,
 "nbformat_minor": 5
}
