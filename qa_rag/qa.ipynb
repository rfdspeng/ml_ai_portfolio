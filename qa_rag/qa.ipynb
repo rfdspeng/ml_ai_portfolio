{
 "cells": [
  {
   "cell_type": "code",
   "execution_count": 2,
   "id": "5c87b310-28ca-4fb2-8636-91acd341357e",
   "metadata": {},
   "outputs": [],
   "source": [
    "context = \"Show of hands – who watched breaking – also known as breakdancing – in the Paris Olympics? Does anyone want to share what they thought of it? \\\n",
    "I loved it. I was delighted and surprised. There’s something called musicality in dance, which is how a dancer chooses their movements to match the music. Coming into the Olympics, I thought there was less musicality in breaking compared to other dance styles because it’s so physically demanding. I’ll give an example. For the arm wave, you can do it smoothly, you can do it staccato, you can do it fast to slow. It depends on the music and what you want to emphasize in the music – that’s musicality. It’s not easy, but I think it’s easier to apply musicality to a small movement like an arm wave versus some of these breaking moves where you’re spinning around with your legs in the air, so that’s why I was so impressed. \\\n",
    "Today, I’m going to talk about the origin of breaking and hip hop. Breaking is one of the 4 elements of hip hop – the other 3 are DJing, MCing (also known as rapping), and graffiti (but I won’t talk about graffiti today.) \\\n",
    "Hip hop was born on August 11, 1973, at 1520 Sedgwick Avenue in the Bronx, New York. What’s so significant about this date? Well, it was a Saturday, and Cindy Campbell’s party was that night. Cindy wanted new clothes for the upcoming school year, so she hatched a plan. She had two things people wanted: (1) access to a powerful sound system – her brother Clive was a DJ – and (2) a rec room in her apartment building – 1520 Sedgwick – she could rent for the party. She’d charge an entry fee – a quarter for girls, two quarters for guys. \\\n",
    "The party ended up being a huge success. Cindy and Clive made 300 dollars, and Clive, who went by DJ Kool Herc, or Herc for short, saw his career take off. They started holding the parties every month, and then they moved the party from 1520 Sedgwick to the block and then to the park. At these parties, Herc studied the dancers. He saw that they loved funk songs, especially James Brown, and he realized something else – they loved dancing to the breaks, the instrumental breaks, when the band drops out and it’s percussion only. Why? Because that’s when James Brown would show off his dance moves when he performed. They were emulating him. \\\n",
    "Herc developed a technique he called the merry-go-round, which let him jump from record to record, and he used it to jump from break to break – either on the same song or across different songs, extending the break from a few seconds to a few minutes until eventually, he was only playing breaks. And that’s how breaking started – James Brown gave us the early dance moves, and Herc derived the music from the breaks. Herc, in fact, was the one who coined the term b-boy and b-girl, which is short for break boy and break girl. \\\n",
    "Also at these parties, Herc and his friends doubled as MCs (or master of ceremonies). They made announcements, gave shout-outs, and talked to the crowd. As the party scene expanded in the Bronx, and more DJ/MC/dance collectives sprang up to host parties, MCs became an increasingly important draw. They engaged and entertained the crowd with call-and-response chants and rhymes. For example, an MC might tell a crowd to “Throw your hands in the air and wave ‘em like you just don’t care!” or he might drop a couple lines like \\\n",
    "I’m too cold to burn, too hot to freeze \\\n",
    "I’m aiming to please the young ladies \\\n",
    "MCing became so popular that studios started looking to sign rappers to make a record, but they couldn’t find anyone with cachet to do it. There were a couple of reasons. (1) MCs didn’t believe that a rap song would be financially successful, and (2) They didn’t think rap could be recorded. MCs rapped for hours at a time at these parties – how can you fit hours of content into a single recording? So when the first rap song ever came out – Rapper’s Delight, in 1979 – it was by three no-name rappers that had never played a show. That was the song that took rap from New York City and made it global. \\\n",
    "So it all started with James Brown and funk music in the late 1960s, then Herc and other DJs created a derivative music style from just the breaks. Breakers danced to it, and MCs rapped over it. And thus, hip hop was born.\""
   ]
  },
  {
   "cell_type": "markdown",
   "id": "77729e5f-4191-4cb3-aa62-74793a645038",
   "metadata": {},
   "source": [
    "# RoBERTa"
   ]
  },
  {
   "cell_type": "code",
   "execution_count": 3,
   "id": "b486e4db-6669-43b2-9e9b-18ccd69fee30",
   "metadata": {},
   "outputs": [],
   "source": [
    "# Load model directly\n",
    "# from transformers import AutoTokenizer, AutoModelForQuestionAnswering"
   ]
  },
  {
   "cell_type": "code",
   "execution_count": 4,
   "id": "5d81c671-c36c-4d83-808e-88e3d71f9170",
   "metadata": {},
   "outputs": [],
   "source": [
    "# tokenizer = AutoTokenizer.from_pretrained(\"deepset/roberta-base-squad2\")\n",
    "# model = AutoModelForQuestionAnswering.from_pretrained(\"deepset/roberta-base-squad2\")"
   ]
  },
  {
   "cell_type": "code",
   "execution_count": 12,
   "id": "c823c659-3f15-4227-88d3-c7fe6be43f7e",
   "metadata": {},
   "outputs": [
    {
     "name": "stderr",
     "output_type": "stream",
     "text": [
      "Hardware accelerator e.g. GPU is available in the environment, but no `device` argument is passed to the `Pipeline` object. Model will be on CPU.\n"
     ]
    }
   ],
   "source": [
    "# Use a pipeline as a high-level helper\n",
    "from transformers import pipeline\n",
    "\n",
    "pipe = pipeline(\"question-answering\", model=\"deepset/roberta-base-squad2\")"
   ]
  },
  {
   "cell_type": "code",
   "execution_count": 17,
   "id": "a59c84b1-5f45-48b3-84dd-dac0b9c3dc92",
   "metadata": {},
   "outputs": [],
   "source": [
    "question = \"How did breaking start?\"\n",
    "context = \"Breaking started off as elaborations of dance moves by James Brown. It rose to prominence in the Bronx, New York, alongside the rise of DJing and the derivation of breaking music from funk music.\"\n",
    "\n",
    "question = \"Who created the merry-go-round technique?\"\n",
    "context = \"DJ Kool Herc created the merry-go-round technique, which allowed him to create full-length songs from the breakbeats on funk songs. This eventually led to the creation of hip-hop music, breaking, and rapping.\""
   ]
  },
  {
   "cell_type": "code",
   "execution_count": 18,
   "id": "d6dc28bc-4821-45f5-ac5a-7868b4c8c31b",
   "metadata": {},
   "outputs": [
    {
     "data": {
      "text/plain": [
       "{'score': 0.2673005163669586,\n",
       " 'start': 21,\n",
       " 'end': 66,\n",
       " 'answer': 'as elaborations of dance moves by James Brown'}"
      ]
     },
     "execution_count": 18,
     "metadata": {},
     "output_type": "execute_result"
    }
   ],
   "source": [
    "pipe(question=question, context=context)"
   ]
  },
  {
   "cell_type": "markdown",
   "id": "738ad029-4224-4a98-bdc9-14d538cbdac3",
   "metadata": {},
   "source": [
    "# Flan-T5"
   ]
  },
  {
   "cell_type": "code",
   "execution_count": 39,
   "id": "d79d0054-c72d-43c2-ad62-15c1fffa4691",
   "metadata": {},
   "outputs": [
    {
     "name": "stderr",
     "output_type": "stream",
     "text": [
      "Hardware accelerator e.g. GPU is available in the environment, but no `device` argument is passed to the `Pipeline` object. Model will be on CPU.\n"
     ]
    }
   ],
   "source": [
    "from transformers import pipeline\n",
    "pipe = pipeline(\"text2text-generation\", model=\"google/flan-t5-small\", max_new_tokens=500, do_sample=True, temperature=1, top_k=10, top_p=0.9)"
   ]
  },
  {
   "cell_type": "code",
   "execution_count": 43,
   "id": "7c9ac726-6f30-427a-aebe-f3492d2f9db0",
   "metadata": {},
   "outputs": [],
   "source": [
    "question = \"How did breaking start?\"\n",
    "context = \"Breaking started off as elaborations of dance moves by James Brown. It rose to prominence in the Bronx, New York, alongside the rise of DJing and the derivation of breaking music from funk music.\"\n",
    "\n",
    "question = \"Who created the merry-go-round technique?\"\n",
    "context = \"DJ Kool Herc created the merry-go-round technique, which allowed him to create full-length songs from the breakbeats on funk songs. This eventually led to the creation of hip-hop music, breaking, and rapping.\""
   ]
  },
  {
   "cell_type": "code",
   "execution_count": 44,
   "id": "505b5306-284d-41e1-aa47-36bee1e93a5f",
   "metadata": {},
   "outputs": [
    {
     "name": "stdout",
     "output_type": "stream",
     "text": [
      "Question: Who created the merry-go-round technique? Context: DJ Kool Herc created the merry-go-round technique, which allowed him to create full-length songs from the breakbeats on funk songs. This eventually led to the creation of hip-hop music, breaking, and rapping.\n"
     ]
    }
   ],
   "source": [
    "prompt = f\"Question: {question} Context: {context}\"\n",
    "print(prompt)"
   ]
  },
  {
   "cell_type": "code",
   "execution_count": 45,
   "id": "b300b57d-36f3-4f07-9878-a405074e5c55",
   "metadata": {},
   "outputs": [
    {
     "data": {
      "text/plain": [
       "[{'generated_text': 'Kool Herc'}]"
      ]
     },
     "execution_count": 45,
     "metadata": {},
     "output_type": "execute_result"
    }
   ],
   "source": [
    "pipe(prompt)"
   ]
  },
  {
   "cell_type": "markdown",
   "id": "1bb9e6cf-9324-4b64-89ea-fbdf497c4eb8",
   "metadata": {},
   "source": [
    "# GPT-2"
   ]
  },
  {
   "cell_type": "code",
   "execution_count": 23,
   "id": "ff592965-9832-4775-906c-062669e1927e",
   "metadata": {},
   "outputs": [
    {
     "name": "stderr",
     "output_type": "stream",
     "text": [
      "Hardware accelerator e.g. GPU is available in the environment, but no `device` argument is passed to the `Pipeline` object. Model will be on CPU.\n"
     ]
    }
   ],
   "source": [
    "pipe = pipeline(\"text-generation\", model=\"openai-community/gpt2\", max_length=500)"
   ]
  },
  {
   "cell_type": "code",
   "execution_count": 24,
   "id": "33c95061-8a9f-419b-a61e-1f6dc387788c",
   "metadata": {},
   "outputs": [],
   "source": [
    "question = \"How did breaking start?\"\n",
    "context = \"Breaking started off as elaborations of dance moves by James Brown. It rose to prominence in the Bronx, New York, alongside the rise of DJing and the derivation of breaking music from funk music.\"\n",
    "\n",
    "# question = \"Who created the merry-go-round technique?\"\n",
    "# context = \"DJ Kool Herc created the merry-go-round technique, which allowed him to create full-length songs from the breakbeats on funk songs. This eventually led to the creation of hip-hop music, breaking, and rapping.\""
   ]
  },
  {
   "cell_type": "code",
   "execution_count": 25,
   "id": "0af8a9d2-0664-4e2e-b386-fa6b07882e60",
   "metadata": {},
   "outputs": [
    {
     "name": "stdout",
     "output_type": "stream",
     "text": [
      "Question: How did breaking start? Context: Breaking started off as elaborations of dance moves by James Brown. It rose to prominence in the Bronx, New York, alongside the rise of DJing and the derivation of breaking music from funk music.\n"
     ]
    }
   ],
   "source": [
    "prompt = f\"Question: {question} Context: {context}\"\n",
    "print(prompt)"
   ]
  },
  {
   "cell_type": "code",
   "execution_count": 26,
   "id": "e8ebc132-2af4-4132-a0f2-7f41b3673aea",
   "metadata": {},
   "outputs": [
    {
     "name": "stderr",
     "output_type": "stream",
     "text": [
      "Truncation was not explicitly activated but `max_length` is provided a specific value, please use `truncation=True` to explicitly truncate examples to max length. Defaulting to 'longest_first' truncation strategy. If you encode pairs of sequences (GLUE-style) with the tokenizer you can select this strategy more precisely by providing a specific strategy to `truncation`.\n",
      "Setting `pad_token_id` to `eos_token_id`:None for open-end generation.\n"
     ]
    },
    {
     "data": {
      "text/plain": [
       "[{'generated_text': 'Question: How did breaking start? Context: Breaking started off as elaborations of dance moves by James Brown. It rose to prominence in the Bronx, New York, alongside the rise of DJing and the derivation of breaking music from funk music. The term got its name because it could translate, effectively, \"the game started with this movement, this movement.\" As it had developed into a form of dance music, it was often attributed to people, often including black dancers, who made it more popular. \"I know I\\'m just a kid, I don\\'t know when to stop, and what to do if something is broken,\" said Michael Brown, the DJ who broke up with Brown in 2000, and who later got the nickname Mr. Black (also known as the \"Black Panther\"). \"How they were influenced by Brown is very telling in that respect.\" For the first time, black-and-youthy DJes and their producers were given the opportunity to talk about their break. Michael Brown\\'s \"Fantasy\" became a staple of his dance floor routines: He could do it over and over again, often with a smile on his face, as he did the first time \"You Got It,\" with a DJ called Brown, and broke up three more times and three more times. Brown\\'s \"Tame of the Sea\" was one-upmanship, as \"I\\'ve got it, you get to do it with me.\" He began to develop his new moves as time went by. At one point in the early \\'90s a friend of Brown\\'s, John Mingle, recalled that in one of his early moves, him telling Michael Brown that he needed to be \"a lot more vocal.\" \"He\\'d come up, \\'Come on, you have to be real passionate about this,\\'\" Brown told Mingle. \"And he\\'d say, \\'Fantasy, that\\'s crazy,\\' \\'You guys are talking nonsense.\\'\" But more recently, things have changed. DJing for \"Fantasy\" is even more popular and often more involved. There\\'s a new generation of black-and-Youthy DJes like Mingle. \"We have a lot of new kids looking for people to dance with,\" said Jason Jones, the Harlem-based DJ. Jones\\'s own dance floor, The Mondo, includes several younger and more radical black-and-Youthy DJs who include Mike Rowe, who began taking over The Big Room in 2000. ('}]"
      ]
     },
     "execution_count": 26,
     "metadata": {},
     "output_type": "execute_result"
    }
   ],
   "source": [
    "pipe(prompt)"
   ]
  },
  {
   "cell_type": "code",
   "execution_count": null,
   "id": "1436cf94-433b-4257-bb55-4818e9d8be74",
   "metadata": {},
   "outputs": [],
   "source": []
  }
 ],
 "metadata": {
  "kernelspec": {
   "display_name": "Python 3 (ipykernel)",
   "language": "python",
   "name": "python3"
  },
  "language_info": {
   "codemirror_mode": {
    "name": "ipython",
    "version": 3
   },
   "file_extension": ".py",
   "mimetype": "text/x-python",
   "name": "python",
   "nbconvert_exporter": "python",
   "pygments_lexer": "ipython3",
   "version": "3.12.6"
  }
 },
 "nbformat": 4,
 "nbformat_minor": 5
}
