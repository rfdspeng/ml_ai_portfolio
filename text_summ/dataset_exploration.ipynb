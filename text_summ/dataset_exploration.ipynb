{
 "cells": [
  {
   "cell_type": "markdown",
   "id": "33d3c003-1d25-4124-99b5-43b9078a637a",
   "metadata": {},
   "source": [
    "# Notes\n",
    "* This is the original container. Contains test sets as well. https://github.com/abachaa/MTS-Dialog/tree/main\n",
    "* There are 4 samples where the dialogue exceeds the maximum input token length. It probably doesn't matter too much, but let's remove ID = 1115. Set tokenizer to truncate from the left, since usually the start of the dialogue doesn't contain information (e.g. hello, how are you today? blah blah)\n",
    "* I think it's okay to keep short sequences. We still want to be able to \"summarize\" short dialogues."
   ]
  },
  {
   "cell_type": "code",
   "execution_count": 1,
   "id": "0fd6e4de-1348-4dcf-9ad5-a99204324400",
   "metadata": {},
   "outputs": [],
   "source": [
    "from transformers import AutoTokenizer, AutoModelForSeq2SeqLM\n",
    "import datasets\n",
    "from datasets import load_dataset, Dataset, Features, Value, Sequence\n",
    "from sklearn.model_selection import train_test_split, StratifiedKFold\n",
    "import pandas as pd\n",
    "import numpy as np\n",
    "import matplotlib.pyplot as plt"
   ]
  },
  {
   "cell_type": "code",
   "execution_count": 2,
   "id": "05f8e91b-745d-4d35-a219-089428491c36",
   "metadata": {},
   "outputs": [],
   "source": [
    "pd.set_option('display.max_colwidth', 500)"
   ]
  },
  {
   "cell_type": "code",
   "execution_count": 38,
   "id": "65d623b1-b32c-4180-9814-b3e41ed09a57",
   "metadata": {},
   "outputs": [
    {
     "data": {
      "text/plain": [
       "DatasetDict({\n",
       "    train: Dataset({\n",
       "        features: ['ID', 'section_header', 'section_text', 'dialogue'],\n",
       "        num_rows: 1301\n",
       "    })\n",
       "})"
      ]
     },
     "execution_count": 38,
     "metadata": {},
     "output_type": "execute_result"
    }
   ],
   "source": [
    "ds = load_dataset(\"har1/MTS_Dialogue-Clinical_Note\", streaming=False)\n",
    "ds"
   ]
  },
  {
   "cell_type": "code",
   "execution_count": 41,
   "id": "a92d8f27-52a1-4c73-a195-82f61b6e654c",
   "metadata": {},
   "outputs": [
    {
     "data": {
      "text/plain": [
       "1200"
      ]
     },
     "execution_count": 41,
     "metadata": {},
     "output_type": "execute_result"
    }
   ],
   "source": [
    "df = pd.DataFrame(ds['train'])\n",
    "df['ID'].max()\n",
    "# df['ID'] = list(range(len(df)))"
   ]
  },
  {
   "cell_type": "code",
   "execution_count": 40,
   "id": "3253ae4f-fa98-417e-85e5-d93881515c42",
   "metadata": {},
   "outputs": [
    {
     "data": {
      "text/plain": [
       "DatasetDict({\n",
       "    train: Dataset({\n",
       "        features: ['ID', 'section_header', 'section_text', 'dialogue'],\n",
       "        num_rows: 1301\n",
       "    })\n",
       "})"
      ]
     },
     "execution_count": 40,
     "metadata": {},
     "output_type": "execute_result"
    }
   ],
   "source": [
    "ds['train'] = datasets.Dataset.from_pandas(df)\n",
    "ds"
   ]
  },
  {
   "cell_type": "code",
   "execution_count": 7,
   "id": "82daf5cc-c870-4078-bec1-fd21023d412d",
   "metadata": {},
   "outputs": [
    {
     "data": {
      "text/plain": [
       "datasets.arrow_dataset.Dataset"
      ]
     },
     "execution_count": 7,
     "metadata": {},
     "output_type": "execute_result"
    }
   ],
   "source": [
    "type(ds['train'])"
   ]
  },
  {
   "cell_type": "markdown",
   "id": "cc45c484-eecb-4d55-b190-f4a51baba087",
   "metadata": {},
   "source": [
    "# <u>Tokenize</u>"
   ]
  },
  {
   "cell_type": "code",
   "execution_count": 42,
   "id": "e0b14951-d4d7-4b2c-82a9-608146d21b50",
   "metadata": {},
   "outputs": [
    {
     "name": "stderr",
     "output_type": "stream",
     "text": [
      "C:\\ProgramData\\anaconda3\\envs\\env_dl_cv_transformer_sentpiece\\Lib\\site-packages\\huggingface_hub\\file_download.py:1150: FutureWarning: `resume_download` is deprecated and will be removed in version 1.0.0. Downloads always resume when possible. If you want to force a new download, use `force_download=True`.\n",
      "  warnings.warn(\n"
     ]
    },
    {
     "data": {
      "text/plain": [
       "transformers.models.bart.tokenization_bart_fast.BartTokenizerFast"
      ]
     },
     "execution_count": 42,
     "metadata": {},
     "output_type": "execute_result"
    }
   ],
   "source": [
    "model_name = 'facebook/bart-base'\n",
    "tokenizer = AutoTokenizer.from_pretrained(model_name, truncation_side='left')\n",
    "type(tokenizer)"
   ]
  },
  {
   "cell_type": "code",
   "execution_count": 43,
   "id": "c749915d-3949-4434-9aab-0a3853f1800c",
   "metadata": {},
   "outputs": [
    {
     "name": "stdout",
     "output_type": "stream",
     "text": [
      "Max model length: 1024\n"
     ]
    }
   ],
   "source": [
    "model = AutoModelForSeq2SeqLM.from_pretrained(model_name)\n",
    "max_len = model.config.max_position_embeddings\n",
    "print(f\"Max model length: {max_len}\")\n",
    "del model"
   ]
  },
  {
   "cell_type": "code",
   "execution_count": 44,
   "id": "f337f283-2fe5-4b2a-910e-2d13247d7d7e",
   "metadata": {},
   "outputs": [],
   "source": [
    "def tokenize_function(examples, tokenizer, input_col, output_col, max_len, padding=False, truncation=False):\n",
    "    # Tokenize a pair of sequences (input-output pair, e.g. for summarization)\n",
    "    tokenized = tokenizer(\n",
    "        examples[input_col],\n",
    "        text_target=examples[output_col],   # target sequence\n",
    "        padding=padding,\n",
    "        truncation=truncation,\n",
    "        return_tensors='np',\n",
    "        return_length=True,\n",
    "    )\n",
    "\n",
    "    return tokenized"
   ]
  },
  {
   "cell_type": "code",
   "execution_count": 45,
   "id": "13f44df0-4c18-4aa7-9d74-4215dc1c1bfe",
   "metadata": {},
   "outputs": [
    {
     "data": {
      "application/vnd.jupyter.widget-view+json": {
       "model_id": "4d6eae75168b4706a736e8f5aa23960f",
       "version_major": 2,
       "version_minor": 0
      },
      "text/plain": [
       "Map:   0%|          | 0/1301 [00:00<?, ? examples/s]"
      ]
     },
     "metadata": {},
     "output_type": "display_data"
    },
    {
     "data": {
      "text/plain": [
       "DatasetDict({\n",
       "    train: Dataset({\n",
       "        features: ['ID', 'section_header', 'section_text', 'dialogue', 'input_ids', 'attention_mask', 'length', 'labels'],\n",
       "        num_rows: 1301\n",
       "    })\n",
       "})"
      ]
     },
     "execution_count": 45,
     "metadata": {},
     "output_type": "execute_result"
    }
   ],
   "source": [
    "ds_tk = ds.map(lambda example: tokenize_function(example, tokenizer, 'dialogue', 'section_text', max_len), batched=True)\n",
    "ds_tk"
   ]
  },
  {
   "cell_type": "markdown",
   "id": "13e22738-87cd-4ab0-afb9-088760a20740",
   "metadata": {},
   "source": [
    "# <u>EDA</u>"
   ]
  },
  {
   "cell_type": "code",
   "execution_count": 10,
   "id": "1f346c13-a0d4-4e7d-a1a2-c967e12dcdcd",
   "metadata": {},
   "outputs": [
    {
     "data": {
      "text/html": [
       "<div>\n",
       "<style scoped>\n",
       "    .dataframe tbody tr th:only-of-type {\n",
       "        vertical-align: middle;\n",
       "    }\n",
       "\n",
       "    .dataframe tbody tr th {\n",
       "        vertical-align: top;\n",
       "    }\n",
       "\n",
       "    .dataframe thead th {\n",
       "        text-align: right;\n",
       "    }\n",
       "</style>\n",
       "<table border=\"1\" class=\"dataframe\">\n",
       "  <thead>\n",
       "    <tr style=\"text-align: right;\">\n",
       "      <th></th>\n",
       "      <th>ID</th>\n",
       "      <th>section_header</th>\n",
       "      <th>section_text</th>\n",
       "      <th>dialogue</th>\n",
       "      <th>input_ids</th>\n",
       "      <th>input_token_len</th>\n",
       "      <th>labels</th>\n",
       "      <th>output_token_len</th>\n",
       "    </tr>\n",
       "  </thead>\n",
       "  <tbody>\n",
       "    <tr>\n",
       "      <th>0</th>\n",
       "      <td>0</td>\n",
       "      <td>GENHX</td>\n",
       "      <td>Symptoms: no fever, no chills, no cough, no co...</td>\n",
       "      <td>Doctor: What brings you back into the clinic t...</td>\n",
       "      <td>[0, 41152, 35, 653, 3291, 47, 124, 88, 5, 8474...</td>\n",
       "      <td>174</td>\n",
       "      <td>[0, 46994, 47629, 35, 117, 11696, 6, 117, 1855...</td>\n",
       "      <td>103</td>\n",
       "    </tr>\n",
       "    <tr>\n",
       "      <th>1</th>\n",
       "      <td>1</td>\n",
       "      <td>GENHX</td>\n",
       "      <td>Symptoms: sudden onset headache, blurry vision...</td>\n",
       "      <td>Doctor: How're you feeling today?  \\nPatient: ...</td>\n",
       "      <td>[0, 41152, 35, 1336, 214, 47, 2157, 452, 116, ...</td>\n",
       "      <td>382</td>\n",
       "      <td>[0, 46994, 47629, 35, 7207, 23808, 19344, 6, 4...</td>\n",
       "      <td>74</td>\n",
       "    </tr>\n",
       "    <tr>\n",
       "      <th>2</th>\n",
       "      <td>2</td>\n",
       "      <td>GENHX</td>\n",
       "      <td>Symptoms: itching.\\nDiagnosis: condylomas.\\nHi...</td>\n",
       "      <td>Doctor: Hello, miss. What is the reason for yo...</td>\n",
       "      <td>[0, 41152, 35, 20920, 6, 2649, 4, 653, 16, 5, ...</td>\n",
       "      <td>152</td>\n",
       "      <td>[0, 46994, 47629, 35, 35188, 4, 50118, 29038, ...</td>\n",
       "      <td>46</td>\n",
       "    </tr>\n",
       "    <tr>\n",
       "      <th>3</th>\n",
       "      <td>3</td>\n",
       "      <td>MEDICATIONS</td>\n",
       "      <td>Symptoms: N/A.\\r\\nDiagnosis: N/A.\\r\\nHistory o...</td>\n",
       "      <td>Doctor: Are you taking any over the counter me...</td>\n",
       "      <td>[0, 41152, 35, 3945, 47, 602, 143, 81, 5, 3231...</td>\n",
       "      <td>119</td>\n",
       "      <td>[0, 46994, 47629, 35, 234, 73, 250, 4, 50121, ...</td>\n",
       "      <td>83</td>\n",
       "    </tr>\n",
       "    <tr>\n",
       "      <th>4</th>\n",
       "      <td>4</td>\n",
       "      <td>CC</td>\n",
       "      <td>Symptoms: Burn, right arm.\\r\\nDiagnosis: N/A.\\...</td>\n",
       "      <td>Doctor: Hi, how are you? \\nPatient: I burned m...</td>\n",
       "      <td>[0, 41152, 35, 12289, 6, 141, 32, 47, 116, 143...</td>\n",
       "      <td>52</td>\n",
       "      <td>[0, 46994, 47629, 35, 7960, 6, 235, 3124, 4, 5...</td>\n",
       "      <td>42</td>\n",
       "    </tr>\n",
       "  </tbody>\n",
       "</table>\n",
       "</div>"
      ],
      "text/plain": [
       "   ID section_header                                       section_text  \\\n",
       "0   0          GENHX  Symptoms: no fever, no chills, no cough, no co...   \n",
       "1   1          GENHX  Symptoms: sudden onset headache, blurry vision...   \n",
       "2   2          GENHX  Symptoms: itching.\\nDiagnosis: condylomas.\\nHi...   \n",
       "3   3    MEDICATIONS  Symptoms: N/A.\\r\\nDiagnosis: N/A.\\r\\nHistory o...   \n",
       "4   4             CC  Symptoms: Burn, right arm.\\r\\nDiagnosis: N/A.\\...   \n",
       "\n",
       "                                            dialogue  \\\n",
       "0  Doctor: What brings you back into the clinic t...   \n",
       "1  Doctor: How're you feeling today?  \\nPatient: ...   \n",
       "2  Doctor: Hello, miss. What is the reason for yo...   \n",
       "3  Doctor: Are you taking any over the counter me...   \n",
       "4  Doctor: Hi, how are you? \\nPatient: I burned m...   \n",
       "\n",
       "                                           input_ids  input_token_len  \\\n",
       "0  [0, 41152, 35, 653, 3291, 47, 124, 88, 5, 8474...              174   \n",
       "1  [0, 41152, 35, 1336, 214, 47, 2157, 452, 116, ...              382   \n",
       "2  [0, 41152, 35, 20920, 6, 2649, 4, 653, 16, 5, ...              152   \n",
       "3  [0, 41152, 35, 3945, 47, 602, 143, 81, 5, 3231...              119   \n",
       "4  [0, 41152, 35, 12289, 6, 141, 32, 47, 116, 143...               52   \n",
       "\n",
       "                                              labels  output_token_len  \n",
       "0  [0, 46994, 47629, 35, 117, 11696, 6, 117, 1855...               103  \n",
       "1  [0, 46994, 47629, 35, 7207, 23808, 19344, 6, 4...                74  \n",
       "2  [0, 46994, 47629, 35, 35188, 4, 50118, 29038, ...                46  \n",
       "3  [0, 46994, 47629, 35, 234, 73, 250, 4, 50121, ...                83  \n",
       "4  [0, 46994, 47629, 35, 7960, 6, 235, 3124, 4, 5...                42  "
      ]
     },
     "execution_count": 10,
     "metadata": {},
     "output_type": "execute_result"
    }
   ],
   "source": [
    "ds_df = pd.DataFrame(ds_tk['train'], columns=['ID', 'section_header', 'section_text', 'dialogue', 'input_ids', 'length', 'labels'])\n",
    "ds_df['output_token_len'] = ds_df['labels'].apply(lambda x: len(x))\n",
    "# ds_df = ds_df.drop(columns=['labels'])\n",
    "ds_df = ds_df.rename(columns={'length': 'input_token_len'})\n",
    "ds_df.head()"
   ]
  },
  {
   "cell_type": "code",
   "execution_count": 13,
   "id": "fd598366-e821-4814-bf96-8ae880302885",
   "metadata": {},
   "outputs": [
    {
     "data": {
      "text/plain": [
       "count    1300.000000\n",
       "mean       65.933846\n",
       "std        36.064696\n",
       "min        18.000000\n",
       "25%        41.000000\n",
       "50%        54.000000\n",
       "75%        78.000000\n",
       "max       349.000000\n",
       "Name: output_token_len, dtype: float64"
      ]
     },
     "execution_count": 13,
     "metadata": {},
     "output_type": "execute_result"
    }
   ],
   "source": [
    "ds_df[ds_df['input_token_len'] < 2000]['output_token_len'].describe()"
   ]
  },
  {
   "cell_type": "markdown",
   "id": "beee919c-4ef9-472f-945f-042f2e99f351",
   "metadata": {},
   "source": [
    "## *<u>Section header mapping</u>*\n",
    "\n",
    "1. fam/sochx [FAMILY HISTORY/SOCIAL HISTORY]\n",
    "2. genhx [HISTORY of PRESENT ILLNESS]\n",
    "3. pastmedicalhx [PAST MEDICAL HISTORY]\n",
    "4. cc [CHIEF COMPLAINT]\n",
    "5. pastsurgical [PAST SURGICAL HISTORY]\n",
    "6. allergy\n",
    "7. ros [REVIEW OF SYSTEMS]\n",
    "8. medications\n",
    "9. assessment\n",
    "10. exam\n",
    "11. diagnosis\n",
    "12. disposition\n",
    "13. plan\n",
    "14. edcourse [EMERGENCY DEPARTMENT COURSE]\n",
    "15. immunizations\n",
    "16. imaging\n",
    "17. gynhx [GYNECOLOGIC HISTORY]\n",
    "18. procedures\n",
    "19. other_history\n",
    "20. labs"
   ]
  },
  {
   "cell_type": "markdown",
   "id": "a5524e2b-ea5e-4e16-a96f-ba35b2cb54d1",
   "metadata": {},
   "source": [
    "## *<u>Class Distribution</u>*"
   ]
  },
  {
   "cell_type": "code",
   "execution_count": 141,
   "id": "dd289c59-e0d9-4415-8265-07739fe3cf55",
   "metadata": {},
   "outputs": [],
   "source": [
    "classes = ds_df['section_header'].value_counts()"
   ]
  },
  {
   "cell_type": "code",
   "execution_count": 142,
   "id": "78f859d1-ed19-4abf-a2a0-6a9a43ccb6a3",
   "metadata": {},
   "outputs": [
    {
     "name": "stdout",
     "output_type": "stream",
     "text": [
      "Index(['FAM/SOCHX', 'GENHX', 'PASTMEDICALHX', 'CC', 'PASTSURGICAL', 'ROS',\n",
      "       'ALLERGY', 'MEDICATIONS', 'ASSESSMENT', 'EXAM', 'DIAGNOSIS',\n",
      "       'DISPOSITION', 'PLAN', 'EDCOURSE', 'IMMUNIZATIONS', 'IMAGING', 'GYNHX',\n",
      "       'PROCEDURES', 'OTHER_HISTORY', 'LABS'],\n",
      "      dtype='object', name='section_header')\n"
     ]
    },
    {
     "data": {
      "text/plain": [
       "<Axes: xlabel='section_header'>"
      ]
     },
     "execution_count": 142,
     "metadata": {},
     "output_type": "execute_result"
    },
    {
     "data": {
      "image/png": "[encoded data removed]",
      "text/plain": [
       "<Figure size 640x480 with 1 Axes>"
      ]
     },
     "metadata": {},
     "output_type": "display_data"
    }
   ],
   "source": [
    "print(classes.index)\n",
    "classes.plot.bar()"
   ]
  },
  {
   "cell_type": "markdown",
   "id": "e3e7f00b-e8f4-4e35-b008-6918b298c0da",
   "metadata": {},
   "source": [
    "## *<u>Sequence Lengths</u>*"
   ]
  },
  {
   "cell_type": "code",
   "execution_count": 143,
   "id": "41f9584e-7324-46bd-af74-f7f0202cd9a9",
   "metadata": {},
   "outputs": [
    {
     "data": {
      "text/html": [
       "<div>\n",
       "<style scoped>\n",
       "    .dataframe tbody tr th:only-of-type {\n",
       "        vertical-align: middle;\n",
       "    }\n",
       "\n",
       "    .dataframe tbody tr th {\n",
       "        vertical-align: top;\n",
       "    }\n",
       "\n",
       "    .dataframe thead th {\n",
       "        text-align: right;\n",
       "    }\n",
       "</style>\n",
       "<table border=\"1\" class=\"dataframe\">\n",
       "  <thead>\n",
       "    <tr style=\"text-align: right;\">\n",
       "      <th></th>\n",
       "      <th>input_token_len</th>\n",
       "      <th>output_token_len</th>\n",
       "    </tr>\n",
       "  </thead>\n",
       "  <tbody>\n",
       "    <tr>\n",
       "      <th>count</th>\n",
       "      <td>1301.000000</td>\n",
       "      <td>1301.000000</td>\n",
       "    </tr>\n",
       "    <tr>\n",
       "      <th>mean</th>\n",
       "      <td>160.595696</td>\n",
       "      <td>66.113759</td>\n",
       "    </tr>\n",
       "    <tr>\n",
       "      <th>std</th>\n",
       "      <td>171.909344</td>\n",
       "      <td>36.630223</td>\n",
       "    </tr>\n",
       "    <tr>\n",
       "      <th>min</th>\n",
       "      <td>15.000000</td>\n",
       "      <td>18.000000</td>\n",
       "    </tr>\n",
       "    <tr>\n",
       "      <th>25%</th>\n",
       "      <td>56.000000</td>\n",
       "      <td>41.000000</td>\n",
       "    </tr>\n",
       "    <tr>\n",
       "      <th>50%</th>\n",
       "      <td>99.000000</td>\n",
       "      <td>54.000000</td>\n",
       "    </tr>\n",
       "    <tr>\n",
       "      <th>75%</th>\n",
       "      <td>203.000000</td>\n",
       "      <td>78.000000</td>\n",
       "    </tr>\n",
       "    <tr>\n",
       "      <th>max</th>\n",
       "      <td>2326.000000</td>\n",
       "      <td>349.000000</td>\n",
       "    </tr>\n",
       "  </tbody>\n",
       "</table>\n",
       "</div>"
      ],
      "text/plain": [
       "       input_token_len  output_token_len\n",
       "count      1301.000000       1301.000000\n",
       "mean        160.595696         66.113759\n",
       "std         171.909344         36.630223\n",
       "min          15.000000         18.000000\n",
       "25%          56.000000         41.000000\n",
       "50%          99.000000         54.000000\n",
       "75%         203.000000         78.000000\n",
       "max        2326.000000        349.000000"
      ]
     },
     "execution_count": 143,
     "metadata": {},
     "output_type": "execute_result"
    }
   ],
   "source": [
    "ds_df.loc[:,['input_token_len', 'output_token_len']].describe()"
   ]
  },
  {
   "cell_type": "code",
   "execution_count": 144,
   "id": "b0335af1-81b4-4d54-b14c-851fabbd10b6",
   "metadata": {},
   "outputs": [
    {
     "data": {
      "text/plain": [
       "(0.0, 2500.0)"
      ]
     },
     "execution_count": 144,
     "metadata": {},
     "output_type": "execute_result"
    },
    {
     "data": {
      "image/png": "[encoded data removed]",
      "text/plain": [
       "<Figure size 800x1000 with 1 Axes>"
      ]
     },
     "metadata": {},
     "output_type": "display_data"
    }
   ],
   "source": [
    "plt.figure(figsize=(8,10))\n",
    "ds_df.boxplot(column=['input_token_len', 'output_token_len'])\n",
    "plt.yticks(range(0,2500,100))\n",
    "plt.axhline(1024)\n",
    "plt.ylim([0, 2500])"
   ]
  },
  {
   "cell_type": "markdown",
   "id": "29d47dbd-0749-417b-b484-7eba9ddc87db",
   "metadata": {},
   "source": [
    "### <u>**Long Input Sequences**</u>"
   ]
  },
  {
   "cell_type": "code",
   "execution_count": 145,
   "id": "0ac6abaf-a288-4e20-857b-f9943fbc3dcd",
   "metadata": {},
   "outputs": [
    {
     "data": {
      "text/html": [
       "<div>\n",
       "<style scoped>\n",
       "    .dataframe tbody tr th:only-of-type {\n",
       "        vertical-align: middle;\n",
       "    }\n",
       "\n",
       "    .dataframe tbody tr th {\n",
       "        vertical-align: top;\n",
       "    }\n",
       "\n",
       "    .dataframe thead th {\n",
       "        text-align: right;\n",
       "    }\n",
       "</style>\n",
       "<table border=\"1\" class=\"dataframe\">\n",
       "  <thead>\n",
       "    <tr style=\"text-align: right;\">\n",
       "      <th></th>\n",
       "      <th>ID</th>\n",
       "      <th>section_header</th>\n",
       "      <th>section_text</th>\n",
       "      <th>dialogue</th>\n",
       "      <th>input_ids</th>\n",
       "      <th>input_token_len</th>\n",
       "      <th>labels</th>\n",
       "      <th>output_token_len</th>\n",
       "    </tr>\n",
       "  </thead>\n",
       "  <tbody>\n",
       "    <tr>\n",
       "      <th>297</th>\n",
       "      <td>297</td>\n",
       "      <td>GENHX</td>\n",
       "      <td>Symptoms: Sharp lower back pain with radiation down right buttock and leg, muscle spasms in buttocks, worsened pain with sitting and stooping, difficulty sleeping due to pain\\r\\nDiagnosis: Lumbar radiculopathy\\r\\nHistory of Patient: Work-related injury involving lifting heavy objects, history of chronic back pain, unsuccessful treatment with muscle relaxers, lidocaine patches, opioids, epidural steroid injections, and chiropractic care\\r\\nPlan of Action: Further evaluation and treatment opti...</td>\n",
       "      <td>Doctor: Good afternoon, sir. Welcome in. Let's get started, how old are you?\\nPatient: Good afternoon, doctor. I'm fifty two years old. \\nDoctor: My nurse says that you're here for an independent evaluation, is that correct? \\nPatient: Yes sir, that is. \\nDoctor: Good, what do you do for a living? \\nPatient: Right now, I'm a temporary employee for A B C A B C, I've worked for A B C D, too. \\nDoctor: What do you do there?\\nPatient: Mainly, I handle the loading and unloading of furniture and a...</td>\n",
       "      <td>[0, 41152, 35, 2497, 1390, 6, 21958, 4, 14826, 11, 4, 2780, 18, 120, 554, 6, 141, 793, 32, 47, 116, 50118, 18276, 4843, 35, 2497, 1390, 6, 3299, 4, 38, 437, 14865, 80, 107, 793, 4, 1437, 50118, 41152, 35, 1308, 9008, 161, 14, 47, 214, 259, 13, 41, 2222, 10437, 6, 16, 14, 4577, 116, 1437, 50118, 18276, 4843, 35, 3216, 21958, 6, 14, 16, 4, 1437, 50118, 41152, 35, 2497, 6, 99, 109, 47, 109, 13, 10, 1207, 116, 1437, 50118, 18276, 4843, 35, 5143, 122, 6, 38, 437, 10, 4667, 3200, 13, 83, 163, 230,...</td>\n",
       "      <td>1146</td>\n",
       "      <td>[0, 46994, 47629, 35, 14765, 795, 124, 2400, 19, 13785, 159, 235, 17507, 3343, 8, 2985, 6, 8698, 2292, 34616, 11, 37312, 6, 23307, 2400, 19, 2828, 8, 20572, 12232, 6, 9600, 8416, 528, 7, 2400, 50121, 50118, 29038, 11244, 13310, 35, 226, 4179, 271, 13206, 636, 922, 31395, 50121, 50118, 38261, 9, 27690, 35, 6011, 12, 3368, 1356, 3329, 10201, 2016, 8720, 6, 750, 9, 7642, 124, 2400, 6, 15943, 1416, 19, 8698, 12327, 268, 6, 13431, 1975, 5193, 19054, 6, 16202, 6, 45263, 9799, 37614, 25747, 6, 8, 4...</td>\n",
       "      <td>123</td>\n",
       "    </tr>\n",
       "    <tr>\n",
       "      <th>399</th>\n",
       "      <td>399</td>\n",
       "      <td>GENHX</td>\n",
       "      <td>Symptoms: RUE weakness, neck pain, atrophy and contractures of right hand, left sided paresthesia, upper extremity weakness (right worse than left), ataxia, nausea, vomiting, hyperreflexia, progressive proximal weakness of all four extremities, dysphagia, difficulty with manual dexterity, difficulty going down stairs.\\r\\nDiagnosis: intramedullary lesion at C2-3, extramedullary lesion at C6-7, hemangioblastoma.\\r\\nHistory of Patient: Started experiencing RUE weakness and neck pain in 7/93, in...</td>\n",
       "      <td>Doctor: Before we begin today, sir, I just need a few pieces of background information. I see here on my chart that you're thirty years old, is that correct? \\nPatient: Yes doctor, that's correct. \\nDoctor: Okay, and which hand is your dominant hand? \\nPatient: I use my right hand for everything. \\nDoctor: Now, take me through the timeline of your symptoms, please. When did everything start?\\nPatient: I was doing well until July of nineteen ninety three. \\nDoctor: What were your initial symp...</td>\n",
       "      <td>[0, 41152, 35, 3224, 52, 1642, 452, 6, 21958, 6, 38, 95, 240, 10, 367, 3745, 9, 3618, 335, 4, 38, 192, 259, 15, 127, 5966, 14, 47, 214, 16984, 107, 793, 6, 16, 14, 4577, 116, 1437, 50118, 18276, 4843, 35, 3216, 3299, 6, 14, 18, 4577, 4, 1437, 50118, 41152, 35, 8487, 6, 8, 61, 865, 16, 110, 7353, 865, 116, 1437, 50118, 18276, 4843, 35, 38, 304, 127, 235, 865, 13, 960, 4, 1437, 50118, 41152, 35, 978, 6, 185, 162, 149, 5, 10589, 9, 110, 5298, 6, 2540, 4, 520, 222, 960, 386, 116, 50118, 18276, ...]</td>\n",
       "      <td>1035</td>\n",
       "      <td>[0, 46994, 47629, 35, 248, 9162, 8269, 6, 5397, 2400, 6, 35790, 16628, 8, 1355, 4123, 9, 235, 865, 6, 314, 26710, 181, 18759, 5065, 493, 6, 2853, 34867, 1571, 8269, 36, 4070, 3007, 87, 314, 238, 23, 3631, 493, 6, 27214, 6, 23600, 6, 8944, 13043, 14726, 493, 6, 8212, 43860, 16980, 8269, 9, 70, 237, 34867, 2192, 6, 44153, 1073, 493, 6, 9600, 19, 12769, 44575, 6, 9600, 164, 159, 16745, 4, 50121, 50118, 29038, 11244, 13310, 35, 6979, 4040, 196, 5023, 1766, 7427, 1499, 23, 230, 176, 12, 246, 6, 8...</td>\n",
       "      <td>262</td>\n",
       "    </tr>\n",
       "    <tr>\n",
       "      <th>1096</th>\n",
       "      <td>1096</td>\n",
       "      <td>GENHX</td>\n",
       "      <td>Symptoms: pain in the anterior aspect of the left knee, primarily over the medial and lateral tibial components, pain extending proximally to the distal femur and distally down into the anterior tibial plateau area, intermittent numbness and tingling in the posterolateral thigh, axial low back pain, pain worse with walking, associated with swelling, popping, and grinding, pins and needles sensation over the area of the common peroneal nerve overlying the fibular head, constant, shooting, cra...</td>\n",
       "      <td>Doctor: Good morning, Miss X Y Z, correct? \\nPatient: Yes, that's me, good morning doctor. \\nDoctor: Before we begin, I just need a few pieces of information. How old are you? \\nPatient: I'm forty four years young, doctor. \\nDoctor: Good, thank you. Next, which hand do you write with? \\nPatient: I write with my right hand. \\nDoctor: Finally, what do you do for a living? \\nPatient: I'm an aircraft mechanic. \\nDoctor: Very nice, so, how did you get hurt?\\nPatient: Um, I was working on repairin...</td>\n",
       "      <td>[0, 41152, 35, 2497, 662, 6, 4523, 1577, 854, 525, 6, 4577, 116, 1437, 50118, 18276, 4843, 35, 3216, 6, 14, 18, 162, 6, 205, 662, 3299, 4, 1437, 50118, 41152, 35, 3224, 52, 1642, 6, 38, 95, 240, 10, 367, 3745, 9, 335, 4, 1336, 793, 32, 47, 116, 1437, 50118, 18276, 4843, 35, 38, 437, 24503, 237, 107, 664, 6, 3299, 4, 1437, 50118, 41152, 35, 2497, 6, 3392, 47, 4, 4130, 6, 61, 865, 109, 47, 3116, 19, 116, 1437, 50118, 18276, 4843, 35, 38, 3116, 19, 127, 235, 865, 4, 1437, 50118, 41152, 35, 3347...</td>\n",
       "      <td>1310</td>\n",
       "      <td>[0, 46994, 47629, 35, 2400, 11, 5, 34988, 6659, 9, 5, 314, 4117, 6, 4212, 81, 5, 44016, 8, 30972, 326, 1452, 2617, 6411, 6, 2400, 9148, 43860, 757, 2368, 7, 5, 7018, 337, 24295, 710, 8, 7018, 2368, 159, 88, 5, 34988, 326, 1452, 2617, 31585, 443, 6, 33073, 31086, 1825, 8, 326, 154, 1527, 11, 5, 11566, 1168, 36258, 18781, 6, 18884, 2617, 614, 124, 2400, 6, 2400, 3007, 19, 3051, 6, 3059, 19, 22566, 6, 20220, 6, 8, 25440, 6, 21321, 8, 25775, 15583, 81, 5, 443, 9, 5, 1537, 228, 1264, 337, 10387, ...</td>\n",
       "      <td>266</td>\n",
       "    </tr>\n",
       "    <tr>\n",
       "      <th>1115</th>\n",
       "      <td>1115</td>\n",
       "      <td>GENHX</td>\n",
       "      <td>Symptoms: mild skin rash, arthralgias in ankles, photosensitivity rash\\r\\nDiagnosis: presumptive erythema nodosum (based on biopsy), possible inflammatory arthritis\\r\\nHistory of Patient: diagnosed with erythema nodosum in 2004 after biopsy, extensive workup including colonoscopy, prior tibia-fibula fracture unrelated to skin lesions, jaw cosmetic surgery, recurrent skin rash with description suggestive of erythema nodosum, initial high sed rate and CRP, subsequent visits showed no evident a...</td>\n",
       "      <td>Doctor: Hello, miss. Doctor X and I will be going over your medical history with you. Before we begin, could you confirm your age for me?\\nPatient: I'm twenty five years old. \\nDoctor: Thank you. Doctor X, could you go over the diagnosis of erythema nodosum?\\nDoctor_2: She was diagnosed in two thousand and four after a biopsy was done that confirmed erythema nodosum, but the detail from the Netherlands is not that specific. \\nDoctor: What kind of procedures were done to address it? \\nDoctor_...</td>\n",
       "      <td>[0, 41152, 35, 20920, 6, 2649, 4, 12521, 1577, 8, 38, 40, 28, 164, 81, 110, 1131, 750, 19, 47, 4, 3224, 52, 1642, 6, 115, 47, 4559, 110, 1046, 13, 162, 116, 50118, 18276, 4843, 35, 38, 437, 10328, 292, 107, 793, 4, 1437, 50118, 41152, 35, 3837, 47, 4, 12521, 1577, 6, 115, 47, 213, 81, 5, 9726, 9, 1437, 4270, 627, 1916, 12029, 366, 783, 116, 50118, 41152, 1215, 176, 35, 264, 21, 6443, 11, 80, 7673, 8, 237, 71, 10, 4003, 33716, 21, 626, 14, 1474, 1437, 4270, 627, 1916, 12029, 366, 783, 6, 53, ...</td>\n",
       "      <td>2326</td>\n",
       "      <td>[0, 46994, 47629, 35, 10439, 3024, 21563, 6, 4709, 212, 7085, 571, 5003, 11, 35713, 6, 2356, 40275, 21563, 50121, 50118, 29038, 11244, 13310, 35, 43019, 1437, 4270, 627, 1916, 12029, 366, 783, 36, 805, 15, 4003, 33716, 238, 678, 23785, 24527, 50121, 50118, 38261, 9, 27690, 35, 6443, 19, 1437, 4270, 627, 1916, 12029, 366, 783, 11, 4482, 71, 4003, 33716, 6, 4935, 173, 658, 217, 17735, 17591, 16572, 6, 2052, 326, 18739, 12, 506, 1452, 5571, 22259, 16354, 7, 3024, 40841, 6, 15345, 22411, 3012, 6...</td>\n",
       "      <td>300</td>\n",
       "    </tr>\n",
       "  </tbody>\n",
       "</table>\n",
       "</div>"
      ],
      "text/plain": [
       "        ID section_header  \\\n",
       "297    297          GENHX   \n",
       "399    399          GENHX   \n",
       "1096  1096          GENHX   \n",
       "1115  1115          GENHX   \n",
       "\n",
       "                                                                                                                                                                                                                                                                                                                                                                                                                                                                                                             section_text  \\\n",
       "297   Symptoms: Sharp lower back pain with radiation down right buttock and leg, muscle spasms in buttocks, worsened pain with sitting and stooping, difficulty sleeping due to pain\\r\\nDiagnosis: Lumbar radiculopathy\\r\\nHistory of Patient: Work-related injury involving lifting heavy objects, history of chronic back pain, unsuccessful treatment with muscle relaxers, lidocaine patches, opioids, epidural steroid injections, and chiropractic care\\r\\nPlan of Action: Further evaluation and treatment opti...   \n",
       "399   Symptoms: RUE weakness, neck pain, atrophy and contractures of right hand, left sided paresthesia, upper extremity weakness (right worse than left), ataxia, nausea, vomiting, hyperreflexia, progressive proximal weakness of all four extremities, dysphagia, difficulty with manual dexterity, difficulty going down stairs.\\r\\nDiagnosis: intramedullary lesion at C2-3, extramedullary lesion at C6-7, hemangioblastoma.\\r\\nHistory of Patient: Started experiencing RUE weakness and neck pain in 7/93, in...   \n",
       "1096  Symptoms: pain in the anterior aspect of the left knee, primarily over the medial and lateral tibial components, pain extending proximally to the distal femur and distally down into the anterior tibial plateau area, intermittent numbness and tingling in the posterolateral thigh, axial low back pain, pain worse with walking, associated with swelling, popping, and grinding, pins and needles sensation over the area of the common peroneal nerve overlying the fibular head, constant, shooting, cra...   \n",
       "1115  Symptoms: mild skin rash, arthralgias in ankles, photosensitivity rash\\r\\nDiagnosis: presumptive erythema nodosum (based on biopsy), possible inflammatory arthritis\\r\\nHistory of Patient: diagnosed with erythema nodosum in 2004 after biopsy, extensive workup including colonoscopy, prior tibia-fibula fracture unrelated to skin lesions, jaw cosmetic surgery, recurrent skin rash with description suggestive of erythema nodosum, initial high sed rate and CRP, subsequent visits showed no evident a...   \n",
       "\n",
       "                                                                                                                                                                                                                                                                                                                                                                                                                                                                                                                 dialogue  \\\n",
       "297   Doctor: Good afternoon, sir. Welcome in. Let's get started, how old are you?\\nPatient: Good afternoon, doctor. I'm fifty two years old. \\nDoctor: My nurse says that you're here for an independent evaluation, is that correct? \\nPatient: Yes sir, that is. \\nDoctor: Good, what do you do for a living? \\nPatient: Right now, I'm a temporary employee for A B C A B C, I've worked for A B C D, too. \\nDoctor: What do you do there?\\nPatient: Mainly, I handle the loading and unloading of furniture and a...   \n",
       "399   Doctor: Before we begin today, sir, I just need a few pieces of background information. I see here on my chart that you're thirty years old, is that correct? \\nPatient: Yes doctor, that's correct. \\nDoctor: Okay, and which hand is your dominant hand? \\nPatient: I use my right hand for everything. \\nDoctor: Now, take me through the timeline of your symptoms, please. When did everything start?\\nPatient: I was doing well until July of nineteen ninety three. \\nDoctor: What were your initial symp...   \n",
       "1096  Doctor: Good morning, Miss X Y Z, correct? \\nPatient: Yes, that's me, good morning doctor. \\nDoctor: Before we begin, I just need a few pieces of information. How old are you? \\nPatient: I'm forty four years young, doctor. \\nDoctor: Good, thank you. Next, which hand do you write with? \\nPatient: I write with my right hand. \\nDoctor: Finally, what do you do for a living? \\nPatient: I'm an aircraft mechanic. \\nDoctor: Very nice, so, how did you get hurt?\\nPatient: Um, I was working on repairin...   \n",
       "1115  Doctor: Hello, miss. Doctor X and I will be going over your medical history with you. Before we begin, could you confirm your age for me?\\nPatient: I'm twenty five years old. \\nDoctor: Thank you. Doctor X, could you go over the diagnosis of erythema nodosum?\\nDoctor_2: She was diagnosed in two thousand and four after a biopsy was done that confirmed erythema nodosum, but the detail from the Netherlands is not that specific. \\nDoctor: What kind of procedures were done to address it? \\nDoctor_...   \n",
       "\n",
       "                                                                                                                                                                                                                                                                                                                                                                                                                                                                                                                input_ids  \\\n",
       "297   [0, 41152, 35, 2497, 1390, 6, 21958, 4, 14826, 11, 4, 2780, 18, 120, 554, 6, 141, 793, 32, 47, 116, 50118, 18276, 4843, 35, 2497, 1390, 6, 3299, 4, 38, 437, 14865, 80, 107, 793, 4, 1437, 50118, 41152, 35, 1308, 9008, 161, 14, 47, 214, 259, 13, 41, 2222, 10437, 6, 16, 14, 4577, 116, 1437, 50118, 18276, 4843, 35, 3216, 21958, 6, 14, 16, 4, 1437, 50118, 41152, 35, 2497, 6, 99, 109, 47, 109, 13, 10, 1207, 116, 1437, 50118, 18276, 4843, 35, 5143, 122, 6, 38, 437, 10, 4667, 3200, 13, 83, 163, 230,...   \n",
       "399   [0, 41152, 35, 3224, 52, 1642, 452, 6, 21958, 6, 38, 95, 240, 10, 367, 3745, 9, 3618, 335, 4, 38, 192, 259, 15, 127, 5966, 14, 47, 214, 16984, 107, 793, 6, 16, 14, 4577, 116, 1437, 50118, 18276, 4843, 35, 3216, 3299, 6, 14, 18, 4577, 4, 1437, 50118, 41152, 35, 8487, 6, 8, 61, 865, 16, 110, 7353, 865, 116, 1437, 50118, 18276, 4843, 35, 38, 304, 127, 235, 865, 13, 960, 4, 1437, 50118, 41152, 35, 978, 6, 185, 162, 149, 5, 10589, 9, 110, 5298, 6, 2540, 4, 520, 222, 960, 386, 116, 50118, 18276, ...]   \n",
       "1096  [0, 41152, 35, 2497, 662, 6, 4523, 1577, 854, 525, 6, 4577, 116, 1437, 50118, 18276, 4843, 35, 3216, 6, 14, 18, 162, 6, 205, 662, 3299, 4, 1437, 50118, 41152, 35, 3224, 52, 1642, 6, 38, 95, 240, 10, 367, 3745, 9, 335, 4, 1336, 793, 32, 47, 116, 1437, 50118, 18276, 4843, 35, 38, 437, 24503, 237, 107, 664, 6, 3299, 4, 1437, 50118, 41152, 35, 2497, 6, 3392, 47, 4, 4130, 6, 61, 865, 109, 47, 3116, 19, 116, 1437, 50118, 18276, 4843, 35, 38, 3116, 19, 127, 235, 865, 4, 1437, 50118, 41152, 35, 3347...   \n",
       "1115  [0, 41152, 35, 20920, 6, 2649, 4, 12521, 1577, 8, 38, 40, 28, 164, 81, 110, 1131, 750, 19, 47, 4, 3224, 52, 1642, 6, 115, 47, 4559, 110, 1046, 13, 162, 116, 50118, 18276, 4843, 35, 38, 437, 10328, 292, 107, 793, 4, 1437, 50118, 41152, 35, 3837, 47, 4, 12521, 1577, 6, 115, 47, 213, 81, 5, 9726, 9, 1437, 4270, 627, 1916, 12029, 366, 783, 116, 50118, 41152, 1215, 176, 35, 264, 21, 6443, 11, 80, 7673, 8, 237, 71, 10, 4003, 33716, 21, 626, 14, 1474, 1437, 4270, 627, 1916, 12029, 366, 783, 6, 53, ...   \n",
       "\n",
       "      input_token_len  \\\n",
       "297              1146   \n",
       "399              1035   \n",
       "1096             1310   \n",
       "1115             2326   \n",
       "\n",
       "                                                                                                                                                                                                                                                                                                                                                                                                                                                                                                                   labels  \\\n",
       "297   [0, 46994, 47629, 35, 14765, 795, 124, 2400, 19, 13785, 159, 235, 17507, 3343, 8, 2985, 6, 8698, 2292, 34616, 11, 37312, 6, 23307, 2400, 19, 2828, 8, 20572, 12232, 6, 9600, 8416, 528, 7, 2400, 50121, 50118, 29038, 11244, 13310, 35, 226, 4179, 271, 13206, 636, 922, 31395, 50121, 50118, 38261, 9, 27690, 35, 6011, 12, 3368, 1356, 3329, 10201, 2016, 8720, 6, 750, 9, 7642, 124, 2400, 6, 15943, 1416, 19, 8698, 12327, 268, 6, 13431, 1975, 5193, 19054, 6, 16202, 6, 45263, 9799, 37614, 25747, 6, 8, 4...   \n",
       "399   [0, 46994, 47629, 35, 248, 9162, 8269, 6, 5397, 2400, 6, 35790, 16628, 8, 1355, 4123, 9, 235, 865, 6, 314, 26710, 181, 18759, 5065, 493, 6, 2853, 34867, 1571, 8269, 36, 4070, 3007, 87, 314, 238, 23, 3631, 493, 6, 27214, 6, 23600, 6, 8944, 13043, 14726, 493, 6, 8212, 43860, 16980, 8269, 9, 70, 237, 34867, 2192, 6, 44153, 1073, 493, 6, 9600, 19, 12769, 44575, 6, 9600, 164, 159, 16745, 4, 50121, 50118, 29038, 11244, 13310, 35, 6979, 4040, 196, 5023, 1766, 7427, 1499, 23, 230, 176, 12, 246, 6, 8...   \n",
       "1096  [0, 46994, 47629, 35, 2400, 11, 5, 34988, 6659, 9, 5, 314, 4117, 6, 4212, 81, 5, 44016, 8, 30972, 326, 1452, 2617, 6411, 6, 2400, 9148, 43860, 757, 2368, 7, 5, 7018, 337, 24295, 710, 8, 7018, 2368, 159, 88, 5, 34988, 326, 1452, 2617, 31585, 443, 6, 33073, 31086, 1825, 8, 326, 154, 1527, 11, 5, 11566, 1168, 36258, 18781, 6, 18884, 2617, 614, 124, 2400, 6, 2400, 3007, 19, 3051, 6, 3059, 19, 22566, 6, 20220, 6, 8, 25440, 6, 21321, 8, 25775, 15583, 81, 5, 443, 9, 5, 1537, 228, 1264, 337, 10387, ...   \n",
       "1115  [0, 46994, 47629, 35, 10439, 3024, 21563, 6, 4709, 212, 7085, 571, 5003, 11, 35713, 6, 2356, 40275, 21563, 50121, 50118, 29038, 11244, 13310, 35, 43019, 1437, 4270, 627, 1916, 12029, 366, 783, 36, 805, 15, 4003, 33716, 238, 678, 23785, 24527, 50121, 50118, 38261, 9, 27690, 35, 6443, 19, 1437, 4270, 627, 1916, 12029, 366, 783, 11, 4482, 71, 4003, 33716, 6, 4935, 173, 658, 217, 17735, 17591, 16572, 6, 2052, 326, 18739, 12, 506, 1452, 5571, 22259, 16354, 7, 3024, 40841, 6, 15345, 22411, 3012, 6...   \n",
       "\n",
       "      output_token_len  \n",
       "297                123  \n",
       "399                262  \n",
       "1096               266  \n",
       "1115               300  "
      ]
     },
     "execution_count": 145,
     "metadata": {},
     "output_type": "execute_result"
    }
   ],
   "source": [
    "ds_df[ds_df['input_token_len'] > max_len]"
   ]
  },
  {
   "cell_type": "code",
   "execution_count": null,
   "id": "78a6d425-5e28-49d3-82cb-d8dc8aad396e",
   "metadata": {},
   "outputs": [],
   "source": [
    "IDs = [297, 399, 1096, 1115]\n",
    "for ID in IDs:\n",
    "    print(ID)\n",
    "    print('')\n",
    "    # print(ds_df[ds_df['ID'] == ID]['dialogue'].iloc[0])\n",
    "    # print('')\n",
    "    tk = tokenizer(ds_df[ds_df['ID'] == ID]['dialogue'].iloc[0], padding=False, truncation=True, max_length=max_len)\n",
    "    decoded = tokenizer.decode(tk['input_ids'], skip_special_tokens=True)\n",
    "    print(decoded)\n",
    "    print('')\n",
    "    print(ds_df[ds_df['ID'] == ID]['section_text'].iloc[0])\n",
    "    print('-------------------------------------------------------------------')"
   ]
  },
  {
   "cell_type": "markdown",
   "id": "05ecb78b-209b-4db0-a0c5-a3c2b4957970",
   "metadata": {},
   "source": [
    "### **<u>Short Input Sequences</u>**"
   ]
  },
  {
   "cell_type": "code",
   "execution_count": 155,
   "id": "e492bb9c-ba43-493d-be11-e0f69e10ec6f",
   "metadata": {},
   "outputs": [
    {
     "name": "stdout",
     "output_type": "stream",
     "text": [
      "       input_token_len  output_token_len\n",
      "count       216.000000        216.000000\n",
      "mean         32.212963         43.444444\n",
      "std          11.718045         11.240983\n",
      "min          15.000000         33.000000\n",
      "25%          23.000000         37.000000\n",
      "50%          31.000000         41.000000\n",
      "75%          38.250000         46.000000\n",
      "max          88.000000        148.000000\n"
     ]
    },
    {
     "data": {
      "text/html": [
       "<div>\n",
       "<style scoped>\n",
       "    .dataframe tbody tr th:only-of-type {\n",
       "        vertical-align: middle;\n",
       "    }\n",
       "\n",
       "    .dataframe tbody tr th {\n",
       "        vertical-align: top;\n",
       "    }\n",
       "\n",
       "    .dataframe thead th {\n",
       "        text-align: right;\n",
       "    }\n",
       "</style>\n",
       "<table border=\"1\" class=\"dataframe\">\n",
       "  <thead>\n",
       "    <tr style=\"text-align: right;\">\n",
       "      <th></th>\n",
       "      <th>ID</th>\n",
       "      <th>section_header</th>\n",
       "      <th>section_text</th>\n",
       "      <th>dialogue</th>\n",
       "      <th>input_ids</th>\n",
       "      <th>input_token_len</th>\n",
       "      <th>labels</th>\n",
       "      <th>output_token_len</th>\n",
       "    </tr>\n",
       "  </thead>\n",
       "  <tbody>\n",
       "    <tr>\n",
       "      <th>7</th>\n",
       "      <td>7</td>\n",
       "      <td>ALLERGY</td>\n",
       "      <td>Symptoms: N/A.\\r\\nDiagnosis: N/A.\\r\\nHistory of Patient: No known drug allergies.\\r\\nPlan of Action: N/A.\\r\\n</td>\n",
       "      <td>Doctor: Any know drug allergies? \\nPatient: No.</td>\n",
       "      <td>[0, 41152, 35, 5053, 216, 1262, 26331, 116, 1437, 50118, 18276, 4843, 35, 440, 4, 2]</td>\n",
       "      <td>16</td>\n",
       "      <td>[0, 46994, 47629, 35, 234, 73, 250, 4, 50121, 50118, 29038, 11244, 13310, 35, 234, 73, 250, 4, 50121, 50118, 38261, 9, 27690, 35, 440, 684, 1262, 26331, 4, 50121, 50118, 35351, 9, 5828, 35, 234, 73, 250, 4, 50121, 50118, 2]</td>\n",
       "      <td>42</td>\n",
       "    </tr>\n",
       "    <tr>\n",
       "      <th>19</th>\n",
       "      <td>19</td>\n",
       "      <td>MEDICATIONS</td>\n",
       "      <td>Symptoms: N/A.\\nDiagnosis: N/A.\\nHistory of Patient: N/A.\\nPlan of Action: N/A.\\n</td>\n",
       "      <td>Doctor: Is he currently taking any medication? \\nGuest_family: No.</td>\n",
       "      <td>[0, 41152, 35, 1534, 37, 855, 602, 143, 8456, 116, 1437, 50118, 45721, 1215, 12368, 35, 440, 4, 2]</td>\n",
       "      <td>19</td>\n",
       "      <td>[0, 46994, 47629, 35, 234, 73, 250, 4, 50118, 29038, 11244, 13310, 35, 234, 73, 250, 4, 50118, 38261, 9, 27690, 35, 234, 73, 250, 4, 50118, 35351, 9, 5828, 35, 234, 73, 250, 4, 50118, 2]</td>\n",
       "      <td>37</td>\n",
       "    </tr>\n",
       "    <tr>\n",
       "      <th>23</th>\n",
       "      <td>23</td>\n",
       "      <td>ALLERGY</td>\n",
       "      <td>Symptoms: N/A.\\r\\nDiagnosis: N/A.\\r\\nHistory of Patient: Allergic to Penicillin, no known allergies to other drugs.\\r\\nPlan of Action: N/A.\\r\\n</td>\n",
       "      <td>Doctor: Are you allergic to anything?\\nPatient: Yes, I am allergic to Penicillin.\\nDoctor: Any other drugs that you could be allergic to?\\nPatient: Nope that is all.\\nDoctor: Okay.</td>\n",
       "      <td>[0, 41152, 35, 3945, 47, 28349, 7, 932, 116, 50118, 18276, 4843, 35, 3216, 6, 38, 524, 28349, 7, 4676, 636, 36817, 4, 50118, 41152, 35, 5053, 97, 2196, 14, 47, 115, 28, 28349, 7, 116, 50118, 18276, 4843, 35, 37712, 14, 16, 70, 4, 50118, 41152, 35, 8487, 4, 2]</td>\n",
       "      <td>51</td>\n",
       "      <td>[0, 46994, 47629, 35, 234, 73, 250, 4, 50121, 50118, 29038, 11244, 13310, 35, 234, 73, 250, 4, 50121, 50118, 38261, 9, 27690, 35, 404, 44858, 7, 4676, 636, 36817, 6, 117, 684, 26331, 7, 97, 2196, 4, 50121, 50118, 35351, 9, 5828, 35, 234, 73, 250, 4, 50121, 50118, 2]</td>\n",
       "      <td>51</td>\n",
       "    </tr>\n",
       "    <tr>\n",
       "      <th>24</th>\n",
       "      <td>24</td>\n",
       "      <td>ASSESSMENT</td>\n",
       "      <td>Symptoms: Hypoglycemia, hypertension, renal insufficiency.\\r\\nDiagnosis: N/A.\\r\\nHistory of Patient: Poor renal sufficiency possibly due to dehydration or diabetic nephropathy, high blood pressure, hypoglycemia due to irregular meal consumption.\\r\\nPlan of Action: N/A.\\r\\n</td>\n",
       "      <td>Guest_clinician: What brought them in today? \\nDoctor: Poor renal sufficiency, possibly due to dehydration or diabetic nephropathy. She also has high blood pressure and low blood sugar as a result of missing meals regularly.</td>\n",
       "      <td>[0, 45721, 1215, 3998, 179, 14932, 35, 653, 1146, 106, 11, 452, 116, 1437, 50118, 41152, 35, 11253, 39729, 2628, 45326, 6, 3544, 528, 7, 33229, 50, 33560, 3087, 3792, 6884, 17543, 4, 264, 67, 34, 239, 1925, 1164, 8, 614, 1925, 4696, 25, 10, 898, 9, 1716, 7317, 4595, 4, 2]</td>\n",
       "      <td>52</td>\n",
       "      <td>[0, 46994, 47629, 35, 32225, 39218, 1755, 24238, 6, 30960, 6, 39729, 7540, 5865, 33065, 4, 50121, 50118, 29038, 11244, 13310, 35, 234, 73, 250, 4, 50121, 50118, 38261, 9, 27690, 35, 11253, 39729, 2628, 45326, 3544, 528, 7, 33229, 50, 33560, 3087, 3792, 6884, 17543, 6, 239, 1925, 1164, 6, 15671, 39218, 1755, 24238, 528, 7, 22937, 5820, 4850, 4, 50121, 50118, 35351, 9, 5828, 35, 234, 73, 250, 4, 50121, 50118, 2]</td>\n",
       "      <td>74</td>\n",
       "    </tr>\n",
       "    <tr>\n",
       "      <th>25</th>\n",
       "      <td>25</td>\n",
       "      <td>ASSESSMENT</td>\n",
       "      <td>Symptoms: N/A.\\r\\nDiagnosis: Blood-borne pathogen exposure secondary to contaminated needlestick.\\r\\nHistory of Patient: N/A.\\r\\nPlan of Action: N/A.\\r\\n</td>\n",
       "      <td>Patient: Doc what are you going to diagnose me as?\\nDoctor: We are looking at blood born pathogen exposure secondary to needlestick. \\nPatient: Yes, I was also thinking around contamination.</td>\n",
       "      <td>[0, 18276, 4843, 35, 19761, 99, 32, 47, 164, 7, 29263, 162, 25, 116, 50118, 41152, 35, 166, 32, 546, 23, 1925, 2421, 2718, 11575, 4895, 5929, 7, 240, 35230, 1758, 4, 1437, 50118, 18276, 4843, 35, 3216, 6, 38, 21, 67, 2053, 198, 17520, 4, 2]</td>\n",
       "      <td>47</td>\n",
       "      <td>[0, 46994, 47629, 35, 234, 73, 250, 4, 50121, 50118, 29038, 11244, 13310, 35, 11391, 12, 17080, 2718, 11575, 4895, 5929, 7, 16194, 240, 35230, 1758, 4, 50121, 50118, 38261, 9, 27690, 35, 234, 73, 250, 4, 50121, 50118, 35351, 9, 5828, 35, 234, 73, 250, 4, 50121, 50118, 2]</td>\n",
       "      <td>50</td>\n",
       "    </tr>\n",
       "    <tr>\n",
       "      <th>...</th>\n",
       "      <td>...</td>\n",
       "      <td>...</td>\n",
       "      <td>...</td>\n",
       "      <td>...</td>\n",
       "      <td>...</td>\n",
       "      <td>...</td>\n",
       "      <td>...</td>\n",
       "      <td>...</td>\n",
       "    </tr>\n",
       "    <tr>\n",
       "      <th>1289</th>\n",
       "      <td>88</td>\n",
       "      <td>ALLERGY</td>\n",
       "      <td>Symptoms: N/A\\nDiagnosis: N/A\\nHistory of Complaint: No known medication intolerances\\nPlan of Action: N/A\\n</td>\n",
       "      <td>Doctor: Any medication intolerances? \\nPatient: No.</td>\n",
       "      <td>[0, 41152, 35, 5053, 8456, 39348, 5332, 116, 1437, 50118, 18276, 4843, 35, 440, 4, 2]</td>\n",
       "      <td>16</td>\n",
       "      <td>[0, 46994, 47629, 35, 234, 73, 250, 50118, 29038, 11244, 13310, 35, 234, 73, 250, 50118, 38261, 9, 20722, 12042, 35, 440, 684, 8456, 39348, 5332, 50118, 35351, 9, 5828, 35, 234, 73, 250, 50118, 2]</td>\n",
       "      <td>36</td>\n",
       "    </tr>\n",
       "    <tr>\n",
       "      <th>1291</th>\n",
       "      <td>90</td>\n",
       "      <td>FAM/SOCHX</td>\n",
       "      <td>Symptoms: N/A\\nDiagnosis: N/A\\nHistory of Complaint: Denies alcohol or tobacco use\\nPlan of Action: N/A\\n</td>\n",
       "      <td>Doctor: Do you drink alcohol or smoke cigarettes?\\nPatient: No, I do not.\\nDoctor: Are you sure?\\nPatient: Yes.</td>\n",
       "      <td>[0, 41152, 35, 1832, 47, 4076, 3766, 50, 4603, 14407, 116, 50118, 18276, 4843, 35, 440, 6, 38, 109, 45, 4, 50118, 41152, 35, 3945, 47, 686, 116, 50118, 18276, 4843, 35, 3216, 4, 2]</td>\n",
       "      <td>35</td>\n",
       "      <td>[0, 46994, 47629, 35, 234, 73, 250, 50118, 29038, 11244, 13310, 35, 234, 73, 250, 50118, 38261, 9, 20722, 12042, 35, 6743, 918, 3766, 50, 9681, 304, 50118, 35351, 9, 5828, 35, 234, 73, 250, 50118, 2]</td>\n",
       "      <td>37</td>\n",
       "    </tr>\n",
       "    <tr>\n",
       "      <th>1293</th>\n",
       "      <td>92</td>\n",
       "      <td>PASTMEDICALHX</td>\n",
       "      <td>Symptoms: N/A\\nDiagnosis: N/A\\nHistory of Complaint: History of migraine\\nPlan of Action: N/A\\n</td>\n",
       "      <td>Doctor: And you mentioned that you have a history of migraine?\\nPatient: Yes, that's correct.</td>\n",
       "      <td>[0, 41152, 35, 178, 47, 2801, 14, 47, 33, 10, 750, 9, 36857, 116, 50118, 18276, 4843, 35, 3216, 6, 14, 18, 4577, 4, 2]</td>\n",
       "      <td>25</td>\n",
       "      <td>[0, 46994, 47629, 35, 234, 73, 250, 50118, 29038, 11244, 13310, 35, 234, 73, 250, 50118, 38261, 9, 20722, 12042, 35, 7298, 9, 36857, 50118, 35351, 9, 5828, 35, 234, 73, 250, 50118, 2]</td>\n",
       "      <td>34</td>\n",
       "    </tr>\n",
       "    <tr>\n",
       "      <th>1294</th>\n",
       "      <td>93</td>\n",
       "      <td>MEDICATIONS</td>\n",
       "      <td>Symptoms: N/A\\nDiagnosis: N/A\\nHistory of Complaint: His only medications are Ziac and Remeron\\nPlan of Action: N/A\\n</td>\n",
       "      <td>Doctor: What medications are you taking currently? \\nPatient: Well, I'm taking Remeron for depression and Ziac for high blood pressure.</td>\n",
       "      <td>[0, 41152, 35, 653, 12102, 32, 47, 602, 855, 116, 1437, 50118, 18276, 4843, 35, 2647, 6, 38, 437, 602, 8022, 254, 261, 13, 6943, 8, 525, 9504, 13, 239, 1925, 1164, 4, 2]</td>\n",
       "      <td>34</td>\n",
       "      <td>[0, 46994, 47629, 35, 234, 73, 250, 50118, 29038, 11244, 13310, 35, 234, 73, 250, 50118, 38261, 9, 20722, 12042, 35, 832, 129, 12102, 32, 525, 9504, 8, 8022, 254, 261, 50118, 35351, 9, 5828, 35, 234, 73, 250, 50118, 2]</td>\n",
       "      <td>41</td>\n",
       "    </tr>\n",
       "    <tr>\n",
       "      <th>1299</th>\n",
       "      <td>98</td>\n",
       "      <td>IMMUNIZATIONS</td>\n",
       "      <td>Symptoms: N/A\\nDiagnosis: N/A\\nHistory of Complaint: Up-to-date on immunizations\\nPlan of Action: N/A\\n</td>\n",
       "      <td>Doctor: Good news! No need for any shots today. He is up to date on his immunizations. \\nGuest_family: Good! He hates shots.</td>\n",
       "      <td>[0, 41152, 35, 2497, 340, 328, 440, 240, 13, 143, 2347, 452, 4, 91, 16, 62, 7, 1248, 15, 39, 13998, 18391, 4, 1437, 50118, 45721, 1215, 12368, 35, 2497, 328, 91, 27701, 2347, 4, 2]</td>\n",
       "      <td>36</td>\n",
       "      <td>[0, 46994, 47629, 35, 234, 73, 250, 50118, 29038, 11244, 13310, 35, 234, 73, 250, 50118, 38261, 9, 20722, 12042, 35, 3105, 12, 560, 12, 10672, 15, 13998, 18391, 50118, 35351, 9, 5828, 35, 234, 73, 250, 50118, 2]</td>\n",
       "      <td>39</td>\n",
       "    </tr>\n",
       "  </tbody>\n",
       "</table>\n",
       "<p>216 rows × 8 columns</p>\n",
       "</div>"
      ],
      "text/plain": [
       "      ID section_header  \\\n",
       "7      7        ALLERGY   \n",
       "19    19    MEDICATIONS   \n",
       "23    23        ALLERGY   \n",
       "24    24     ASSESSMENT   \n",
       "25    25     ASSESSMENT   \n",
       "...   ..            ...   \n",
       "1289  88        ALLERGY   \n",
       "1291  90      FAM/SOCHX   \n",
       "1293  92  PASTMEDICALHX   \n",
       "1294  93    MEDICATIONS   \n",
       "1299  98  IMMUNIZATIONS   \n",
       "\n",
       "                                                                                                                                                                                                                                                                           section_text  \\\n",
       "7                                                                                                                                                                         Symptoms: N/A.\\r\\nDiagnosis: N/A.\\r\\nHistory of Patient: No known drug allergies.\\r\\nPlan of Action: N/A.\\r\\n   \n",
       "19                                                                                                                                                                                                    Symptoms: N/A.\\nDiagnosis: N/A.\\nHistory of Patient: N/A.\\nPlan of Action: N/A.\\n   \n",
       "23                                                                                                                                      Symptoms: N/A.\\r\\nDiagnosis: N/A.\\r\\nHistory of Patient: Allergic to Penicillin, no known allergies to other drugs.\\r\\nPlan of Action: N/A.\\r\\n   \n",
       "24    Symptoms: Hypoglycemia, hypertension, renal insufficiency.\\r\\nDiagnosis: N/A.\\r\\nHistory of Patient: Poor renal sufficiency possibly due to dehydration or diabetic nephropathy, high blood pressure, hypoglycemia due to irregular meal consumption.\\r\\nPlan of Action: N/A.\\r\\n   \n",
       "25                                                                                                                            Symptoms: N/A.\\r\\nDiagnosis: Blood-borne pathogen exposure secondary to contaminated needlestick.\\r\\nHistory of Patient: N/A.\\r\\nPlan of Action: N/A.\\r\\n   \n",
       "...                                                                                                                                                                                                                                                                                 ...   \n",
       "1289                                                                                                                                                                       Symptoms: N/A\\nDiagnosis: N/A\\nHistory of Complaint: No known medication intolerances\\nPlan of Action: N/A\\n   \n",
       "1291                                                                                                                                                                          Symptoms: N/A\\nDiagnosis: N/A\\nHistory of Complaint: Denies alcohol or tobacco use\\nPlan of Action: N/A\\n   \n",
       "1293                                                                                                                                                                                    Symptoms: N/A\\nDiagnosis: N/A\\nHistory of Complaint: History of migraine\\nPlan of Action: N/A\\n   \n",
       "1294                                                                                                                                                              Symptoms: N/A\\nDiagnosis: N/A\\nHistory of Complaint: His only medications are Ziac and Remeron\\nPlan of Action: N/A\\n   \n",
       "1299                                                                                                                                                                            Symptoms: N/A\\nDiagnosis: N/A\\nHistory of Complaint: Up-to-date on immunizations\\nPlan of Action: N/A\\n   \n",
       "\n",
       "                                                                                                                                                                                                                              dialogue  \\\n",
       "7                                                                                                                                                                                      Doctor: Any know drug allergies? \\nPatient: No.   \n",
       "19                                                                                                                                                                  Doctor: Is he currently taking any medication? \\nGuest_family: No.   \n",
       "23                                                Doctor: Are you allergic to anything?\\nPatient: Yes, I am allergic to Penicillin.\\nDoctor: Any other drugs that you could be allergic to?\\nPatient: Nope that is all.\\nDoctor: Okay.   \n",
       "24    Guest_clinician: What brought them in today? \\nDoctor: Poor renal sufficiency, possibly due to dehydration or diabetic nephropathy. She also has high blood pressure and low blood sugar as a result of missing meals regularly.   \n",
       "25                                      Patient: Doc what are you going to diagnose me as?\\nDoctor: We are looking at blood born pathogen exposure secondary to needlestick. \\nPatient: Yes, I was also thinking around contamination.   \n",
       "...                                                                                                                                                                                                                                ...   \n",
       "1289                                                                                                                                                                               Doctor: Any medication intolerances? \\nPatient: No.   \n",
       "1291                                                                                                                   Doctor: Do you drink alcohol or smoke cigarettes?\\nPatient: No, I do not.\\nDoctor: Are you sure?\\nPatient: Yes.   \n",
       "1293                                                                                                                                     Doctor: And you mentioned that you have a history of migraine?\\nPatient: Yes, that's correct.   \n",
       "1294                                                                                           Doctor: What medications are you taking currently? \\nPatient: Well, I'm taking Remeron for depression and Ziac for high blood pressure.   \n",
       "1299                                                                                                      Doctor: Good news! No need for any shots today. He is up to date on his immunizations. \\nGuest_family: Good! He hates shots.   \n",
       "\n",
       "                                                                                                                                                                                                                                                                             input_ids  \\\n",
       "7                                                                                                                                                                                                 [0, 41152, 35, 5053, 216, 1262, 26331, 116, 1437, 50118, 18276, 4843, 35, 440, 4, 2]   \n",
       "19                                                                                                                                                                                  [0, 41152, 35, 1534, 37, 855, 602, 143, 8456, 116, 1437, 50118, 45721, 1215, 12368, 35, 440, 4, 2]   \n",
       "23                 [0, 41152, 35, 3945, 47, 28349, 7, 932, 116, 50118, 18276, 4843, 35, 3216, 6, 38, 524, 28349, 7, 4676, 636, 36817, 4, 50118, 41152, 35, 5053, 97, 2196, 14, 47, 115, 28, 28349, 7, 116, 50118, 18276, 4843, 35, 37712, 14, 16, 70, 4, 50118, 41152, 35, 8487, 4, 2]   \n",
       "24    [0, 45721, 1215, 3998, 179, 14932, 35, 653, 1146, 106, 11, 452, 116, 1437, 50118, 41152, 35, 11253, 39729, 2628, 45326, 6, 3544, 528, 7, 33229, 50, 33560, 3087, 3792, 6884, 17543, 4, 264, 67, 34, 239, 1925, 1164, 8, 614, 1925, 4696, 25, 10, 898, 9, 1716, 7317, 4595, 4, 2]   \n",
       "25                                    [0, 18276, 4843, 35, 19761, 99, 32, 47, 164, 7, 29263, 162, 25, 116, 50118, 41152, 35, 166, 32, 546, 23, 1925, 2421, 2718, 11575, 4895, 5929, 7, 240, 35230, 1758, 4, 1437, 50118, 18276, 4843, 35, 3216, 6, 38, 21, 67, 2053, 198, 17520, 4, 2]   \n",
       "...                                                                                                                                                                                                                                                                                ...   \n",
       "1289                                                                                                                                                                                             [0, 41152, 35, 5053, 8456, 39348, 5332, 116, 1437, 50118, 18276, 4843, 35, 440, 4, 2]   \n",
       "1291                                                                                              [0, 41152, 35, 1832, 47, 4076, 3766, 50, 4603, 14407, 116, 50118, 18276, 4843, 35, 440, 6, 38, 109, 45, 4, 50118, 41152, 35, 3945, 47, 686, 116, 50118, 18276, 4843, 35, 3216, 4, 2]   \n",
       "1293                                                                                                                                                            [0, 41152, 35, 178, 47, 2801, 14, 47, 33, 10, 750, 9, 36857, 116, 50118, 18276, 4843, 35, 3216, 6, 14, 18, 4577, 4, 2]   \n",
       "1294                                                                                                         [0, 41152, 35, 653, 12102, 32, 47, 602, 855, 116, 1437, 50118, 18276, 4843, 35, 2647, 6, 38, 437, 602, 8022, 254, 261, 13, 6943, 8, 525, 9504, 13, 239, 1925, 1164, 4, 2]   \n",
       "1299                                                                                              [0, 41152, 35, 2497, 340, 328, 440, 240, 13, 143, 2347, 452, 4, 91, 16, 62, 7, 1248, 15, 39, 13998, 18391, 4, 1437, 50118, 45721, 1215, 12368, 35, 2497, 328, 91, 27701, 2347, 4, 2]   \n",
       "\n",
       "      input_token_len  \\\n",
       "7                  16   \n",
       "19                 19   \n",
       "23                 51   \n",
       "24                 52   \n",
       "25                 47   \n",
       "...               ...   \n",
       "1289               16   \n",
       "1291               35   \n",
       "1293               25   \n",
       "1294               34   \n",
       "1299               36   \n",
       "\n",
       "                                                                                                                                                                                                                                                                                                                                                                                                                             labels  \\\n",
       "7                                                                                                                                                                                                   [0, 46994, 47629, 35, 234, 73, 250, 4, 50121, 50118, 29038, 11244, 13310, 35, 234, 73, 250, 4, 50121, 50118, 38261, 9, 27690, 35, 440, 684, 1262, 26331, 4, 50121, 50118, 35351, 9, 5828, 35, 234, 73, 250, 4, 50121, 50118, 2]   \n",
       "19                                                                                                                                                                                                                                       [0, 46994, 47629, 35, 234, 73, 250, 4, 50118, 29038, 11244, 13310, 35, 234, 73, 250, 4, 50118, 38261, 9, 27690, 35, 234, 73, 250, 4, 50118, 35351, 9, 5828, 35, 234, 73, 250, 4, 50118, 2]   \n",
       "23                                                                                                                                                       [0, 46994, 47629, 35, 234, 73, 250, 4, 50121, 50118, 29038, 11244, 13310, 35, 234, 73, 250, 4, 50121, 50118, 38261, 9, 27690, 35, 404, 44858, 7, 4676, 636, 36817, 6, 117, 684, 26331, 7, 97, 2196, 4, 50121, 50118, 35351, 9, 5828, 35, 234, 73, 250, 4, 50121, 50118, 2]   \n",
       "24    [0, 46994, 47629, 35, 32225, 39218, 1755, 24238, 6, 30960, 6, 39729, 7540, 5865, 33065, 4, 50121, 50118, 29038, 11244, 13310, 35, 234, 73, 250, 4, 50121, 50118, 38261, 9, 27690, 35, 11253, 39729, 2628, 45326, 3544, 528, 7, 33229, 50, 33560, 3087, 3792, 6884, 17543, 6, 239, 1925, 1164, 6, 15671, 39218, 1755, 24238, 528, 7, 22937, 5820, 4850, 4, 50121, 50118, 35351, 9, 5828, 35, 234, 73, 250, 4, 50121, 50118, 2]   \n",
       "25                                                                                                                                                  [0, 46994, 47629, 35, 234, 73, 250, 4, 50121, 50118, 29038, 11244, 13310, 35, 11391, 12, 17080, 2718, 11575, 4895, 5929, 7, 16194, 240, 35230, 1758, 4, 50121, 50118, 38261, 9, 27690, 35, 234, 73, 250, 4, 50121, 50118, 35351, 9, 5828, 35, 234, 73, 250, 4, 50121, 50118, 2]   \n",
       "...                                                                                                                                                                                                                                                                                                                                                                                                                             ...   \n",
       "1289                                                                                                                                                                                                                           [0, 46994, 47629, 35, 234, 73, 250, 50118, 29038, 11244, 13310, 35, 234, 73, 250, 50118, 38261, 9, 20722, 12042, 35, 440, 684, 8456, 39348, 5332, 50118, 35351, 9, 5828, 35, 234, 73, 250, 50118, 2]   \n",
       "1291                                                                                                                                                                                                                        [0, 46994, 47629, 35, 234, 73, 250, 50118, 29038, 11244, 13310, 35, 234, 73, 250, 50118, 38261, 9, 20722, 12042, 35, 6743, 918, 3766, 50, 9681, 304, 50118, 35351, 9, 5828, 35, 234, 73, 250, 50118, 2]   \n",
       "1293                                                                                                                                                                                                                                        [0, 46994, 47629, 35, 234, 73, 250, 50118, 29038, 11244, 13310, 35, 234, 73, 250, 50118, 38261, 9, 20722, 12042, 35, 7298, 9, 36857, 50118, 35351, 9, 5828, 35, 234, 73, 250, 50118, 2]   \n",
       "1294                                                                                                                                                                                                     [0, 46994, 47629, 35, 234, 73, 250, 50118, 29038, 11244, 13310, 35, 234, 73, 250, 50118, 38261, 9, 20722, 12042, 35, 832, 129, 12102, 32, 525, 9504, 8, 8022, 254, 261, 50118, 35351, 9, 5828, 35, 234, 73, 250, 50118, 2]   \n",
       "1299                                                                                                                                                                                                            [0, 46994, 47629, 35, 234, 73, 250, 50118, 29038, 11244, 13310, 35, 234, 73, 250, 50118, 38261, 9, 20722, 12042, 35, 3105, 12, 560, 12, 10672, 15, 13998, 18391, 50118, 35351, 9, 5828, 35, 234, 73, 250, 50118, 2]   \n",
       "\n",
       "      output_token_len  \n",
       "7                   42  \n",
       "19                  37  \n",
       "23                  51  \n",
       "24                  74  \n",
       "25                  50  \n",
       "...                ...  \n",
       "1289                36  \n",
       "1291                37  \n",
       "1293                34  \n",
       "1294                41  \n",
       "1299                39  \n",
       "\n",
       "[216 rows x 8 columns]"
      ]
     },
     "execution_count": 155,
     "metadata": {},
     "output_type": "execute_result"
    }
   ],
   "source": [
    "# Output length is >= input length\n",
    "print(ds_df[ds_df['input_token_len'] <= ds_df['output_token_len']].loc[:,['input_token_len', 'output_token_len']].describe())\n",
    "ds_df[ds_df['input_token_len'] <= ds_df['output_token_len']]"
   ]
  },
  {
   "cell_type": "markdown",
   "id": "e677d7b8-ae70-4d0c-82b1-a522c8a7157a",
   "metadata": {},
   "source": [
    "#### <u>Input Length <= 20</u>"
   ]
  },
  {
   "cell_type": "code",
   "execution_count": 161,
   "id": "65857e34-5c22-4fc3-b47f-04de86467725",
   "metadata": {},
   "outputs": [
    {
     "name": "stdout",
     "output_type": "stream",
     "text": [
      "       input_token_len  output_token_len\n",
      "count        29.000000         29.000000\n",
      "mean         17.344828         38.344828\n",
      "std           1.587358          3.628024\n",
      "min          15.000000         33.000000\n",
      "25%          16.000000         35.000000\n",
      "50%          17.000000         37.000000\n",
      "75%          19.000000         41.000000\n",
      "max          20.000000         49.000000\n"
     ]
    },
    {
     "data": {
      "text/html": [
       "<div>\n",
       "<style scoped>\n",
       "    .dataframe tbody tr th:only-of-type {\n",
       "        vertical-align: middle;\n",
       "    }\n",
       "\n",
       "    .dataframe tbody tr th {\n",
       "        vertical-align: top;\n",
       "    }\n",
       "\n",
       "    .dataframe thead th {\n",
       "        text-align: right;\n",
       "    }\n",
       "</style>\n",
       "<table border=\"1\" class=\"dataframe\">\n",
       "  <thead>\n",
       "    <tr style=\"text-align: right;\">\n",
       "      <th></th>\n",
       "      <th>ID</th>\n",
       "      <th>section_header</th>\n",
       "      <th>section_text</th>\n",
       "      <th>dialogue</th>\n",
       "      <th>input_ids</th>\n",
       "      <th>input_token_len</th>\n",
       "      <th>labels</th>\n",
       "      <th>output_token_len</th>\n",
       "    </tr>\n",
       "  </thead>\n",
       "  <tbody>\n",
       "    <tr>\n",
       "      <th>7</th>\n",
       "      <td>7</td>\n",
       "      <td>ALLERGY</td>\n",
       "      <td>Symptoms: N/A.\\r\\nDiagnosis: N/A.\\r\\nHistory of Patient: No known drug allergies.\\r\\nPlan of Action: N/A.\\r\\n</td>\n",
       "      <td>Doctor: Any know drug allergies? \\nPatient: No.</td>\n",
       "      <td>[0, 41152, 35, 5053, 216, 1262, 26331, 116, 1437, 50118, 18276, 4843, 35, 440, 4, 2]</td>\n",
       "      <td>16</td>\n",
       "      <td>[0, 46994, 47629, 35, 234, 73, 250, 4, 50121, 50118, 29038, 11244, 13310, 35, 234, 73, 250, 4, 50121, 50118, 38261, 9, 27690, 35, 440, 684, 1262, 26331, 4, 50121, 50118, 35351, 9, 5828, 35, 234, 73, 250, 4, 50121, 50118, 2]</td>\n",
       "      <td>42</td>\n",
       "    </tr>\n",
       "    <tr>\n",
       "      <th>19</th>\n",
       "      <td>19</td>\n",
       "      <td>MEDICATIONS</td>\n",
       "      <td>Symptoms: N/A.\\nDiagnosis: N/A.\\nHistory of Patient: N/A.\\nPlan of Action: N/A.\\n</td>\n",
       "      <td>Doctor: Is he currently taking any medication? \\nGuest_family: No.</td>\n",
       "      <td>[0, 41152, 35, 1534, 37, 855, 602, 143, 8456, 116, 1437, 50118, 45721, 1215, 12368, 35, 440, 4, 2]</td>\n",
       "      <td>19</td>\n",
       "      <td>[0, 46994, 47629, 35, 234, 73, 250, 4, 50118, 29038, 11244, 13310, 35, 234, 73, 250, 4, 50118, 38261, 9, 27690, 35, 234, 73, 250, 4, 50118, 35351, 9, 5828, 35, 234, 73, 250, 4, 50118, 2]</td>\n",
       "      <td>37</td>\n",
       "    </tr>\n",
       "    <tr>\n",
       "      <th>104</th>\n",
       "      <td>104</td>\n",
       "      <td>ALLERGY</td>\n",
       "      <td>Symptoms: N/A.\\r\\nDiagnosis: N/A.\\r\\nHistory of Patient: N/A.\\r\\nPlan of Action: N/A.\\r\\n</td>\n",
       "      <td>Doctor: Any known drug allergies? \\nPatient: No.</td>\n",
       "      <td>[0, 41152, 35, 5053, 684, 1262, 26331, 116, 1437, 50118, 18276, 4843, 35, 440, 4, 2]</td>\n",
       "      <td>16</td>\n",
       "      <td>[0, 46994, 47629, 35, 234, 73, 250, 4, 50121, 50118, 29038, 11244, 13310, 35, 234, 73, 250, 4, 50121, 50118, 38261, 9, 27690, 35, 234, 73, 250, 4, 50121, 50118, 35351, 9, 5828, 35, 234, 73, 250, 4, 50121, 50118, 2]</td>\n",
       "      <td>41</td>\n",
       "    </tr>\n",
       "    <tr>\n",
       "      <th>127</th>\n",
       "      <td>127</td>\n",
       "      <td>ALLERGY</td>\n",
       "      <td>Symptoms: N/A.\\r\\nDiagnosis: N/A.\\r\\nHistory of Patient: No allergies\\r\\nPlan of Action: N/A.\\r\\n</td>\n",
       "      <td>Doctor: Are you allergic to anything? \\nPatient: No.</td>\n",
       "      <td>[0, 41152, 35, 3945, 47, 28349, 7, 932, 116, 1437, 50118, 18276, 4843, 35, 440, 4, 2]</td>\n",
       "      <td>17</td>\n",
       "      <td>[0, 46994, 47629, 35, 234, 73, 250, 4, 50121, 50118, 29038, 11244, 13310, 35, 234, 73, 250, 4, 50121, 50118, 38261, 9, 27690, 35, 440, 26331, 50121, 50118, 35351, 9, 5828, 35, 234, 73, 250, 4, 50121, 50118, 2]</td>\n",
       "      <td>39</td>\n",
       "    </tr>\n",
       "    <tr>\n",
       "      <th>147</th>\n",
       "      <td>147</td>\n",
       "      <td>PASTMEDICALHX</td>\n",
       "      <td>Symptoms: N/A.\\r\\nDiagnosis: N/A.\\r\\nHistory of Patient: N/A.\\r\\nPlan of Action: N/A.\\r\\n</td>\n",
       "      <td>Doctor: Do you have any past medical history? \\nPatient: No.</td>\n",
       "      <td>[0, 41152, 35, 1832, 47, 33, 143, 375, 1131, 750, 116, 1437, 50118, 18276, 4843, 35, 440, 4, 2]</td>\n",
       "      <td>19</td>\n",
       "      <td>[0, 46994, 47629, 35, 234, 73, 250, 4, 50121, 50118, 29038, 11244, 13310, 35, 234, 73, 250, 4, 50121, 50118, 38261, 9, 27690, 35, 234, 73, 250, 4, 50121, 50118, 35351, 9, 5828, 35, 234, 73, 250, 4, 50121, 50118, 2]</td>\n",
       "      <td>41</td>\n",
       "    </tr>\n",
       "    <tr>\n",
       "      <th>229</th>\n",
       "      <td>229</td>\n",
       "      <td>PROCEDURES</td>\n",
       "      <td>Symptoms: N/A\\r\\nDiagnosis: N/A\\r\\nHistory of Patient: None\\r\\nPlan of Action: N/A\\r\\n.</td>\n",
       "      <td>Doctor: Have you had any procedures in the past?\\nPatient: No.</td>\n",
       "      <td>[0, 41152, 35, 6319, 47, 56, 143, 6196, 11, 5, 375, 116, 50118, 18276, 4843, 35, 440, 4, 2]</td>\n",
       "      <td>19</td>\n",
       "      <td>[0, 46994, 47629, 35, 234, 73, 250, 50121, 50118, 29038, 11244, 13310, 35, 234, 73, 250, 50121, 50118, 38261, 9, 27690, 35, 9291, 50121, 50118, 35351, 9, 5828, 35, 234, 73, 250, 50121, 50118, 4, 2]</td>\n",
       "      <td>36</td>\n",
       "    </tr>\n",
       "    <tr>\n",
       "      <th>238</th>\n",
       "      <td>238</td>\n",
       "      <td>MEDICATIONS</td>\n",
       "      <td>Symptoms: N/A\\r\\nDiagnosis: N/A\\r\\nHistory of Patient: None\\r\\nPlan of Action: N/A\\r\\n</td>\n",
       "      <td>Doctor: Do you take any daily medications or supplements? \\nPatient: Nope.</td>\n",
       "      <td>[0, 41152, 35, 1832, 47, 185, 143, 1230, 12102, 50, 19619, 116, 1437, 50118, 18276, 4843, 35, 37712, 4, 2]</td>\n",
       "      <td>20</td>\n",
       "      <td>[0, 46994, 47629, 35, 234, 73, 250, 50121, 50118, 29038, 11244, 13310, 35, 234, 73, 250, 50121, 50118, 38261, 9, 27690, 35, 9291, 50121, 50118, 35351, 9, 5828, 35, 234, 73, 250, 50121, 50118, 2]</td>\n",
       "      <td>35</td>\n",
       "    </tr>\n",
       "    <tr>\n",
       "      <th>299</th>\n",
       "      <td>299</td>\n",
       "      <td>ALLERGY</td>\n",
       "      <td>Symptoms: N/A\\r\\nDiagnosis: N/A\\r\\nHistory of Patient: N/A\\r\\nPlan of Action: N/A\\r\\n</td>\n",
       "      <td>Doctor: Does he have any known drug allergies? \\nGuest_family: No.</td>\n",
       "      <td>[0, 41152, 35, 8901, 37, 33, 143, 684, 1262, 26331, 116, 1437, 50118, 45721, 1215, 12368, 35, 440, 4, 2]</td>\n",
       "      <td>20</td>\n",
       "      <td>[0, 46994, 47629, 35, 234, 73, 250, 50121, 50118, 29038, 11244, 13310, 35, 234, 73, 250, 50121, 50118, 38261, 9, 27690, 35, 234, 73, 250, 50121, 50118, 35351, 9, 5828, 35, 234, 73, 250, 50121, 50118, 2]</td>\n",
       "      <td>37</td>\n",
       "    </tr>\n",
       "    <tr>\n",
       "      <th>435</th>\n",
       "      <td>435</td>\n",
       "      <td>FAM/SOCHX</td>\n",
       "      <td>Symptoms: N/A.\\r\\nDiagnosis: N/A.\\r\\nHistory of Patient: No tobacco or alcohol use.\\r\\nPlan Of Action: N/A.\\r\\n</td>\n",
       "      <td>Doctor: Do you smoke or drink alcohol?\\nPatient: Nope.</td>\n",
       "      <td>[0, 41152, 35, 1832, 47, 4603, 50, 4076, 3766, 116, 50118, 18276, 4843, 35, 37712, 4, 2]</td>\n",
       "      <td>17</td>\n",
       "      <td>[0, 46994, 47629, 35, 234, 73, 250, 4, 50121, 50118, 29038, 11244, 13310, 35, 234, 73, 250, 4, 50121, 50118, 38261, 9, 27690, 35, 440, 9681, 50, 3766, 304, 4, 50121, 50118, 35351, 1525, 5828, 35, 234, 73, 250, 4, 50121, 50118, 2]</td>\n",
       "      <td>43</td>\n",
       "    </tr>\n",
       "    <tr>\n",
       "      <th>460</th>\n",
       "      <td>460</td>\n",
       "      <td>ALLERGY</td>\n",
       "      <td>Symptoms: N/A.\\r\\nDiagnosis: N/A.\\r\\nHistory of Patient: No known drug allergies.\\r\\nPlan Of Action: N/A.\\r\\n</td>\n",
       "      <td>Doctor: Any drug allergies? \\nPatient: No.</td>\n",
       "      <td>[0, 41152, 35, 5053, 1262, 26331, 116, 1437, 50118, 18276, 4843, 35, 440, 4, 2]</td>\n",
       "      <td>15</td>\n",
       "      <td>[0, 46994, 47629, 35, 234, 73, 250, 4, 50121, 50118, 29038, 11244, 13310, 35, 234, 73, 250, 4, 50121, 50118, 38261, 9, 27690, 35, 440, 684, 1262, 26331, 4, 50121, 50118, 35351, 1525, 5828, 35, 234, 73, 250, 4, 50121, 50118, 2]</td>\n",
       "      <td>42</td>\n",
       "    </tr>\n",
       "    <tr>\n",
       "      <th>575</th>\n",
       "      <td>575</td>\n",
       "      <td>ALLERGY</td>\n",
       "      <td>Symptoms: N/A.\\r\\nDiagnosis: N/A.\\r\\nHistory of Patient: No known drug allergies.\\r\\nPlan of Action: N/A.\\r\\n</td>\n",
       "      <td>Doctor: How about allergies to medications? \\nPatient: Nope.</td>\n",
       "      <td>[0, 41152, 35, 1336, 59, 26331, 7, 12102, 116, 1437, 50118, 18276, 4843, 35, 37712, 4, 2]</td>\n",
       "      <td>17</td>\n",
       "      <td>[0, 46994, 47629, 35, 234, 73, 250, 4, 50121, 50118, 29038, 11244, 13310, 35, 234, 73, 250, 4, 50121, 50118, 38261, 9, 27690, 35, 440, 684, 1262, 26331, 4, 50121, 50118, 35351, 9, 5828, 35, 234, 73, 250, 4, 50121, 50118, 2]</td>\n",
       "      <td>42</td>\n",
       "    </tr>\n",
       "    <tr>\n",
       "      <th>595</th>\n",
       "      <td>595</td>\n",
       "      <td>PASTSURGICAL</td>\n",
       "      <td>Symptoms: N/A.\\r\\nDiagnosis: N/A.\\r\\nHistory of Patient: Denies any past surgeries.\\r\\nPlan of Action: N/A.\\r\\n</td>\n",
       "      <td>Doctor: Did you had any surgery in the past? \\nPatient: No.</td>\n",
       "      <td>[0, 41152, 35, 6553, 47, 56, 143, 3012, 11, 5, 375, 116, 1437, 50118, 18276, 4843, 35, 440, 4, 2]</td>\n",
       "      <td>20</td>\n",
       "      <td>[0, 46994, 47629, 35, 234, 73, 250, 4, 50121, 50118, 29038, 11244, 13310, 35, 234, 73, 250, 4, 50121, 50118, 38261, 9, 27690, 35, 6743, 918, 143, 375, 15948, 4, 50121, 50118, 35351, 9, 5828, 35, 234, 73, 250, 4, 50121, 50118, 2]</td>\n",
       "      <td>43</td>\n",
       "    </tr>\n",
       "    <tr>\n",
       "      <th>747</th>\n",
       "      <td>747</td>\n",
       "      <td>ROS</td>\n",
       "      <td>Symptoms: No nausea, vomiting, diarrhea\\r\\nDiagnosis: N/A\\r\\nHistory of Patient: N/A\\r\\nPlan of Action: N/A\\r\\n</td>\n",
       "      <td>Doctor: Any nausea, vomiting or diarrhea?\\nPatient: Nope.</td>\n",
       "      <td>[0, 41152, 35, 5053, 27214, 6, 23600, 50, 28657, 116, 50118, 18276, 4843, 35, 37712, 4, 2]</td>\n",
       "      <td>17</td>\n",
       "      <td>[0, 46994, 47629, 35, 440, 27214, 6, 23600, 6, 28657, 50121, 50118, 29038, 11244, 13310, 35, 234, 73, 250, 50121, 50118, 38261, 9, 27690, 35, 234, 73, 250, 50121, 50118, 35351, 9, 5828, 35, 234, 73, 250, 50121, 50118, 2]</td>\n",
       "      <td>40</td>\n",
       "    </tr>\n",
       "    <tr>\n",
       "      <th>753</th>\n",
       "      <td>753</td>\n",
       "      <td>ALLERGY</td>\n",
       "      <td>Symptoms: N/A\\r\\nDiagnosis: N/A\\r\\nHistory of Patient: N/A\\r\\nPlan of Action: None\\r\\n</td>\n",
       "      <td>Doctor: Are you allergic to any medications? \\nPatient: No</td>\n",
       "      <td>[0, 41152, 35, 3945, 47, 28349, 7, 143, 12102, 116, 1437, 50118, 18276, 4843, 35, 440, 2]</td>\n",
       "      <td>17</td>\n",
       "      <td>[0, 46994, 47629, 35, 234, 73, 250, 50121, 50118, 29038, 11244, 13310, 35, 234, 73, 250, 50121, 50118, 38261, 9, 27690, 35, 234, 73, 250, 50121, 50118, 35351, 9, 5828, 35, 9291, 50121, 50118, 2]</td>\n",
       "      <td>35</td>\n",
       "    </tr>\n",
       "    <tr>\n",
       "      <th>777</th>\n",
       "      <td>777</td>\n",
       "      <td>MEDICATIONS</td>\n",
       "      <td>Symptoms: N/A\\r\\nDiagnosis: N/A\\r\\nHistory of Patient: N/A\\r\\nPlan of Action: N/A\\r\\n</td>\n",
       "      <td>Doctor: Are you currently taking any medications? \\nPatient: No.</td>\n",
       "      <td>[0, 41152, 35, 3945, 47, 855, 602, 143, 12102, 116, 1437, 50118, 18276, 4843, 35, 440, 4, 2]</td>\n",
       "      <td>18</td>\n",
       "      <td>[0, 46994, 47629, 35, 234, 73, 250, 50121, 50118, 29038, 11244, 13310, 35, 234, 73, 250, 50121, 50118, 38261, 9, 27690, 35, 234, 73, 250, 50121, 50118, 35351, 9, 5828, 35, 234, 73, 250, 50121, 50118, 2]</td>\n",
       "      <td>37</td>\n",
       "    </tr>\n",
       "    <tr>\n",
       "      <th>883</th>\n",
       "      <td>883</td>\n",
       "      <td>ALLERGY</td>\n",
       "      <td>Symptoms: N/A\\r\\nDiagnosis: N/A\\r\\nHistory of Patient: N/A\\r\\nPlan of Action: N/A</td>\n",
       "      <td>Doctor: Any known allergies? \\nPatient: No.</td>\n",
       "      <td>[0, 41152, 35, 5053, 684, 26331, 116, 1437, 50118, 18276, 4843, 35, 440, 4, 2]</td>\n",
       "      <td>15</td>\n",
       "      <td>[0, 46994, 47629, 35, 234, 73, 250, 50121, 50118, 29038, 11244, 13310, 35, 234, 73, 250, 50121, 50118, 38261, 9, 27690, 35, 234, 73, 250, 50121, 50118, 35351, 9, 5828, 35, 234, 73, 250, 2]</td>\n",
       "      <td>35</td>\n",
       "    </tr>\n",
       "    <tr>\n",
       "      <th>904</th>\n",
       "      <td>904</td>\n",
       "      <td>PASTSURGICAL</td>\n",
       "      <td>Symptoms: N/A\\r\\nDiagnosis: N/A\\r\\nHistory of Patient: negative for any surgery\\r\\nPlan of Action: N/A</td>\n",
       "      <td>Doctor: Did you ever have any surgery?\\nPatient: No.</td>\n",
       "      <td>[0, 41152, 35, 6553, 47, 655, 33, 143, 3012, 116, 50118, 18276, 4843, 35, 440, 4, 2]</td>\n",
       "      <td>17</td>\n",
       "      <td>[0, 46994, 47629, 35, 234, 73, 250, 50121, 50118, 29038, 11244, 13310, 35, 234, 73, 250, 50121, 50118, 38261, 9, 27690, 35, 2430, 13, 143, 3012, 50121, 50118, 35351, 9, 5828, 35, 234, 73, 250, 2]</td>\n",
       "      <td>36</td>\n",
       "    </tr>\n",
       "    <tr>\n",
       "      <th>916</th>\n",
       "      <td>916</td>\n",
       "      <td>MEDICATIONS</td>\n",
       "      <td>Symptoms: N/A\\r\\nDiagnosis: N/A\\r\\nHistory of Patient: N/A\\r\\nPlan of Action: N/A</td>\n",
       "      <td>Doctor: Are you taking any medicine? \\nPatient: No.</td>\n",
       "      <td>[0, 41152, 35, 3945, 47, 602, 143, 6150, 116, 1437, 50118, 18276, 4843, 35, 440, 4, 2]</td>\n",
       "      <td>17</td>\n",
       "      <td>[0, 46994, 47629, 35, 234, 73, 250, 50121, 50118, 29038, 11244, 13310, 35, 234, 73, 250, 50121, 50118, 38261, 9, 27690, 35, 234, 73, 250, 50121, 50118, 35351, 9, 5828, 35, 234, 73, 250, 2]</td>\n",
       "      <td>35</td>\n",
       "    </tr>\n",
       "    <tr>\n",
       "      <th>921</th>\n",
       "      <td>921</td>\n",
       "      <td>PASTMEDICALHX</td>\n",
       "      <td>Symptoms: N/A\\r\\nDiagnosis: N/A\\r\\nHistory of Patient: N/A\\r\\nPlan of Action: N/A</td>\n",
       "      <td>Doctor: Did you have any medical issues?\\nPatient: Nope.</td>\n",
       "      <td>[0, 41152, 35, 6553, 47, 33, 143, 1131, 743, 116, 50118, 18276, 4843, 35, 37712, 4, 2]</td>\n",
       "      <td>17</td>\n",
       "      <td>[0, 46994, 47629, 35, 234, 73, 250, 50121, 50118, 29038, 11244, 13310, 35, 234, 73, 250, 50121, 50118, 38261, 9, 27690, 35, 234, 73, 250, 50121, 50118, 35351, 9, 5828, 35, 234, 73, 250, 2]</td>\n",
       "      <td>35</td>\n",
       "    </tr>\n",
       "    <tr>\n",
       "      <th>926</th>\n",
       "      <td>926</td>\n",
       "      <td>ALLERGY</td>\n",
       "      <td>Symptoms: N/A\\r\\nDiagnosis: N/A\\r\\nHistory of Patient: None\\r\\nPlan of Action: N/A</td>\n",
       "      <td>Doctor: Do you have any known drug allergies? \\nPatient: No.</td>\n",
       "      <td>[0, 41152, 35, 1832, 47, 33, 143, 684, 1262, 26331, 116, 1437, 50118, 18276, 4843, 35, 440, 4, 2]</td>\n",
       "      <td>19</td>\n",
       "      <td>[0, 46994, 47629, 35, 234, 73, 250, 50121, 50118, 29038, 11244, 13310, 35, 234, 73, 250, 50121, 50118, 38261, 9, 27690, 35, 9291, 50121, 50118, 35351, 9, 5828, 35, 234, 73, 250, 2]</td>\n",
       "      <td>33</td>\n",
       "    </tr>\n",
       "    <tr>\n",
       "      <th>952</th>\n",
       "      <td>952</td>\n",
       "      <td>PASTSURGICAL</td>\n",
       "      <td>Symptoms: N/A\\r\\nDiagnosis: N/A\\r\\nHistory of Patient: N/A\\r\\nPlan of Action: N/A</td>\n",
       "      <td>Doctor: Did you have any surgeries in the past?\\nPatient: No.</td>\n",
       "      <td>[0, 41152, 35, 6553, 47, 33, 143, 15948, 11, 5, 375, 116, 50118, 18276, 4843, 35, 440, 4, 2]</td>\n",
       "      <td>19</td>\n",
       "      <td>[0, 46994, 47629, 35, 234, 73, 250, 50121, 50118, 29038, 11244, 13310, 35, 234, 73, 250, 50121, 50118, 38261, 9, 27690, 35, 234, 73, 250, 50121, 50118, 35351, 9, 5828, 35, 234, 73, 250, 2]</td>\n",
       "      <td>35</td>\n",
       "    </tr>\n",
       "    <tr>\n",
       "      <th>959</th>\n",
       "      <td>959</td>\n",
       "      <td>FAM/SOCHX</td>\n",
       "      <td>Symptoms: N/A\\r\\nDiagnosis: N/A\\r\\nHistory of Patient: N/A\\r\\nPlan of Action: N/A</td>\n",
       "      <td>Doctor: Smoke or drink? \\nPatient: No and no.</td>\n",
       "      <td>[0, 41152, 35, 21389, 50, 4076, 116, 1437, 50118, 18276, 4843, 35, 440, 8, 117, 4, 2]</td>\n",
       "      <td>17</td>\n",
       "      <td>[0, 46994, 47629, 35, 234, 73, 250, 50121, 50118, 29038, 11244, 13310, 35, 234, 73, 250, 50121, 50118, 38261, 9, 27690, 35, 234, 73, 250, 50121, 50118, 35351, 9, 5828, 35, 234, 73, 250, 2]</td>\n",
       "      <td>35</td>\n",
       "    </tr>\n",
       "    <tr>\n",
       "      <th>1000</th>\n",
       "      <td>1000</td>\n",
       "      <td>PASTMEDICALHX</td>\n",
       "      <td>Symptoms: N/A\\r\\nDiagnosis: Nonsignificant\\r\\nHistory of Patient: N/A\\r\\nPlan of Action: N/A\\r\\n</td>\n",
       "      <td>Doctor: Any past medical history? \\nPatient: No.</td>\n",
       "      <td>[0, 41152, 35, 5053, 375, 1131, 750, 116, 1437, 50118, 18276, 4843, 35, 440, 4, 2]</td>\n",
       "      <td>16</td>\n",
       "      <td>[0, 46994, 47629, 35, 234, 73, 250, 50121, 50118, 29038, 11244, 13310, 35, 234, 1790, 4932, 44358, 50121, 50118, 38261, 9, 27690, 35, 234, 73, 250, 50121, 50118, 35351, 9, 5828, 35, 234, 73, 250, 50121, 50118, 2]</td>\n",
       "      <td>38</td>\n",
       "    </tr>\n",
       "    <tr>\n",
       "      <th>1013</th>\n",
       "      <td>1013</td>\n",
       "      <td>MEDICATIONS</td>\n",
       "      <td>Symptoms: N/A\\nDiagnosis: N/A\\nHistory of Patient: Ibuprofen PRN.\\r\\n\\nPlan of Action: Ibuprofen can be taken as needed for pain relief.\\n</td>\n",
       "      <td>Doctor: You can take Ibuprofen as needed for pain.</td>\n",
       "      <td>[0, 41152, 35, 370, 64, 185, 14643, 658, 1001, 22132, 25, 956, 13, 2400, 4, 2]</td>\n",
       "      <td>16</td>\n",
       "      <td>[0, 46994, 47629, 35, 234, 73, 250, 50118, 29038, 11244, 13310, 35, 234, 73, 250, 50118, 38261, 9, 27690, 35, 14643, 658, 1001, 22132, 4729, 487, 4, 50121, 50118, 50118, 35351, 9, 5828, 35, 14643, 658, 1001, 22132, 64, 28, 551, 25, 956, 13, 2400, 3500, 4, 50118, 2]</td>\n",
       "      <td>49</td>\n",
       "    </tr>\n",
       "    <tr>\n",
       "      <th>1025</th>\n",
       "      <td>1025</td>\n",
       "      <td>ALLERGY</td>\n",
       "      <td>Symptoms: N/A\\r\\nDiagnosis: N/A\\r\\nHistory of Patient: No known drug allergies.\\r\\nPlan of Action: N/A\\r\\n</td>\n",
       "      <td>Doctor: Any known drug allergies? \\nPatient: Nope, none whatsoever.</td>\n",
       "      <td>[0, 41152, 35, 5053, 684, 1262, 26331, 116, 1437, 50118, 18276, 4843, 35, 37712, 6, 4146, 14778, 4, 2]</td>\n",
       "      <td>19</td>\n",
       "      <td>[0, 46994, 47629, 35, 234, 73, 250, 50121, 50118, 29038, 11244, 13310, 35, 234, 73, 250, 50121, 50118, 38261, 9, 27690, 35, 440, 684, 1262, 26331, 4, 50121, 50118, 35351, 9, 5828, 35, 234, 73, 250, 50121, 50118, 2]</td>\n",
       "      <td>39</td>\n",
       "    </tr>\n",
       "    <tr>\n",
       "      <th>1048</th>\n",
       "      <td>1048</td>\n",
       "      <td>FAM/SOCHX</td>\n",
       "      <td>Symptoms: N/A\\r\\nDiagnosis: N/A\\r\\nHistory of Patient: The patient is a smoker.\\r\\n\\r\\nPlan of Action: N/A\\r\\n</td>\n",
       "      <td>Doctor: Do you smoke cigarettes?\\nPatient: Yes.</td>\n",
       "      <td>[0, 41152, 35, 1832, 47, 4603, 14407, 116, 50118, 18276, 4843, 35, 3216, 4, 2]</td>\n",
       "      <td>15</td>\n",
       "      <td>[0, 46994, 47629, 35, 234, 73, 250, 50121, 50118, 29038, 11244, 13310, 35, 234, 73, 250, 50121, 50118, 38261, 9, 27690, 35, 20, 3186, 16, 10, 40345, 4, 50121, 50118, 50121, 50118, 35351, 9, 5828, 35, 234, 73, 250, 50121, 50118, 2]</td>\n",
       "      <td>42</td>\n",
       "    </tr>\n",
       "    <tr>\n",
       "      <th>1173</th>\n",
       "      <td>1173</td>\n",
       "      <td>FAM/SOCHX</td>\n",
       "      <td>Symptoms: N/A\\r\\nDiagnosis: N/A\\r\\nHistory of Patient: N/A\\r\\nPlan of Action: Noncontributory.\\r\\n</td>\n",
       "      <td>Doctor: Do thyroid problems run in your family?\\nPatient: No.</td>\n",
       "      <td>[0, 41152, 35, 1832, 33670, 1272, 422, 11, 110, 284, 116, 50118, 18276, 4843, 35, 440, 4, 2]</td>\n",
       "      <td>18</td>\n",
       "      <td>[0, 46994, 47629, 35, 234, 73, 250, 50121, 50118, 29038, 11244, 13310, 35, 234, 73, 250, 50121, 50118, 38261, 9, 27690, 35, 234, 73, 250, 50121, 50118, 35351, 9, 5828, 35, 6965, 10800, 24008, 4405, 4, 50121, 50118, 2]</td>\n",
       "      <td>39</td>\n",
       "    </tr>\n",
       "    <tr>\n",
       "      <th>1281</th>\n",
       "      <td>80</td>\n",
       "      <td>PASTSURGICAL</td>\n",
       "      <td>Symptoms: N/A\\nDiagnosis: N/A\\nHistory of Complaint: No Past Surgeries\\nPlan of Action: N/A\\n</td>\n",
       "      <td>Doctor: Any past surgeries? \\nPatient: Nah.</td>\n",
       "      <td>[0, 41152, 35, 5053, 375, 15948, 116, 1437, 50118, 18276, 4843, 35, 22851, 4, 2]</td>\n",
       "      <td>15</td>\n",
       "      <td>[0, 46994, 47629, 35, 234, 73, 250, 50118, 29038, 11244, 13310, 35, 234, 73, 250, 50118, 38261, 9, 20722, 12042, 35, 440, 11182, 6544, 46381, 50118, 35351, 9, 5828, 35, 234, 73, 250, 50118, 2]</td>\n",
       "      <td>35</td>\n",
       "    </tr>\n",
       "    <tr>\n",
       "      <th>1289</th>\n",
       "      <td>88</td>\n",
       "      <td>ALLERGY</td>\n",
       "      <td>Symptoms: N/A\\nDiagnosis: N/A\\nHistory of Complaint: No known medication intolerances\\nPlan of Action: N/A\\n</td>\n",
       "      <td>Doctor: Any medication intolerances? \\nPatient: No.</td>\n",
       "      <td>[0, 41152, 35, 5053, 8456, 39348, 5332, 116, 1437, 50118, 18276, 4843, 35, 440, 4, 2]</td>\n",
       "      <td>16</td>\n",
       "      <td>[0, 46994, 47629, 35, 234, 73, 250, 50118, 29038, 11244, 13310, 35, 234, 73, 250, 50118, 38261, 9, 20722, 12042, 35, 440, 684, 8456, 39348, 5332, 50118, 35351, 9, 5828, 35, 234, 73, 250, 50118, 2]</td>\n",
       "      <td>36</td>\n",
       "    </tr>\n",
       "  </tbody>\n",
       "</table>\n",
       "</div>"
      ],
      "text/plain": [
       "        ID section_header  \\\n",
       "7        7        ALLERGY   \n",
       "19      19    MEDICATIONS   \n",
       "104    104        ALLERGY   \n",
       "127    127        ALLERGY   \n",
       "147    147  PASTMEDICALHX   \n",
       "229    229     PROCEDURES   \n",
       "238    238    MEDICATIONS   \n",
       "299    299        ALLERGY   \n",
       "435    435      FAM/SOCHX   \n",
       "460    460        ALLERGY   \n",
       "575    575        ALLERGY   \n",
       "595    595   PASTSURGICAL   \n",
       "747    747            ROS   \n",
       "753    753        ALLERGY   \n",
       "777    777    MEDICATIONS   \n",
       "883    883        ALLERGY   \n",
       "904    904   PASTSURGICAL   \n",
       "916    916    MEDICATIONS   \n",
       "921    921  PASTMEDICALHX   \n",
       "926    926        ALLERGY   \n",
       "952    952   PASTSURGICAL   \n",
       "959    959      FAM/SOCHX   \n",
       "1000  1000  PASTMEDICALHX   \n",
       "1013  1013    MEDICATIONS   \n",
       "1025  1025        ALLERGY   \n",
       "1048  1048      FAM/SOCHX   \n",
       "1173  1173      FAM/SOCHX   \n",
       "1281    80   PASTSURGICAL   \n",
       "1289    88        ALLERGY   \n",
       "\n",
       "                                                                                                                                    section_text  \\\n",
       "7                                  Symptoms: N/A.\\r\\nDiagnosis: N/A.\\r\\nHistory of Patient: No known drug allergies.\\r\\nPlan of Action: N/A.\\r\\n   \n",
       "19                                                             Symptoms: N/A.\\nDiagnosis: N/A.\\nHistory of Patient: N/A.\\nPlan of Action: N/A.\\n   \n",
       "104                                                    Symptoms: N/A.\\r\\nDiagnosis: N/A.\\r\\nHistory of Patient: N/A.\\r\\nPlan of Action: N/A.\\r\\n   \n",
       "127                                            Symptoms: N/A.\\r\\nDiagnosis: N/A.\\r\\nHistory of Patient: No allergies\\r\\nPlan of Action: N/A.\\r\\n   \n",
       "147                                                    Symptoms: N/A.\\r\\nDiagnosis: N/A.\\r\\nHistory of Patient: N/A.\\r\\nPlan of Action: N/A.\\r\\n   \n",
       "229                                                      Symptoms: N/A\\r\\nDiagnosis: N/A\\r\\nHistory of Patient: None\\r\\nPlan of Action: N/A\\r\\n.   \n",
       "238                                                       Symptoms: N/A\\r\\nDiagnosis: N/A\\r\\nHistory of Patient: None\\r\\nPlan of Action: N/A\\r\\n   \n",
       "299                                                        Symptoms: N/A\\r\\nDiagnosis: N/A\\r\\nHistory of Patient: N/A\\r\\nPlan of Action: N/A\\r\\n   \n",
       "435                              Symptoms: N/A.\\r\\nDiagnosis: N/A.\\r\\nHistory of Patient: No tobacco or alcohol use.\\r\\nPlan Of Action: N/A.\\r\\n   \n",
       "460                                Symptoms: N/A.\\r\\nDiagnosis: N/A.\\r\\nHistory of Patient: No known drug allergies.\\r\\nPlan Of Action: N/A.\\r\\n   \n",
       "575                                Symptoms: N/A.\\r\\nDiagnosis: N/A.\\r\\nHistory of Patient: No known drug allergies.\\r\\nPlan of Action: N/A.\\r\\n   \n",
       "595                              Symptoms: N/A.\\r\\nDiagnosis: N/A.\\r\\nHistory of Patient: Denies any past surgeries.\\r\\nPlan of Action: N/A.\\r\\n   \n",
       "747                              Symptoms: No nausea, vomiting, diarrhea\\r\\nDiagnosis: N/A\\r\\nHistory of Patient: N/A\\r\\nPlan of Action: N/A\\r\\n   \n",
       "753                                                       Symptoms: N/A\\r\\nDiagnosis: N/A\\r\\nHistory of Patient: N/A\\r\\nPlan of Action: None\\r\\n   \n",
       "777                                                        Symptoms: N/A\\r\\nDiagnosis: N/A\\r\\nHistory of Patient: N/A\\r\\nPlan of Action: N/A\\r\\n   \n",
       "883                                                            Symptoms: N/A\\r\\nDiagnosis: N/A\\r\\nHistory of Patient: N/A\\r\\nPlan of Action: N/A   \n",
       "904                                       Symptoms: N/A\\r\\nDiagnosis: N/A\\r\\nHistory of Patient: negative for any surgery\\r\\nPlan of Action: N/A   \n",
       "916                                                            Symptoms: N/A\\r\\nDiagnosis: N/A\\r\\nHistory of Patient: N/A\\r\\nPlan of Action: N/A   \n",
       "921                                                            Symptoms: N/A\\r\\nDiagnosis: N/A\\r\\nHistory of Patient: N/A\\r\\nPlan of Action: N/A   \n",
       "926                                                           Symptoms: N/A\\r\\nDiagnosis: N/A\\r\\nHistory of Patient: None\\r\\nPlan of Action: N/A   \n",
       "952                                                            Symptoms: N/A\\r\\nDiagnosis: N/A\\r\\nHistory of Patient: N/A\\r\\nPlan of Action: N/A   \n",
       "959                                                            Symptoms: N/A\\r\\nDiagnosis: N/A\\r\\nHistory of Patient: N/A\\r\\nPlan of Action: N/A   \n",
       "1000                                            Symptoms: N/A\\r\\nDiagnosis: Nonsignificant\\r\\nHistory of Patient: N/A\\r\\nPlan of Action: N/A\\r\\n   \n",
       "1013  Symptoms: N/A\\nDiagnosis: N/A\\nHistory of Patient: Ibuprofen PRN.\\r\\n\\nPlan of Action: Ibuprofen can be taken as needed for pain relief.\\n   \n",
       "1025                                  Symptoms: N/A\\r\\nDiagnosis: N/A\\r\\nHistory of Patient: No known drug allergies.\\r\\nPlan of Action: N/A\\r\\n   \n",
       "1048                              Symptoms: N/A\\r\\nDiagnosis: N/A\\r\\nHistory of Patient: The patient is a smoker.\\r\\n\\r\\nPlan of Action: N/A\\r\\n   \n",
       "1173                                          Symptoms: N/A\\r\\nDiagnosis: N/A\\r\\nHistory of Patient: N/A\\r\\nPlan of Action: Noncontributory.\\r\\n   \n",
       "1281                                               Symptoms: N/A\\nDiagnosis: N/A\\nHistory of Complaint: No Past Surgeries\\nPlan of Action: N/A\\n   \n",
       "1289                                Symptoms: N/A\\nDiagnosis: N/A\\nHistory of Complaint: No known medication intolerances\\nPlan of Action: N/A\\n   \n",
       "\n",
       "                                                                        dialogue  \\\n",
       "7                                Doctor: Any know drug allergies? \\nPatient: No.   \n",
       "19            Doctor: Is he currently taking any medication? \\nGuest_family: No.   \n",
       "104                             Doctor: Any known drug allergies? \\nPatient: No.   \n",
       "127                         Doctor: Are you allergic to anything? \\nPatient: No.   \n",
       "147                 Doctor: Do you have any past medical history? \\nPatient: No.   \n",
       "229               Doctor: Have you had any procedures in the past?\\nPatient: No.   \n",
       "238   Doctor: Do you take any daily medications or supplements? \\nPatient: Nope.   \n",
       "299           Doctor: Does he have any known drug allergies? \\nGuest_family: No.   \n",
       "435                       Doctor: Do you smoke or drink alcohol?\\nPatient: Nope.   \n",
       "460                                   Doctor: Any drug allergies? \\nPatient: No.   \n",
       "575                 Doctor: How about allergies to medications? \\nPatient: Nope.   \n",
       "595                  Doctor: Did you had any surgery in the past? \\nPatient: No.   \n",
       "747                    Doctor: Any nausea, vomiting or diarrhea?\\nPatient: Nope.   \n",
       "753                   Doctor: Are you allergic to any medications? \\nPatient: No   \n",
       "777             Doctor: Are you currently taking any medications? \\nPatient: No.   \n",
       "883                                  Doctor: Any known allergies? \\nPatient: No.   \n",
       "904                         Doctor: Did you ever have any surgery?\\nPatient: No.   \n",
       "916                          Doctor: Are you taking any medicine? \\nPatient: No.   \n",
       "921                     Doctor: Did you have any medical issues?\\nPatient: Nope.   \n",
       "926                 Doctor: Do you have any known drug allergies? \\nPatient: No.   \n",
       "952                Doctor: Did you have any surgeries in the past?\\nPatient: No.   \n",
       "959                                Doctor: Smoke or drink? \\nPatient: No and no.   \n",
       "1000                            Doctor: Any past medical history? \\nPatient: No.   \n",
       "1013                          Doctor: You can take Ibuprofen as needed for pain.   \n",
       "1025         Doctor: Any known drug allergies? \\nPatient: Nope, none whatsoever.   \n",
       "1048                             Doctor: Do you smoke cigarettes?\\nPatient: Yes.   \n",
       "1173               Doctor: Do thyroid problems run in your family?\\nPatient: No.   \n",
       "1281                                 Doctor: Any past surgeries? \\nPatient: Nah.   \n",
       "1289                         Doctor: Any medication intolerances? \\nPatient: No.   \n",
       "\n",
       "                                                                                                       input_ids  \\\n",
       "7                           [0, 41152, 35, 5053, 216, 1262, 26331, 116, 1437, 50118, 18276, 4843, 35, 440, 4, 2]   \n",
       "19            [0, 41152, 35, 1534, 37, 855, 602, 143, 8456, 116, 1437, 50118, 45721, 1215, 12368, 35, 440, 4, 2]   \n",
       "104                         [0, 41152, 35, 5053, 684, 1262, 26331, 116, 1437, 50118, 18276, 4843, 35, 440, 4, 2]   \n",
       "127                        [0, 41152, 35, 3945, 47, 28349, 7, 932, 116, 1437, 50118, 18276, 4843, 35, 440, 4, 2]   \n",
       "147              [0, 41152, 35, 1832, 47, 33, 143, 375, 1131, 750, 116, 1437, 50118, 18276, 4843, 35, 440, 4, 2]   \n",
       "229                  [0, 41152, 35, 6319, 47, 56, 143, 6196, 11, 5, 375, 116, 50118, 18276, 4843, 35, 440, 4, 2]   \n",
       "238   [0, 41152, 35, 1832, 47, 185, 143, 1230, 12102, 50, 19619, 116, 1437, 50118, 18276, 4843, 35, 37712, 4, 2]   \n",
       "299     [0, 41152, 35, 8901, 37, 33, 143, 684, 1262, 26331, 116, 1437, 50118, 45721, 1215, 12368, 35, 440, 4, 2]   \n",
       "435                     [0, 41152, 35, 1832, 47, 4603, 50, 4076, 3766, 116, 50118, 18276, 4843, 35, 37712, 4, 2]   \n",
       "460                              [0, 41152, 35, 5053, 1262, 26331, 116, 1437, 50118, 18276, 4843, 35, 440, 4, 2]   \n",
       "575                    [0, 41152, 35, 1336, 59, 26331, 7, 12102, 116, 1437, 50118, 18276, 4843, 35, 37712, 4, 2]   \n",
       "595            [0, 41152, 35, 6553, 47, 56, 143, 3012, 11, 5, 375, 116, 1437, 50118, 18276, 4843, 35, 440, 4, 2]   \n",
       "747                   [0, 41152, 35, 5053, 27214, 6, 23600, 50, 28657, 116, 50118, 18276, 4843, 35, 37712, 4, 2]   \n",
       "753                    [0, 41152, 35, 3945, 47, 28349, 7, 143, 12102, 116, 1437, 50118, 18276, 4843, 35, 440, 2]   \n",
       "777                 [0, 41152, 35, 3945, 47, 855, 602, 143, 12102, 116, 1437, 50118, 18276, 4843, 35, 440, 4, 2]   \n",
       "883                               [0, 41152, 35, 5053, 684, 26331, 116, 1437, 50118, 18276, 4843, 35, 440, 4, 2]   \n",
       "904                         [0, 41152, 35, 6553, 47, 655, 33, 143, 3012, 116, 50118, 18276, 4843, 35, 440, 4, 2]   \n",
       "916                       [0, 41152, 35, 3945, 47, 602, 143, 6150, 116, 1437, 50118, 18276, 4843, 35, 440, 4, 2]   \n",
       "921                       [0, 41152, 35, 6553, 47, 33, 143, 1131, 743, 116, 50118, 18276, 4843, 35, 37712, 4, 2]   \n",
       "926            [0, 41152, 35, 1832, 47, 33, 143, 684, 1262, 26331, 116, 1437, 50118, 18276, 4843, 35, 440, 4, 2]   \n",
       "952                 [0, 41152, 35, 6553, 47, 33, 143, 15948, 11, 5, 375, 116, 50118, 18276, 4843, 35, 440, 4, 2]   \n",
       "959                        [0, 41152, 35, 21389, 50, 4076, 116, 1437, 50118, 18276, 4843, 35, 440, 8, 117, 4, 2]   \n",
       "1000                          [0, 41152, 35, 5053, 375, 1131, 750, 116, 1437, 50118, 18276, 4843, 35, 440, 4, 2]   \n",
       "1013                              [0, 41152, 35, 370, 64, 185, 14643, 658, 1001, 22132, 25, 956, 13, 2400, 4, 2]   \n",
       "1025      [0, 41152, 35, 5053, 684, 1262, 26331, 116, 1437, 50118, 18276, 4843, 35, 37712, 6, 4146, 14778, 4, 2]   \n",
       "1048                              [0, 41152, 35, 1832, 47, 4603, 14407, 116, 50118, 18276, 4843, 35, 3216, 4, 2]   \n",
       "1173                [0, 41152, 35, 1832, 33670, 1272, 422, 11, 110, 284, 116, 50118, 18276, 4843, 35, 440, 4, 2]   \n",
       "1281                            [0, 41152, 35, 5053, 375, 15948, 116, 1437, 50118, 18276, 4843, 35, 22851, 4, 2]   \n",
       "1289                       [0, 41152, 35, 5053, 8456, 39348, 5332, 116, 1437, 50118, 18276, 4843, 35, 440, 4, 2]   \n",
       "\n",
       "      input_token_len  \\\n",
       "7                  16   \n",
       "19                 19   \n",
       "104                16   \n",
       "127                17   \n",
       "147                19   \n",
       "229                19   \n",
       "238                20   \n",
       "299                20   \n",
       "435                17   \n",
       "460                15   \n",
       "575                17   \n",
       "595                20   \n",
       "747                17   \n",
       "753                17   \n",
       "777                18   \n",
       "883                15   \n",
       "904                17   \n",
       "916                17   \n",
       "921                17   \n",
       "926                19   \n",
       "952                19   \n",
       "959                17   \n",
       "1000               16   \n",
       "1013               16   \n",
       "1025               19   \n",
       "1048               15   \n",
       "1173               18   \n",
       "1281               15   \n",
       "1289               16   \n",
       "\n",
       "                                                                                                                                                                                                                                                                         labels  \\\n",
       "7                                               [0, 46994, 47629, 35, 234, 73, 250, 4, 50121, 50118, 29038, 11244, 13310, 35, 234, 73, 250, 4, 50121, 50118, 38261, 9, 27690, 35, 440, 684, 1262, 26331, 4, 50121, 50118, 35351, 9, 5828, 35, 234, 73, 250, 4, 50121, 50118, 2]   \n",
       "19                                                                                   [0, 46994, 47629, 35, 234, 73, 250, 4, 50118, 29038, 11244, 13310, 35, 234, 73, 250, 4, 50118, 38261, 9, 27690, 35, 234, 73, 250, 4, 50118, 35351, 9, 5828, 35, 234, 73, 250, 4, 50118, 2]   \n",
       "104                                                      [0, 46994, 47629, 35, 234, 73, 250, 4, 50121, 50118, 29038, 11244, 13310, 35, 234, 73, 250, 4, 50121, 50118, 38261, 9, 27690, 35, 234, 73, 250, 4, 50121, 50118, 35351, 9, 5828, 35, 234, 73, 250, 4, 50121, 50118, 2]   \n",
       "127                                                           [0, 46994, 47629, 35, 234, 73, 250, 4, 50121, 50118, 29038, 11244, 13310, 35, 234, 73, 250, 4, 50121, 50118, 38261, 9, 27690, 35, 440, 26331, 50121, 50118, 35351, 9, 5828, 35, 234, 73, 250, 4, 50121, 50118, 2]   \n",
       "147                                                      [0, 46994, 47629, 35, 234, 73, 250, 4, 50121, 50118, 29038, 11244, 13310, 35, 234, 73, 250, 4, 50121, 50118, 38261, 9, 27690, 35, 234, 73, 250, 4, 50121, 50118, 35351, 9, 5828, 35, 234, 73, 250, 4, 50121, 50118, 2]   \n",
       "229                                                                       [0, 46994, 47629, 35, 234, 73, 250, 50121, 50118, 29038, 11244, 13310, 35, 234, 73, 250, 50121, 50118, 38261, 9, 27690, 35, 9291, 50121, 50118, 35351, 9, 5828, 35, 234, 73, 250, 50121, 50118, 4, 2]   \n",
       "238                                                                          [0, 46994, 47629, 35, 234, 73, 250, 50121, 50118, 29038, 11244, 13310, 35, 234, 73, 250, 50121, 50118, 38261, 9, 27690, 35, 9291, 50121, 50118, 35351, 9, 5828, 35, 234, 73, 250, 50121, 50118, 2]   \n",
       "299                                                                  [0, 46994, 47629, 35, 234, 73, 250, 50121, 50118, 29038, 11244, 13310, 35, 234, 73, 250, 50121, 50118, 38261, 9, 27690, 35, 234, 73, 250, 50121, 50118, 35351, 9, 5828, 35, 234, 73, 250, 50121, 50118, 2]   \n",
       "435                                       [0, 46994, 47629, 35, 234, 73, 250, 4, 50121, 50118, 29038, 11244, 13310, 35, 234, 73, 250, 4, 50121, 50118, 38261, 9, 27690, 35, 440, 9681, 50, 3766, 304, 4, 50121, 50118, 35351, 1525, 5828, 35, 234, 73, 250, 4, 50121, 50118, 2]   \n",
       "460                                          [0, 46994, 47629, 35, 234, 73, 250, 4, 50121, 50118, 29038, 11244, 13310, 35, 234, 73, 250, 4, 50121, 50118, 38261, 9, 27690, 35, 440, 684, 1262, 26331, 4, 50121, 50118, 35351, 1525, 5828, 35, 234, 73, 250, 4, 50121, 50118, 2]   \n",
       "575                                             [0, 46994, 47629, 35, 234, 73, 250, 4, 50121, 50118, 29038, 11244, 13310, 35, 234, 73, 250, 4, 50121, 50118, 38261, 9, 27690, 35, 440, 684, 1262, 26331, 4, 50121, 50118, 35351, 9, 5828, 35, 234, 73, 250, 4, 50121, 50118, 2]   \n",
       "595                                        [0, 46994, 47629, 35, 234, 73, 250, 4, 50121, 50118, 29038, 11244, 13310, 35, 234, 73, 250, 4, 50121, 50118, 38261, 9, 27690, 35, 6743, 918, 143, 375, 15948, 4, 50121, 50118, 35351, 9, 5828, 35, 234, 73, 250, 4, 50121, 50118, 2]   \n",
       "747                                                [0, 46994, 47629, 35, 440, 27214, 6, 23600, 6, 28657, 50121, 50118, 29038, 11244, 13310, 35, 234, 73, 250, 50121, 50118, 38261, 9, 27690, 35, 234, 73, 250, 50121, 50118, 35351, 9, 5828, 35, 234, 73, 250, 50121, 50118, 2]   \n",
       "753                                                                          [0, 46994, 47629, 35, 234, 73, 250, 50121, 50118, 29038, 11244, 13310, 35, 234, 73, 250, 50121, 50118, 38261, 9, 27690, 35, 234, 73, 250, 50121, 50118, 35351, 9, 5828, 35, 9291, 50121, 50118, 2]   \n",
       "777                                                                  [0, 46994, 47629, 35, 234, 73, 250, 50121, 50118, 29038, 11244, 13310, 35, 234, 73, 250, 50121, 50118, 38261, 9, 27690, 35, 234, 73, 250, 50121, 50118, 35351, 9, 5828, 35, 234, 73, 250, 50121, 50118, 2]   \n",
       "883                                                                                [0, 46994, 47629, 35, 234, 73, 250, 50121, 50118, 29038, 11244, 13310, 35, 234, 73, 250, 50121, 50118, 38261, 9, 27690, 35, 234, 73, 250, 50121, 50118, 35351, 9, 5828, 35, 234, 73, 250, 2]   \n",
       "904                                                                         [0, 46994, 47629, 35, 234, 73, 250, 50121, 50118, 29038, 11244, 13310, 35, 234, 73, 250, 50121, 50118, 38261, 9, 27690, 35, 2430, 13, 143, 3012, 50121, 50118, 35351, 9, 5828, 35, 234, 73, 250, 2]   \n",
       "916                                                                                [0, 46994, 47629, 35, 234, 73, 250, 50121, 50118, 29038, 11244, 13310, 35, 234, 73, 250, 50121, 50118, 38261, 9, 27690, 35, 234, 73, 250, 50121, 50118, 35351, 9, 5828, 35, 234, 73, 250, 2]   \n",
       "921                                                                                [0, 46994, 47629, 35, 234, 73, 250, 50121, 50118, 29038, 11244, 13310, 35, 234, 73, 250, 50121, 50118, 38261, 9, 27690, 35, 234, 73, 250, 50121, 50118, 35351, 9, 5828, 35, 234, 73, 250, 2]   \n",
       "926                                                                                        [0, 46994, 47629, 35, 234, 73, 250, 50121, 50118, 29038, 11244, 13310, 35, 234, 73, 250, 50121, 50118, 38261, 9, 27690, 35, 9291, 50121, 50118, 35351, 9, 5828, 35, 234, 73, 250, 2]   \n",
       "952                                                                                [0, 46994, 47629, 35, 234, 73, 250, 50121, 50118, 29038, 11244, 13310, 35, 234, 73, 250, 50121, 50118, 38261, 9, 27690, 35, 234, 73, 250, 50121, 50118, 35351, 9, 5828, 35, 234, 73, 250, 2]   \n",
       "959                                                                                [0, 46994, 47629, 35, 234, 73, 250, 50121, 50118, 29038, 11244, 13310, 35, 234, 73, 250, 50121, 50118, 38261, 9, 27690, 35, 234, 73, 250, 50121, 50118, 35351, 9, 5828, 35, 234, 73, 250, 2]   \n",
       "1000                                                       [0, 46994, 47629, 35, 234, 73, 250, 50121, 50118, 29038, 11244, 13310, 35, 234, 1790, 4932, 44358, 50121, 50118, 38261, 9, 27690, 35, 234, 73, 250, 50121, 50118, 35351, 9, 5828, 35, 234, 73, 250, 50121, 50118, 2]   \n",
       "1013  [0, 46994, 47629, 35, 234, 73, 250, 50118, 29038, 11244, 13310, 35, 234, 73, 250, 50118, 38261, 9, 27690, 35, 14643, 658, 1001, 22132, 4729, 487, 4, 50121, 50118, 50118, 35351, 9, 5828, 35, 14643, 658, 1001, 22132, 64, 28, 551, 25, 956, 13, 2400, 3500, 4, 50118, 2]   \n",
       "1025                                                     [0, 46994, 47629, 35, 234, 73, 250, 50121, 50118, 29038, 11244, 13310, 35, 234, 73, 250, 50121, 50118, 38261, 9, 27690, 35, 440, 684, 1262, 26331, 4, 50121, 50118, 35351, 9, 5828, 35, 234, 73, 250, 50121, 50118, 2]   \n",
       "1048                                     [0, 46994, 47629, 35, 234, 73, 250, 50121, 50118, 29038, 11244, 13310, 35, 234, 73, 250, 50121, 50118, 38261, 9, 27690, 35, 20, 3186, 16, 10, 40345, 4, 50121, 50118, 50121, 50118, 35351, 9, 5828, 35, 234, 73, 250, 50121, 50118, 2]   \n",
       "1173                                                  [0, 46994, 47629, 35, 234, 73, 250, 50121, 50118, 29038, 11244, 13310, 35, 234, 73, 250, 50121, 50118, 38261, 9, 27690, 35, 234, 73, 250, 50121, 50118, 35351, 9, 5828, 35, 6965, 10800, 24008, 4405, 4, 50121, 50118, 2]   \n",
       "1281                                                                           [0, 46994, 47629, 35, 234, 73, 250, 50118, 29038, 11244, 13310, 35, 234, 73, 250, 50118, 38261, 9, 20722, 12042, 35, 440, 11182, 6544, 46381, 50118, 35351, 9, 5828, 35, 234, 73, 250, 50118, 2]   \n",
       "1289                                                                       [0, 46994, 47629, 35, 234, 73, 250, 50118, 29038, 11244, 13310, 35, 234, 73, 250, 50118, 38261, 9, 20722, 12042, 35, 440, 684, 8456, 39348, 5332, 50118, 35351, 9, 5828, 35, 234, 73, 250, 50118, 2]   \n",
       "\n",
       "      output_token_len  \n",
       "7                   42  \n",
       "19                  37  \n",
       "104                 41  \n",
       "127                 39  \n",
       "147                 41  \n",
       "229                 36  \n",
       "238                 35  \n",
       "299                 37  \n",
       "435                 43  \n",
       "460                 42  \n",
       "575                 42  \n",
       "595                 43  \n",
       "747                 40  \n",
       "753                 35  \n",
       "777                 37  \n",
       "883                 35  \n",
       "904                 36  \n",
       "916                 35  \n",
       "921                 35  \n",
       "926                 33  \n",
       "952                 35  \n",
       "959                 35  \n",
       "1000                38  \n",
       "1013                49  \n",
       "1025                39  \n",
       "1048                42  \n",
       "1173                39  \n",
       "1281                35  \n",
       "1289                36  "
      ]
     },
     "execution_count": 161,
     "metadata": {},
     "output_type": "execute_result"
    }
   ],
   "source": [
    "print(ds_df[ds_df['input_token_len'] <= 20].loc[:,['input_token_len', 'output_token_len']].describe())\n",
    "ds_df[ds_df['input_token_len'] <= 20]"
   ]
  },
  {
   "cell_type": "markdown",
   "id": "7572d1ce-1e8c-4140-894c-ea9be4d9bbd9",
   "metadata": {},
   "source": [
    "#### <u>Input Length > 20, <= 30</u>"
   ]
  },
  {
   "cell_type": "code",
   "execution_count": 162,
   "id": "ae232649-dd4f-4797-9cbd-145e242a7a84",
   "metadata": {},
   "outputs": [
    {
     "name": "stdout",
     "output_type": "stream",
     "text": [
      "       input_token_len  output_token_len\n",
      "count        75.000000         75.000000\n",
      "mean         25.133333         38.960000\n",
      "std           2.867965          4.375732\n",
      "min          21.000000         33.000000\n",
      "25%          23.000000         37.000000\n",
      "50%          25.000000         38.000000\n",
      "75%          27.000000         41.000000\n",
      "max          30.000000         57.000000\n"
     ]
    },
    {
     "data": {
      "text/html": [
       "<div>\n",
       "<style scoped>\n",
       "    .dataframe tbody tr th:only-of-type {\n",
       "        vertical-align: middle;\n",
       "    }\n",
       "\n",
       "    .dataframe tbody tr th {\n",
       "        vertical-align: top;\n",
       "    }\n",
       "\n",
       "    .dataframe thead th {\n",
       "        text-align: right;\n",
       "    }\n",
       "</style>\n",
       "<table border=\"1\" class=\"dataframe\">\n",
       "  <thead>\n",
       "    <tr style=\"text-align: right;\">\n",
       "      <th></th>\n",
       "      <th>ID</th>\n",
       "      <th>section_header</th>\n",
       "      <th>section_text</th>\n",
       "      <th>dialogue</th>\n",
       "      <th>input_ids</th>\n",
       "      <th>input_token_len</th>\n",
       "      <th>labels</th>\n",
       "      <th>output_token_len</th>\n",
       "    </tr>\n",
       "  </thead>\n",
       "  <tbody>\n",
       "    <tr>\n",
       "      <th>27</th>\n",
       "      <td>27</td>\n",
       "      <td>ALLERGY</td>\n",
       "      <td>Symptoms: N/A.\\nDiagnosis: N/A.\\nHistory of Patient: N/A.\\nPlan of Action: N/A.\\n</td>\n",
       "      <td>Doctor: Any allergies I should know about? \\nPatient: Nope, no allergies for me.</td>\n",
       "      <td>[0, 41152, 35, 5053, 26331, 38, 197, 216, 59, 116, 1437, 50118, 18276, 4843, 35, 37712, 6, 117, 26331, 13, 162, 4, 2]</td>\n",
       "      <td>23</td>\n",
       "      <td>[0, 46994, 47629, 35, 234, 73, 250, 4, 50118, 29038, 11244, 13310, 35, 234, 73, 250, 4, 50118, 38261, 9, 27690, 35, 234, 73, 250, 4, 50118, 35351, 9, 5828, 35, 234, 73, 250, 4, 50118, 2]</td>\n",
       "      <td>37</td>\n",
       "    </tr>\n",
       "    <tr>\n",
       "      <th>58</th>\n",
       "      <td>58</td>\n",
       "      <td>PASTSURGICAL</td>\n",
       "      <td>Symptoms: None reported.\\r\\nDiagnosis: None.\\r\\nHistory of Patient: Patient denies any past mental illness or psychological disease.\\r\\nPlan of Action: No immediate action required regarding mental health.</td>\n",
       "      <td>Doctor: Do you have a history of mental illness or psychological disease? \\nPatient: No.</td>\n",
       "      <td>[0, 41152, 35, 1832, 47, 33, 10, 750, 9, 2536, 5467, 50, 10947, 2199, 116, 1437, 50118, 18276, 4843, 35, 440, 4, 2]</td>\n",
       "      <td>23</td>\n",
       "      <td>[0, 46994, 47629, 35, 9291, 431, 4, 50121, 50118, 29038, 11244, 13310, 35, 9291, 4, 50121, 50118, 38261, 9, 27690, 35, 27690, 9118, 143, 375, 2536, 5467, 50, 10947, 2199, 4, 50121, 50118, 35351, 9, 5828, 35, 440, 3169, 814, 1552, 2624, 2536, 474, 4, 2]</td>\n",
       "      <td>46</td>\n",
       "    </tr>\n",
       "    <tr>\n",
       "      <th>107</th>\n",
       "      <td>107</td>\n",
       "      <td>FAM/SOCHX</td>\n",
       "      <td>Symptoms: N/A.\\r\\nDiagnosis: N/A.\\r\\nHistory of Patient: N/A.\\r\\nPlan of Action: N/A.\\r\\n</td>\n",
       "      <td>Doctor: Do you know anyone in your family whose had cancer? \\nPatient: No one that I know.</td>\n",
       "      <td>[0, 41152, 35, 1832, 47, 216, 1268, 11, 110, 284, 1060, 56, 1668, 116, 1437, 50118, 18276, 4843, 35, 440, 65, 14, 38, 216, 4, 2]</td>\n",
       "      <td>26</td>\n",
       "      <td>[0, 46994, 47629, 35, 234, 73, 250, 4, 50121, 50118, 29038, 11244, 13310, 35, 234, 73, 250, 4, 50121, 50118, 38261, 9, 27690, 35, 234, 73, 250, 4, 50121, 50118, 35351, 9, 5828, 35, 234, 73, 250, 4, 50121, 50118, 2]</td>\n",
       "      <td>41</td>\n",
       "    </tr>\n",
       "    <tr>\n",
       "      <th>109</th>\n",
       "      <td>109</td>\n",
       "      <td>MEDICATIONS</td>\n",
       "      <td>Symptoms: N/A.\\r\\nDiagnosis: N/A.\\r\\nHistory of Patient: N/A.\\r\\nPlan of Action: N/A.\\r\\n</td>\n",
       "      <td>Doctor: Are you on any medications?\\nPatient: No, not taking any medications.</td>\n",
       "      <td>[0, 41152, 35, 3945, 47, 15, 143, 12102, 116, 50118, 18276, 4843, 35, 440, 6, 45, 602, 143, 12102, 4, 2]</td>\n",
       "      <td>21</td>\n",
       "      <td>[0, 46994, 47629, 35, 234, 73, 250, 4, 50121, 50118, 29038, 11244, 13310, 35, 234, 73, 250, 4, 50121, 50118, 38261, 9, 27690, 35, 234, 73, 250, 4, 50121, 50118, 35351, 9, 5828, 35, 234, 73, 250, 4, 50121, 50118, 2]</td>\n",
       "      <td>41</td>\n",
       "    </tr>\n",
       "    <tr>\n",
       "      <th>120</th>\n",
       "      <td>120</td>\n",
       "      <td>FAM/SOCHX</td>\n",
       "      <td>Symptoms: N/A.\\r\\nDiagnosis: N/A.\\r\\nHistory of Patient: N/A.\\r\\nPlan of Action: N/A.\\r\\n</td>\n",
       "      <td>Doctor: What is your family medical history?  \\nPatient: None, that I know of.</td>\n",
       "      <td>[0, 41152, 35, 653, 16, 110, 284, 1131, 750, 116, 1437, 1437, 50118, 18276, 4843, 35, 9291, 6, 14, 38, 216, 9, 4, 2]</td>\n",
       "      <td>24</td>\n",
       "      <td>[0, 46994, 47629, 35, 234, 73, 250, 4, 50121, 50118, 29038, 11244, 13310, 35, 234, 73, 250, 4, 50121, 50118, 38261, 9, 27690, 35, 234, 73, 250, 4, 50121, 50118, 35351, 9, 5828, 35, 234, 73, 250, 4, 50121, 50118, 2]</td>\n",
       "      <td>41</td>\n",
       "    </tr>\n",
       "    <tr>\n",
       "      <th>...</th>\n",
       "      <td>...</td>\n",
       "      <td>...</td>\n",
       "      <td>...</td>\n",
       "      <td>...</td>\n",
       "      <td>...</td>\n",
       "      <td>...</td>\n",
       "      <td>...</td>\n",
       "      <td>...</td>\n",
       "    </tr>\n",
       "    <tr>\n",
       "      <th>1253</th>\n",
       "      <td>52</td>\n",
       "      <td>FAM/SOCHX</td>\n",
       "      <td>Symptoms: N/A\\nDiagnosis: N/A\\nHistory of Complaint: Denies history of tobacco, alcohol, or recreational drug use\\nPlan of Action: N/A\\n</td>\n",
       "      <td>Doctor: Do you have a history of tobacco, alcohol or recreational drug use? \\nPatient: No.</td>\n",
       "      <td>[0, 41152, 35, 1832, 47, 33, 10, 750, 9, 9681, 6, 3766, 50, 9687, 1262, 304, 116, 1437, 50118, 18276, 4843, 35, 440, 4, 2]</td>\n",
       "      <td>25</td>\n",
       "      <td>[0, 46994, 47629, 35, 234, 73, 250, 50118, 29038, 11244, 13310, 35, 234, 73, 250, 50118, 38261, 9, 20722, 12042, 35, 6743, 918, 750, 9, 9681, 6, 3766, 6, 50, 9687, 1262, 304, 50118, 35351, 9, 5828, 35, 234, 73, 250, 50118, 2]</td>\n",
       "      <td>43</td>\n",
       "    </tr>\n",
       "    <tr>\n",
       "      <th>1265</th>\n",
       "      <td>64</td>\n",
       "      <td>PASTSURGICAL</td>\n",
       "      <td>Symptoms: N/A\\nDiagnosis: N/A\\nHistory of Complaint: Significant for trauma surgery\\nPlan of Action: N/A\\n</td>\n",
       "      <td>Doctor: Did you had any surgery in the past? \\nPatient: Yes, I had this major trauma surgery some time back.</td>\n",
       "      <td>[0, 41152, 35, 6553, 47, 56, 143, 3012, 11, 5, 375, 116, 1437, 50118, 18276, 4843, 35, 3216, 6, 38, 56, 42, 538, 8795, 3012, 103, 86, 124, 4, 2]</td>\n",
       "      <td>30</td>\n",
       "      <td>[0, 46994, 47629, 35, 234, 73, 250, 50118, 29038, 11244, 13310, 35, 234, 73, 250, 50118, 38261, 9, 20722, 12042, 35, 35498, 13, 8795, 3012, 50118, 35351, 9, 5828, 35, 234, 73, 250, 50118, 2]</td>\n",
       "      <td>35</td>\n",
       "    </tr>\n",
       "    <tr>\n",
       "      <th>1271</th>\n",
       "      <td>70</td>\n",
       "      <td>ALLERGY</td>\n",
       "      <td>Symptoms: N/A\\nDiagnosis: N/A\\nHistory of Complaint: No known allergies to food or medicines\\nPlan of Action: N/A\\n</td>\n",
       "      <td>Doctor: Are you allergic to anything, food or medicines?\\nPatient: No allergies that I know of.</td>\n",
       "      <td>[0, 41152, 35, 3945, 47, 28349, 7, 932, 6, 689, 50, 12441, 116, 50118, 18276, 4843, 35, 440, 26331, 14, 38, 216, 9, 4, 2]</td>\n",
       "      <td>25</td>\n",
       "      <td>[0, 46994, 47629, 35, 234, 73, 250, 50118, 29038, 11244, 13310, 35, 234, 73, 250, 50118, 38261, 9, 20722, 12042, 35, 440, 684, 26331, 7, 689, 50, 12441, 50118, 35351, 9, 5828, 35, 234, 73, 250, 50118, 2]</td>\n",
       "      <td>38</td>\n",
       "    </tr>\n",
       "    <tr>\n",
       "      <th>1283</th>\n",
       "      <td>82</td>\n",
       "      <td>ROS</td>\n",
       "      <td>Symptoms: N/A\\nDiagnosis: N/A\\nHistory of Complaint: Otherwise negative\\nPlan of Action: N/A\\n</td>\n",
       "      <td>Doctor: I reviewed all your systems, everything looks fine. \\nPatient: Nice.</td>\n",
       "      <td>[0, 41152, 35, 38, 7123, 70, 110, 1743, 6, 960, 1326, 2051, 4, 1437, 50118, 18276, 4843, 35, 16911, 4, 2]</td>\n",
       "      <td>21</td>\n",
       "      <td>[0, 46994, 47629, 35, 234, 73, 250, 50118, 29038, 11244, 13310, 35, 234, 73, 250, 50118, 38261, 9, 20722, 12042, 35, 17592, 2430, 50118, 35351, 9, 5828, 35, 234, 73, 250, 50118, 2]</td>\n",
       "      <td>33</td>\n",
       "    </tr>\n",
       "    <tr>\n",
       "      <th>1293</th>\n",
       "      <td>92</td>\n",
       "      <td>PASTMEDICALHX</td>\n",
       "      <td>Symptoms: N/A\\nDiagnosis: N/A\\nHistory of Complaint: History of migraine\\nPlan of Action: N/A\\n</td>\n",
       "      <td>Doctor: And you mentioned that you have a history of migraine?\\nPatient: Yes, that's correct.</td>\n",
       "      <td>[0, 41152, 35, 178, 47, 2801, 14, 47, 33, 10, 750, 9, 36857, 116, 50118, 18276, 4843, 35, 3216, 6, 14, 18, 4577, 4, 2]</td>\n",
       "      <td>25</td>\n",
       "      <td>[0, 46994, 47629, 35, 234, 73, 250, 50118, 29038, 11244, 13310, 35, 234, 73, 250, 50118, 38261, 9, 20722, 12042, 35, 7298, 9, 36857, 50118, 35351, 9, 5828, 35, 234, 73, 250, 50118, 2]</td>\n",
       "      <td>34</td>\n",
       "    </tr>\n",
       "  </tbody>\n",
       "</table>\n",
       "<p>75 rows × 8 columns</p>\n",
       "</div>"
      ],
      "text/plain": [
       "       ID section_header  \\\n",
       "27     27        ALLERGY   \n",
       "58     58   PASTSURGICAL   \n",
       "107   107      FAM/SOCHX   \n",
       "109   109    MEDICATIONS   \n",
       "120   120      FAM/SOCHX   \n",
       "...   ...            ...   \n",
       "1253   52      FAM/SOCHX   \n",
       "1265   64   PASTSURGICAL   \n",
       "1271   70        ALLERGY   \n",
       "1283   82            ROS   \n",
       "1293   92  PASTMEDICALHX   \n",
       "\n",
       "                                                                                                                                                                                                       section_text  \\\n",
       "27                                                                                                                                Symptoms: N/A.\\nDiagnosis: N/A.\\nHistory of Patient: N/A.\\nPlan of Action: N/A.\\n   \n",
       "58    Symptoms: None reported.\\r\\nDiagnosis: None.\\r\\nHistory of Patient: Patient denies any past mental illness or psychological disease.\\r\\nPlan of Action: No immediate action required regarding mental health.   \n",
       "107                                                                                                                       Symptoms: N/A.\\r\\nDiagnosis: N/A.\\r\\nHistory of Patient: N/A.\\r\\nPlan of Action: N/A.\\r\\n   \n",
       "109                                                                                                                       Symptoms: N/A.\\r\\nDiagnosis: N/A.\\r\\nHistory of Patient: N/A.\\r\\nPlan of Action: N/A.\\r\\n   \n",
       "120                                                                                                                       Symptoms: N/A.\\r\\nDiagnosis: N/A.\\r\\nHistory of Patient: N/A.\\r\\nPlan of Action: N/A.\\r\\n   \n",
       "...                                                                                                                                                                                                             ...   \n",
       "1253                                                                       Symptoms: N/A\\nDiagnosis: N/A\\nHistory of Complaint: Denies history of tobacco, alcohol, or recreational drug use\\nPlan of Action: N/A\\n   \n",
       "1265                                                                                                     Symptoms: N/A\\nDiagnosis: N/A\\nHistory of Complaint: Significant for trauma surgery\\nPlan of Action: N/A\\n   \n",
       "1271                                                                                            Symptoms: N/A\\nDiagnosis: N/A\\nHistory of Complaint: No known allergies to food or medicines\\nPlan of Action: N/A\\n   \n",
       "1283                                                                                                                 Symptoms: N/A\\nDiagnosis: N/A\\nHistory of Complaint: Otherwise negative\\nPlan of Action: N/A\\n   \n",
       "1293                                                                                                                Symptoms: N/A\\nDiagnosis: N/A\\nHistory of Complaint: History of migraine\\nPlan of Action: N/A\\n   \n",
       "\n",
       "                                                                                                          dialogue  \\\n",
       "27                                Doctor: Any allergies I should know about? \\nPatient: Nope, no allergies for me.   \n",
       "58                        Doctor: Do you have a history of mental illness or psychological disease? \\nPatient: No.   \n",
       "107                     Doctor: Do you know anyone in your family whose had cancer? \\nPatient: No one that I know.   \n",
       "109                                  Doctor: Are you on any medications?\\nPatient: No, not taking any medications.   \n",
       "120                                 Doctor: What is your family medical history?  \\nPatient: None, that I know of.   \n",
       "...                                                                                                            ...   \n",
       "1253                    Doctor: Do you have a history of tobacco, alcohol or recreational drug use? \\nPatient: No.   \n",
       "1265  Doctor: Did you had any surgery in the past? \\nPatient: Yes, I had this major trauma surgery some time back.   \n",
       "1271               Doctor: Are you allergic to anything, food or medicines?\\nPatient: No allergies that I know of.   \n",
       "1283                                  Doctor: I reviewed all your systems, everything looks fine. \\nPatient: Nice.   \n",
       "1293                 Doctor: And you mentioned that you have a history of migraine?\\nPatient: Yes, that's correct.   \n",
       "\n",
       "                                                                                                                                             input_ids  \\\n",
       "27                               [0, 41152, 35, 5053, 26331, 38, 197, 216, 59, 116, 1437, 50118, 18276, 4843, 35, 37712, 6, 117, 26331, 13, 162, 4, 2]   \n",
       "58                                 [0, 41152, 35, 1832, 47, 33, 10, 750, 9, 2536, 5467, 50, 10947, 2199, 116, 1437, 50118, 18276, 4843, 35, 440, 4, 2]   \n",
       "107                   [0, 41152, 35, 1832, 47, 216, 1268, 11, 110, 284, 1060, 56, 1668, 116, 1437, 50118, 18276, 4843, 35, 440, 65, 14, 38, 216, 4, 2]   \n",
       "109                                           [0, 41152, 35, 3945, 47, 15, 143, 12102, 116, 50118, 18276, 4843, 35, 440, 6, 45, 602, 143, 12102, 4, 2]   \n",
       "120                               [0, 41152, 35, 653, 16, 110, 284, 1131, 750, 116, 1437, 1437, 50118, 18276, 4843, 35, 9291, 6, 14, 38, 216, 9, 4, 2]   \n",
       "...                                                                                                                                                ...   \n",
       "1253                        [0, 41152, 35, 1832, 47, 33, 10, 750, 9, 9681, 6, 3766, 50, 9687, 1262, 304, 116, 1437, 50118, 18276, 4843, 35, 440, 4, 2]   \n",
       "1265  [0, 41152, 35, 6553, 47, 56, 143, 3012, 11, 5, 375, 116, 1437, 50118, 18276, 4843, 35, 3216, 6, 38, 56, 42, 538, 8795, 3012, 103, 86, 124, 4, 2]   \n",
       "1271                         [0, 41152, 35, 3945, 47, 28349, 7, 932, 6, 689, 50, 12441, 116, 50118, 18276, 4843, 35, 440, 26331, 14, 38, 216, 9, 4, 2]   \n",
       "1283                                         [0, 41152, 35, 38, 7123, 70, 110, 1743, 6, 960, 1326, 2051, 4, 1437, 50118, 18276, 4843, 35, 16911, 4, 2]   \n",
       "1293                            [0, 41152, 35, 178, 47, 2801, 14, 47, 33, 10, 750, 9, 36857, 116, 50118, 18276, 4843, 35, 3216, 6, 14, 18, 4577, 4, 2]   \n",
       "\n",
       "      input_token_len  \\\n",
       "27                 23   \n",
       "58                 23   \n",
       "107                26   \n",
       "109                21   \n",
       "120                24   \n",
       "...               ...   \n",
       "1253               25   \n",
       "1265               30   \n",
       "1271               25   \n",
       "1283               21   \n",
       "1293               25   \n",
       "\n",
       "                                                                                                                                                                                                                                                            labels  \\\n",
       "27                                                                      [0, 46994, 47629, 35, 234, 73, 250, 4, 50118, 29038, 11244, 13310, 35, 234, 73, 250, 4, 50118, 38261, 9, 27690, 35, 234, 73, 250, 4, 50118, 35351, 9, 5828, 35, 234, 73, 250, 4, 50118, 2]   \n",
       "58    [0, 46994, 47629, 35, 9291, 431, 4, 50121, 50118, 29038, 11244, 13310, 35, 9291, 4, 50121, 50118, 38261, 9, 27690, 35, 27690, 9118, 143, 375, 2536, 5467, 50, 10947, 2199, 4, 50121, 50118, 35351, 9, 5828, 35, 440, 3169, 814, 1552, 2624, 2536, 474, 4, 2]   \n",
       "107                                         [0, 46994, 47629, 35, 234, 73, 250, 4, 50121, 50118, 29038, 11244, 13310, 35, 234, 73, 250, 4, 50121, 50118, 38261, 9, 27690, 35, 234, 73, 250, 4, 50121, 50118, 35351, 9, 5828, 35, 234, 73, 250, 4, 50121, 50118, 2]   \n",
       "109                                         [0, 46994, 47629, 35, 234, 73, 250, 4, 50121, 50118, 29038, 11244, 13310, 35, 234, 73, 250, 4, 50121, 50118, 38261, 9, 27690, 35, 234, 73, 250, 4, 50121, 50118, 35351, 9, 5828, 35, 234, 73, 250, 4, 50121, 50118, 2]   \n",
       "120                                         [0, 46994, 47629, 35, 234, 73, 250, 4, 50121, 50118, 29038, 11244, 13310, 35, 234, 73, 250, 4, 50121, 50118, 38261, 9, 27690, 35, 234, 73, 250, 4, 50121, 50118, 35351, 9, 5828, 35, 234, 73, 250, 4, 50121, 50118, 2]   \n",
       "...                                                                                                                                                                                                                                                            ...   \n",
       "1253                             [0, 46994, 47629, 35, 234, 73, 250, 50118, 29038, 11244, 13310, 35, 234, 73, 250, 50118, 38261, 9, 20722, 12042, 35, 6743, 918, 750, 9, 9681, 6, 3766, 6, 50, 9687, 1262, 304, 50118, 35351, 9, 5828, 35, 234, 73, 250, 50118, 2]   \n",
       "1265                                                                [0, 46994, 47629, 35, 234, 73, 250, 50118, 29038, 11244, 13310, 35, 234, 73, 250, 50118, 38261, 9, 20722, 12042, 35, 35498, 13, 8795, 3012, 50118, 35351, 9, 5828, 35, 234, 73, 250, 50118, 2]   \n",
       "1271                                                   [0, 46994, 47629, 35, 234, 73, 250, 50118, 29038, 11244, 13310, 35, 234, 73, 250, 50118, 38261, 9, 20722, 12042, 35, 440, 684, 26331, 7, 689, 50, 12441, 50118, 35351, 9, 5828, 35, 234, 73, 250, 50118, 2]   \n",
       "1283                                                                          [0, 46994, 47629, 35, 234, 73, 250, 50118, 29038, 11244, 13310, 35, 234, 73, 250, 50118, 38261, 9, 20722, 12042, 35, 17592, 2430, 50118, 35351, 9, 5828, 35, 234, 73, 250, 50118, 2]   \n",
       "1293                                                                       [0, 46994, 47629, 35, 234, 73, 250, 50118, 29038, 11244, 13310, 35, 234, 73, 250, 50118, 38261, 9, 20722, 12042, 35, 7298, 9, 36857, 50118, 35351, 9, 5828, 35, 234, 73, 250, 50118, 2]   \n",
       "\n",
       "      output_token_len  \n",
       "27                  37  \n",
       "58                  46  \n",
       "107                 41  \n",
       "109                 41  \n",
       "120                 41  \n",
       "...                ...  \n",
       "1253                43  \n",
       "1265                35  \n",
       "1271                38  \n",
       "1283                33  \n",
       "1293                34  \n",
       "\n",
       "[75 rows x 8 columns]"
      ]
     },
     "execution_count": 162,
     "metadata": {},
     "output_type": "execute_result"
    }
   ],
   "source": [
    "print(ds_df[np.logical_and(ds_df['input_token_len'] > 20, ds_df['input_token_len'] <= 30)].loc[:,['input_token_len', 'output_token_len']].describe())\n",
    "ds_df[np.logical_and(ds_df['input_token_len'] > 20, ds_df['input_token_len'] <= 30)]"
   ]
  },
  {
   "cell_type": "markdown",
   "id": "06773ff0-65e9-40a1-a590-e4e8a78ab1a5",
   "metadata": {},
   "source": [
    "# <u>Process Dataset</u>"
   ]
  },
  {
   "cell_type": "markdown",
   "id": "984ba144-1d54-460a-a4d2-193736621959",
   "metadata": {},
   "source": [
    "## Remove long sequences"
   ]
  },
  {
   "cell_type": "code",
   "execution_count": 46,
   "id": "dc47e651-c659-4379-b361-82842b912680",
   "metadata": {},
   "outputs": [
    {
     "data": {
      "text/plain": [
       "DatasetDict({\n",
       "    train: Dataset({\n",
       "        features: ['ID', 'section_header', 'section_text', 'dialogue', 'input_ids', 'attention_mask', 'length', 'labels'],\n",
       "        num_rows: 1301\n",
       "    })\n",
       "})"
      ]
     },
     "execution_count": 46,
     "metadata": {},
     "output_type": "execute_result"
    }
   ],
   "source": [
    "ds_tk"
   ]
  },
  {
   "cell_type": "code",
   "execution_count": 47,
   "id": "e70e3abf-d269-40d2-bdb2-f3b4625cc20c",
   "metadata": {},
   "outputs": [
    {
     "data": {
      "application/vnd.jupyter.widget-view+json": {
       "model_id": "daaebed3aca64a22a87a83c10062ca13",
       "version_major": 2,
       "version_minor": 0
      },
      "text/plain": [
       "Filter:   0%|          | 0/1301 [00:00<?, ? examples/s]"
      ]
     },
     "metadata": {},
     "output_type": "display_data"
    },
    {
     "data": {
      "text/plain": [
       "DatasetDict({\n",
       "    train: Dataset({\n",
       "        features: ['ID', 'section_header', 'section_text', 'dialogue', 'input_ids', 'attention_mask', 'length', 'labels'],\n",
       "        num_rows: 1300\n",
       "    })\n",
       "})"
      ]
     },
     "execution_count": 47,
     "metadata": {},
     "output_type": "execute_result"
    }
   ],
   "source": [
    "def filter_dataset(example):\n",
    "    # return example['ID'] != 1115\n",
    "    return example['length'] < 2000\n",
    "\n",
    "ds_tk_filt = ds_tk.filter(filter_dataset)\n",
    "ds_tk_filt"
   ]
  },
  {
   "cell_type": "code",
   "execution_count": 48,
   "id": "fe94fae9-4357-498c-8772-b51fd81207fd",
   "metadata": {},
   "outputs": [],
   "source": [
    "ds_df_filt = pd.DataFrame(ds_tk_filt['train'])"
   ]
  },
  {
   "cell_type": "code",
   "execution_count": 49,
   "id": "a10005c6-f5cd-4fe3-96f6-5211344c2437",
   "metadata": {},
   "outputs": [
    {
     "data": {
      "text/plain": [
       "count    1300.000000\n",
       "mean      158.930000\n",
       "std       161.130739\n",
       "min        15.000000\n",
       "25%        56.000000\n",
       "50%        99.000000\n",
       "75%       201.500000\n",
       "max      1310.000000\n",
       "Name: length, dtype: float64"
      ]
     },
     "execution_count": 49,
     "metadata": {},
     "output_type": "execute_result"
    }
   ],
   "source": [
    "ds_df_filt['length'].describe()"
   ]
  },
  {
   "cell_type": "code",
   "execution_count": 25,
   "id": "b22851f2-d292-46f1-9397-7e393a14b406",
   "metadata": {},
   "outputs": [
    {
     "data": {
      "application/vnd.jupyter.widget-view+json": {
       "model_id": "3fde661e4d424555b5d45b137d09d493",
       "version_major": 2,
       "version_minor": 0
      },
      "text/plain": [
       "VBox(children=(HTML(value='<center> <img\\nsrc=https://huggingface.co/front/assets/huggingface_logo-noborder.sv…"
      ]
     },
     "metadata": {},
     "output_type": "display_data"
    }
   ],
   "source": [
    "from huggingface_hub import notebook_login\n",
    "notebook_login()"
   ]
  },
  {
   "cell_type": "code",
   "execution_count": null,
   "id": "d73121e8-b38d-4c63-b0af-8d9f27d9b16b",
   "metadata": {},
   "outputs": [],
   "source": [
    "# ds_tk_filt.push_to_hub('ryanwtsai/processed_mts_dialogue_clinical_note', private=True)"
   ]
  },
  {
   "cell_type": "markdown",
   "id": "430d93ee-8073-47b4-bc60-d397e27d0075",
   "metadata": {},
   "source": [
    "## Original Train-Val Split"
   ]
  },
  {
   "cell_type": "code",
   "execution_count": 62,
   "id": "291135d2-a873-44ea-b50a-c84b14e8baf2",
   "metadata": {},
   "outputs": [
    {
     "name": "stdout",
     "output_type": "stream",
     "text": [
      "Max ID = 1200\n",
      "Split index = 1199\n"
     ]
    }
   ],
   "source": [
    "df_tk_filt = ds_df_filt\n",
    "# print(f\"Splitting point = {df_tk_filt.index[df_tk_filt[df_tk_filt['ID'] == df_tk_filt['ID'].max()]]}\")\n",
    "print(f\"Max ID = {df_tk_filt['ID'].max()}\")\n",
    "split_index = df_tk_filt.index[df_tk_filt['ID'] == df_tk_filt['ID'].max()].item()\n",
    "print(f\"Split index = {split_index}\")"
   ]
  },
  {
   "cell_type": "code",
   "execution_count": 81,
   "id": "7c3580b9-7e48-4f92-8556-60fb3105da4a",
   "metadata": {},
   "outputs": [
    {
     "name": "stdout",
     "output_type": "stream",
     "text": [
      "Split DFs have same length as original DF = True\n",
      "Min/max ID of df_train = 0, 1200\n",
      "Min/max ID of df_val = 0, 99\n"
     ]
    }
   ],
   "source": [
    "df_train = df_tk_filt.iloc[:split_index+1]\n",
    "df_val = df_tk_filt.iloc[split_index+1:]\n",
    "print(f\"Split DFs have same length as original DF = {len(df_train) + len(df_val) == len(df_tk_filt)}\")\n",
    "print(f\"Min/max ID of df_train = {df_train['ID'].min()}, {df_train['ID'].max()}\")\n",
    "print(f\"Min/max ID of df_val = {df_val['ID'].min()}, {df_val['ID'].max()}\")"
   ]
  },
  {
   "cell_type": "code",
   "execution_count": 80,
   "id": "8d8512e5-9f15-4f2e-9541-d8db3928ad7b",
   "metadata": {},
   "outputs": [
    {
     "data": {
      "text/plain": [
       "Text(0, 0.5, 'ID')"
      ]
     },
     "execution_count": 80,
     "metadata": {},
     "output_type": "execute_result"
    },
    {
     "data": {
      "image/png": "[encoded data removed]",
      "text/plain": [
       "<Figure size 640x480 with 1 Axes>"
      ]
     },
     "metadata": {},
     "output_type": "display_data"
    }
   ],
   "source": [
    "plt.figure()\n",
    "plt.plot(df_train['ID'])\n",
    "# plt.figure()\n",
    "plt.plot(df_val['ID'])\n",
    "plt.ylabel('ID')"
   ]
  },
  {
   "cell_type": "code",
   "execution_count": 83,
   "id": "30b914ff-072c-410f-b9f5-7d318cb8c590",
   "metadata": {},
   "outputs": [
    {
     "data": {
      "text/plain": [
       "DatasetDict({\n",
       "    train: Dataset({\n",
       "        features: ['ID', 'section_header', 'section_text', 'dialogue', 'input_ids', 'attention_mask', 'length', 'labels'],\n",
       "        num_rows: 1200\n",
       "    })\n",
       "    val: Dataset({\n",
       "        features: ['ID', 'section_header', 'section_text', 'dialogue', 'input_ids', 'attention_mask', 'length', 'labels'],\n",
       "        num_rows: 100\n",
       "    })\n",
       "})"
      ]
     },
     "execution_count": 83,
     "metadata": {},
     "output_type": "execute_result"
    }
   ],
   "source": [
    "ds_tk_filt_split = datasets.DatasetDict({'train': datasets.Dataset.from_pandas(df_train), 'val': datasets.Dataset.from_pandas(df_val)})\n",
    "ds_tk_filt_split"
   ]
  },
  {
   "cell_type": "code",
   "execution_count": 84,
   "id": "4040aa3c-d858-4067-94ed-a3f7656f125a",
   "metadata": {},
   "outputs": [
    {
     "data": {
      "text/plain": [
       "<Axes: xlabel='section_header'>"
      ]
     },
     "execution_count": 84,
     "metadata": {},
     "output_type": "execute_result"
    },
    {
     "data": {
      "image/png": "[encoded data removed]",
      "text/plain": [
       "<Figure size 640x480 with 1 Axes>"
      ]
     },
     "metadata": {},
     "output_type": "display_data"
    },
    {
     "data": {
      "image/png": "[encoded data removed]",
      "text/plain": [
       "<Figure size 640x480 with 1 Axes>"
      ]
     },
     "metadata": {},
     "output_type": "display_data"
    }
   ],
   "source": [
    "pd.DataFrame(ds_tk_filt_split['train'])['section_header'].value_counts().plot.bar()\n",
    "plt.figure()\n",
    "pd.DataFrame(ds_tk_filt_split['val'])['section_header'].value_counts().plot.bar()"
   ]
  },
  {
   "cell_type": "code",
   "execution_count": 85,
   "id": "e51d07f1-b37f-411a-8a0c-6d615c8fbb9d",
   "metadata": {},
   "outputs": [
    {
     "name": "stdout",
     "output_type": "stream",
     "text": [
      "count    1200.000000\n",
      "mean      160.698333\n",
      "std       162.782874\n",
      "min        15.000000\n",
      "25%        56.000000\n",
      "50%       100.500000\n",
      "75%       204.250000\n",
      "max      1310.000000\n",
      "Name: length, dtype: float64\n",
      "\n",
      "count    100.000000\n",
      "mean     137.710000\n",
      "std      138.749341\n",
      "min       15.000000\n",
      "25%       48.000000\n",
      "50%       84.000000\n",
      "75%      168.500000\n",
      "max      831.000000\n",
      "Name: length, dtype: float64\n"
     ]
    }
   ],
   "source": [
    "print(pd.DataFrame(ds_tk_filt_split['train'])['length'].describe())\n",
    "print('')\n",
    "print(pd.DataFrame(ds_tk_filt_split['val'])['length'].describe())"
   ]
  },
  {
   "cell_type": "code",
   "execution_count": 86,
   "id": "229f8d4e-a028-456f-a99e-88ee0617e25d",
   "metadata": {},
   "outputs": [
    {
     "data": {
      "text/plain": [
       "Text(0.5, 1.0, 'Val')"
      ]
     },
     "execution_count": 86,
     "metadata": {},
     "output_type": "execute_result"
    },
    {
     "data": {
      "image/png": "[encoded data removed]",
      "text/plain": [
       "<Figure size 2000x1000 with 2 Axes>"
      ]
     },
     "metadata": {},
     "output_type": "display_data"
    }
   ],
   "source": [
    "fig, (ax1, ax2) = plt.subplots(1, 2, figsize=(20,10))\n",
    "ax1.boxplot(np.array(pd.DataFrame(ds_tk_filt_split['train'])['length']))\n",
    "ax1.set_yticks(range(0,1400,100))\n",
    "ax1.axhline(max_len)\n",
    "ax1.set_ylim([0, 1400])\n",
    "ax1.grid()\n",
    "ax1.set_title('Train')\n",
    "\n",
    "ax2.boxplot(np.array(pd.DataFrame(ds_tk_filt_split['val'])['length']))\n",
    "plt.yticks(range(0,1400,100))\n",
    "ax2.axhline(max_len)\n",
    "ax2.set_yticks(range(0,1400,100))\n",
    "ax2.set_ylim([0, 1400])\n",
    "ax2.grid()\n",
    "ax2.set_title('Val')"
   ]
  },
  {
   "cell_type": "code",
   "execution_count": 87,
   "id": "19d5c594-caa0-4541-bb7a-8161921c27f0",
   "metadata": {},
   "outputs": [
    {
     "data": {
      "application/vnd.jupyter.widget-view+json": {
       "model_id": "075d24962193424da9e9b9b75d330372",
       "version_major": 2,
       "version_minor": 0
      },
      "text/plain": [
       "Uploading the dataset shards:   0%|          | 0/1 [00:00<?, ?it/s]"
      ]
     },
     "metadata": {},
     "output_type": "display_data"
    },
    {
     "data": {
      "application/vnd.jupyter.widget-view+json": {
       "model_id": "3cd3c4574cc943569fe0c5c60b04ddd8",
       "version_major": 2,
       "version_minor": 0
      },
      "text/plain": [
       "Creating parquet from Arrow format:   0%|          | 0/2 [00:00<?, ?ba/s]"
      ]
     },
     "metadata": {},
     "output_type": "display_data"
    },
    {
     "data": {
      "application/vnd.jupyter.widget-view+json": {
       "model_id": "ae4cb45bb00d4df294d58d3bb61af94b",
       "version_major": 2,
       "version_minor": 0
      },
      "text/plain": [
       "Uploading the dataset shards:   0%|          | 0/1 [00:00<?, ?it/s]"
      ]
     },
     "metadata": {},
     "output_type": "display_data"
    },
    {
     "data": {
      "application/vnd.jupyter.widget-view+json": {
       "model_id": "d731405559d94fa8a623926d702c9d12",
       "version_major": 2,
       "version_minor": 0
      },
      "text/plain": [
       "Creating parquet from Arrow format:   0%|          | 0/1 [00:00<?, ?ba/s]"
      ]
     },
     "metadata": {},
     "output_type": "display_data"
    },
    {
     "data": {
      "text/plain": [
       "CommitInfo(commit_url='https://huggingface.co/datasets/ryanwtsai/MTS_Dialogue-Clinical_Note_OriginalTrainValSplit/commit/d98797f30ddaf04d81c5f05f55edfde010179cab', commit_message='Upload dataset', commit_description='', oid='d98797f30ddaf04d81c5f05f55edfde010179cab', pr_url=None, pr_revision=None, pr_num=None)"
      ]
     },
     "execution_count": 87,
     "metadata": {},
     "output_type": "execute_result"
    }
   ],
   "source": [
    "ds_tk_filt_split.push_to_hub('ryanwtsai/MTS_Dialogue-Clinical_Note_OriginalTrainValSplit', private=True)"
   ]
  },
  {
   "cell_type": "markdown",
   "id": "81d71dc8-9d36-487f-b5f4-55125fc5a53b",
   "metadata": {},
   "source": [
    "## Train-Test Split"
   ]
  },
  {
   "cell_type": "code",
   "execution_count": 95,
   "id": "45ab4a27-7a71-4eb2-a378-ec4719ba9bab",
   "metadata": {},
   "outputs": [],
   "source": [
    "labels = ds_tk_filt['train']['section_header']"
   ]
  },
  {
   "cell_type": "code",
   "execution_count": 96,
   "id": "caf2c030-0a93-4a67-a099-131aa23a5458",
   "metadata": {},
   "outputs": [],
   "source": [
    "train_indices, val_indices = train_test_split(range(len(labels)), test_size=0.2, stratify=labels, random_state=42)"
   ]
  },
  {
   "cell_type": "code",
   "execution_count": 97,
   "id": "9efe8347-b34b-46f7-989b-975d240378c4",
   "metadata": {},
   "outputs": [
    {
     "name": "stdout",
     "output_type": "stream",
     "text": [
      "1040\n",
      "260\n"
     ]
    }
   ],
   "source": [
    "print(len(train_indices))\n",
    "print(len(val_indices))"
   ]
  },
  {
   "cell_type": "code",
   "execution_count": 98,
   "id": "ebf4ed29-ef88-40f6-8fc4-bf8c1e6958b8",
   "metadata": {},
   "outputs": [
    {
     "data": {
      "text/plain": [
       "DatasetDict({\n",
       "    train: Dataset({\n",
       "        features: ['ID', 'section_header', 'section_text', 'dialogue', 'input_ids', 'attention_mask', 'length', 'labels'],\n",
       "        num_rows: 1040\n",
       "    })\n",
       "    val: Dataset({\n",
       "        features: ['ID', 'section_header', 'section_text', 'dialogue', 'input_ids', 'attention_mask', 'length', 'labels'],\n",
       "        num_rows: 260\n",
       "    })\n",
       "})"
      ]
     },
     "execution_count": 98,
     "metadata": {},
     "output_type": "execute_result"
    }
   ],
   "source": [
    "ds_tk_filt_split = datasets.DatasetDict({'train': ds_tk_filt['train'].select(train_indices), 'val': ds_tk_filt['train'].select(val_indices)})\n",
    "ds_tk_filt_split"
   ]
  },
  {
   "cell_type": "code",
   "execution_count": 100,
   "id": "bf5744a3-ea12-47fa-87b3-6aa5e51ea122",
   "metadata": {},
   "outputs": [
    {
     "name": "stdout",
     "output_type": "stream",
     "text": [
      "['FAM/SOCHX', 'GENHX', 'PASTMEDICALHX', 'CC', 'PASTSURGICAL', 'ROS', 'ALLERGY', 'MEDICATIONS', 'ASSESSMENT', 'EXAM', 'DIAGNOSIS', 'DISPOSITION', 'PLAN', 'EDCOURSE', 'IMMUNIZATIONS']\n",
      "['LABS', 'IMAGING', 'PROCEDURES', 'GYNHX', 'OTHER_HISTORY']\n",
      "127\n",
      "128\n"
     ]
    }
   ],
   "source": [
    "# pd.DataFrame(ds_tk_filt_split['train'])['section_header'].value_counts()\n",
    "df_val = pd.DataFrame(ds_tk_filt_split['val'])\n",
    "df_val_counts = df_val['section_header'].value_counts()\n",
    "# print(df_val_counts)\n",
    "valid_list = list(df_val_counts.index[df_val_counts >= 2])\n",
    "invalid_list = list(df_val_counts.index[df_val_counts < 2])\n",
    "print(valid_list)\n",
    "print(invalid_list)\n",
    "df_val_invalid = df_val[df_val['section_header'].isin(invalid_list)]\n",
    "df_val_valid = df_val[df_val['section_header'].isin(valid_list)]\n",
    "df_val_valid['section_header'].value_counts()\n",
    "\n",
    "labels = df_val_valid['section_header']\n",
    "val_indices, test_indices = train_test_split(range(len(labels)), test_size=0.5, stratify=labels, random_state=42)\n",
    "print(len(val_indices))\n",
    "print(len(test_indices))"
   ]
  },
  {
   "cell_type": "code",
   "execution_count": 101,
   "id": "c6dd74d5-153e-4099-857c-082f5c4f42fe",
   "metadata": {},
   "outputs": [],
   "source": [
    "df_val = pd.concat((df_val_valid.iloc[val_indices], df_val_invalid))\n",
    "df_test = df_val_valid.iloc[test_indices]"
   ]
  },
  {
   "cell_type": "code",
   "execution_count": 102,
   "id": "f2264b5b-b7ed-48a9-a96b-0158f94a2ca1",
   "metadata": {},
   "outputs": [],
   "source": [
    "ds_tk_filt_split['val'] = datasets.Dataset.from_pandas(df_val)\n",
    "ds_tk_filt_split['test'] = datasets.Dataset.from_pandas(df_test)"
   ]
  },
  {
   "cell_type": "code",
   "execution_count": 104,
   "id": "f9af73d0-a984-4730-90d4-d4c80bc751f7",
   "metadata": {},
   "outputs": [
    {
     "data": {
      "text/plain": [
       "DatasetDict({\n",
       "    train: Dataset({\n",
       "        features: ['ID', 'section_header', 'section_text', 'dialogue', 'input_ids', 'attention_mask', 'length', 'labels'],\n",
       "        num_rows: 1040\n",
       "    })\n",
       "    val: Dataset({\n",
       "        features: ['ID', 'section_header', 'section_text', 'dialogue', 'input_ids', 'attention_mask', 'length', 'labels'],\n",
       "        num_rows: 132\n",
       "    })\n",
       "    test: Dataset({\n",
       "        features: ['ID', 'section_header', 'section_text', 'dialogue', 'input_ids', 'attention_mask', 'length', 'labels'],\n",
       "        num_rows: 128\n",
       "    })\n",
       "})"
      ]
     },
     "execution_count": 104,
     "metadata": {},
     "output_type": "execute_result"
    }
   ],
   "source": [
    "ds_tk_filt_split['val'] = ds_tk_filt_split['val'].remove_columns(['__index_level_0__'])\n",
    "ds_tk_filt_split['test'] = ds_tk_filt_split['test'].remove_columns(['__index_level_0__'])\n",
    "ds_tk_filt_split"
   ]
  },
  {
   "cell_type": "code",
   "execution_count": 105,
   "id": "ec900707-69d9-4cfb-b5de-3ca85286c847",
   "metadata": {},
   "outputs": [
    {
     "data": {
      "text/plain": [
       "<Axes: xlabel='section_header'>"
      ]
     },
     "execution_count": 105,
     "metadata": {},
     "output_type": "execute_result"
    },
    {
     "data": {
      "image/png": "[encoded data removed]",
      "text/plain": [
       "<Figure size 640x480 with 1 Axes>"
      ]
     },
     "metadata": {},
     "output_type": "display_data"
    },
    {
     "data": {
      "image/png": "[encoded data removed]",
      "text/plain": [
       "<Figure size 640x480 with 1 Axes>"
      ]
     },
     "metadata": {},
     "output_type": "display_data"
    },
    {
     "data": {
      "image/png": "[encoded data removed]",
      "text/plain": [
       "<Figure size 640x480 with 1 Axes>"
      ]
     },
     "metadata": {},
     "output_type": "display_data"
    }
   ],
   "source": [
    "pd.DataFrame(ds_tk_filt_split['train'])['section_header'].value_counts().plot.bar()\n",
    "plt.figure()\n",
    "pd.DataFrame(ds_tk_filt_split['val'])['section_header'].value_counts().plot.bar()\n",
    "plt.figure()\n",
    "pd.DataFrame(ds_tk_filt_split['test'])['section_header'].value_counts().plot.bar()"
   ]
  },
  {
   "cell_type": "code",
   "execution_count": 106,
   "id": "99074dd1-8484-44db-a9f6-f681b0fbf4c9",
   "metadata": {},
   "outputs": [
    {
     "name": "stdout",
     "output_type": "stream",
     "text": [
      "count    1040.000000\n",
      "mean      159.389423\n",
      "std       162.211519\n",
      "min        15.000000\n",
      "25%        56.000000\n",
      "50%        99.500000\n",
      "75%       201.000000\n",
      "max      1310.000000\n",
      "Name: length, dtype: float64\n",
      "\n",
      "count    132.000000\n",
      "mean     149.242424\n",
      "std      150.074339\n",
      "min       19.000000\n",
      "25%       58.000000\n",
      "50%       99.500000\n",
      "75%      178.250000\n",
      "max      963.000000\n",
      "Name: length, dtype: float64\n",
      "\n",
      "count    128.000000\n",
      "mean     165.187500\n",
      "std      164.083652\n",
      "min       15.000000\n",
      "25%       53.750000\n",
      "50%       96.000000\n",
      "75%      240.000000\n",
      "max      794.000000\n",
      "Name: length, dtype: float64\n"
     ]
    }
   ],
   "source": [
    "print(pd.DataFrame(ds_tk_filt_split['train'])['length'].describe())\n",
    "print('')\n",
    "print(pd.DataFrame(ds_tk_filt_split['val'])['length'].describe())\n",
    "print('')\n",
    "print(pd.DataFrame(ds_tk_filt_split['test'])['length'].describe())"
   ]
  },
  {
   "cell_type": "code",
   "execution_count": null,
   "id": "9c4806e5-2d32-48f0-a5f5-cdecff372fec",
   "metadata": {},
   "outputs": [],
   "source": [
    "# plt.figure(figsize=(8,10))\n",
    "# pd.DataFrame(ds_tk_filt_split['train']).boxplot(column='length')\n",
    "# plt.yticks(range(0,1400,100))\n",
    "# plt.axhline(1024)\n",
    "# plt.ylim([0, 1400])\n",
    "\n",
    "# plt.figure(figsize=(8,10))\n",
    "# pd.DataFrame(ds_tk_filt_split['val']).boxplot(column='length')\n",
    "# plt.yticks(range(0,1400,100))\n",
    "# plt.axhline(1024)\n",
    "# plt.ylim([0, 1400])\n",
    "\n",
    "# plt.figure(figsize=(8,10))\n",
    "# pd.DataFrame(ds_tk_filt_split['test']).boxplot(column='length')\n",
    "# plt.yticks(range(0,1400,100))\n",
    "# plt.axhline(1024)\n",
    "# plt.ylim([0, 1400])"
   ]
  },
  {
   "cell_type": "code",
   "execution_count": 110,
   "id": "fa1f661c-2686-4ba9-8bc4-da55250736cf",
   "metadata": {},
   "outputs": [
    {
     "data": {
      "text/plain": [
       "Text(0.5, 1.0, 'Test')"
      ]
     },
     "execution_count": 110,
     "metadata": {},
     "output_type": "execute_result"
    },
    {
     "data": {
      "image/png": "[encoded data removed]",
      "text/plain": [
       "<Figure size 2000x1000 with 3 Axes>"
      ]
     },
     "metadata": {},
     "output_type": "display_data"
    }
   ],
   "source": [
    "fig, (ax1, ax2, ax3) = plt.subplots(1, 3, figsize=(20,10))\n",
    "ax1.boxplot(np.array(pd.DataFrame(ds_tk_filt_split['train'])['length']))\n",
    "ax1.set_yticks(range(0,1400,100))\n",
    "ax1.axhline(max_len)\n",
    "ax1.set_ylim([0, 1400])\n",
    "ax1.grid()\n",
    "ax1.set_title('Train')\n",
    "\n",
    "ax2.boxplot(np.array(pd.DataFrame(ds_tk_filt_split['val'])['length']))\n",
    "plt.yticks(range(0,1400,100))\n",
    "ax2.axhline(max_len)\n",
    "ax2.set_yticks(range(0,1400,100))\n",
    "ax2.set_ylim([0, 1400])\n",
    "ax2.grid()\n",
    "ax2.set_title('Val')\n",
    "\n",
    "ax3.boxplot(np.array(pd.DataFrame(ds_tk_filt_split['test'])['length']))\n",
    "plt.yticks(range(0,1400,100))\n",
    "ax3.axhline(max_len)\n",
    "ax3.set_yticks(range(0,1400,100))\n",
    "ax3.set_ylim([0, 1400])\n",
    "ax3.grid()\n",
    "ax3.set_title('Test')"
   ]
  },
  {
   "cell_type": "code",
   "execution_count": 120,
   "id": "9cdbdae5-c878-48e3-943f-553ea3a1d2f3",
   "metadata": {},
   "outputs": [],
   "source": [
    "IDs = list(ds_tk_filt_split['train']['ID']) + list(ds_tk_filt_split['val']['ID']) + list(ds_tk_filt_split['test']['ID'])"
   ]
  },
  {
   "cell_type": "code",
   "execution_count": 132,
   "id": "26a021bf-5cfe-4229-a196-efb0b96d0c84",
   "metadata": {},
   "outputs": [
    {
     "name": "stdout",
     "output_type": "stream",
     "text": [
      "1\n",
      "2\n"
     ]
    },
    {
     "data": {
      "text/plain": [
       "array([1110, 1111, 1112, 1113, 1114, 1116, 1117, 1118, 1119, 1120])"
      ]
     },
     "execution_count": 132,
     "metadata": {},
     "output_type": "execute_result"
    }
   ],
   "source": [
    "IDs = np.sort(np.array(IDs))\n",
    "print(min(np.diff(IDs)))\n",
    "print(max(np.diff(IDs)))\n",
    "diff = np.diff(IDs)\n",
    "np.nonzero(diff == 2)\n",
    "IDs[1110:1120]\n",
    "# Right, we removed ID 1115"
   ]
  },
  {
   "cell_type": "code",
   "execution_count": 137,
   "id": "494ecf0c-4654-45b7-9727-95e0ebe4545f",
   "metadata": {},
   "outputs": [],
   "source": [
    "ds_tk_filt_split['train'] = datasets.Dataset.from_pandas(pd.DataFrame(ds_tk_filt_split['train']))"
   ]
  },
  {
   "cell_type": "code",
   "execution_count": null,
   "id": "6f27b444-49ee-4d07-9706-7344709fa98a",
   "metadata": {},
   "outputs": [],
   "source": [
    "# ds_tk_filt_split['train'] = ds_tk_filt_split['train'].cast(Features({'ID': Value(dtype='int64', id=None), 'section_header': Value(dtype='string', id=None), 'section_text': Value(dtype='string', id=None), 'dialogue': Value(dtype='string', id=None), 'input_ids': Sequence(feature=Value(dtype='int32', id=None), length=-1, id=None), 'attention_mask': Sequence(feature=Value(dtype='int32', id=None), length=-1, id=None), 'length': Value(dtype='int32', id=None), 'labels': Sequence(feature=Value(dtype='int32', id=None), length=-1, id=None)}))"
   ]
  },
  {
   "cell_type": "code",
   "execution_count": 154,
   "id": "25507fd2-8e45-42df-a51d-e09bda26ea3c",
   "metadata": {},
   "outputs": [
    {
     "name": "stdout",
     "output_type": "stream",
     "text": [
      "{'ID': Value(dtype='int64', id=None), 'section_header': Value(dtype='string', id=None), 'section_text': Value(dtype='string', id=None), 'dialogue': Value(dtype='string', id=None), 'input_ids': Sequence(feature=Value(dtype='int64', id=None), length=-1, id=None), 'attention_mask': Sequence(feature=Value(dtype='int64', id=None), length=-1, id=None), 'length': Value(dtype='int64', id=None), 'labels': Sequence(feature=Value(dtype='int64', id=None), length=-1, id=None)}\n"
     ]
    }
   ],
   "source": [
    "print(ds_tk_filt_split['train'].features)"
   ]
  },
  {
   "cell_type": "code",
   "execution_count": 139,
   "id": "61f86d76-d324-4aff-aa94-74c416956b90",
   "metadata": {},
   "outputs": [
    {
     "data": {
      "application/vnd.jupyter.widget-view+json": {
       "model_id": "664d33d867a346dc828d539d1c6029cc",
       "version_major": 2,
       "version_minor": 0
      },
      "text/plain": [
       "Uploading the dataset shards:   0%|          | 0/1 [00:00<?, ?it/s]"
      ]
     },
     "metadata": {},
     "output_type": "display_data"
    },
    {
     "data": {
      "application/vnd.jupyter.widget-view+json": {
       "model_id": "54a02a609b224435a0cf0e5a4b6d3f56",
       "version_major": 2,
       "version_minor": 0
      },
      "text/plain": [
       "Creating parquet from Arrow format:   0%|          | 0/2 [00:00<?, ?ba/s]"
      ]
     },
     "metadata": {},
     "output_type": "display_data"
    },
    {
     "data": {
      "application/vnd.jupyter.widget-view+json": {
       "model_id": "2e11b2a625a24ffb9e88ce91568b1095",
       "version_major": 2,
       "version_minor": 0
      },
      "text/plain": [
       "Uploading the dataset shards:   0%|          | 0/1 [00:00<?, ?it/s]"
      ]
     },
     "metadata": {},
     "output_type": "display_data"
    },
    {
     "data": {
      "application/vnd.jupyter.widget-view+json": {
       "model_id": "f9fb84ba90164d3092df97e1db7cec52",
       "version_major": 2,
       "version_minor": 0
      },
      "text/plain": [
       "Creating parquet from Arrow format:   0%|          | 0/1 [00:00<?, ?ba/s]"
      ]
     },
     "metadata": {},
     "output_type": "display_data"
    },
    {
     "data": {
      "application/vnd.jupyter.widget-view+json": {
       "model_id": "f0e8856cf3bf44cb9877897cc63e2fe9",
       "version_major": 2,
       "version_minor": 0
      },
      "text/plain": [
       "Uploading the dataset shards:   0%|          | 0/1 [00:00<?, ?it/s]"
      ]
     },
     "metadata": {},
     "output_type": "display_data"
    },
    {
     "data": {
      "application/vnd.jupyter.widget-view+json": {
       "model_id": "a0ae243ff1de4577b4d77a74a0fca81c",
       "version_major": 2,
       "version_minor": 0
      },
      "text/plain": [
       "Creating parquet from Arrow format:   0%|          | 0/1 [00:00<?, ?ba/s]"
      ]
     },
     "metadata": {},
     "output_type": "display_data"
    },
    {
     "data": {
      "text/plain": [
       "CommitInfo(commit_url='https://huggingface.co/datasets/ryanwtsai/MTS_Dialogue-Clinical_Note_TrainValTestSplit/commit/240fbacaa31924f3934fb5d82095b3c40d016041', commit_message='Upload dataset', commit_description='', oid='240fbacaa31924f3934fb5d82095b3c40d016041', pr_url=None, pr_revision=None, pr_num=None)"
      ]
     },
     "execution_count": 139,
     "metadata": {},
     "output_type": "execute_result"
    }
   ],
   "source": [
    "ds_tk_filt_split.push_to_hub('ryanwtsai/MTS_Dialogue-Clinical_Note_TrainValTestSplit', private=True)"
   ]
  },
  {
   "cell_type": "markdown",
   "id": "923b96fc-fbb6-4421-a32e-f3cabf7dba04",
   "metadata": {},
   "source": [
    "## StratifiedKFold"
   ]
  },
  {
   "cell_type": "code",
   "execution_count": 237,
   "id": "5f6d6028-7278-4289-825c-df644343e5f4",
   "metadata": {},
   "outputs": [],
   "source": [
    "skf = StratifiedKFold(n_splits=5, random_state=42, shuffle=True)"
   ]
  },
  {
   "cell_type": "code",
   "execution_count": 241,
   "id": "9d55ac66-aa15-4ae2-84ff-9d9187504dab",
   "metadata": {},
   "outputs": [
    {
     "name": "stderr",
     "output_type": "stream",
     "text": [
      "C:\\ProgramData\\anaconda3\\envs\\env_dl_cv_transformer_sentpiece\\Lib\\site-packages\\sklearn\\model_selection\\_split.py:776: UserWarning: The least populated class in y has only 3 members, which is less than n_splits=5.\n",
      "  warnings.warn(\n"
     ]
    }
   ],
   "source": [
    "labels = ds_tk_filt['train']['section_header']\n",
    "ds_tk_filt_kfold = {}\n",
    "for fold_idx, (train_idx, val_idx) in enumerate(skf.split(np.zeros(ds_tk_filt['train'].num_rows), labels)):\n",
    "    ds_tk_filt_kfold[f\"fold{fold_idx}\"] = datasets.DatasetDict({'train': ds_tk_filt['train'].select(train_idx), 'val': ds_tk_filt['train'].select(val_idx)})"
   ]
  },
  {
   "cell_type": "code",
   "execution_count": 242,
   "id": "01106ed5-1f57-4ee8-ac40-b79333ce89e3",
   "metadata": {},
   "outputs": [
    {
     "data": {
      "text/plain": [
       "{'fold0': DatasetDict({\n",
       "     train: Dataset({\n",
       "         features: ['ID', 'section_header', 'section_text', 'dialogue', 'input_ids', 'attention_mask', 'length', 'labels'],\n",
       "         num_rows: 1040\n",
       "     })\n",
       "     val: Dataset({\n",
       "         features: ['ID', 'section_header', 'section_text', 'dialogue', 'input_ids', 'attention_mask', 'length', 'labels'],\n",
       "         num_rows: 260\n",
       "     })\n",
       " }),\n",
       " 'fold1': DatasetDict({\n",
       "     train: Dataset({\n",
       "         features: ['ID', 'section_header', 'section_text', 'dialogue', 'input_ids', 'attention_mask', 'length', 'labels'],\n",
       "         num_rows: 1040\n",
       "     })\n",
       "     val: Dataset({\n",
       "         features: ['ID', 'section_header', 'section_text', 'dialogue', 'input_ids', 'attention_mask', 'length', 'labels'],\n",
       "         num_rows: 260\n",
       "     })\n",
       " }),\n",
       " 'fold2': DatasetDict({\n",
       "     train: Dataset({\n",
       "         features: ['ID', 'section_header', 'section_text', 'dialogue', 'input_ids', 'attention_mask', 'length', 'labels'],\n",
       "         num_rows: 1040\n",
       "     })\n",
       "     val: Dataset({\n",
       "         features: ['ID', 'section_header', 'section_text', 'dialogue', 'input_ids', 'attention_mask', 'length', 'labels'],\n",
       "         num_rows: 260\n",
       "     })\n",
       " }),\n",
       " 'fold3': DatasetDict({\n",
       "     train: Dataset({\n",
       "         features: ['ID', 'section_header', 'section_text', 'dialogue', 'input_ids', 'attention_mask', 'length', 'labels'],\n",
       "         num_rows: 1040\n",
       "     })\n",
       "     val: Dataset({\n",
       "         features: ['ID', 'section_header', 'section_text', 'dialogue', 'input_ids', 'attention_mask', 'length', 'labels'],\n",
       "         num_rows: 260\n",
       "     })\n",
       " }),\n",
       " 'fold4': DatasetDict({\n",
       "     train: Dataset({\n",
       "         features: ['ID', 'section_header', 'section_text', 'dialogue', 'input_ids', 'attention_mask', 'length', 'labels'],\n",
       "         num_rows: 1040\n",
       "     })\n",
       "     val: Dataset({\n",
       "         features: ['ID', 'section_header', 'section_text', 'dialogue', 'input_ids', 'attention_mask', 'length', 'labels'],\n",
       "         num_rows: 260\n",
       "     })\n",
       " })}"
      ]
     },
     "execution_count": 242,
     "metadata": {},
     "output_type": "execute_result"
    }
   ],
   "source": [
    "ds_tk_filt_kfold"
   ]
  }
 ],
 "metadata": {
  "kernelspec": {
   "display_name": "Python 3 (ipykernel)",
   "language": "python",
   "name": "python3"
  },
  "language_info": {
   "codemirror_mode": {
    "name": "ipython",
    "version": 3
   },
   "file_extension": ".py",
   "mimetype": "text/x-python",
   "name": "python",
   "nbconvert_exporter": "python",
   "pygments_lexer": "ipython3",
   "version": "3.12.4"
  }
 },
 "nbformat": 4,
 "nbformat_minor": 5
}
