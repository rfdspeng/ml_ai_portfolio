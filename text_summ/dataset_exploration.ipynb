{
 "cells": [
  {
   "cell_type": "markdown",
   "id": "33d3c003-1d25-4124-99b5-43b9078a637a",
   "metadata": {},
   "source": [
    "# Exploratory\n",
    "* Check for empty contents\n",
    "* Check sequence lengths\n",
    "* Check for unknown tokens"
   ]
  },
  {
   "cell_type": "code",
   "execution_count": 8,
   "id": "0fd6e4de-1348-4dcf-9ad5-a99204324400",
   "metadata": {},
   "outputs": [],
   "source": [
    "from datasets import load_dataset\n",
    "import pandas as pd"
   ]
  },
  {
   "cell_type": "code",
   "execution_count": 9,
   "id": "05f8e91b-745d-4d35-a219-089428491c36",
   "metadata": {},
   "outputs": [],
   "source": [
    "pd.set_option('display.max_colwidth', 500)"
   ]
  },
  {
   "cell_type": "code",
   "execution_count": 3,
   "id": "65d623b1-b32c-4180-9814-b3e41ed09a57",
   "metadata": {},
   "outputs": [
    {
     "data": {
      "text/plain": [
       "DatasetDict({\n",
       "    train: Dataset({\n",
       "        features: ['document', 'summary', 'id'],\n",
       "        num_rows: 204045\n",
       "    })\n",
       "    validation: Dataset({\n",
       "        features: ['document', 'summary', 'id'],\n",
       "        num_rows: 11332\n",
       "    })\n",
       "    test: Dataset({\n",
       "        features: ['document', 'summary', 'id'],\n",
       "        num_rows: 11334\n",
       "    })\n",
       "})"
      ]
     },
     "execution_count": 3,
     "metadata": {},
     "output_type": "execute_result"
    }
   ],
   "source": [
    "dataset = load_dataset(\"EdinburghNLP/xsum\", streaming=False)\n",
    "dataset"
   ]
  },
  {
   "cell_type": "code",
   "execution_count": 12,
   "id": "1f346c13-a0d4-4e7d-a1a2-c967e12dcdcd",
   "metadata": {},
   "outputs": [
    {
     "data": {
      "text/plain": [
       "0                                                         There is a \"chronic\" need for more housing for prison leavers in Wales, according to a charity.\n",
       "1                                                     A man has appeared in court after firearms, ammunition and cash were seized by police in Edinburgh.\n",
       "2    Four people accused of kidnapping and torturing a mentally disabled man in a \"racially motivated\" attack streamed on Facebook have been denied bail.\n",
       "3                                              West Brom have appointed Nicky Hammond as technical director, ending his 20-year association with Reading.\n",
       "4                                                  The pancreas can be triggered to regenerate itself through a type of fasting diet, say US researchers.\n",
       "Name: summary, dtype: object"
      ]
     },
     "execution_count": 12,
     "metadata": {},
     "output_type": "execute_result"
    }
   ],
   "source": [
    "dataframe = pd.DataFrame(dataset['test'])\n",
    "dataframe['summary'].head()"
   ]
  },
  {
   "cell_type": "code",
   "execution_count": null,
   "id": "dd289c59-e0d9-4415-8265-07739fe3cf55",
   "metadata": {},
   "outputs": [],
   "source": []
  }
 ],
 "metadata": {
  "kernelspec": {
   "display_name": "Python 3 (ipykernel)",
   "language": "python",
   "name": "python3"
  },
  "language_info": {
   "codemirror_mode": {
    "name": "ipython",
    "version": 3
   },
   "file_extension": ".py",
   "mimetype": "text/x-python",
   "name": "python",
   "nbconvert_exporter": "python",
   "pygments_lexer": "ipython3",
   "version": "3.12.4"
  }
 },
 "nbformat": 4,
 "nbformat_minor": 5
}
