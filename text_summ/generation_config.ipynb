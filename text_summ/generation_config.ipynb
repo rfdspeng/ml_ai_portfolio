{
 "cells": [
  {
   "cell_type": "code",
   "execution_count": 1,
   "id": "cda9bb1d-a24e-4c11-b498-85be65be6eeb",
   "metadata": {},
   "outputs": [],
   "source": [
    "from transformers import GenerationConfig"
   ]
  },
  {
   "cell_type": "code",
   "execution_count": 12,
   "id": "8d455f10-4848-4b56-99a5-9e75a2b13271",
   "metadata": {},
   "outputs": [],
   "source": [
    "gen_cfg = GenerationConfig(max_length=500)\n",
    "# gen_cfg.max_length = 500"
   ]
  },
  {
   "cell_type": "code",
   "execution_count": 13,
   "id": "65d2a23e-7b42-46e0-a95c-41e2c1fcf158",
   "metadata": {},
   "outputs": [
    {
     "name": "stdout",
     "output_type": "stream",
     "text": [
      "do_sample = False\n",
      "early_stopping = False\n",
      "encoder_no_repeat_ngram_size = 0\n",
      "forced_bos_token_id = None\n",
      "forced_eos_token_id = None\n",
      "length_penalty = 1.0\n",
      "max_length = 500\n",
      "max_new_tokens = None\n",
      "min_length = 0\n",
      "min_new_tokens = None\n",
      "min_p = None\n",
      "no_repeat_ngram_size = 0\n",
      "num_beams = 1\n",
      "num_return_sequences = 1\n",
      "repetition_penalty = 1.0\n",
      "temperature = 1.0\n",
      "top_k = 50\n",
      "top_p = 1.0\n"
     ]
    }
   ],
   "source": [
    "attr_of_interest = ['do_sample', 'early_stopping', 'encoder_no_repeat_ngram_size', 'forced_bos_token_id', 'forced_eos_token_id', 'length_penalty', 'max_length', 'max_new_tokens', 'min_length', 'min_new_tokens',\n",
    "                    'min_p', 'no_repeat_ngram_size', 'num_beams', 'num_return_sequences', 'repetition_penalty', 'temperature', 'top_k', 'top_p']\n",
    "\n",
    "for aoi in attr_of_interest:\n",
    "    print(f\"{aoi} = {getattr(gen_cfg, aoi)}\")"
   ]
  },
  {
   "cell_type": "code",
   "execution_count": null,
   "id": "7db6baea-fdbd-48f8-8ac8-c97851da5cb5",
   "metadata": {},
   "outputs": [],
   "source": []
  }
 ],
 "metadata": {
  "kernelspec": {
   "display_name": "Python 3 (ipykernel)",
   "language": "python",
   "name": "python3"
  },
  "language_info": {
   "codemirror_mode": {
    "name": "ipython",
    "version": 3
   },
   "file_extension": ".py",
   "mimetype": "text/x-python",
   "name": "python",
   "nbconvert_exporter": "python",
   "pygments_lexer": "ipython3",
   "version": "3.12.4"
  }
 },
 "nbformat": 4,
 "nbformat_minor": 5
}
