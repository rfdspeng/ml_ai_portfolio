{
 "cells": [
  {
   "cell_type": "code",
   "execution_count": 4,
   "id": "9661a745-1700-4485-bd6e-c85b0d91e991",
   "metadata": {},
   "outputs": [],
   "source": [
    "import pandas as pd\n",
    "import datasets"
   ]
  },
  {
   "cell_type": "code",
   "execution_count": 2,
   "id": "e29388f9-6b44-4a11-9883-00e9b296fc7a",
   "metadata": {},
   "outputs": [],
   "source": [
    "fname = \"MTS-Dialog-TestSet-1-MEDIQA-Chat-2023.csv\"\n",
    "data = pd.read_csv(fname)"
   ]
  },
  {
   "cell_type": "code",
   "execution_count": 3,
   "id": "2a894b4a-dac7-4a56-8828-4241205471a4",
   "metadata": {},
   "outputs": [
    {
     "data": {
      "text/html": [
       "<div>\n",
       "<style scoped>\n",
       "    .dataframe tbody tr th:only-of-type {\n",
       "        vertical-align: middle;\n",
       "    }\n",
       "\n",
       "    .dataframe tbody tr th {\n",
       "        vertical-align: top;\n",
       "    }\n",
       "\n",
       "    .dataframe thead th {\n",
       "        text-align: right;\n",
       "    }\n",
       "</style>\n",
       "<table border=\"1\" class=\"dataframe\">\n",
       "  <thead>\n",
       "    <tr style=\"text-align: right;\">\n",
       "      <th></th>\n",
       "      <th>ID</th>\n",
       "      <th>section_header</th>\n",
       "      <th>section_text</th>\n",
       "      <th>dialogue</th>\n",
       "    </tr>\n",
       "  </thead>\n",
       "  <tbody>\n",
       "    <tr>\n",
       "      <th>0</th>\n",
       "      <td>0</td>\n",
       "      <td>GENHX</td>\n",
       "      <td>The patient is a 55-year-old African-American ...</td>\n",
       "      <td>Doctor: Good afternoon, sir. Did you just have...</td>\n",
       "    </tr>\n",
       "    <tr>\n",
       "      <th>1</th>\n",
       "      <td>1</td>\n",
       "      <td>FAM/SOCHX</td>\n",
       "      <td>Positive for stroke and sleep apnea.</td>\n",
       "      <td>Doctor: Any medical issues running in your fam...</td>\n",
       "    </tr>\n",
       "    <tr>\n",
       "      <th>2</th>\n",
       "      <td>2</td>\n",
       "      <td>ROS</td>\n",
       "      <td>MSK: Negative myalgia, negative joint pain, ne...</td>\n",
       "      <td>Doctor: Any pain in your muscles? \\nPatient: N...</td>\n",
       "    </tr>\n",
       "    <tr>\n",
       "      <th>3</th>\n",
       "      <td>3</td>\n",
       "      <td>FAM/SOCHX</td>\n",
       "      <td>Noncontributory.</td>\n",
       "      <td>Doctor: Anyone in family with any blood or hea...</td>\n",
       "    </tr>\n",
       "    <tr>\n",
       "      <th>4</th>\n",
       "      <td>4</td>\n",
       "      <td>FAM/SOCHX</td>\n",
       "      <td>Father died of a thoracic aortic aneurysm, age...</td>\n",
       "      <td>Doctor: Can you tell me about your family? Did...</td>\n",
       "    </tr>\n",
       "    <tr>\n",
       "      <th>...</th>\n",
       "      <td>...</td>\n",
       "      <td>...</td>\n",
       "      <td>...</td>\n",
       "      <td>...</td>\n",
       "    </tr>\n",
       "    <tr>\n",
       "      <th>195</th>\n",
       "      <td>195</td>\n",
       "      <td>GENHX</td>\n",
       "      <td>Briefly, the patient is a very pleasant 72-yea...</td>\n",
       "      <td>Doctor: Hi there, I love that dress, very pret...</td>\n",
       "    </tr>\n",
       "    <tr>\n",
       "      <th>196</th>\n",
       "      <td>196</td>\n",
       "      <td>ROS</td>\n",
       "      <td>NOSE AND THROAT: Negative postnasal drip, nega...</td>\n",
       "      <td>Doctor: Any uncomfortable feeling in the back ...</td>\n",
       "    </tr>\n",
       "    <tr>\n",
       "      <th>197</th>\n",
       "      <td>197</td>\n",
       "      <td>GENHX</td>\n",
       "      <td>The patient is alert and oriented x3 and sitti...</td>\n",
       "      <td>Doctor: It's good to see you sitting up in the...</td>\n",
       "    </tr>\n",
       "    <tr>\n",
       "      <th>198</th>\n",
       "      <td>198</td>\n",
       "      <td>PASTMEDICALHX</td>\n",
       "      <td>Past medical history is unremarkable.</td>\n",
       "      <td>Doctor: Are there any major medical conditions...</td>\n",
       "    </tr>\n",
       "    <tr>\n",
       "      <th>199</th>\n",
       "      <td>199</td>\n",
       "      <td>IMMUNIZATIONS</td>\n",
       "      <td>Immunizations were up to date for influenza, n...</td>\n",
       "      <td>Doctor: Have you had your flu or Pneumonia vac...</td>\n",
       "    </tr>\n",
       "  </tbody>\n",
       "</table>\n",
       "<p>200 rows × 4 columns</p>\n",
       "</div>"
      ],
      "text/plain": [
       "      ID section_header                                       section_text  \\\n",
       "0      0          GENHX  The patient is a 55-year-old African-American ...   \n",
       "1      1      FAM/SOCHX               Positive for stroke and sleep apnea.   \n",
       "2      2            ROS  MSK: Negative myalgia, negative joint pain, ne...   \n",
       "3      3      FAM/SOCHX                                   Noncontributory.   \n",
       "4      4      FAM/SOCHX  Father died of a thoracic aortic aneurysm, age...   \n",
       "..   ...            ...                                                ...   \n",
       "195  195          GENHX  Briefly, the patient is a very pleasant 72-yea...   \n",
       "196  196            ROS  NOSE AND THROAT: Negative postnasal drip, nega...   \n",
       "197  197          GENHX  The patient is alert and oriented x3 and sitti...   \n",
       "198  198  PASTMEDICALHX              Past medical history is unremarkable.   \n",
       "199  199  IMMUNIZATIONS  Immunizations were up to date for influenza, n...   \n",
       "\n",
       "                                              dialogue  \n",
       "0    Doctor: Good afternoon, sir. Did you just have...  \n",
       "1    Doctor: Any medical issues running in your fam...  \n",
       "2    Doctor: Any pain in your muscles? \\nPatient: N...  \n",
       "3    Doctor: Anyone in family with any blood or hea...  \n",
       "4    Doctor: Can you tell me about your family? Did...  \n",
       "..                                                 ...  \n",
       "195  Doctor: Hi there, I love that dress, very pret...  \n",
       "196  Doctor: Any uncomfortable feeling in the back ...  \n",
       "197  Doctor: It's good to see you sitting up in the...  \n",
       "198  Doctor: Are there any major medical conditions...  \n",
       "199  Doctor: Have you had your flu or Pneumonia vac...  \n",
       "\n",
       "[200 rows x 4 columns]"
      ]
     },
     "execution_count": 3,
     "metadata": {},
     "output_type": "execute_result"
    }
   ],
   "source": [
    "data"
   ]
  },
  {
   "cell_type": "code",
   "execution_count": 8,
   "id": "242b9c4e-a965-43a1-864f-b7e16bee271c",
   "metadata": {},
   "outputs": [],
   "source": [
    "fnames = [\"MTS-Dialog-TrainingSet.csv\", \"MTS-Dialog-ValidationSet.csv\", \"MTS-Dialog-TestSet-1-MEDIQA-Chat-2023.csv\", \"MTS-Dialog-TestSet-2-MEDIQA-Sum-2023.csv\"]\n",
    "\n",
    "df_dict = {}\n",
    "for fname in fnames:\n",
    "    df_dict[fname] = pd.read_csv(fname)"
   ]
  },
  {
   "cell_type": "code",
   "execution_count": 9,
   "id": "6ba3c9cf-d6ea-4507-b7f9-cf2d35328d2f",
   "metadata": {},
   "outputs": [],
   "source": [
    "ds_dict = {fname: datasets.Dataset.from_pandas(df) for fname, df in df_dict.items()}"
   ]
  },
  {
   "cell_type": "code",
   "execution_count": 10,
   "id": "e8d84845-e9e5-4d2e-9163-c9340a51b794",
   "metadata": {},
   "outputs": [
    {
     "data": {
      "text/plain": [
       "{'MTS-Dialog-TrainingSet.csv': Dataset({\n",
       "     features: ['ID', 'section_header', 'section_text', 'dialogue'],\n",
       "     num_rows: 1201\n",
       " }),\n",
       " 'MTS-Dialog-ValidationSet.csv': Dataset({\n",
       "     features: ['ID', 'section_header', 'section_text', 'dialogue'],\n",
       "     num_rows: 100\n",
       " }),\n",
       " 'MTS-Dialog-TestSet-1-MEDIQA-Chat-2023.csv': Dataset({\n",
       "     features: ['ID', 'section_header', 'section_text', 'dialogue'],\n",
       "     num_rows: 200\n",
       " }),\n",
       " 'MTS-Dialog-TestSet-2-MEDIQA-Sum-2023.csv': Dataset({\n",
       "     features: ['ID', 'section_header', 'section_text', 'dialogue'],\n",
       "     num_rows: 200\n",
       " })}"
      ]
     },
     "execution_count": 10,
     "metadata": {},
     "output_type": "execute_result"
    }
   ],
   "source": [
    "ds_dict"
   ]
  },
  {
   "cell_type": "code",
   "execution_count": 29,
   "id": "842599ca-541e-4b32-b168-e5be12e53150",
   "metadata": {},
   "outputs": [],
   "source": [
    "ds = ds_dict['MTS-Dialog-TestSet-2-MEDIQA-Sum-2023.csv']\n",
    "ds = ds_dict['MTS-Dialog-TestSet-1-MEDIQA-Chat-2023.csv']\n",
    "# ds = ds_dict['MTS-Dialog-ValidationSet.csv']\n",
    "# ds = ds_dict['MTS-Dialog-TrainingSet.csv']"
   ]
  },
  {
   "cell_type": "code",
   "execution_count": 30,
   "id": "a37b33bf-a4d8-448d-8217-fcf230ed28d1",
   "metadata": {},
   "outputs": [
    {
     "name": "stdout",
     "output_type": "stream",
     "text": [
      "The patient is a 55-year-old African-American male that was last seen in clinic on 07/29/2008 with diagnosis of new onset seizures and an MRI scan, which demonstrated right contrast-enhancing temporal mass.  Given the characteristics of this mass and his new onset seizures, it is significantly concerning for a high-grade glioma.\n",
      "\n",
      "Positive for stroke and sleep apnea.\n",
      "\n",
      "MSK: Negative myalgia, negative joint pain, negative stiffness, negative weakness, negative back pain.\n",
      "\n",
      "Noncontributory.\n",
      "\n",
      "Father died of a thoracic aortic aneurysm, age 71. Mother died of stroke, age 81.\n",
      "\n",
      "Reviewed and remained unchanged.\n",
      "\n",
      "The patient is a 77-year-old female who is unable to give any information.  She has been sedated with Ativan and came into the emergency room obtunded and unable to give any history.  On a chest x-ray for what appeared to be shortness of breath she was found to have what was thought to be free air under the right diaphragm.\n",
      "\n",
      "Two half-brothers, ages 26 and 28, both in good health.  Parents are in good health.  A maternal great-grandmother had a deep venous thrombosis (DVT) of leg in her 40s.  A maternal great-uncle developed leukemia around age 50.  A maternal great-grandfather had bone cancer around age 80.  His paternal grandfather died of colon cancer at age 73, which he had had since age 68.  Adult-onset diabetes is present in distant relatives on both sides.\n",
      "\n",
      "He is retired from the social security administration x 20 years.  He travels a lot and is extremely active.  He does not smoke.  He consumes alcohol socially only.  He does not use illicit drugs.  He is married.\n",
      "\n",
      "No known drug allergies.\n",
      "\n"
     ]
    }
   ],
   "source": [
    "for i in list(range(10)):\n",
    "    print(f\"{ds['section_text'][i]}\\n\")\n",
    "\n",
    "# ds[0]"
   ]
  },
  {
   "cell_type": "code",
   "execution_count": 23,
   "id": "f1b02829-4666-4a09-9761-b4efa9d8e33e",
   "metadata": {},
   "outputs": [],
   "source": [
    "ds_mod = datasets.load_dataset(\"har1/MTS_Dialogue-Clinical_Note\")"
   ]
  },
  {
   "cell_type": "code",
   "execution_count": 25,
   "id": "ff6cabd3-751a-4d3d-93f2-d43a2975dc5c",
   "metadata": {},
   "outputs": [
    {
     "data": {
      "text/plain": [
       "{'ID': 0,\n",
       " 'section_header': 'GENHX',\n",
       " 'section_text': 'Symptoms: no fever, no chills, no cough, no congestion, no nausea, no vomiting, no chest pain, no chest pressure.\\nDiagnosis: hypertension, osteoarthritis, osteoporosis, hypothyroidism, allergic rhinitis, kidney stones\\nHistory of Patient: 76-year-old white female, presents to the clinic today originally for hypertension and a med check, followed by Dr. Kumar, issues stable\\nPlan of Action: N/A',\n",
       " 'dialogue': 'Doctor: What brings you back into the clinic today, miss? \\nPatient: I came in for a refill of my blood pressure medicine. \\nDoctor: It looks like Doctor Kumar followed up with you last time regarding your hypertension, osteoarthritis, osteoporosis, hypothyroidism, allergic rhinitis and kidney stones.  Have you noticed any changes or do you have any concerns regarding these issues?  \\nPatient: No. \\nDoctor: Have you had any fever or chills, cough, congestion, nausea, vomiting, chest pain, chest pressure?\\nPatient: No.  \\nDoctor: Great. Also, for our records, how old are you and what race do you identify yourself as?\\nPatient: I am seventy six years old and identify as a white female.'}"
      ]
     },
     "execution_count": 25,
     "metadata": {},
     "output_type": "execute_result"
    }
   ],
   "source": [
    "ds_mod['train'][0]"
   ]
  },
  {
   "cell_type": "code",
   "execution_count": null,
   "id": "0ae8e865-bdd5-4838-bd38-3fb709f8670d",
   "metadata": {},
   "outputs": [],
   "source": []
  }
 ],
 "metadata": {
  "kernelspec": {
   "display_name": "Python 3 (ipykernel)",
   "language": "python",
   "name": "python3"
  },
  "language_info": {
   "codemirror_mode": {
    "name": "ipython",
    "version": 3
   },
   "file_extension": ".py",
   "mimetype": "text/x-python",
   "name": "python",
   "nbconvert_exporter": "python",
   "pygments_lexer": "ipython3",
   "version": "3.12.4"
  }
 },
 "nbformat": 4,
 "nbformat_minor": 5
}
