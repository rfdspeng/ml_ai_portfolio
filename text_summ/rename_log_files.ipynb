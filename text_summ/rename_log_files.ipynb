{
 "cells": [
  {
   "cell_type": "code",
   "execution_count": 2,
   "id": "6f73f976-6874-4c2b-9340-5ce595165aee",
   "metadata": {},
   "outputs": [],
   "source": [
    "import os\n",
    "import glob\n",
    "import pandas as pd"
   ]
  },
  {
   "cell_type": "code",
   "execution_count": 54,
   "id": "59fbd28a-ef98-48a8-9d31-e60a81d3bc5a",
   "metadata": {},
   "outputs": [],
   "source": [
    "log_folder = r\"logs-1\"\n",
    "name_mapping_file = r\"logs-1\\name_mapping.csv\""
   ]
  },
  {
   "cell_type": "code",
   "execution_count": 55,
   "id": "8770a565-d98d-47ec-929f-f361cadbd0b2",
   "metadata": {},
   "outputs": [],
   "source": [
    "name_mapping = pd.read_csv(name_mapping_file)"
   ]
  },
  {
   "cell_type": "code",
   "execution_count": 56,
   "id": "184cbfa0-6674-466f-a1e0-5edfd5beed9c",
   "metadata": {},
   "outputs": [],
   "source": [
    "# name_mapping[\"Old Log Name\"] = name_mapping[\"Old Log Name\"].map(lambda x: log_folder + \"\\\\\" + x)\n",
    "# name_mapping[\"Log Name\"] = name_mapping[\"Log Name\"].map(lambda x: log_folder + \"\\\\\" + x + \".txt\")\n",
    "name_mapping[\"Old Log Name\"] = name_mapping[\"Old Log Name\"].map(lambda x: os.path.join(log_folder, x))\n",
    "name_mapping[\"Log Name\"] = name_mapping[\"Log Name\"].map(lambda x: os.path.join(log_folder, x + \".txt\"))\n",
    "# name_mapping"
   ]
  },
  {
   "cell_type": "code",
   "execution_count": 57,
   "id": "5de04eb3-6e6a-4087-a06d-b40010ac6d66",
   "metadata": {},
   "outputs": [
    {
     "data": {
      "text/plain": [
       "{'logs-1\\\\000_bart-base.txt': 'logs-1\\\\bart-base_lora-8-32-0_ebs-8_lr-0.00005-linear.txt',\n",
       " 'logs-1\\\\001_bart-base.txt': 'logs-1\\\\bart-base_lora-8-32-0_ebs-8_lr-0.0001-linear.txt',\n",
       " 'logs-1\\\\002_bart-base.txt': 'logs-1\\\\bart-base_lora-8-32-0_ebs-8_lr-0.0002-linear.txt',\n",
       " 'logs-1\\\\003_bart-base.txt': 'logs-1\\\\bart-base_lora-8-32-0_ebs-8_lr-0.0004-linear.txt',\n",
       " 'logs-1\\\\004_bart-base.txt': 'logs-1\\\\bart-base_lora-8-32-0_ebs-8_lr-0.0008-linear.txt',\n",
       " 'logs-1\\\\005_bart-base.txt': 'logs-1\\\\bart-base_lora-8-32-0_ebs-8_lr-0.0016-linear.txt',\n",
       " 'logs-1\\\\006_bart-base.txt': 'logs-1\\\\bart-base_uf-none_ebs-8_lr-0.0032-linear.txt',\n",
       " 'logs-1\\\\014_bart-base.txt': 'logs-1\\\\bart-base_uf-none_ebs-4_lr-0.0016-linear.txt',\n",
       " 'logs-1\\\\015_bart-base.txt': 'logs-1\\\\bart-base_uf-none_ebs-16_lr-0.0016-linear.txt',\n",
       " 'logs-1\\\\005-10_bart-base.txt': 'logs-1\\\\bart-base_lora-8-32-0_epoch-10_ebs-8_lr-0.0016-linear.txt',\n",
       " 'logs-1\\\\05-30_bart-base.txt': 'logs-1\\\\bart-base_lora-8-32-0_epoch-30_ebs-8_lr-0.0016-step-1-0.999.txt',\n",
       " 'logs-1\\\\05-30-og_bart-base.txt': 'logs-1\\\\bart-base_lora-8-32-0_epoch-30_ebs-8_lr-0.0016-step-1-0.999_ogtvsplit.txt',\n",
       " 'logs-1\\\\023_bart-base.txt': 'logs-1\\\\bart-base_lora-2-32-0_ebs-8_lr-0.0016-linear.txt',\n",
       " 'logs-1\\\\025_bart-base.txt': 'logs-1\\\\bart-base_lora-16-32-0_ebs-8_lr-0.0016-linear.txt',\n",
       " 'logs-1\\\\026_bart-base.txt': 'logs-1\\\\bart-base_lora-32-32-0_ebs-8_lr-0.0016-linear.txt',\n",
       " 'logs-1\\\\035_bart-base.txt': 'logs-1\\\\bart-base_lora-8-64-0_ebs-8_lr-0.0016-linear.txt',\n",
       " 'logs-1\\\\036_bart-base.txt': 'logs-1\\\\bart-base_lora-32-64-0_ebs-8_lr-0.0016-linear.txt',\n",
       " 'logs-1\\\\046_bart-base.txt': 'logs-1\\\\bart-base_lora-32-128-0_ebs-8_lr-0.0016-linear.txt',\n",
       " 'logs-1\\\\047_bart-base.txt': 'logs-1\\\\bart-base_lora-64-128-0_ebs-8_lr-0.0016-linear.txt',\n",
       " 'logs-1\\\\026-lm-30_bart-base.txt': 'logs-1\\\\bart-base_uf-lm-head_lora-32-32-0_ebs-8_lr-0.0016-step-1-0.999.txt',\n",
       " 'logs-1\\\\028-lm-30_bart-base.txt': 'logs-1\\\\bart-base_uf-lm-head_lora-128-32-0_ebs-8_lr-0.0016-step-1-0.999.txt',\n",
       " 'logs-1\\\\028-lm-30a_bart-base.txt': 'logs-1\\\\bart-base_uf-lm-head_lora-128-256-0_ebs-8_lr-0.0016-step-1-0.999.txt',\n",
       " 'logs-1\\\\005a_bart-base.txt': 'logs-1\\\\bart-base_uf-lm-head_lora-8-32-0_epoch-5_ebs-8_lr-0.0016-linear.txt',\n",
       " 'logs-1\\\\005a-10_bart-base.txt': 'logs-1\\\\bart-base_uf-lm-head_lora-8-32-0_epoch-10_ebs-8_lr-0.0016-linear.txt',\n",
       " 'logs-1\\\\005-lm-30_bart-base.txt': 'logs-1\\\\bart-base_uf-lm-head_lora-8-32-0_epoch-30_ebs-8_lr-0.0016-step-1-0.999.txt',\n",
       " 'logs-1\\\\05-30-og-lm_bart-base.txt': 'logs-1\\\\bart-base_uf-lm-head_lora-8-32-0_epoch-30_ebs-8_lr-0.0016-step-1-0.999_ogtvsplit.txt',\n",
       " 'logs-1\\\\055_bart-base.txt': 'logs-1\\\\bart-base_uf-lm-head_lora-8-32-0_epoch-10_ebs-8_lr-0.0016-linear_drop-0.2-0.1-0.1.txt',\n",
       " 'logs-1\\\\055a_bart-base.txt': 'logs-1\\\\bart-base_uf-lm-head_lora-8-32-0_epoch-10_ebs-8_lr-0.0016-linear_drop-0.2-0.2-0.1.txt',\n",
       " 'logs-1\\\\055b_bart-base.txt': 'logs-1\\\\bart-base_uf-lm-head_lora-8-32-0_epoch-10_ebs-8_lr-0.0016-linear_drop-0.2-0.1-0.2.txt',\n",
       " 'logs-1\\\\055c_bart-base.txt': 'logs-1\\\\bart-base_uf-lm-head_lora-8-32-0_epoch-10_ebs-8_lr-0.0016-linear_drop-0.2-0.2-0.2.txt',\n",
       " 'logs-1\\\\055c-30-og_bart-base.txt': 'logs-1\\\\bart-base_uf-lm-head_lora-8-32-0_epoch-30_ebs-8_lr-0.0016-step-1-0.999_drop-0.2-0.2-0.2.txt',\n",
       " 'logs-1\\\\057_bart-base.txt': 'logs-1\\\\bart-base_uf-lm-head_lora-8-32-0_epoch-10_ebs-8_lr-0.0016-linear_drop-0.4-0.1-0.1.txt',\n",
       " 'logs-1\\\\062_bart-base.txt': 'logs-1\\\\bart-base_uf-lm-head_lora-8-32-0_epoch-10_ebs-8_lr-0.0016-linear_drop-0.9-0.1-0.1.txt',\n",
       " 'logs-1\\\\065_bart-base.txt': 'logs-1\\\\bart-base_uf-lm-head_lora-8-32-0_epoch-10_ebs-8_lr-0.0016-linear_wd-0.0001.txt',\n",
       " 'logs-1\\\\067_bart-base.txt': 'logs-1\\\\bart-base_uf-lm-head_lora-8-32-0_epoch-10_ebs-8_lr-0.0016-linear_wd-0.01.txt',\n",
       " 'logs-1\\\\069_bart-base.txt': 'logs-1\\\\bart-base_uf-lm-head_lora-8-32-0_epoch-10_ebs-8_lr-0.0016-linear_wd-1.txt',\n",
       " 'logs-1\\\\069.1_bart-base.txt': 'logs-1\\\\bart-base_uf-lm-head_lora-8-32-0_epoch-10_ebs-8_lr-0.0016-linear_wd-2.txt',\n",
       " 'logs-1\\\\069.3_bart-base.txt': 'logs-1\\\\bart-base_uf-lm-head_lora-8-32-0_epoch-10_ebs-8_lr-0.0016-linear_wd-4.txt',\n",
       " 'logs-1\\\\069.3-30c_bart-base.txt': 'logs-1\\\\bart-base_uf-lm-head_lora-8-32-0_epoch-30_ebs-8_lr-0.0016-step-1-0.999_wd-4.txt',\n",
       " 'logs-1\\\\069.3-30c-og_bart-base.txt': 'logs-1\\\\bart-base_uf-lm-head_lora-8-32-0_epoch-30_ebs-8_lr-0.0016-step-1-0.999_wd-4_ogtvsplit.txt',\n",
       " 'logs-1\\\\069.6_bart-base.txt': 'logs-1\\\\bart-base_uf-lm-head_lora-8-32-0_epoch-10_ebs-8_lr-0.0016-linear_wd-7.txt',\n",
       " 'logs-1\\\\069.6-30_bart-base.txt': 'logs-1\\\\bart-base_uf-lm-head_lora-8-32-0_epoch-30_ebs-8_lr-0.0016-linear_wd-7.txt',\n",
       " 'logs-1\\\\069.6-30a_bart-base.txt': 'logs-1\\\\bart-base_uf-lm-head_lora-8-32-0_epoch-30_ebs-8_lr-0.000533-linear_wd-7.txt',\n",
       " 'logs-1\\\\069.6-30b_bart-base.txt': 'logs-1\\\\bart-base_uf-lm-head_lora-8-32-0_epoch-30_ebs-8_lr-0.0008-linear_wd-7.txt',\n",
       " 'logs-1\\\\069.6-30c_bart-base.txt': 'logs-1\\\\bart-base_uf-lm-head_lora-8-32-0_epoch-30_ebs-8_lr-0.0016-step-1-0.999_wd-7.txt',\n",
       " 'logs-1\\\\070_bart-base.txt': 'logs-1\\\\bart-base_uf-lm-head_lora-8-32-0_epoch-10_ebs-8_lr-0.0016-linear_wd-10.txt',\n",
       " 'logs-1\\\\000-all-30_bart-base.txt': 'logs-1\\\\bart-base_uf-all_ebs-8_lr-0.00005-step-1-0.998.txt'}"
      ]
     },
     "execution_count": 57,
     "metadata": {},
     "output_type": "execute_result"
    }
   ],
   "source": [
    "name_mapping_dict = dict(zip(name_mapping[\"Old Log Name\"], name_mapping[\"Log Name\"]))\n",
    "name_mapping_dict"
   ]
  },
  {
   "cell_type": "code",
   "execution_count": 58,
   "id": "bb407a97-09a0-45a4-96b0-fa4400d128d4",
   "metadata": {},
   "outputs": [
    {
     "data": {
      "text/plain": [
       "['logs-1\\\\000_bart-base.txt',\n",
       " 'logs-1\\\\001_bart-base.txt',\n",
       " 'logs-1\\\\002_bart-base.txt',\n",
       " 'logs-1\\\\003_bart-base.txt',\n",
       " 'logs-1\\\\004_bart-base.txt',\n",
       " 'logs-1\\\\005-10_bart-base.txt',\n",
       " 'logs-1\\\\005-30-og-lm_bart-base.txt',\n",
       " 'logs-1\\\\005-30-og_bart-base.txt',\n",
       " 'logs-1\\\\005-30_bart-base.txt',\n",
       " 'logs-1\\\\005-lm-30_bart-base.txt',\n",
       " 'logs-1\\\\005a-10_bart-base.txt',\n",
       " 'logs-1\\\\005a_bart-base.txt',\n",
       " 'logs-1\\\\005_bart-base.txt',\n",
       " 'logs-1\\\\006_bart-base.txt',\n",
       " 'logs-1\\\\014_bart-base.txt',\n",
       " 'logs-1\\\\015_bart-base.txt',\n",
       " 'logs-1\\\\023_bart-base.txt',\n",
       " 'logs-1\\\\025_bart-base.txt',\n",
       " 'logs-1\\\\026-lm-30_bart-base.txt',\n",
       " 'logs-1\\\\026_bart-base.txt',\n",
       " 'logs-1\\\\028-lm-30a_bart-base.txt',\n",
       " 'logs-1\\\\028-lm-30_bart-base.txt',\n",
       " 'logs-1\\\\035_bart-base.txt',\n",
       " 'logs-1\\\\036_bart-base.txt',\n",
       " 'logs-1\\\\046_bart-base.txt',\n",
       " 'logs-1\\\\047_bart-base.txt',\n",
       " 'logs-1\\\\055a_bart-base.txt',\n",
       " 'logs-1\\\\055b_bart-base.txt',\n",
       " 'logs-1\\\\055c-30-og_bart-base.txt',\n",
       " 'logs-1\\\\055c_bart-base.txt',\n",
       " 'logs-1\\\\055_bart-base.txt',\n",
       " 'logs-1\\\\057_bart-base.txt',\n",
       " 'logs-1\\\\062_bart-base.txt',\n",
       " 'logs-1\\\\065_bart-base.txt',\n",
       " 'logs-1\\\\067_bart-base.txt',\n",
       " 'logs-1\\\\069.1_bart-base.txt',\n",
       " 'logs-1\\\\069.3-30c-og_bart-base.txt',\n",
       " 'logs-1\\\\069.3-30c_bart-base.txt',\n",
       " 'logs-1\\\\069.3_bart-base.txt',\n",
       " 'logs-1\\\\069.6-30a_bart-base.txt',\n",
       " 'logs-1\\\\069.6-30b_bart-base.txt',\n",
       " 'logs-1\\\\069.6-30c_bart-base.txt',\n",
       " 'logs-1\\\\069.6-30_bart-base.txt',\n",
       " 'logs-1\\\\069.6_bart-base.txt',\n",
       " 'logs-1\\\\069_bart-base.txt',\n",
       " 'logs-1\\\\070_bart-base.txt']"
      ]
     },
     "execution_count": 58,
     "metadata": {},
     "output_type": "execute_result"
    }
   ],
   "source": [
    "files = glob.glob(os.path.join(log_folder, \"*.txt\"))\n",
    "files"
   ]
  },
  {
   "cell_type": "code",
   "execution_count": 59,
   "id": "1814885f-929f-4e19-bf5b-c61104a072f9",
   "metadata": {},
   "outputs": [
    {
     "name": "stdout",
     "output_type": "stream",
     "text": [
      "Renamed logs-1\\000_bart-base.txt to logs-1\\bart-base_lora-8-32-0_ebs-8_lr-0.00005-linear.txt\n",
      "Renamed logs-1\\001_bart-base.txt to logs-1\\bart-base_lora-8-32-0_ebs-8_lr-0.0001-linear.txt\n",
      "Renamed logs-1\\002_bart-base.txt to logs-1\\bart-base_lora-8-32-0_ebs-8_lr-0.0002-linear.txt\n",
      "Renamed logs-1\\003_bart-base.txt to logs-1\\bart-base_lora-8-32-0_ebs-8_lr-0.0004-linear.txt\n",
      "Renamed logs-1\\004_bart-base.txt to logs-1\\bart-base_lora-8-32-0_ebs-8_lr-0.0008-linear.txt\n",
      "Renamed logs-1\\005-10_bart-base.txt to logs-1\\bart-base_lora-8-32-0_epoch-10_ebs-8_lr-0.0016-linear.txt\n",
      "Renamed logs-1\\005-lm-30_bart-base.txt to logs-1\\bart-base_uf-lm-head_lora-8-32-0_epoch-30_ebs-8_lr-0.0016-step-1-0.999.txt\n",
      "Renamed logs-1\\005a-10_bart-base.txt to logs-1\\bart-base_uf-lm-head_lora-8-32-0_epoch-10_ebs-8_lr-0.0016-linear.txt\n",
      "Renamed logs-1\\005a_bart-base.txt to logs-1\\bart-base_uf-lm-head_lora-8-32-0_epoch-5_ebs-8_lr-0.0016-linear.txt\n",
      "Renamed logs-1\\005_bart-base.txt to logs-1\\bart-base_lora-8-32-0_ebs-8_lr-0.0016-linear.txt\n",
      "Renamed logs-1\\006_bart-base.txt to logs-1\\bart-base_uf-none_ebs-8_lr-0.0032-linear.txt\n",
      "Renamed logs-1\\014_bart-base.txt to logs-1\\bart-base_uf-none_ebs-4_lr-0.0016-linear.txt\n",
      "Renamed logs-1\\015_bart-base.txt to logs-1\\bart-base_uf-none_ebs-16_lr-0.0016-linear.txt\n",
      "Renamed logs-1\\023_bart-base.txt to logs-1\\bart-base_lora-2-32-0_ebs-8_lr-0.0016-linear.txt\n",
      "Renamed logs-1\\025_bart-base.txt to logs-1\\bart-base_lora-16-32-0_ebs-8_lr-0.0016-linear.txt\n",
      "Renamed logs-1\\026-lm-30_bart-base.txt to logs-1\\bart-base_uf-lm-head_lora-32-32-0_ebs-8_lr-0.0016-step-1-0.999.txt\n",
      "Renamed logs-1\\026_bart-base.txt to logs-1\\bart-base_lora-32-32-0_ebs-8_lr-0.0016-linear.txt\n",
      "Renamed logs-1\\028-lm-30a_bart-base.txt to logs-1\\bart-base_uf-lm-head_lora-128-256-0_ebs-8_lr-0.0016-step-1-0.999.txt\n",
      "Renamed logs-1\\028-lm-30_bart-base.txt to logs-1\\bart-base_uf-lm-head_lora-128-32-0_ebs-8_lr-0.0016-step-1-0.999.txt\n",
      "Renamed logs-1\\035_bart-base.txt to logs-1\\bart-base_lora-8-64-0_ebs-8_lr-0.0016-linear.txt\n",
      "Renamed logs-1\\036_bart-base.txt to logs-1\\bart-base_lora-32-64-0_ebs-8_lr-0.0016-linear.txt\n",
      "Renamed logs-1\\046_bart-base.txt to logs-1\\bart-base_lora-32-128-0_ebs-8_lr-0.0016-linear.txt\n",
      "Renamed logs-1\\047_bart-base.txt to logs-1\\bart-base_lora-64-128-0_ebs-8_lr-0.0016-linear.txt\n",
      "Renamed logs-1\\055a_bart-base.txt to logs-1\\bart-base_uf-lm-head_lora-8-32-0_epoch-10_ebs-8_lr-0.0016-linear_drop-0.2-0.2-0.1.txt\n",
      "Renamed logs-1\\055b_bart-base.txt to logs-1\\bart-base_uf-lm-head_lora-8-32-0_epoch-10_ebs-8_lr-0.0016-linear_drop-0.2-0.1-0.2.txt\n",
      "Renamed logs-1\\055c-30-og_bart-base.txt to logs-1\\bart-base_uf-lm-head_lora-8-32-0_epoch-30_ebs-8_lr-0.0016-step-1-0.999_drop-0.2-0.2-0.2.txt\n",
      "Renamed logs-1\\055c_bart-base.txt to logs-1\\bart-base_uf-lm-head_lora-8-32-0_epoch-10_ebs-8_lr-0.0016-linear_drop-0.2-0.2-0.2.txt\n",
      "Renamed logs-1\\055_bart-base.txt to logs-1\\bart-base_uf-lm-head_lora-8-32-0_epoch-10_ebs-8_lr-0.0016-linear_drop-0.2-0.1-0.1.txt\n",
      "Renamed logs-1\\057_bart-base.txt to logs-1\\bart-base_uf-lm-head_lora-8-32-0_epoch-10_ebs-8_lr-0.0016-linear_drop-0.4-0.1-0.1.txt\n",
      "Renamed logs-1\\062_bart-base.txt to logs-1\\bart-base_uf-lm-head_lora-8-32-0_epoch-10_ebs-8_lr-0.0016-linear_drop-0.9-0.1-0.1.txt\n",
      "Renamed logs-1\\065_bart-base.txt to logs-1\\bart-base_uf-lm-head_lora-8-32-0_epoch-10_ebs-8_lr-0.0016-linear_wd-0.0001.txt\n",
      "Renamed logs-1\\067_bart-base.txt to logs-1\\bart-base_uf-lm-head_lora-8-32-0_epoch-10_ebs-8_lr-0.0016-linear_wd-0.01.txt\n",
      "Renamed logs-1\\069.1_bart-base.txt to logs-1\\bart-base_uf-lm-head_lora-8-32-0_epoch-10_ebs-8_lr-0.0016-linear_wd-2.txt\n",
      "Renamed logs-1\\069.3-30c-og_bart-base.txt to logs-1\\bart-base_uf-lm-head_lora-8-32-0_epoch-30_ebs-8_lr-0.0016-step-1-0.999_wd-4_ogtvsplit.txt\n",
      "Renamed logs-1\\069.3-30c_bart-base.txt to logs-1\\bart-base_uf-lm-head_lora-8-32-0_epoch-30_ebs-8_lr-0.0016-step-1-0.999_wd-4.txt\n",
      "Renamed logs-1\\069.3_bart-base.txt to logs-1\\bart-base_uf-lm-head_lora-8-32-0_epoch-10_ebs-8_lr-0.0016-linear_wd-4.txt\n",
      "Renamed logs-1\\069.6-30a_bart-base.txt to logs-1\\bart-base_uf-lm-head_lora-8-32-0_epoch-30_ebs-8_lr-0.000533-linear_wd-7.txt\n",
      "Renamed logs-1\\069.6-30b_bart-base.txt to logs-1\\bart-base_uf-lm-head_lora-8-32-0_epoch-30_ebs-8_lr-0.0008-linear_wd-7.txt\n",
      "Renamed logs-1\\069.6-30c_bart-base.txt to logs-1\\bart-base_uf-lm-head_lora-8-32-0_epoch-30_ebs-8_lr-0.0016-step-1-0.999_wd-7.txt\n",
      "Renamed logs-1\\069.6-30_bart-base.txt to logs-1\\bart-base_uf-lm-head_lora-8-32-0_epoch-30_ebs-8_lr-0.0016-linear_wd-7.txt\n",
      "Renamed logs-1\\069.6_bart-base.txt to logs-1\\bart-base_uf-lm-head_lora-8-32-0_epoch-10_ebs-8_lr-0.0016-linear_wd-7.txt\n",
      "Renamed logs-1\\069_bart-base.txt to logs-1\\bart-base_uf-lm-head_lora-8-32-0_epoch-10_ebs-8_lr-0.0016-linear_wd-1.txt\n",
      "Renamed logs-1\\070_bart-base.txt to logs-1\\bart-base_uf-lm-head_lora-8-32-0_epoch-10_ebs-8_lr-0.0016-linear_wd-10.txt\n"
     ]
    }
   ],
   "source": [
    "for file in files:\n",
    "    if file in name_mapping_dict:\n",
    "        os.rename(file, name_mapping_dict[file])\n",
    "        print(f\"Renamed {file} to {name_mapping_dict[file]}\")"
   ]
  },
  {
   "cell_type": "code",
   "execution_count": null,
   "id": "3d445e73-9ea9-4369-aa32-217bb178af20",
   "metadata": {},
   "outputs": [],
   "source": []
  }
 ],
 "metadata": {
  "kernelspec": {
   "display_name": "Python 3 (ipykernel)",
   "language": "python",
   "name": "python3"
  },
  "language_info": {
   "codemirror_mode": {
    "name": "ipython",
    "version": 3
   },
   "file_extension": ".py",
   "mimetype": "text/x-python",
   "name": "python",
   "nbconvert_exporter": "python",
   "pygments_lexer": "ipython3",
   "version": "3.12.4"
  }
 },
 "nbformat": 4,
 "nbformat_minor": 5
}
