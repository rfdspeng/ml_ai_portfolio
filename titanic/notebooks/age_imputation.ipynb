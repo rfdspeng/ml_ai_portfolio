{
 "cells": [
  {
   "cell_type": "code",
   "execution_count": 2,
   "id": "d28bd49c",
   "metadata": {},
   "outputs": [
    {
     "name": "stdout",
     "output_type": "stream",
     "text": [
      "/usr/lib/python312.zip\n",
      "/usr/lib/python3.12\n",
      "/usr/lib/python3.12/lib-dynload\n",
      "\n",
      "/home/ryanwtsai/repos/ml_ai_portfolio/notes/example_code/venv/lib/python3.12/site-packages\n",
      "/home/ryanwtsai/repos/ml_ai_portfolio/titanic\n",
      "/home/ryanwtsai/repos/ml_ai_portfolio/titanic/dataset\n",
      "/home/ryanwtsai/repos/ml_ai_portfolio/titanic/experiments\n",
      "/home/ryanwtsai/repos/ml_ai_portfolio/titanic/outputs\n"
     ]
    },
    {
     "data": {
      "text/plain": [
       "<module 'src.config_parser' from '/home/ryanwtsai/repos/ml_ai_portfolio/titanic/src/config_parser.py'>"
      ]
     },
     "execution_count": 2,
     "metadata": {},
     "output_type": "execute_result"
    }
   ],
   "source": [
    "from pathlib import Path\n",
    "import sys\n",
    "\n",
    "root = str(Path().resolve().parents[0])\n",
    "if root not in sys.path:\n",
    "    sys.path.append(root)\n",
    "\n",
    "from src.utils import ROOT, DATA_DIR, EXPERIMENTS_DIR, OUTPUT_DIR, DATA_PATHS\n",
    "\n",
    "for path in [ROOT, DATA_DIR, EXPERIMENTS_DIR, OUTPUT_DIR]:\n",
    "    if str(path.resolve()) not in sys.path:\n",
    "        sys.path.append(str(path.resolve()))\n",
    "\n",
    "print(*sys.path, sep=\"\\n\")\n",
    "\n",
    "from importlib import reload\n",
    "import src\n",
    "\n",
    "reload(src)\n",
    "reload(src.utils)\n",
    "reload(src.custom_transformers)\n",
    "reload(src.custom_model_selection)\n",
    "reload(src.experiment_runner)\n",
    "reload(src.config_parser)"
   ]
  },
  {
   "cell_type": "code",
   "execution_count": null,
   "id": "43f82d78",
   "metadata": {},
   "outputs": [],
   "source": [
    "from src.custom_transformers import DynamicDataPrepPipeline\n"
   ]
  }
 ],
 "metadata": {
  "kernelspec": {
   "display_name": "venv",
   "language": "python",
   "name": "python3"
  },
  "language_info": {
   "codemirror_mode": {
    "name": "ipython",
    "version": 3
   },
   "file_extension": ".py",
   "mimetype": "text/x-python",
   "name": "python",
   "nbconvert_exporter": "python",
   "pygments_lexer": "ipython3",
   "version": "3.12.3"
  }
 },
 "nbformat": 4,
 "nbformat_minor": 5
}
