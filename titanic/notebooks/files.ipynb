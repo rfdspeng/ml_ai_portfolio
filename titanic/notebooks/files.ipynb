{
 "cells": [
  {
   "cell_type": "code",
   "execution_count": 246,
   "id": "45c28310",
   "metadata": {},
   "outputs": [
    {
     "data": {
      "text/plain": [
       "Namespace(foo='33')"
      ]
     },
     "execution_count": 246,
     "metadata": {},
     "output_type": "execute_result"
    }
   ],
   "source": [
    "import argparse\n",
    "\n",
    "parser = argparse.ArgumentParser()\n",
    "\n",
    "# parser.add_argument('--foo', action='store_const', const=42)\n",
    "parser.add_argument(\"--foo\")\n",
    "\n",
    "parser.parse_args(['--foo', \"33\"])"
   ]
  },
  {
   "cell_type": "code",
   "execution_count": 250,
   "id": "5b0a0142",
   "metadata": {},
   "outputs": [
    {
     "data": {
      "text/plain": [
       "'/home/ryanwtsai/repos/ml_ai_portfolio/titanic/notebooks'"
      ]
     },
     "execution_count": 250,
     "metadata": {},
     "output_type": "execute_result"
    }
   ],
   "source": [
    "import os\n",
    "\n",
    "os.getcwd()"
   ]
  },
  {
   "cell_type": "code",
   "execution_count": 18,
   "id": "b8c7f8af",
   "metadata": {},
   "outputs": [
    {
     "name": "stdout",
     "output_type": "stream",
     "text": [
      "/usr/lib/python312.zip\n",
      "/usr/lib/python3.12\n",
      "/usr/lib/python3.12/lib-dynload\n",
      "\n",
      "/home/ryanwtsai/repos/ml_ai_portfolio/notes/example_code/venv/lib/python3.12/site-packages\n",
      "/home/ryanwtsai/repos/ml_ai_portfolio/titanic\n",
      "/home/ryanwtsai/repos/ml_ai_portfolio/titanic\n"
     ]
    }
   ],
   "source": [
    "import sys\n",
    "from pathlib import Path\n",
    "\n",
    "proj_root = Path().resolve().parents[0]\n",
    "\n",
    "sys.path.append(str(proj_root))\n",
    "print(*sys.path, sep=\"\\n\")"
   ]
  },
  {
   "cell_type": "code",
   "execution_count": null,
   "id": "3dceb789",
   "metadata": {},
   "outputs": [
    {
     "data": {
      "text/plain": [
       "['/usr/lib/python312.zip',\n",
       " '/usr/lib/python3.12',\n",
       " '/usr/lib/python3.12/lib-dynload',\n",
       " '',\n",
       " '/home/ryanwtsai/repos/ml_ai_portfolio/notes/example_code/venv/lib/python3.12/site-packages',\n",
       " '/home/ryanwtsai/repos/ml_ai_portfolio/titanic',\n",
       " '/home/ryanwtsai/repos/ml_ai_portfolio/titanic',\n",
       " '/home/ryanwtsai/repos/ml_ai_portfolio/titanic',\n",
       " '/home/ryanwtsai/repos/ml_ai_portfolio/titanic/dataset',\n",
       " '/home/ryanwtsai/repos/ml_ai_portfolio/titanic/experiments',\n",
       " '/home/ryanwtsai/repos/ml_ai_portfolio/titanic/outputs']"
      ]
     },
     "execution_count": 139,
     "metadata": {},
     "output_type": "execute_result"
    }
   ],
   "source": [
    "from src.utils import ROOT, DATA_DIR, EXPERIMENTS_DIR, OUTPUT_DIR, DATA_PATHS\n",
    "\n",
    "sys.path.append(str(ROOT.resolve()))\n",
    "sys.path.append(str(DATA_DIR.resolve()))\n",
    "sys.path.append(str(EXPERIMENTS_DIR.resolve()))\n",
    "sys.path.append(str(OUTPUT_DIR.resolve()))"
   ]
  },
  {
   "cell_type": "code",
   "execution_count": 235,
   "id": "59d74002",
   "metadata": {},
   "outputs": [
    {
     "data": {
      "text/plain": [
       "<module 'experiment_config' from '/home/ryanwtsai/repos/ml_ai_portfolio/titanic/experiments/experiment_config.py'>"
      ]
     },
     "execution_count": 235,
     "metadata": {},
     "output_type": "execute_result"
    }
   ],
   "source": [
    "from importlib import reload\n",
    "import src\n",
    "import experiment_config\n",
    "\n",
    "reload(src.utils)\n",
    "reload(src.custom_transformers)\n",
    "reload(src.custom_model_selection)\n",
    "reload(experiment_config)"
   ]
  },
  {
   "cell_type": "code",
   "execution_count": 172,
   "id": "d31f866d",
   "metadata": {},
   "outputs": [],
   "source": [
    "from src.custom_transformers import DynamicDataPrepPipeline\n",
    "from sklearn.linear_model import LogisticRegression\n",
    "\n",
    "age_imputer = LogisticRegression()\n",
    "\n",
    "data_prep = DynamicDataPrepPipeline(age_imputer_model=age_imputer, fam_kwargs={\"max_famsize\": 4})"
   ]
  },
  {
   "cell_type": "code",
   "execution_count": 173,
   "id": "0780ee39",
   "metadata": {},
   "outputs": [],
   "source": [
    "data_prep.fam_kwargs[\"key\"] = \"value\""
   ]
  },
  {
   "cell_type": "code",
   "execution_count": 174,
   "id": "7edbdfab",
   "metadata": {},
   "outputs": [
    {
     "data": {
      "text/plain": [
       "False"
      ]
     },
     "execution_count": 174,
     "metadata": {},
     "output_type": "execute_result"
    }
   ],
   "source": [
    "from sklearn.base import clone\n",
    "\n",
    "data_prep_clone = clone(data_prep)\n",
    "data_prep.age_imputer_model is data_prep_clone.age_imputer_model # returns False"
   ]
  },
  {
   "cell_type": "code",
   "execution_count": 175,
   "id": "4ce7ce61",
   "metadata": {},
   "outputs": [
    {
     "data": {
      "text/plain": [
       "False"
      ]
     },
     "execution_count": 175,
     "metadata": {},
     "output_type": "execute_result"
    }
   ],
   "source": [
    "data_prep_clone is data_prep\n",
    "data_prep_clone == data_prep"
   ]
  },
  {
   "cell_type": "code",
   "execution_count": 176,
   "id": "52ab6e3b",
   "metadata": {},
   "outputs": [
    {
     "data": {
      "text/plain": [
       "False"
      ]
     },
     "execution_count": 176,
     "metadata": {},
     "output_type": "execute_result"
    }
   ],
   "source": [
    "data_prep.fam_kwargs is data_prep_clone.fam_kwargs"
   ]
  },
  {
   "cell_type": "code",
   "execution_count": 177,
   "id": "fe90fb41",
   "metadata": {},
   "outputs": [
    {
     "data": {
      "text/plain": [
       "{'max_famsize': 4, 'key': 'value'}"
      ]
     },
     "execution_count": 177,
     "metadata": {},
     "output_type": "execute_result"
    }
   ],
   "source": [
    "data_prep_clone.fam_kwargs"
   ]
  },
  {
   "cell_type": "code",
   "execution_count": 188,
   "id": "7f99c17b",
   "metadata": {},
   "outputs": [],
   "source": [
    "from sklearn.pipeline import Pipeline\n",
    "from sklearn.preprocessing import KBinsDiscretizer, MinMaxScaler, OneHotEncoder\n",
    "\n",
    "numeric_transformations = {\n",
    "    \"Fare\": Pipeline([(\"bin\", KBinsDiscretizer(n_bins=4, encode=\"ordinal\")), (\"scale\", MinMaxScaler())]),\n",
    "    \"Pclass\": MinMaxScaler(),\n",
    "    \"FamilySize\": OneHotEncoder(handle_unknown=\"ignore\"),\n",
    "    \"SibSp\": \"passthrough\"\n",
    "}"
   ]
  },
  {
   "cell_type": "code",
   "execution_count": 189,
   "id": "61f24a9e",
   "metadata": {},
   "outputs": [],
   "source": [
    "from src.custom_transformers import DynamicDataPrepPipeline\n",
    "\n",
    "nt_copy = DynamicDataPrepPipeline.clone_estimator_dict(numeric_transformations)"
   ]
  },
  {
   "cell_type": "code",
   "execution_count": 194,
   "id": "b6785919",
   "metadata": {},
   "outputs": [
    {
     "data": {
      "text/plain": [
       "True"
      ]
     },
     "execution_count": 194,
     "metadata": {},
     "output_type": "execute_result"
    }
   ],
   "source": [
    "nt_copy[\"Fare\"] is numeric_transformations[\"Fare\"]\n",
    "nt_copy[\"Pclass\"] is numeric_transformations[\"Pclass\"]\n",
    "nt_copy[\"FamilySize\"] is numeric_transformations[\"FamilySize\"]\n",
    "nt_copy[\"SibSp\"] is numeric_transformations[\"SibSp\"]"
   ]
  },
  {
   "cell_type": "code",
   "execution_count": 213,
   "id": "f59fbdb2",
   "metadata": {},
   "outputs": [
    {
     "data": {
      "text/plain": [
       "{'data_prep': {'type': 'DynamicDataPrepPipeline',\n",
       "  'params': {'ordinal_columns': ['Sex'],\n",
       "   'numeric_columns': ['Age', 'Pclass', 'Fare'],\n",
       "   'extract_title': True,\n",
       "   'extract_fam': True,\n",
       "   'extract_deck': True,\n",
       "   'extract_sexpclassage': True}},\n",
       " 'model': {'type': 'RandomForestClassifier',\n",
       "  'params': {'max_depth': 20, 'random_state': 0}},\n",
       " 'splitter': {'type': 'StratifiedKFold',\n",
       "  'params': {'n_splits': 10, 'shuffle': True, 'random_state': 0}},\n",
       " 'numeric_transformations': {'Fare': {'type': 'Pipeline',\n",
       "   'steps': [{'name': 'bin',\n",
       "     'transformer': {'type': 'KBinsDiscretizer',\n",
       "      'params': {'n_bins': 4, 'encode': 'ordinal'}}},\n",
       "    {'name': 'scale', 'transformer': {'type': 'MinMaxScaler'}}]},\n",
       "  'Pclass': {'type': 'MinMaxScaler'}},\n",
       " 'age_imputer_model': {'type': 'RandomForestRegressor',\n",
       "  'params': {'max_depth': 20}}}"
      ]
     },
     "execution_count": 213,
     "metadata": {},
     "output_type": "execute_result"
    }
   ],
   "source": [
    "from experiment_config import config\n",
    "\n",
    "config"
   ]
  },
  {
   "cell_type": "code",
   "execution_count": 215,
   "id": "a830d8cd",
   "metadata": {},
   "outputs": [
    {
     "name": "stdout",
     "output_type": "stream",
     "text": [
      "DynamicDataPrepPipeline(age_imputer_model=RandomForestRegressor(max_depth=20),\n",
      "                        extract_deck=True, extract_fam=True,\n",
      "                        extract_sexpclassage=True, extract_title=True,\n",
      "                        numeric_columns=['Age', 'Pclass', 'Fare'],\n",
      "                        numeric_transformations={'Fare': Pipeline(steps=[('bin',\n",
      "                                                                          KBinsDiscretizer(encode='ordinal',\n",
      "                                                                                           n_bins=4)),\n",
      "                                                                         ('scale',\n",
      "                                                                          MinMaxScaler())]),\n",
      "                                                 'Pclass': MinMaxScaler()},\n",
      "                        ordinal_columns=['Sex'])\n"
     ]
    },
    {
     "data": {
      "text/plain": [
       "{'ml_pipe': Pipeline(steps=[('data_prep',\n",
       "                  DynamicDataPrepPipeline(age_imputer_model=RandomForestRegressor(max_depth=20),\n",
       "                                          extract_deck=True, extract_fam=True,\n",
       "                                          extract_sexpclassage=True,\n",
       "                                          extract_title=True,\n",
       "                                          numeric_columns=['Age', 'Pclass',\n",
       "                                                           'Fare'],\n",
       "                                          numeric_transformations={'Fare': Pipeline(steps=[('bin',\n",
       "                                                                                            KBinsDiscretizer(encode='ordinal',\n",
       "                                                                                                             n_bins=4)),\n",
       "                                                                                           ('scale',\n",
       "                                                                                            MinMaxScaler())]),\n",
       "                                                                   'Pclass': MinMaxScaler()},\n",
       "                                          ordinal_columns=['Sex'])),\n",
       "                 ('model',\n",
       "                  RandomForestClassifier(max_depth=20, random_state=0))]),\n",
       " 'splitter': StratifiedKFold(n_splits=10, random_state=0, shuffle=True)}"
      ]
     },
     "execution_count": 215,
     "metadata": {},
     "output_type": "execute_result"
    }
   ],
   "source": [
    "from src.utils import build_estimator, build_estimators\n",
    "\n",
    "build_estimators(config)"
   ]
  },
  {
   "cell_type": "code",
   "execution_count": 242,
   "id": "31da8597",
   "metadata": {},
   "outputs": [
    {
     "name": "stdout",
     "output_type": "stream",
     "text": [
      "/home/ryanwtsai/repos/ml_ai_portfolio/titanic\n",
      "Index(['PassengerId', 'Survived', 'Pclass', 'Name', 'Sex', 'Age', 'SibSp',\n",
      "       'Parch', 'Ticket', 'Fare', 'Cabin', 'Embarked'],\n",
      "      dtype='object')\n",
      "None\n",
      "None\n"
     ]
    }
   ],
   "source": [
    "from src.utils import find_project_root, load_titanic_data\n",
    "\n",
    "print(find_project_root())\n",
    "X, y, X_test = load_titanic_data(load_X_y=False)\n",
    "print(X.columns)\n",
    "print(y)\n",
    "print(X_test.columns if X_test is not None else X_test)\n",
    "# print(data[\"train\"].info())\n",
    "# print(data[\"test\"].info())"
   ]
  },
  {
   "cell_type": "code",
   "execution_count": 234,
   "id": "1b7b5790",
   "metadata": {},
   "outputs": [
    {
     "ename": "KeyError",
     "evalue": "'test'",
     "output_type": "error",
     "traceback": [
      "\u001b[0;31m---------------------------------------------------------------------------\u001b[0m",
      "\u001b[0;31mKeyError\u001b[0m                                  Traceback (most recent call last)",
      "Cell \u001b[0;32mIn[234], line 1\u001b[0m\n\u001b[0;32m----> 1\u001b[0m \u001b[43mdata\u001b[49m\u001b[43m[\u001b[49m\u001b[38;5;124;43m\"\u001b[39;49m\u001b[38;5;124;43mtest\u001b[39;49m\u001b[38;5;124;43m\"\u001b[39;49m\u001b[43m]\u001b[49m\u001b[38;5;241m.\u001b[39mcolumns\n\u001b[1;32m      2\u001b[0m \u001b[38;5;66;03m# data[\"train_y\"]\u001b[39;00m\n",
      "\u001b[0;31mKeyError\u001b[0m: 'test'"
     ]
    }
   ],
   "source": [
    "data[\"test\"].columns\n",
    "# data[\"train_y\"]"
   ]
  },
  {
   "cell_type": "code",
   "execution_count": 64,
   "id": "381befc5",
   "metadata": {},
   "outputs": [],
   "source": [
    "from sklearn.pipeline import Pipeline\n",
    "from src.custom_transformers import FamilySizeExtractor, TitleExtractor, DeckExtractor, SexPclassAgeExtractor\n",
    "\n",
    "def feature_extraction():\n",
    "    pipe = Pipeline([\n",
    "        (\"fam\", FamilySizeExtractor()),\n",
    "        (\"title\", TitleExtractor()),\n",
    "        (\"deck\", DeckExtractor()),\n",
    "        (\"sexpclassage\", SexPclassAgeExtractor()),\n",
    "    ])\n",
    "\n",
    "    data = load_titanic_data()\n",
    "    data[\"train\"] = pipe.transform(data[\"train\"])\n",
    "    data[\"test\"] = pipe.transform(data[\"test\"])\n",
    "\n",
    "    root_dir = find_project_root()\n",
    "    data[\"train\"].to_csv(Path(root_dir) / data_paths[\"train_extracted\"], index=False)\n",
    "    data[\"test\"].to_csv(Path(root_dir) / data_paths[\"test_extracted\"], index=False)\n",
    "\n",
    "feature_extraction()"
   ]
  },
  {
   "cell_type": "code",
   "execution_count": 69,
   "id": "8da75bf7",
   "metadata": {},
   "outputs": [],
   "source": [
    "from src.custom_transformers import feature_extraction\n",
    "\n",
    "feature_extraction()"
   ]
  },
  {
   "cell_type": "code",
   "execution_count": 80,
   "id": "e52d11fb",
   "metadata": {},
   "outputs": [],
   "source": [
    "from src.custom_model_selection import make_stratified_k_fold_with_custom_strata, custom_cross_validate\n",
    "from src.utils import load_titanic_data\n",
    "\n",
    "data = load_titanic_data(extracted=True)\n",
    "cv_iter = make_stratified_k_fold_with_custom_strata(data[\"train\"], [\"Title\", \"Survived\"])"
   ]
  },
  {
   "cell_type": "code",
   "execution_count": null,
   "id": "5f04dafb",
   "metadata": {},
   "outputs": [
    {
     "name": "stderr",
     "output_type": "stream",
     "text": [
      "/home/ryanwtsai/repos/ml_ai_portfolio/notes/example_code/venv/lib/python3.12/site-packages/sklearn/model_selection/_split.py:805: UserWarning: The least populated class in y has only 3 members, which is less than n_splits=10.\n",
      "  warnings.warn(\n"
     ]
    }
   ],
   "source": [
    "from sklearn.pipeline import Pipeline\n",
    "from sklearn.ensemble import RandomForestClassifier\n",
    "from src.custom_transformers import DynamicDataPrepPipeline\n",
    "\n",
    "ml_pipe = Pipeline([\n",
    "    (\"data_prep\", DynamicDataPrepPipeline(extract_title=True)),\n",
    "    (\"model\", RandomForestClassifier(n_estimators=20, random_state=0))\n",
    "])\n",
    "\n",
    "df_results, metrics = custom_cross_validate(ml_pipe, data[\"train\"].drop(columns=\"Survived\"), data[\"train\"][\"Survived\"], cv=cv_iter)\n",
    "metrics"
   ]
  },
  {
   "cell_type": "code",
   "execution_count": 104,
   "id": "2c6d8f97",
   "metadata": {},
   "outputs": [
    {
     "data": {
      "text/plain": [
       "{'experiment_name': 'rf_gridsearch_001',\n",
       " 'task_type': 'grid_search',\n",
       " 'pipeline_kwargs': {'use_title': True, 'use_fare': True, 'model': 'rf'},\n",
       " 'param_grid': {'clf__n_estimators': [100, 200], 'clf__max_depth': [3, 5, 10]},\n",
       " 'cv': {'n_splits': 5, 'shuffle': True, 'random_state': 42},\n",
       " 'scoring': 'accuracy'}"
      ]
     },
     "execution_count": 104,
     "metadata": {},
     "output_type": "execute_result"
    }
   ],
   "source": [
    "import yaml\n",
    "\n",
    "config_path = proj_root / Path(\"config\")\n",
    "# yaml.safe_load(next(config_path.glob(\"*.yaml\")))\n",
    "with open(next(config_path.glob(\"*.yaml\")), 'r') as file:\n",
    "    data = yaml.safe_load(file)\n",
    "\n",
    "data"
   ]
  },
  {
   "cell_type": "code",
   "execution_count": null,
   "id": "75e8883b",
   "metadata": {},
   "outputs": [],
   "source": [
    "from src.custom_transformers import DynamicDataPrepPipeline\n",
    "from sklearn.ensemble import RandomForestRegressor\n",
    "\n",
    "data_prep_pipe = DynamicDataPrepPipeline(\n",
    "    ordinal_columns={\"Sex\"},\n",
    "    numeric_columns={\"Age\", \"Pclass\", \"Fare\"},\n",
    "    extract_title=True,\n",
    "    extract_fam=True,\n",
    "    extract_deck=True,\n",
    "    extract_sexpclassage=True,\n",
    "    age_imputer_model=RandomForestRegressor(max_depth=10, random_state=0),\n",
    "    impute_age_kwargs={\"add_indicator\": True},\n",
    ")\n",
    "\n",
    "params = data_prep_pipe.get_params(deep=False)\n",
    "params\n",
    "# model = RandomForestClassifier(max_depth=20, random_state=0)"
   ]
  },
  {
   "cell_type": "code",
   "execution_count": null,
   "id": "77a8fdb6",
   "metadata": {},
   "outputs": [],
   "source": [
    "DynamicDataPrepPipeline(**params)"
   ]
  },
  {
   "cell_type": "code",
   "execution_count": null,
   "id": "483b27a5",
   "metadata": {},
   "outputs": [],
   "source": []
  }
 ],
 "metadata": {
  "kernelspec": {
   "display_name": "venv",
   "language": "python",
   "name": "python3"
  },
  "language_info": {
   "codemirror_mode": {
    "name": "ipython",
    "version": 3
   },
   "file_extension": ".py",
   "mimetype": "text/x-python",
   "name": "python",
   "nbconvert_exporter": "python",
   "pygments_lexer": "ipython3",
   "version": "3.12.3"
  }
 },
 "nbformat": 4,
 "nbformat_minor": 5
}
