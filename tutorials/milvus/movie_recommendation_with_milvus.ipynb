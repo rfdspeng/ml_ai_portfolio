{
  "cells": [
    {
      "cell_type": "markdown",
      "metadata": {
        "id": "YH2TplpJDIv6"
      },
      "source": [
        "<a href=\"https://colab.research.google.com/github/milvus-io/bootcamp/blob/master/bootcamp/tutorials/quickstart/movie_recommendation_with_milvus.ipynb\" target=\"_parent\"><img src=\"https://colab.research.google.com/assets/colab-badge.svg\" alt=\"Open In Colab\"/></a>   <a href=\"https://github.com/milvus-io/bootcamp/blob/master/bootcamp/tutorials/quickstart/movie_recommendation_with_milvus.ipynb\" target=\"_blank\">\n",
        "    <img src=\"https://img.shields.io/badge/View%20on%20GitHub-555555?style=flat&logo=github&logoColor=white\" alt=\"GitHub Repository\"/>"
      ]
    },
    {
      "cell_type": "markdown",
      "metadata": {
        "id": "wg1bdO0lDIv6"
      },
      "source": [
        "# Movie Recommendation with Milvus\n",
        "In this notebook, we will explore how to generate embeddings of movie descriptions using OpenAI and leverage those embeddings within Milvus to recommend movies that match your preferences. To enhance our search results, we will utilize filtering to perform metadata searches. The dataset used in this example is sourced from HuggingFace datasets and contains over 8,000 movie entries, providing a rich pool of options for movie recommendations.\n",
        "\n"
      ]
    },
    {
      "cell_type": "markdown",
      "metadata": {
        "id": "Gv0NJ31IDIv7"
      },
      "source": [
        "## Dependencies and Environment\n",
        "You can install the dependencies by running the following command:\n"
      ]
    },
    {
      "cell_type": "code",
      "execution_count": null,
      "metadata": {
        "id": "kdxHDsewDIv7",
        "scrolled": true
      },
      "outputs": [],
      "source": [
        "# ! pip install openai pymilvus datasets tqdm"
      ]
    },
    {
      "cell_type": "markdown",
      "metadata": {
        "id": "_sbPlC7tDIv7"
      },
      "source": [
        "> If you are using Google Colab, to enable dependencies just installed, you may need to **restart the runtime** (click on the \"Runtime\" menu at the top of the screen, and select \"Restart session\" from the dropdown menu)."
      ]
    },
    {
      "cell_type": "markdown",
      "metadata": {
        "id": "08DQFod0DIv7"
      },
      "source": [
        "We will use OpenAI as the LLM in this example. You should prepare the [api key](https://platform.openai.com/docs/quickstart) `OPENAI_API_KEY` as an environment variable."
      ]
    },
    {
      "cell_type": "code",
      "execution_count": null,
      "metadata": {
        "ExecuteTime": {
          "end_time": "2024-11-10T04:43:29.331948Z",
          "start_time": "2024-11-10T04:43:29.322790Z"
        },
        "id": "E8LsgeBzDIv8"
      },
      "outputs": [],
      "source": [
        "# import os\n",
        "\n",
        "# os.environ[\"OPENAI_API_KEY\"] = \"sk-***********\""
      ]
    },
    {
      "cell_type": "markdown",
      "metadata": {
        "id": "aJcCzQhODIv8"
      },
      "source": [
        "## Initialize OpenAI client and Milvus\n",
        "Initialize the OpenAI client."
      ]
    },
    {
      "cell_type": "code",
      "execution_count": 1,
      "metadata": {
        "ExecuteTime": {
          "end_time": "2024-11-10T04:43:29.739181Z",
          "start_time": "2024-11-10T04:43:29.333409Z"
        },
        "id": "aBOi2mvKDIv8"
      },
      "outputs": [],
      "source": [
        "from openai import OpenAI\n",
        "\n",
        "openai_client = OpenAI()"
      ]
    },
    {
      "cell_type": "markdown",
      "metadata": {
        "id": "9IO_ts7pDIv8"
      },
      "source": [
        "Set the collection name and dimension for the embeddings."
      ]
    },
    {
      "cell_type": "code",
      "execution_count": 2,
      "metadata": {
        "ExecuteTime": {
          "end_time": "2024-11-10T04:43:29.746569Z",
          "start_time": "2024-11-10T04:43:29.740806Z"
        },
        "id": "4rXlQ29MDIv8"
      },
      "outputs": [],
      "source": [
        "COLLECTION_NAME = \"movie_search\"\n",
        "DIMENSION = 1536\n",
        "\n",
        "BATCH_SIZE = 1000"
      ]
    },
    {
      "cell_type": "markdown",
      "metadata": {
        "id": "OHuz5DtVDIv8"
      },
      "source": [
        "Connect to Milvus."
      ]
    },
    {
      "cell_type": "code",
      "execution_count": 3,
      "metadata": {
        "ExecuteTime": {
          "end_time": "2024-11-10T04:44:04.205921Z",
          "start_time": "2024-11-10T04:44:03.187020Z"
        },
        "id": "VUXhaRtQDIv8"
      },
      "outputs": [],
      "source": [
        "from pymilvus import MilvusClient\n",
        "\n",
        "# Connect to Milvus Database\n",
        "client = MilvusClient(\"./milvus_demo.db\")"
      ]
    },
    {
      "cell_type": "markdown",
      "metadata": {
        "id": "U8es09T2DIv8"
      },
      "source": [
        "> As for the argument of `url` and `token`:\n",
        "> - Setting the `uri` as a local file, e.g.`./milvus.db`, is the most convenient method, as it automatically utilizes [Milvus Lite](https://milvus.io/docs/milvus_lite.md) to store all data in this file.\n",
        "> - If you have large scale of data, say more than a million vectors, you can set up a more performant Milvus server on [Docker or Kubernetes](https://milvus.io/docs/quickstart.md). In this setup, please use the server address and port as your uri, e.g.`http://localhost:19530`. If you enable the authentication feature on Milvus, use \"<your_username>:<your_password>\" as the token, otherwise don't set the token.\n",
        "> - If you want to use [Zilliz Cloud](https://zilliz.com/cloud), the fully managed cloud service for Milvus, adjust the `uri` and `token`, which correspond to the [Public Endpoint and Api key](https://docs.zilliz.com/docs/on-zilliz-cloud-console#free-cluster-details) in Zilliz Cloud."
      ]
    },
    {
      "cell_type": "code",
      "execution_count": 4,
      "metadata": {
        "ExecuteTime": {
          "end_time": "2024-11-10T04:44:06.851427Z",
          "start_time": "2024-11-10T04:44:06.768643Z"
        },
        "id": "eaBFyWQPDIv8"
      },
      "outputs": [],
      "source": [
        "# Remove collection if it already exists\n",
        "if client.has_collection(COLLECTION_NAME):\n",
        "    client.drop_collection(COLLECTION_NAME)"
      ]
    },
    {
      "cell_type": "markdown",
      "metadata": {
        "id": "rmt5EIn8DIv8"
      },
      "source": [
        "Define the fields for the collection, which include the id, title, type, release year, rating, description, and embedding."
      ]
    },
    {
      "cell_type": "code",
      "execution_count": 5,
      "metadata": {
        "ExecuteTime": {
          "end_time": "2024-11-10T04:44:08.634998Z",
          "start_time": "2024-11-10T04:44:08.631894Z"
        },
        "id": "xf5YMsDmDIv8"
      },
      "outputs": [],
      "source": [
        "from pymilvus import DataType\n",
        "\n",
        "# 1. Create schema\n",
        "schema = MilvusClient.create_schema(\n",
        "    auto_id=True,\n",
        "    enable_dynamic_field=False,\n",
        ")\n",
        "\n",
        "# 2. Add fields to schema\n",
        "schema.add_field(field_name=\"id\", datatype=DataType.INT64, is_primary=True)\n",
        "schema.add_field(field_name=\"title\", datatype=DataType.VARCHAR, max_length=64000)\n",
        "schema.add_field(field_name=\"type\", datatype=DataType.VARCHAR, max_length=64000)\n",
        "schema.add_field(field_name=\"release_year\", datatype=DataType.INT64)\n",
        "schema.add_field(field_name=\"rating\", datatype=DataType.VARCHAR, max_length=64000)\n",
        "schema.add_field(field_name=\"description\", datatype=DataType.VARCHAR, max_length=64000)\n",
        "schema.add_field(field_name=\"embedding\", datatype=DataType.FLOAT_VECTOR, dim=DIMENSION)\n",
        "\n",
        "# 3. Create collection with the schema\n",
        "client.create_collection(collection_name=COLLECTION_NAME, schema=schema)"
      ]
    },
    {
      "cell_type": "markdown",
      "metadata": {
        "id": "5Ch-2J5CDIv8"
      },
      "source": [
        "Create the index on the collection and load it."
      ]
    },
    {
      "cell_type": "code",
      "execution_count": 6,
      "metadata": {
        "ExecuteTime": {
          "end_time": "2024-11-10T04:44:11.606543Z",
          "start_time": "2024-11-10T04:44:11.097780Z"
        },
        "id": "K9fwi332DIv8"
      },
      "outputs": [],
      "source": [
        "# 1. Prepare index parameters\n",
        "index_params = client.prepare_index_params()\n",
        "\n",
        "# 2. Add an index on the embedding field\n",
        "index_params.add_index(\n",
        "    field_name=\"embedding\", metric_type=\"IP\", index_type=\"AUTOINDEX\", params={}\n",
        ")\n",
        "\n",
        "# 3. Create index\n",
        "client.create_index(collection_name=COLLECTION_NAME, index_params=index_params)\n",
        "\n",
        "# 4. Load Collection\n",
        "client.load_collection(collection_name=COLLECTION_NAME)"
      ]
    },
    {
      "cell_type": "markdown",
      "metadata": {
        "id": "L-d-pR5DDIv8"
      },
      "source": [
        "## Dataset\n",
        "With Milvus up and running we can begin grabbing our data. `Hugging Face Datasets` is a hub that holds many different user datasets, and for this example we are using HuggingLearners's netflix-shows dataset. This dataset contains movies and their metadata pairs for over 8 thousand movies. We are going to embed each description and store it within Milvus along with its title, type, release_year and rating."
      ]
    },
    {
      "cell_type": "code",
      "execution_count": null,
      "metadata": {
        "ExecuteTime": {
          "end_time": "2024-11-10T04:44:16.177399Z",
          "start_time": "2024-11-10T04:44:13.214578Z"
        },
        "id": "7pyst3ZBDIv8"
      },
      "outputs": [],
      "source": [
        "from datasets import load_dataset\n",
        "\n",
        "dataset = load_dataset(\"hugginglearners/netflix-shows\", split=\"train\")"
      ]
    },
    {
      "cell_type": "markdown",
      "metadata": {
        "id": "1-iOxwCMDIv8"
      },
      "source": [
        "## Insert the Data\n",
        "Now that we have our data on our machine we can begin embedding it and inserting it into Milvus. The embedding function takes in text and returns the embeddings in a list format."
      ]
    },
    {
      "cell_type": "code",
      "execution_count": null,
      "metadata": {
        "ExecuteTime": {
          "end_time": "2024-11-10T04:44:16.183133Z",
          "start_time": "2024-11-10T04:44:16.179165Z"
        },
        "id": "YBi6ria2DIv8"
      },
      "outputs": [],
      "source": [
        "def emb_texts(texts):\n",
        "    res = openai_client.embeddings.create(input=texts, model=\"text-embedding-3-small\")\n",
        "    return [res_data.embedding for res_data in res.data]"
      ]
    },
    {
      "cell_type": "markdown",
      "metadata": {
        "id": "D-SJAeQXDIv8"
      },
      "source": [
        "This next step does the actual inserting. We iterate through all the entries and create batches that we insert once we hit our set batch size. After the loop is over we insert the last remaning batch if it exists."
      ]
    },
    {
      "cell_type": "code",
      "execution_count": null,
      "metadata": {
        "ExecuteTime": {
          "end_time": "2024-11-10T04:44:50.716217Z",
          "start_time": "2024-11-10T04:44:17.361030Z"
        },
        "colab": {
          "base_uri": "https://localhost:8080/"
        },
        "id": "hMIpsCJUDrO3",
        "outputId": "957f4502-dc50-49cc-c534-f447a7451445"
      },
      "outputs": [
        {
          "name": "stderr",
          "output_type": "stream",
          "text": [
            "100%|██████████| 8807/8807 [00:33<00:00, 264.06it/s]\n"
          ]
        }
      ],
      "source": [
        "from tqdm import tqdm\n",
        "\n",
        "# batch (data to be inserted) is a list of dictionaries\n",
        "batch = []\n",
        "\n",
        "# Embed and insert in batches\n",
        "for i in tqdm(range(0, len(dataset))):\n",
        "    batch.append(\n",
        "        {\n",
        "            \"title\": dataset[i][\"title\"] or \"\",\n",
        "            \"type\": dataset[i][\"type\"] or \"\",\n",
        "            \"release_year\": dataset[i][\"release_year\"] or -1,\n",
        "            \"rating\": dataset[i][\"rating\"] or \"\",\n",
        "            \"description\": dataset[i][\"description\"] or \"\",\n",
        "        }\n",
        "    )\n",
        "\n",
        "    if len(batch) % BATCH_SIZE == 0 or i == len(dataset) - 1:\n",
        "        embeddings = emb_texts([item[\"description\"] for item in batch])\n",
        "\n",
        "        for item, emb in zip(batch, embeddings):\n",
        "            item[\"embedding\"] = emb\n",
        "\n",
        "        client.insert(collection_name=COLLECTION_NAME, data=batch)\n",
        "        batch = []"
      ]
    },
    {
      "cell_type": "markdown",
      "metadata": {
        "id": "X3pSr28CDIv9"
      },
      "source": [
        "## Query the Database\n",
        "With our data safely inserted into Milvus, we can now perform a query. The query takes in a tuple of the movie description you are searching for and the filter to use. More info about the filter can be found [here](https://milvus.io/docs/boolean.md). The search first prints out your description and filter expression. After that for each result we print the score, title, type, release year, rating and description of the result movies."
      ]
    },
    {
      "cell_type": "code",
      "execution_count": null,
      "metadata": {
        "ExecuteTime": {
          "end_time": "2024-11-10T04:44:51.025459Z",
          "start_time": "2024-11-10T04:44:50.720202Z"
        },
        "colab": {
          "base_uri": "https://localhost:8080/"
        },
        "id": "ohIMv8stDIv9",
        "outputId": "67186ad6-3522-4f3f-c20d-c67693c05b5e"
      },
      "outputs": [
        {
          "name": "stdout",
          "output_type": "stream",
          "text": [
            "Description: movie about a fluffly animal Expression: release_year < 2019 and rating like \"PG%\"\n",
            "Results:\n",
            "\tRank: 1 Score: 0.4221227169036865 Title: The Adventures of Tintin\n",
            "\t\tType: Movie Release Year: 2011 Rating: PG\n",
            "This 3-D motion capture adapts Georges Remi's classic comic strip about the adventures\n",
            "of fearless young journalist Tintin and his trusty dog, Snowy.\n",
            "\n",
            "\tRank: 2 Score: 0.4041031002998352 Title: Hedgehogs\n",
            "\t\tType: Movie Release Year: 2016 Rating: PG\n",
            "When a hedgehog suffering from memory loss forgets his identity, he ends up on a big\n",
            "city journey with a pigeon to save his habitat from a human threat.\n",
            "\n",
            "\tRank: 3 Score: 0.3980264365673065 Title: Osmosis Jones\n",
            "\t\tType: Movie Release Year: 2001 Rating: PG\n",
            "Peter and Bobby Farrelly outdo themselves with this partially animated tale about an\n",
            "out-of-shape 40-year-old man who's the host to various organisms.\n",
            "\n",
            "\tRank: 4 Score: 0.3947935104370117 Title: The Lamb\n",
            "\t\tType: Movie Release Year: 2017 Rating: PG\n",
            "A big-dreaming donkey escapes his menial existence and befriends some free-spirited\n",
            "animal pals in this imaginative retelling of the Nativity Story.\n",
            "\n",
            "\tRank: 5 Score: 0.39370331168174744 Title: Open Season 2\n",
            "\t\tType: Movie Release Year: 2008 Rating: PG\n",
            "Elliot the buck and his forest-dwelling cohorts must rescue their dachshund pal from\n",
            "some spoiled pets bent on returning him to domesticity.\n"
          ]
        }
      ],
      "source": [
        "import textwrap\n",
        "\n",
        "\n",
        "def query(query, top_k=5):\n",
        "    text, expr = query\n",
        "\n",
        "    res = client.search(\n",
        "        collection_name=COLLECTION_NAME,\n",
        "        data=emb_texts(text),\n",
        "        filter=expr,\n",
        "        limit=top_k,\n",
        "        output_fields=[\"title\", \"type\", \"release_year\", \"rating\", \"description\"],\n",
        "        search_params={\n",
        "            \"metric_type\": \"IP\",\n",
        "            \"params\": {},\n",
        "        },\n",
        "    )\n",
        "\n",
        "    print(\"Description:\", text, \"Expression:\", expr)\n",
        "\n",
        "    for hit_group in res:\n",
        "        print(\"Results:\")\n",
        "        for rank, hit in enumerate(hit_group, start=1):\n",
        "            entity = hit[\"entity\"]\n",
        "\n",
        "            print(\n",
        "                f\"\\tRank: {rank} Score: {hit['distance']:} Title: {entity.get('title', '')}\"\n",
        "            )\n",
        "            print(\n",
        "                f\"\\t\\tType: {entity.get('type', '')} \"\n",
        "                f\"Release Year: {entity.get('release_year', '')} \"\n",
        "                f\"Rating: {entity.get('rating', '')}\"\n",
        "            )\n",
        "            description = entity.get(\"description\", \"\")\n",
        "            print(textwrap.fill(description, width=88))\n",
        "            print()\n",
        "\n",
        "\n",
        "my_query = (\"movie about a fluffly animal\", 'release_year < 2019 and rating like \"PG%\"')\n",
        "\n",
        "query(my_query)"
      ]
    }
  ],
  "metadata": {
    "colab": {
      "provenance": []
    },
    "kernelspec": {
      "display_name": "venv",
      "language": "python",
      "name": "python3"
    },
    "language_info": {
      "codemirror_mode": {
        "name": "ipython",
        "version": 3
      },
      "file_extension": ".py",
      "mimetype": "text/x-python",
      "name": "python",
      "nbconvert_exporter": "python",
      "pygments_lexer": "ipython3",
      "version": "3.12.3"
    }
  },
  "nbformat": 4,
  "nbformat_minor": 0
}
